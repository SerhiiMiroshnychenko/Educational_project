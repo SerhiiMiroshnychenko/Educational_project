{
 "cells": [
  {
   "cell_type": "markdown",
   "metadata": {},
   "source": [
    "## Type systems"
   ]
  },
  {
   "cell_type": "markdown",
   "metadata": {},
   "source": [
    "All programming languages include some kind of type system that formalizes which categories of objects it can work with and how those categories are treated"
   ]
  },
  {
   "cell_type": "code",
   "execution_count": null,
   "metadata": {},
   "outputs": [],
   "source": [
    "if False:\n",
    "    1 + \"two\"  # This line never runs, so no TypeError is raised\n",
    "else:\n",
    "    1 + 2"
   ]
  },
  {
   "cell_type": "code",
   "execution_count": null,
   "metadata": {},
   "outputs": [],
   "source": [
    "1 + \"2\" # Now this is type checked, and a TypeError is raised"
   ]
  },
  {
   "cell_type": "code",
   "execution_count": null,
   "metadata": {},
   "outputs": [],
   "source": [
    "t = 1\n",
    "print(t, type(t))"
   ]
  },
  {
   "cell_type": "code",
   "execution_count": null,
   "metadata": {},
   "outputs": [],
   "source": [
    "t = '1'\n",
    "print(t, type(t))"
   ]
  },
  {
   "cell_type": "markdown",
   "metadata": {},
   "source": [
    "If it walks like a duck and it quacks like a duck, then it must be a duck"
   ]
  },
  {
   "cell_type": "code",
   "execution_count": null,
   "metadata": {},
   "outputs": [],
   "source": [
    "def function_for_ducks(duck):\n",
    "    dest = 'house'\n",
    "    print('Me:', 'Go to your house duck!')\n",
    "    print('Duck:', duck.walk(dest))\n",
    "    print('Me:', 'Are you in house, duck?')\n",
    "    print('Duck:', duck.voice())\n",
    "    print('Me:', 'All good!')"
   ]
  },
  {
   "cell_type": "code",
   "execution_count": null,
   "metadata": {},
   "outputs": [],
   "source": [
    "class Goose:\n",
    "    def walk(self, dest):\n",
    "        return f\"duck walks to the {dest}\"\n",
    "    \n",
    "    def voice(self):\n",
    "        return \"quack\""
   ]
  },
  {
   "cell_type": "code",
   "execution_count": null,
   "metadata": {},
   "outputs": [],
   "source": [
    "d = Goose()\n",
    "print(type(d))"
   ]
  },
  {
   "cell_type": "code",
   "execution_count": null,
   "metadata": {},
   "outputs": [],
   "source": [
    "function_for_ducks(d)"
   ]
  },
  {
   "cell_type": "markdown",
   "metadata": {},
   "source": [
    "Python will always remain a dynamically typed language. However, PEP 484 introduced type hints, which make it possible to also do static type checking of Python code.\n",
    "\n",
    "Unlike how types work in most other statically typed languages, type hints by themselves don’t cause Python to enforce types. As the name says, type hints just suggest function and variable type annotations. They can be used by third party tools such as type checkers, IDEs, linters, etc."
   ]
  },
  {
   "cell_type": "code",
   "execution_count": null,
   "metadata": {},
   "outputs": [],
   "source": [
    "def type_test(name: str, age: int = 18) -> str: # function annotation\n",
    "    res: str = f\"Hello {age} years old {name}\" # variable annotation\n",
    "    return res"
   ]
  },
  {
   "cell_type": "code",
   "execution_count": null,
   "metadata": {},
   "outputs": [],
   "source": [
    "type_test('Batman')"
   ]
  },
  {
   "cell_type": "code",
   "execution_count": null,
   "metadata": {},
   "outputs": [],
   "source": [
    "type_test(18)"
   ]
  },
  {
   "cell_type": "code",
   "execution_count": null,
   "metadata": {},
   "outputs": [],
   "source": [
    "class A:\n",
    "    pass\n",
    "\n",
    "class Test:\n",
    "    def __init__(self, a: A) -> None:\n",
    "        self.a: A = a"
   ]
  },
  {
   "cell_type": "code",
   "execution_count": null,
   "metadata": {},
   "outputs": [],
   "source": [
    "a = A()\n",
    "print(type(a))\n",
    "t = Test(a)\n",
    "print(type(t))"
   ]
  },
  {
   "cell_type": "code",
   "execution_count": null,
   "metadata": {},
   "outputs": [],
   "source": [
    "t2 = Test(1) # no error"
   ]
  },
  {
   "cell_type": "code",
   "execution_count": null,
   "metadata": {},
   "outputs": [],
   "source": [
    "class Test:\n",
    "    def __init__(self, x: int) -> None:\n",
    "        self.x = x\n",
    "    \n",
    "    @classmethod\n",
    "    def create(cls, x: int) -> \"Test\":\n",
    "        return cls(x)"
   ]
  },
  {
   "cell_type": "code",
   "execution_count": null,
   "metadata": {},
   "outputs": [],
   "source": [
    "t = Test(1)\n",
    "print(type(t))"
   ]
  },
  {
   "cell_type": "code",
   "execution_count": null,
   "metadata": {},
   "outputs": [],
   "source": [
    "from typing import Any, Optional, Tuple"
   ]
  },
  {
   "cell_type": "code",
   "execution_count": null,
   "metadata": {},
   "outputs": [],
   "source": [
    "def test_type(x: Any, n: int = 10) -> Optional[Tuple[Any]]:\n",
    "    res: Tuple[Any] = tuple((x for _ in range(n)))\n",
    "    if res:\n",
    "        return res"
   ]
  },
  {
   "cell_type": "code",
   "execution_count": null,
   "metadata": {},
   "outputs": [],
   "source": [
    "test_type('X')"
   ]
  },
  {
   "cell_type": "code",
   "execution_count": null,
   "metadata": {},
   "outputs": [],
   "source": [
    "test_type([1])"
   ]
  },
  {
   "cell_type": "code",
   "execution_count": null,
   "metadata": {},
   "outputs": [],
   "source": [
    "print(test_type(['test'], 0))"
   ]
  },
  {
   "cell_type": "code",
   "execution_count": null,
   "metadata": {},
   "outputs": [],
   "source": [
    "from typing_extensions import Protocol\n",
    "\n",
    "\n",
    "class Duck(Protocol):\n",
    "    def walk(self, dest: str) -> str:\n",
    "        return f\"duck walks to the {dest}\"\n",
    "\n",
    "    def voice(self) -> str:\n",
    "        return \"quack\""
   ]
  },
  {
   "cell_type": "code",
   "execution_count": null,
   "metadata": {},
   "outputs": [],
   "source": [
    "def function_for_ducks(duck: Duck) -> None:\n",
    "    dest: str = 'house'\n",
    "    print('Me:', 'Go to your house duck!')\n",
    "    print('Duck:', duck.walk(dest))\n",
    "    print('Me:', 'Are you in house, duck?')\n",
    "    print('Duck:', duck.voice())\n",
    "    print('Me:', 'All good!')"
   ]
  },
  {
   "cell_type": "code",
   "execution_count": null,
   "metadata": {},
   "outputs": [],
   "source": [
    "class Goose:\n",
    "    def walk(self, dest):\n",
    "        return f\"duck walks to the {dest}\"\n",
    "\n",
    "    def voice(self):\n",
    "        return \"quack\"\n",
    "    \n",
    "t = Goose()"
   ]
  },
  {
   "cell_type": "code",
   "execution_count": null,
   "metadata": {},
   "outputs": [],
   "source": [
    "function_for_ducks(t)"
   ]
  },
  {
   "cell_type": "markdown",
   "metadata": {},
   "source": [
    "In terms of style, PEP 8 recommends the following:\n",
    "\n",
    "- Use normal rules for colons, that is, no space before and one space after a colon: text: str.\n",
    "- Use spaces around the = sign when combining an argument annotation with a default value: align: bool = True.\n",
    "- Use spaces around the -> arrow: def headline(...) -> str."
   ]
  },
  {
   "cell_type": "markdown",
   "metadata": {},
   "source": [
    "Some advantages to use type hints:\n",
    "- catch certain errors;\n",
    "- document your code;\n",
    "- improve IDEs and linters;\n",
    "- help you build and maintain a cleaner architecture.\n",
    "\n",
    "Some disadvantages:\n",
    "- take developer time and effort to add;\n",
    "- work best in modern Pythons (3+);\n",
    "- introduce a slight penalty in start-up time."
   ]
  }
 ],
 "metadata": {
  "kernelspec": {
   "display_name": "Python 3",
   "language": "python",
   "name": "python3"
  },
  "language_info": {
   "codemirror_mode": {
    "name": "ipython",
    "version": 3
   },
   "file_extension": ".py",
   "mimetype": "text/x-python",
   "name": "python",
   "nbconvert_exporter": "python",
   "pygments_lexer": "ipython3",
   "version": "3.7.4"
  }
 },
 "nbformat": 4,
 "nbformat_minor": 2
}
