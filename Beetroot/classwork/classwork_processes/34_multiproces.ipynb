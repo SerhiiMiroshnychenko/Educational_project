{
 "cells": [
  {
   "cell_type": "code",
   "execution_count": 3,
   "metadata": {},
   "outputs": [],
   "source": [
    "import multiprocessing"
   ]
  },
  {
   "cell_type": "code",
   "execution_count": 4,
   "metadata": {},
   "outputs": [],
   "source": [
    "def test(name):\n",
    "    print(f'here {name}')"
   ]
  },
  {
   "cell_type": "code",
   "execution_count": 5,
   "metadata": {},
   "outputs": [],
   "source": [
    "processes = []\n",
    "for i in range(5):\n",
    "    t = multiprocessing.Process(target=test, args=(i,))\n",
    "    processes.append(t)\n",
    "    t.start()\n",
    "    \n",
    "for process in processes:\n",
    "    process.join()"
   ]
  },
  {
   "cell_type": "code",
   "execution_count": 11,
   "metadata": {},
   "outputs": [],
   "source": [
    "import os"
   ]
  },
  {
   "cell_type": "code",
   "execution_count": 17,
   "metadata": {},
   "outputs": [],
   "source": [
    "def test(name):\n",
    "    print(f'here {name}, process: {os.getpid()}, parent process: {os.getppid()}')"
   ]
  },
  {
   "cell_type": "code",
   "execution_count": 18,
   "metadata": {},
   "outputs": [],
   "source": [
    "processes = []\n",
    "for i in range(5):\n",
    "    t = multiprocessing.Process(target=test, args=(i,))\n",
    "    processes.append(t)\n",
    "    t.start()\n",
    "    \n",
    "# for process in processes:\n",
    "#     process.join()"
   ]
  },
  {
   "cell_type": "code",
   "execution_count": null,
   "metadata": {},
   "outputs": [],
   "source": [
    "result = [] \n",
    "  \n",
    "def square_list(mylist): \n",
    "    global result\n",
    "    for num in mylist: \n",
    "        result.append(num * num) \n",
    "    print(\"Result(in process p1): {}\".format(result))"
   ]
  },
  {
   "cell_type": "code",
   "execution_count": null,
   "metadata": {},
   "outputs": [],
   "source": [
    "temp = [1,2,3,4]\n",
    "\n",
    "p1 = multiprocessing.Process(target=square_list, args=(temp, ))\n",
    "p1.start()\n",
    "p1.join()\n"
   ]
  },
  {
   "cell_type": "code",
   "execution_count": null,
   "metadata": {},
   "outputs": [],
   "source": [
    "print(result)"
   ]
  },
  {
   "cell_type": "markdown",
   "metadata": {},
   "source": [
    "When doing concurrent programming, it is usually best to avoid using shared state as much as possible. This is particularly true when using multiple processes.\n",
    "\n",
    "However, if you really do need to use some shared data, then multiprocessing provides a couple of ways to do so."
   ]
  },
  {
   "cell_type": "code",
   "execution_count": 9,
   "metadata": {},
   "outputs": [],
   "source": [
    "def f(n, a):\n",
    "    n.value = 3.1415927\n",
    "    for i in range(len(a)):\n",
    "        a[i] = -a[i]"
   ]
  },
  {
   "cell_type": "code",
   "execution_count": 10,
   "metadata": {},
   "outputs": [],
   "source": [
    "num = multiprocessing.Value('d', 0.0)\n",
    "arr = multiprocessing.Array('i', range(10))"
   ]
  },
  {
   "cell_type": "markdown",
   "metadata": {},
   "source": [
    "The `d` and `i` arguments, used when creating num and arr variables, are typecodes of the kind used by the array module: `d` indicates a double precision float, and `i` indicates a signed integer. These shared objects will be process- and thread-safe."
   ]
  },
  {
   "cell_type": "code",
   "execution_count": 11,
   "metadata": {},
   "outputs": [
    {
     "name": "stdout",
     "output_type": "stream",
     "text": [
      "0.0\n",
      "[0, 1, 2, 3, 4, 5, 6, 7, 8, 9]\n"
     ]
    }
   ],
   "source": [
    "print(num.value)\n",
    "print(arr[:])"
   ]
  },
  {
   "cell_type": "code",
   "execution_count": 12,
   "metadata": {},
   "outputs": [
    {
     "name": "stdout",
     "output_type": "stream",
     "text": [
      "0.0\n",
      "[0, 1, 2, 3, 4, 5, 6, 7, 8, 9]\n"
     ]
    }
   ],
   "source": [
    "p = multiprocessing.Process(target=f, args=(num, arr))\n",
    "p.start()\n",
    "p.join()\n",
    "\n",
    "print(num.value)\n",
    "print(arr[:])"
   ]
  },
  {
   "cell_type": "code",
   "execution_count": 16,
   "metadata": {},
   "outputs": [],
   "source": [
    "def square_list(mylist):\n",
    "    global result\n",
    "    for ind, num in enumerate(mylist): \n",
    "        result[ind]= num * num\n",
    "    print(\"Result(in process p1): {}\".format(result[:]))"
   ]
  },
  {
   "cell_type": "code",
   "execution_count": 17,
   "metadata": {},
   "outputs": [],
   "source": [
    "temp = [1,2,3,4]\n",
    "result = multiprocessing.Array('i', range(4))\n",
    "\n",
    "p1 = multiprocessing.Process(target=square_list, args=(temp, ))\n",
    "p1.start()\n",
    "p1.join()\n"
   ]
  },
  {
   "cell_type": "code",
   "execution_count": 15,
   "metadata": {},
   "outputs": [
    {
     "name": "stdout",
     "output_type": "stream",
     "text": [
      "[0, 0, 0, 0]\n"
     ]
    }
   ],
   "source": [
    "print(result[:])"
   ]
  },
  {
   "cell_type": "markdown",
   "metadata": {},
   "source": [
    "The effective use of multiple processes usually requires some communication between them, so that work can be divided and results can be aggregated. \n",
    "Multiprocessing supports two types of communication channels between processes:\n",
    "\n",
    "- Queue\n",
    "- Pipe"
   ]
  },
  {
   "cell_type": "code",
   "execution_count": null,
   "metadata": {},
   "outputs": [],
   "source": [
    "def square_list(mylist, q): \n",
    "    for num in mylist: \n",
    "        q.put(num * num) \n",
    "\n",
    "def read_from_queue(q):\n",
    "    while not q.empty():\n",
    "        print(q.get())\n",
    "        \n",
    "        "
   ]
  },
  {
   "cell_type": "code",
   "execution_count": null,
   "metadata": {},
   "outputs": [],
   "source": [
    "temp = [1, 2, 3, 4]\n",
    "q = multiprocessing.Queue()\n",
    "p1 = multiprocessing.Process(target=square_list, args=(temp, q))\n",
    "p2 = multiprocessing.Process(target=read_from_queue, args=(q,))\n",
    "\n",
    "p1.start()\n",
    "p2.start()\n",
    "p1.join()\n",
    "p2.join()"
   ]
  },
  {
   "cell_type": "code",
   "execution_count": null,
   "metadata": {},
   "outputs": [],
   "source": [
    "def sender(conn, msgs): \n",
    "    for msg in msgs: \n",
    "        conn.send(msg) \n",
    "        print(f\"Sent the message: {msg} from process {os.getpid()}\") \n",
    "    conn.close() \n",
    "\n",
    "\n",
    "def receiver(conn): \n",
    "    while True: \n",
    "        msg = conn.recv() \n",
    "        if msg == \"END\": \n",
    "            break\n",
    "        print(f\"Received the message: {msg} in process {os.getpid()}\")\n",
    "\n",
    "msgs = [\"hello\", \"hey\", \"hru?\", \"END\"] \n",
    "  \n",
    "# creating a pipe \n",
    "parent_conn, child_conn = multiprocessing.Pipe() \n",
    "  \n",
    "# creating new processes \n",
    "p1 = multiprocessing.Process(target=sender, args=(parent_conn,msgs)) \n",
    "p2 = multiprocessing.Process(target=receiver, args=(child_conn,)) \n",
    "\n",
    "p1.start() \n",
    "p2.start() \n",
    "p1.join() \n",
    "p2.join()"
   ]
  },
  {
   "cell_type": "markdown",
   "metadata": {},
   "source": [
    "The `Pool` class can be used to manage a fixed number of workers for simple cases where the work to be done can be broken up and distributed between the workers independently. The return values from the jobs are collected and returned as a list. The pool arguments include the number of processes, and a function to run when starting the task process (invoked once per child)."
   ]
  },
  {
   "cell_type": "code",
   "execution_count": null,
   "metadata": {},
   "outputs": [],
   "source": [
    "def f(x):\n",
    "    return x * x"
   ]
  },
  {
   "cell_type": "code",
   "execution_count": null,
   "metadata": {},
   "outputs": [],
   "source": [
    "import time"
   ]
  },
  {
   "cell_type": "code",
   "execution_count": null,
   "metadata": {
    "scrolled": true
   },
   "outputs": [],
   "source": [
    "with multiprocessing.Pool(processes=4) as pool:\n",
    "    result = pool.apply_async(f, (10,)) # evaluate \"f(10)\" asynchronously in a single process\n",
    "    print(result.get(timeout=1))        # prints \"100\" unless your computer is *very* slow\n",
    "\n",
    "    print(pool.map(f, range(10)))       # prints \"[0, 1, 4,..., 81]\"\n",
    "\n",
    "    it = pool.imap(f, range(10))\n",
    "    print(next(it))                     # prints \"0\"\n",
    "    print(next(it))                     # prints \"1\"\n",
    "    print(it.next(timeout=1))           # prints \"4\" unless your computer is *very* slow\n",
    "\n",
    "    result = pool.apply_async(time.sleep, (10,))\n",
    "    print(result.get(timeout=1))        # raises multiprocessing.TimeoutError"
   ]
  },
  {
   "cell_type": "code",
   "execution_count": null,
   "metadata": {},
   "outputs": [],
   "source": []
  },
  {
   "cell_type": "code",
   "execution_count": null,
   "metadata": {},
   "outputs": [],
   "source": [
    "from concurrent.futures import ThreadPoolExecutor\n",
    "\n",
    "with ThreadPoolExecutor(max_workers=1) as executor:\n",
    "    future = executor.submit(pow, 323, 1235)\n",
    "    print(future.result())"
   ]
  },
  {
   "cell_type": "code",
   "execution_count": null,
   "metadata": {},
   "outputs": [],
   "source": []
  },
  {
   "cell_type": "code",
   "execution_count": null,
   "metadata": {},
   "outputs": [],
   "source": []
  },
  {
   "cell_type": "code",
   "execution_count": null,
   "metadata": {},
   "outputs": [],
   "source": []
  }
 ],
 "metadata": {
  "kernelspec": {
   "display_name": "Python 3",
   "language": "python",
   "name": "python3"
  },
  "language_info": {
   "codemirror_mode": {
    "name": "ipython",
    "version": 3
   },
   "file_extension": ".py",
   "mimetype": "text/x-python",
   "name": "python",
   "nbconvert_exporter": "python",
   "pygments_lexer": "ipython3",
   "version": "3.7.4"
  }
 },
 "nbformat": 4,
 "nbformat_minor": 2
}
