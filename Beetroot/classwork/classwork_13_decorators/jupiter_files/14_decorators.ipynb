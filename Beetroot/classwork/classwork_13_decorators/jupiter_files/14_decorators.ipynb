{
 "cells": [
  {
   "cell_type": "markdown",
   "metadata": {},
   "source": [
    "## Decorators\n",
    "Decorators are a significant part of Python. Simply put, they are functions that modify the functionality of other functions. They help to make our code shorter and more Pythonic"
   ]
  },
  {
   "cell_type": "code",
   "execution_count": 11,
   "metadata": {},
   "outputs": [],
   "source": [
    "def first_decorator(func):\n",
    "    def wrap():\n",
    "        print('before')\n",
    "        func()\n",
    "        print('after')\n",
    "    return wrap"
   ]
  },
  {
   "cell_type": "code",
   "execution_count": 12,
   "metadata": {},
   "outputs": [],
   "source": [
    "def test():\n",
    "    \"\"\"test function docs\"\"\"\n",
    "    print('inside test')"
   ]
  },
  {
   "cell_type": "code",
   "execution_count": 13,
   "metadata": {},
   "outputs": [
    {
     "data": {
      "text/plain": "'test'"
     },
     "execution_count": 13,
     "metadata": {},
     "output_type": "execute_result"
    }
   ],
   "source": [
    "test.__name__"
   ]
  },
  {
   "cell_type": "code",
   "execution_count": 14,
   "metadata": {},
   "outputs": [
    {
     "name": "stdout",
     "output_type": "stream",
     "text": [
      "Help on function test in module __main__:\n",
      "\n",
      "test()\n",
      "    test function docs\n",
      "\n"
     ]
    }
   ],
   "source": [
    "help(test)"
   ]
  },
  {
   "cell_type": "code",
   "execution_count": 15,
   "metadata": {},
   "outputs": [],
   "source": [
    "decorated_func = first_decorator(test)"
   ]
  },
  {
   "cell_type": "code",
   "execution_count": 16,
   "metadata": {},
   "outputs": [
    {
     "name": "stdout",
     "output_type": "stream",
     "text": [
      "inside test\n"
     ]
    }
   ],
   "source": [
    "test()"
   ]
  },
  {
   "cell_type": "code",
   "execution_count": 17,
   "metadata": {},
   "outputs": [
    {
     "name": "stdout",
     "output_type": "stream",
     "text": [
      "before\n",
      "inside test\n",
      "after\n"
     ]
    }
   ],
   "source": [
    "decorated_func()"
   ]
  },
  {
   "cell_type": "markdown",
   "metadata": {},
   "source": [
    "Instead of writing code like this `decorated_func = first_decorator(test)` we can use special python syntax with `@` symbol"
   ]
  },
  {
   "cell_type": "code",
   "execution_count": 18,
   "metadata": {},
   "outputs": [],
   "source": [
    "@first_decorator\n",
    "def test():\n",
    "    \"\"\"test function docs\"\"\"\n",
    "    print('inside test')"
   ]
  },
  {
   "cell_type": "code",
   "execution_count": 19,
   "metadata": {},
   "outputs": [
    {
     "name": "stdout",
     "output_type": "stream",
     "text": [
      "before\n",
      "inside test\n",
      "after\n"
     ]
    }
   ],
   "source": [
    "test()"
   ]
  },
  {
   "cell_type": "code",
   "execution_count": 20,
   "metadata": {},
   "outputs": [
    {
     "data": {
      "text/plain": "'wrap'"
     },
     "execution_count": 20,
     "metadata": {},
     "output_type": "execute_result"
    }
   ],
   "source": [
    "test.__name__ #  the overwrites and docstring of our function"
   ]
  },
  {
   "cell_type": "code",
   "execution_count": 21,
   "metadata": {},
   "outputs": [],
   "source": [
    "test.__doc__"
   ]
  },
  {
   "cell_type": "code",
   "execution_count": 22,
   "metadata": {},
   "outputs": [],
   "source": [
    "from functools import wraps"
   ]
  },
  {
   "cell_type": "code",
   "execution_count": 23,
   "metadata": {},
   "outputs": [],
   "source": [
    "def first_decorator(func):\n",
    "    @wraps(func) # не обов'язково до використання\n",
    "    def wrap():\n",
    "        print('before')\n",
    "        func()\n",
    "        print('after')\n",
    "    return wrap\n",
    "\n",
    "@first_decorator\n",
    "def test():\n",
    "    \"\"\"test function docs\"\"\"\n",
    "    print('inside test')"
   ]
  },
  {
   "cell_type": "code",
   "execution_count": 24,
   "metadata": {},
   "outputs": [
    {
     "name": "stdout",
     "output_type": "stream",
     "text": [
      "before\n",
      "inside test\n",
      "after\n"
     ]
    }
   ],
   "source": [
    "test()"
   ]
  },
  {
   "cell_type": "code",
   "execution_count": 25,
   "metadata": {},
   "outputs": [
    {
     "data": {
      "text/plain": "'test'"
     },
     "execution_count": 25,
     "metadata": {},
     "output_type": "execute_result"
    }
   ],
   "source": [
    "test.__name__"
   ]
  },
  {
   "cell_type": "code",
   "execution_count": 26,
   "metadata": {},
   "outputs": [
    {
     "data": {
      "text/plain": "'test function docs'"
     },
     "execution_count": 26,
     "metadata": {},
     "output_type": "execute_result"
    }
   ],
   "source": [
    "test.__doc__"
   ]
  },
  {
   "cell_type": "markdown",
   "source": [
    "Passing arguments and a return value"
   ],
   "metadata": {
    "collapsed": false
   }
  },
  {
   "cell_type": "code",
   "execution_count": 27,
   "outputs": [],
   "source": [
    "def logging_decorator(func):\n",
    "    def wrapper(*args, **kwargs):\n",
    "        print(f\"\\t[LOG] \\t calling {func.__name__}\")\n",
    "        res = func(*args, **kwargs)\n",
    "        print(f\"\\t[LOG] called {func.__name__}\")\n",
    "        return res\n",
    "    return wrapper\n",
    "\n",
    "# logging_decorator(func)(args)"
   ],
   "metadata": {
    "collapsed": false
   }
  },
  {
   "cell_type": "code",
   "execution_count": 28,
   "outputs": [],
   "source": [
    "@logging_decorator\n",
    "def multiply(number_a:int, number_b:int):\n",
    "    \"\"\" multiplies two provided numbers \"\"\"\n",
    "    print(f\"\\t\\t=== Inside the multiply function\")\n",
    "    return number_a * number_b"
   ],
   "metadata": {
    "collapsed": false
   }
  },
  {
   "cell_type": "code",
   "execution_count": 29,
   "outputs": [
    {
     "name": "stdout",
     "output_type": "stream",
     "text": [
      "\t[LOG] \t calling multiply\n",
      "\t\t=== Inside the multiply function\n",
      "\t[LOG] called multiply\n",
      "[result] \t 20\n"
     ]
    }
   ],
   "source": [
    "result = multiply(4, 5)\n",
    "print(f\"[result] \\t {result}\")"
   ],
   "metadata": {
    "collapsed": false
   }
  },
  {
   "cell_type": "markdown",
   "source": [
    "Multiple decorators"
   ],
   "metadata": {
    "collapsed": false
   }
  },
  {
   "cell_type": "code",
   "execution_count": 30,
   "outputs": [],
   "source": [
    "def logging_decorator_1(func):\n",
    "  def wrapper(*args, **kwargs):\n",
    "    print(f\"[LOG1] \\t calling decorator 1\")\n",
    "    res = func(*args, **kwargs)\n",
    "    print(f\"[LOG1] called decorator 1\")\n",
    "    return res\n",
    "  return wrapper\n",
    "\n",
    "def logging_decorator_2(func):\n",
    "  def wrapper(*args, **kwargs):\n",
    "    print(f\"[LOG2] \\t calling decorator 2\")\n",
    "    res = func(*args, **kwargs)\n",
    "    print(f\"[LOG2] called decorator 2\")\n",
    "    return res\n",
    "  return wrapper"
   ],
   "metadata": {
    "collapsed": false
   }
  },
  {
   "cell_type": "code",
   "execution_count": 31,
   "outputs": [],
   "source": [
    "@logging_decorator_1\n",
    "@logging_decorator_2\n",
    "def multiply(number_a:int, number_b:int):\n",
    "  \"\"\" multiplies two provided numbers \"\"\"\n",
    "  print(\"\\tmultiply function\")\n",
    "  return number_a * number_b"
   ],
   "metadata": {
    "collapsed": false
   }
  },
  {
   "cell_type": "code",
   "execution_count": 32,
   "outputs": [
    {
     "name": "stdout",
     "output_type": "stream",
     "text": [
      "[LOG1] \t calling decorator 1\n",
      "[LOG2] \t calling decorator 2\n",
      "\tmultiply function\n",
      "[LOG2] called decorator 2\n",
      "[LOG1] called decorator 1\n",
      "[result] \t 20\n"
     ]
    }
   ],
   "source": [
    "result = multiply(4, 5)\n",
    "print(f\"[result] \\t {result}\")\n",
    "\n",
    "# def decorator(func):\n",
    "#     def modyficator(parameters):\n",
    "#         result = func(parameters)\n",
    "#         return result\n",
    "#     return modyficator"
   ],
   "metadata": {
    "collapsed": false
   }
  },
  {
   "cell_type": "markdown",
   "source": [
    "Passing arguments to decorators"
   ],
   "metadata": {
    "collapsed": false
   }
  },
  {
   "cell_type": "code",
   "execution_count": 33,
   "outputs": [],
   "source": [
    "def add_brake_log(size=2):\n",
    "    def add_brake_log_dec(func):\n",
    "        @wraps(func)\n",
    "        def wrap(*args, **kwargs):\n",
    "            for _ in range(size):\n",
    "                print('_' * 80)\n",
    "            func(*args, **kwargs)\n",
    "            for _ in range(size):\n",
    "                print('_' * 80)\n",
    "        return wrap\n",
    "    return add_brake_log_dec\n",
    "\n",
    "# def decorator(decorator_parameter=default):\n",
    "#     def func_getter(func):\n",
    "#         def modyficator(parameters):\n",
    "#             if decorator_parameter is one:\n",
    "#                 func(parameters)\n",
    "#                 and one functinality\n",
    "#             elif decorator_parameter is second:\n",
    "#                 func(parameters)\n",
    "#                 and another functinality\n",
    "#             return result\n",
    "#         return modyficator\n",
    "#     return func_getter"
   ],
   "metadata": {
    "collapsed": false
   }
  },
  {
   "cell_type": "code",
   "execution_count": 34,
   "outputs": [
    {
     "name": "stdout",
     "output_type": "stream",
     "text": [
      "________________________________________________________________________________\n",
      "________________________________________________________________________________\n",
      "________________________________________________________________________________\n",
      "inside test\n",
      "________________________________________________________________________________\n",
      "________________________________________________________________________________\n",
      "________________________________________________________________________________\n"
     ]
    }
   ],
   "source": [
    "@add_brake_log(size=3)\n",
    "def test():\n",
    "    \"\"\"test function docs\"\"\"\n",
    "    print('inside test')\n",
    "\n",
    "test()"
   ],
   "metadata": {
    "collapsed": false
   }
  },
  {
   "cell_type": "markdown",
   "source": [
    "Decorator classes that have state"
   ],
   "metadata": {
    "collapsed": false
   }
  },
  {
   "cell_type": "code",
   "execution_count": 43,
   "outputs": [],
   "source": [
    "class ExecutionCounter:\n",
    "\n",
    "  def __init__(self, func):\n",
    "    self.func = func\n",
    "    self.call_count = 0\n",
    "  def __call__(self, *args, **kwargs):\n",
    "    self.call_count += 1\n",
    "    print(f\"Called {self.func.__name__} for the {self.call_count}th time\")\n",
    "    return self.func(*args, **kwargs)"
   ],
   "metadata": {
    "collapsed": false
   }
  },
  {
   "cell_type": "code",
   "execution_count": 44,
   "outputs": [],
   "source": [
    "@ExecutionCounter\n",
    "def multiply(number_a:int, number_b:int):\n",
    "  \"\"\" multiplies two provided numbers \"\"\"\n",
    "  return number_a * number_b"
   ],
   "metadata": {
    "collapsed": false
   }
  },
  {
   "cell_type": "code",
   "execution_count": 45,
   "outputs": [
    {
     "name": "stdout",
     "output_type": "stream",
     "text": [
      "Called multiply for the 1th time\n",
      "Called multiply for the 2th time\n",
      "Called multiply for the 3th time\n",
      "Called multiply for the 4th time\n",
      "res: (42, 70, 54, 8)\n"
     ]
    }
   ],
   "source": [
    "res1 = multiply(21, 2)\n",
    "res2 = multiply(14, 5)\n",
    "res3 = multiply(6, 9)\n",
    "res4 = multiply(4, 2)\n",
    "print(f\"res: {res1, res2, res3, res4}\")"
   ],
   "metadata": {
    "collapsed": false
   }
  },
  {
   "cell_type": "markdown",
   "source": [
    "Interaction between decorator args and function args"
   ],
   "metadata": {
    "collapsed": false
   }
  },
  {
   "cell_type": "code",
   "execution_count": 46,
   "outputs": [],
   "source": [
    "def check_password(password):\n",
    "  def outer_wrapper(func):\n",
    "    def wrapper(*args, **kwargs):\n",
    "      provided_pass = kwargs.get(\"password\") or args[0]\n",
    "      if provided_pass != password:\n",
    "        print(provided_pass, password)\n",
    "        raise ValueError(\"Incorrect password\")\n",
    "\n",
    "      res = func(*args, **kwargs)\n",
    "      return res\n",
    "    return wrapper\n",
    "  return outer_wrapper"
   ],
   "metadata": {
    "collapsed": false
   }
  },
  {
   "cell_type": "code",
   "execution_count": 47,
   "outputs": [],
   "source": [
    "@check_password(password=\"mypassword\")\n",
    "def public_api_request(password):\n",
    "  \"\"\" Prints some text if the provided password is correct \"\"\"\n",
    "  print(\"You can only see this if you provided the right answer\")"
   ],
   "metadata": {
    "collapsed": false
   }
  },
  {
   "cell_type": "code",
   "execution_count": 48,
   "outputs": [
    {
     "name": "stdout",
     "output_type": "stream",
     "text": [
      "You can only see this if you provided the right answer\n",
      "wrongpassword mypassword\n",
      "Incorrect password\n"
     ]
    }
   ],
   "source": [
    "try:\n",
    "    public_api_request(password='mypassword')\n",
    "except Exception as e:\n",
    "    print(e)\n",
    "\n",
    "try:\n",
    "    public_api_request(password='wrongpassword')\n",
    "except Exception as e:\n",
    "    print(e)"
   ],
   "metadata": {
    "collapsed": false
   }
  },
  {
   "cell_type": "markdown",
   "source": [
    "Decorators in API\n",
    "- Валідація JSON\n",
    "- Кешування\n",
    "- Задання шляху і методу запиту\n",
    "- Модифікація параметрів запиту"
   ],
   "metadata": {
    "collapsed": false
   }
  },
  {
   "cell_type": "markdown",
   "source": [
    "№1: @lru_cache -> прискорює рекурсивні виклики"
   ],
   "metadata": {
    "collapsed": false
   }
  },
  {
   "cell_type": "code",
   "execution_count": 1,
   "outputs": [
    {
     "name": "stdout",
     "output_type": "stream",
     "text": [
      "Calculating fibonacci(6)\n",
      "Calculating fibonacci(5)\n",
      "Calculating fibonacci(4)\n",
      "Calculating fibonacci(3)\n",
      "Calculating fibonacci(2)\n",
      "Calculating fibonacci(1)\n",
      "Calculating fibonacci(0)\n"
     ]
    },
    {
     "data": {
      "text/plain": "8"
     },
     "execution_count": 1,
     "metadata": {},
     "output_type": "execute_result"
    }
   ],
   "source": [
    "from functools import lru_cache\n",
    "@lru_cache(maxsize=4)\n",
    "def fibonacci(num):\n",
    "    print(f\"Calculating fibonacci({num})\")\n",
    "    if num < 2:\n",
    "        return num\n",
    "    return fibonacci(num - 1) + fibonacci(num - 2)\n",
    "\n",
    "fibonacci(6)\n",
    "fibonacci(6)\n",
    "fibonacci(6)\n",
    "fibonacci(6)\n",
    "fibonacci(6)"
   ],
   "metadata": {
    "collapsed": false
   }
  },
  {
   "cell_type": "code",
   "execution_count": 42,
   "outputs": [
    {
     "ename": "NameError",
     "evalue": "name 'app' is not defined",
     "output_type": "error",
     "traceback": [
      "\u001B[1;31m---------------------------------------------------------------------------\u001B[0m",
      "\u001B[1;31mNameError\u001B[0m                                 Traceback (most recent call last)",
      "Cell \u001B[1;32mIn [42], line 1\u001B[0m\n\u001B[1;32m----> 1\u001B[0m \u001B[38;5;129m@app\u001B[39m\u001B[38;5;241m.\u001B[39mroute(\u001B[38;5;124m\"\u001B[39m\u001B[38;5;124m/grade\u001B[39m\u001B[38;5;124m\"\u001B[39m, methods\u001B[38;5;241m=\u001B[39m[\u001B[38;5;124m\"\u001B[39m\u001B[38;5;124mPOST\u001B[39m\u001B[38;5;124m\"\u001B[39m])\n\u001B[0;32m      2\u001B[0m \u001B[38;5;28;01mdef\u001B[39;00m \u001B[38;5;21mupdate_grade\u001B[39m():\n\u001B[0;32m      3\u001B[0m     json_data \u001B[38;5;241m=\u001B[39m request\u001B[38;5;241m.\u001B[39mget_json()\n\u001B[0;32m      4\u001B[0m     \u001B[38;5;28;01mif\u001B[39;00m \u001B[38;5;124m\"\u001B[39m\u001B[38;5;124mstudent_id\u001B[39m\u001B[38;5;124m\"\u001B[39m \u001B[38;5;129;01mnot\u001B[39;00m \u001B[38;5;129;01min\u001B[39;00m json_data:\n",
      "\u001B[1;31mNameError\u001B[0m: name 'app' is not defined"
     ]
    }
   ],
   "source": [
    "@app.route(\"/grade\", methods=[\"POST\"])\n",
    "def update_grade():\n",
    "    json_data = request.get_json()\n",
    "    if \"student_id\" not in json_data:\n",
    "        abort(400)\n",
    "    # Update database\n",
    "    return \"success!\""
   ],
   "metadata": {
    "collapsed": false
   }
  },
  {
   "cell_type": "markdown",
   "source": [
    "№2: @jit -> попередньо компілює код функції"
   ],
   "metadata": {
    "collapsed": false
   }
  },
  {
   "cell_type": "code",
   "execution_count": null,
   "outputs": [],
   "source": [
    "from numba import jit\n",
    "import random\n",
    "\n",
    "@jit(nopython=True)\n",
    "def monte_carlo_pi(nsamples):\n",
    "    acc = 0\n",
    "    for i in range(nsamples):\n",
    "        x = random.random()\n",
    "        y = random.random()\n",
    "        if (x ** 2 + y ** 2) < 1.0:\n",
    "            acc += 1\n",
    "    return 4.0 * acc / nsamples"
   ],
   "metadata": {
    "collapsed": false
   }
  },
  {
   "cell_type": "markdown",
   "source": [
    "№3: @do_twice ->"
   ],
   "metadata": {
    "collapsed": false
   }
  },
  {
   "cell_type": "code",
   "execution_count": 2,
   "outputs": [
    {
     "ename": "ImportError",
     "evalue": "cannot import name 'do_twice' from 'decorators' (D:\\Python\\Beetroot\\venv\\Lib\\site-packages\\decorators\\__init__.py)",
     "output_type": "error",
     "traceback": [
      "\u001B[1;31m---------------------------------------------------------------------------\u001B[0m",
      "\u001B[1;31mImportError\u001B[0m                               Traceback (most recent call last)",
      "Cell \u001B[1;32mIn [2], line 1\u001B[0m\n\u001B[1;32m----> 1\u001B[0m \u001B[38;5;28;01mfrom\u001B[39;00m \u001B[38;5;21;01mdecorators\u001B[39;00m \u001B[38;5;28;01mimport\u001B[39;00m do_twice\n\u001B[0;32m      2\u001B[0m \u001B[38;5;129m@do_twice\u001B[39m\n\u001B[0;32m      3\u001B[0m \u001B[38;5;28;01mdef\u001B[39;00m \u001B[38;5;21mtimerfunc\u001B[39m():\n\u001B[0;32m      4\u001B[0m     get_ipython()\u001B[38;5;241m.\u001B[39mrun_line_magic(\u001B[38;5;124m'\u001B[39m\u001B[38;5;124mtimeit\u001B[39m\u001B[38;5;124m'\u001B[39m, \u001B[38;5;124m'\u001B[39m\u001B[38;5;124mfactorial(15)\u001B[39m\u001B[38;5;124m'\u001B[39m)\n",
      "\u001B[1;31mImportError\u001B[0m: cannot import name 'do_twice' from 'decorators' (D:\\Python\\Beetroot\\venv\\Lib\\site-packages\\decorators\\__init__.py)"
     ]
    }
   ],
   "source": [
    "from decorators import do_twice\n",
    "@do_twice\n",
    "def timerfunc():\n",
    "    %timeit factorial(15)"
   ],
   "metadata": {
    "collapsed": false
   }
  },
  {
   "cell_type": "markdown",
   "source": [
    "№4: @count_calls -> декоратор можна використовувати для надання інформації про те, скільки разів функція використовується у програмі"
   ],
   "metadata": {
    "collapsed": false
   }
  },
  {
   "cell_type": "code",
   "execution_count": null,
   "outputs": [],
   "source": [
    "from decorators import count_calls\n",
    "@count_calls\n",
    "def function_example():\n",
    "    print(\"Hello World!\")\n",
    "function_example()\n",
    "function_example()\n",
    "function_example()"
   ],
   "metadata": {
    "collapsed": false
   }
  },
  {
   "cell_type": "markdown",
   "source": [
    "№5: @dataclass -> з допомогою цього декоратора можна швидко написати загальні стандартні методи, які зазвичай зустрічаються в класах, що ми пишемо"
   ],
   "metadata": {
    "collapsed": false
   }
  },
  {
   "cell_type": "code",
   "execution_count": 4,
   "outputs": [],
   "source": [
    "from dataclasses import dataclass\n",
    "\n",
    "@dataclass\n",
    "class Food:\n",
    "    name: str\n",
    "    unit_price: float\n",
    "    stock: int = 0\n",
    "\n",
    "    def stock_value(self) -> float:\n",
    "        return(self.stock * self.unit_price)"
   ],
   "metadata": {
    "collapsed": false
   }
  },
  {
   "cell_type": "markdown",
   "source": [
    "№6: @singleton ->"
   ],
   "metadata": {
    "collapsed": false
   }
  },
  {
   "cell_type": "code",
   "execution_count": 6,
   "outputs": [],
   "source": [
    "def singleton(cls):\n",
    "    instances = {}\n",
    "    def wrapper(*args, **kwargs):\n",
    "        if cls not in instances:\n",
    "          instances[cls] = cls(*args, **kwargs)\n",
    "        return instances[cls]\n",
    "    return wrapper\n",
    "@singleton\n",
    "class cls:\n",
    "    def func(self):\n",
    "        pass"
   ],
   "metadata": {
    "collapsed": false
   }
  },
  {
   "cell_type": "code",
   "execution_count": 7,
   "outputs": [
    {
     "name": "stdout",
     "output_type": "stream",
     "text": [
      "<__main__.cls object at 0x00000240D7E79810>\n",
      "<__main__.cls object at 0x00000240D7E79810>\n",
      "<__main__.cls object at 0x00000240D7E79810>\n",
      "<__main__.cls object at 0x00000240D7E79810>\n"
     ]
    }
   ],
   "source": [
    "c1 = cls()\n",
    "c2 = cls()\n",
    "c3 = cls()\n",
    "c4 = cls()\n",
    "print(c1, c2, c3, c4, sep='\\n')"
   ],
   "metadata": {
    "collapsed": false
   }
  },
  {
   "cell_type": "markdown",
   "source": [
    "№7: @use_unit ->  Це може бути корисно для тих, хто не хоче додавати одиниці виміру до своїх даних, але все одно хоче, щоб люди знали, що це за одиниці"
   ],
   "metadata": {
    "collapsed": false
   }
  },
  {
   "cell_type": "code",
   "execution_count": 8,
   "outputs": [],
   "source": [
    "import functools\n",
    "import pint\n",
    "\n",
    "def use_unit(unit):\n",
    "    \"\"\"Have a function return a Quantity with given unit\"\"\"\n",
    "    use_unit.ureg = pint.UnitRegistry()\n",
    "    def decorator_use_unit(func):\n",
    "        @functools.wraps(func)\n",
    "        def wrapper_use_unit(*args, **kwargs):\n",
    "            value = func(*args, **kwargs)\n",
    "            return value * use_unit.ureg(unit)\n",
    "        return wrapper_use_unit\n",
    "    return decorator_use_unit\n",
    "\n",
    "@use_unit(\"meters per second\")\n",
    "def average_speed(distance, duration):\n",
    "    return distance / duration"
   ],
   "metadata": {
    "collapsed": false
   }
  },
  {
   "cell_type": "code",
   "execution_count": 9,
   "outputs": [
    {
     "name": "stdout",
     "output_type": "stream",
     "text": [
      "0.3333333333333333 meter / second\n"
     ]
    }
   ],
   "source": [
    "print(average_speed(1000, 3000))"
   ],
   "metadata": {
    "collapsed": false
   }
  },
  {
   "cell_type": "markdown",
   "source": [
    "№9: @singledispatch"
   ],
   "metadata": {
    "collapsed": false
   }
  },
  {
   "cell_type": "code",
   "execution_count": 11,
   "outputs": [],
   "source": [
    "from functools import singledispatch\n",
    "\n",
    "@singledispatch\n",
    "def fun(arg, verbose=False):\n",
    "        if verbose:\n",
    "            print(\"Let me just say,\", end=\" \")\n",
    "        print(arg)\n",
    "@fun.register\n",
    "def _(arg: int, verbose=False):\n",
    "    if verbose:\n",
    "        print(\"Strength in numbers, eh?\", end=\" \")\n",
    "    print(arg)\n",
    "@fun.register\n",
    "def _(arg: list, verbose=False):\n",
    "    if verbose:\n",
    "        print(\"Enumerate this:\")\n",
    "    for i, elem in enumerate(arg):\n",
    "        print(i, elem)"
   ],
   "metadata": {
    "collapsed": false
   }
  },
  {
   "cell_type": "code",
   "execution_count": 13,
   "outputs": [
    {
     "name": "stdout",
     "output_type": "stream",
     "text": [
      "Enumerate this:\n",
      "0 1\n",
      "1 2\n",
      "2 3\n",
      "3 4\n",
      "4 5\n",
      "Strength in numbers, eh? 4\n"
     ]
    }
   ],
   "source": [
    "fun([1, 2, 3, 4, 5], True)\n",
    "fun(4, True)"
   ],
   "metadata": {
    "collapsed": false
   }
  },
  {
   "cell_type": "markdown",
   "source": [
    "№10: @register"
   ],
   "metadata": {
    "collapsed": false
   }
  },
  {
   "cell_type": "code",
   "execution_count": null,
   "outputs": [],
   "source": [],
   "metadata": {
    "collapsed": false
   }
  }
 ],
 "metadata": {
  "kernelspec": {
   "display_name": "Python 3",
   "language": "python",
   "name": "python3"
  },
  "language_info": {
   "codemirror_mode": {
    "name": "ipython",
    "version": 3
   },
   "file_extension": ".py",
   "mimetype": "text/x-python",
   "name": "python",
   "nbconvert_exporter": "python",
   "pygments_lexer": "ipython3",
   "version": "3.7.4"
  }
 },
 "nbformat": 4,
 "nbformat_minor": 2
}
