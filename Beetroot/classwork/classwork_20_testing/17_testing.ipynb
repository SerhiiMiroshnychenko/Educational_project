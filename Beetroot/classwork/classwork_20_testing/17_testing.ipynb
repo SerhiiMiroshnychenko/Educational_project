{
 "cells": [
  {
   "cell_type": "markdown",
   "source": [
    "There are four different types of tests, each depending on the granularity of code being tested, as well as the goal of the test."
   ],
   "metadata": {
    "collapsed": false
   }
  },
  {
   "cell_type": "markdown",
   "source": [
    "## Unit Tests\n",
    "This tests specific methods and logic in the code. This is the most granular type of test. The goal is to verify the internal flow of the method, as well as to make sure edge cases are being handled."
   ],
   "metadata": {
    "collapsed": false
   }
  },
  {
   "cell_type": "code",
   "execution_count": 8,
   "outputs": [],
   "source": [
    "def func():\n",
    "    return 1\n",
    "\n",
    "def test_func():\n",
    "    assert func() == 1"
   ],
   "metadata": {
    "collapsed": false
   }
  },
  {
   "cell_type": "code",
   "execution_count": 9,
   "outputs": [
    {
     "name": "stdout",
     "output_type": "stream",
     "text": [
      "1\n"
     ]
    }
   ],
   "source": [
    "print(func())"
   ],
   "metadata": {
    "collapsed": false
   }
  },
  {
   "cell_type": "code",
   "execution_count": 10,
   "outputs": [
    {
     "name": "stdout",
     "output_type": "stream",
     "text": [
      "None\n"
     ]
    }
   ],
   "source": [
    "print(test_func())"
   ],
   "metadata": {
    "collapsed": false
   }
  },
  {
   "cell_type": "markdown",
   "source": [
    "## Feature Tests\n",
    "This tests the functionality of the component. A collection of unit tests may or may not represent a Feature test. The goal is to verify the component meets the requirements given for it. If you're thinking in terms of a work item, this would be testing a ticket as a whole."
   ],
   "metadata": {
    "collapsed": false
   }
  },
  {
   "cell_type": "code",
   "execution_count": 11,
   "outputs": [
    {
     "ename": "SyntaxError",
     "evalue": "invalid syntax (1191895818.py, line 7)",
     "output_type": "error",
     "traceback": [
      "\u001B[1;36m  Cell \u001B[1;32mIn [11], line 7\u001B[1;36m\u001B[0m\n\u001B[1;33m    assert result.body = \"Hello World\"\u001B[0m\n\u001B[1;37m                       ^\u001B[0m\n\u001B[1;31mSyntaxError\u001B[0m\u001B[1;31m:\u001B[0m invalid syntax\n"
     ]
    }
   ],
   "source": [
    "class NewEndpoint:\n",
    "    def on_get(req, resp):\n",
    "        resp.body = \"Hello World\"\n",
    "\n",
    "def test_new_endpoint():\n",
    "    result = simulate_get(\"/newendpoint\")\n",
    "    assert result.body = \"Hello World\""
   ],
   "metadata": {
    "collapsed": false
   }
  },
  {
   "cell_type": "markdown",
   "source": [
    "## Integration Tests\n",
    "This tests the entire application, end to end. The goal is to guarantee the stability of the application. When new code is added, integration tests should still pass with minimal effort."
   ],
   "metadata": {
    "collapsed": false
   }
  },
  {
   "cell_type": "code",
   "execution_count": null,
   "outputs": [],
   "source": [
    "class MySystem:\n",
    "    external_system = ExternalSystemConnector()\n",
    "    def handle_message(self, message):\n",
    "        try:\n",
    "            external_system.send_message(message)\n",
    "            return True\n",
    "        except Exception as err:\n",
    "            return False\n",
    "\n",
    "def test_MySystem():\n",
    "    system = MySystem()\n",
    "    assert system.handle_message(good_message)\n",
    "    assert not system.handle_message(bad_message)"
   ],
   "metadata": {
    "collapsed": false
   }
  },
  {
   "cell_type": "markdown",
   "source": [
    "## Performance Tests\n",
    "This tests the efficiency of a piece of code. The size of the code being tested can range from a method to the whole application."
   ],
   "metadata": {
    "collapsed": false
   }
  },
  {
   "cell_type": "code",
   "execution_count": 16,
   "outputs": [],
   "source": [
    "import timeit\n",
    "\n",
    "def func(i):\n",
    "    return i * 2\n",
    "\n",
    "def test_performance():\n",
    "    assert 1 > timeit.timeit(\"[func(x) for x in range(20)]\", number=5,\n",
    "                              setup=\"from __main__ import func\")"
   ],
   "metadata": {
    "collapsed": false
   }
  },
  {
   "cell_type": "markdown",
   "source": [
    "https://en.wikipedia.org/wiki/Software_testing"
   ],
   "metadata": {
    "collapsed": false
   }
  },
  {
   "cell_type": "markdown",
   "source": [
    "There are different approaches to filling out tests. You can test individual functionality, the result of the algorithm with the correct and incorrect parameters, as well as check the speed and performance of various objects."
   ],
   "metadata": {
    "collapsed": false
   }
  },
  {
   "cell_type": "markdown",
   "source": [
    "There are many test runners available for Python. The one built into the Python standard library is called unittest. In this tutorial, you will be using unittest test cases and the unittest test runner. The principles of unittest are easily portable to other frameworks. The three most popular test runners are:\n",
    "\n",
    "- unittest\n",
    "- nose or nose2\n",
    "- pytest"
   ],
   "metadata": {
    "collapsed": false
   }
  },
  {
   "cell_type": "markdown",
   "source": [
    "## unittest\n",
    "\n",
    "https://docs.python.org/3/library/unittest.html"
   ],
   "metadata": {
    "collapsed": false
   }
  },
  {
   "cell_type": "code",
   "execution_count": 13,
   "outputs": [],
   "source": [
    "import unittest\n",
    "\n",
    "class TestSum(unittest.TestCase):\n",
    "\n",
    "    def test_sum(self):\n",
    "        self.assertEqual(sum([1, 2, 3]), 6, \"Should be 6\")\n",
    "\n",
    "    def test_sum_tuple(self):\n",
    "        self.assertEqual(sum((1, 2, 2)), 6, \"Should be 6\")"
   ],
   "metadata": {
    "collapsed": false
   }
  },
  {
   "cell_type": "code",
   "execution_count": 14,
   "outputs": [],
   "source": [
    "import unittest\n",
    "\n",
    "class WidgetTestCase(unittest.TestCase):\n",
    "    def setUp(self):\n",
    "        self.widget = Widget('The widget')\n",
    "\n",
    "    def tearDown(self):\n",
    "        self.widget.dispose()"
   ],
   "metadata": {
    "collapsed": false
   }
  },
  {
   "cell_type": "code",
   "execution_count": 15,
   "outputs": [
    {
     "ename": "NameError",
     "evalue": "name 'mylib' is not defined",
     "output_type": "error",
     "traceback": [
      "\u001B[1;31m---------------------------------------------------------------------------\u001B[0m",
      "\u001B[1;31mNameError\u001B[0m                                 Traceback (most recent call last)",
      "Cell \u001B[1;32mIn [15], line 1\u001B[0m\n\u001B[1;32m----> 1\u001B[0m \u001B[38;5;28;43;01mclass\u001B[39;49;00m\u001B[43m \u001B[49m\u001B[38;5;21;43;01mMyTestCase\u001B[39;49;00m\u001B[43m(\u001B[49m\u001B[43munittest\u001B[49m\u001B[38;5;241;43m.\u001B[39;49m\u001B[43mTestCase\u001B[49m\u001B[43m)\u001B[49m\u001B[43m:\u001B[49m\n\u001B[0;32m      3\u001B[0m \u001B[43m    \u001B[49m\u001B[38;5;129;43m@unittest\u001B[39;49m\u001B[38;5;241;43m.\u001B[39;49m\u001B[43mskip\u001B[49m\u001B[43m(\u001B[49m\u001B[38;5;124;43m\"\u001B[39;49m\u001B[38;5;124;43mdemonstrating skipping\u001B[39;49m\u001B[38;5;124;43m\"\u001B[39;49m\u001B[43m)\u001B[49m\n\u001B[0;32m      4\u001B[0m \u001B[43m    \u001B[49m\u001B[38;5;28;43;01mdef\u001B[39;49;00m\u001B[43m \u001B[49m\u001B[38;5;21;43mtest_nothing\u001B[39;49m\u001B[43m(\u001B[49m\u001B[38;5;28;43mself\u001B[39;49m\u001B[43m)\u001B[49m\u001B[43m:\u001B[49m\n\u001B[0;32m      5\u001B[0m \u001B[43m        \u001B[49m\u001B[38;5;28;43mself\u001B[39;49m\u001B[38;5;241;43m.\u001B[39;49m\u001B[43mfail\u001B[49m\u001B[43m(\u001B[49m\u001B[38;5;124;43m\"\u001B[39;49m\u001B[38;5;124;43mshouldn\u001B[39;49m\u001B[38;5;124;43m'\u001B[39;49m\u001B[38;5;124;43mt happen\u001B[39;49m\u001B[38;5;124;43m\"\u001B[39;49m\u001B[43m)\u001B[49m\n",
      "Cell \u001B[1;32mIn [15], line 7\u001B[0m, in \u001B[0;36mMyTestCase\u001B[1;34m()\u001B[0m\n\u001B[0;32m      3\u001B[0m \u001B[38;5;129m@unittest\u001B[39m\u001B[38;5;241m.\u001B[39mskip(\u001B[38;5;124m\"\u001B[39m\u001B[38;5;124mdemonstrating skipping\u001B[39m\u001B[38;5;124m\"\u001B[39m)\n\u001B[0;32m      4\u001B[0m \u001B[38;5;28;01mdef\u001B[39;00m \u001B[38;5;21mtest_nothing\u001B[39m(\u001B[38;5;28mself\u001B[39m):\n\u001B[0;32m      5\u001B[0m     \u001B[38;5;28mself\u001B[39m\u001B[38;5;241m.\u001B[39mfail(\u001B[38;5;124m\"\u001B[39m\u001B[38;5;124mshouldn\u001B[39m\u001B[38;5;124m'\u001B[39m\u001B[38;5;124mt happen\u001B[39m\u001B[38;5;124m\"\u001B[39m)\n\u001B[1;32m----> 7\u001B[0m \u001B[38;5;129m@unittest\u001B[39m\u001B[38;5;241m.\u001B[39mskipIf(\u001B[43mmylib\u001B[49m\u001B[38;5;241m.\u001B[39m__version__ \u001B[38;5;241m<\u001B[39m (\u001B[38;5;241m1\u001B[39m, \u001B[38;5;241m3\u001B[39m),\n\u001B[0;32m      8\u001B[0m                  \u001B[38;5;124m\"\u001B[39m\u001B[38;5;124mnot supported in this library version\u001B[39m\u001B[38;5;124m\"\u001B[39m)\n\u001B[0;32m      9\u001B[0m \u001B[38;5;28;01mdef\u001B[39;00m \u001B[38;5;21mtest_format\u001B[39m(\u001B[38;5;28mself\u001B[39m):\n\u001B[0;32m     10\u001B[0m     \u001B[38;5;66;03m# Tests that work for only a certain version of the library.\u001B[39;00m\n\u001B[0;32m     11\u001B[0m     \u001B[38;5;28;01mpass\u001B[39;00m\n\u001B[0;32m     13\u001B[0m \u001B[38;5;129m@unittest\u001B[39m\u001B[38;5;241m.\u001B[39mskipUnless(sys\u001B[38;5;241m.\u001B[39mplatform\u001B[38;5;241m.\u001B[39mstartswith(\u001B[38;5;124m\"\u001B[39m\u001B[38;5;124mwin\u001B[39m\u001B[38;5;124m\"\u001B[39m), \u001B[38;5;124m\"\u001B[39m\u001B[38;5;124mrequires Windows\u001B[39m\u001B[38;5;124m\"\u001B[39m)\n\u001B[0;32m     14\u001B[0m \u001B[38;5;28;01mdef\u001B[39;00m \u001B[38;5;21mtest_windows_support\u001B[39m(\u001B[38;5;28mself\u001B[39m):\n\u001B[0;32m     15\u001B[0m     \u001B[38;5;66;03m# windows specific testing code\u001B[39;00m\n",
      "\u001B[1;31mNameError\u001B[0m: name 'mylib' is not defined"
     ]
    }
   ],
   "source": [
    "class MyTestCase(unittest.TestCase):\n",
    "\n",
    "    @unittest.skip(\"demonstrating skipping\")\n",
    "    def test_nothing(self):\n",
    "        self.fail(\"shouldn't happen\")\n",
    "\n",
    "    @unittest.skipIf(mylib.__version__ < (1, 3),\n",
    "                     \"not supported in this library version\")\n",
    "    def test_format(self):\n",
    "        # Tests that work for only a certain version of the library.\n",
    "        pass\n",
    "\n",
    "    @unittest.skipUnless(sys.platform.startswith(\"win\"), \"requires Windows\")\n",
    "    def test_windows_support(self):\n",
    "        # windows specific testing code\n",
    "        pass\n",
    "\n",
    "    def test_maybe_skipped(self):\n",
    "        if not external_resource_available():\n",
    "            self.skipTest(\"external resource not available\")\n",
    "        # test code that depends on the external resource\n",
    "        pass"
   ],
   "metadata": {
    "collapsed": false
   }
  },
  {
   "cell_type": "markdown",
   "source": [
    "https://www.jetbrains.com/help/pycharm/testing-your-first-python-application.html"
   ],
   "metadata": {
    "collapsed": false
   }
  },
  {
   "cell_type": "markdown",
   "source": [
    "## pytest\n",
    "\n",
    "https://docs.pytest.org/en/6.2.x/contents.html\n",
    "https://semaphoreci.com/community/tutorials/testing-python-applications-with-pytest"
   ],
   "metadata": {
    "collapsed": false
   }
  },
  {
   "cell_type": "code",
   "execution_count": 1,
   "outputs": [],
   "source": [
    "import pytest\n",
    "\n",
    "\n",
    "@pytest.fixture\n",
    "def error_fixture():\n",
    "    assert 0\n",
    "\n",
    "\n",
    "def test_ok():\n",
    "    print(\"ok\")\n",
    "\n",
    "\n",
    "def test_fail():\n",
    "    assert 0\n",
    "\n",
    "\n",
    "def test_error(error_fixture):\n",
    "    pass\n",
    "\n",
    "\n",
    "def test_skip():\n",
    "    pytest.skip(\"skipping this test\")\n",
    "\n",
    "\n",
    "def test_xfail():\n",
    "    pytest.xfail(\"xfailing this test\")\n",
    "\n",
    "\n",
    "@pytest.mark.xfail(reason=\"always xfail\")\n",
    "def test_xpass():\n",
    "    pass"
   ],
   "metadata": {
    "collapsed": false
   }
  },
  {
   "cell_type": "code",
   "execution_count": null,
   "outputs": [],
   "source": [
    "import pytest\n",
    "from wallet import Wallet, InsufficientAmount\n",
    "\n",
    "\n",
    "def test_default_initial_amount():\n",
    "    wallet = Wallet()\n",
    "    assert wallet.balance == 0\n",
    "\n",
    "def test_setting_initial_amount():\n",
    "    wallet = Wallet(100)\n",
    "    assert wallet.balance == 100\n",
    "\n",
    "def test_wallet_add_cash():\n",
    "    wallet = Wallet(10)\n",
    "    wallet.add_cash(90)\n",
    "    assert wallet.balance == 100\n",
    "\n",
    "def test_wallet_spend_cash():\n",
    "    wallet = Wallet(20)\n",
    "    wallet.spend_cash(10)\n",
    "    assert wallet.balance == 10\n",
    "\n",
    "def test_wallet_spend_cash_raises_exception_on_insufficient_amount():\n",
    "    wallet = Wallet()\n",
    "    with pytest.raises(InsufficientAmount):\n",
    "        wallet.spend_cash(100)"
   ],
   "metadata": {
    "collapsed": false
   }
  }
 ],
 "metadata": {
  "kernelspec": {
   "display_name": "Python 3",
   "language": "python",
   "name": "python3"
  },
  "language_info": {
   "codemirror_mode": {
    "name": "ipython",
    "version": 2
   },
   "file_extension": ".py",
   "mimetype": "text/x-python",
   "name": "python",
   "nbconvert_exporter": "python",
   "pygments_lexer": "ipython2",
   "version": "2.7.6"
  }
 },
 "nbformat": 4,
 "nbformat_minor": 0
}
