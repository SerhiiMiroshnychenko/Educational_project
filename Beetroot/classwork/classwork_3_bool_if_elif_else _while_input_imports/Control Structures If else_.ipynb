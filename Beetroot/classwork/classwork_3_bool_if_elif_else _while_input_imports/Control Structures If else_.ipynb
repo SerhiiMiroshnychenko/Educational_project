{
 "cells": [
  {
   "cell_type": "markdown",
   "metadata": {
    "pycharm": {
     "name": "#%% md\n"
    }
   },
   "source": [
    "All code samples before had sequential logic of execution, which means that each line of code was executed one after another. But sometimes we want our program to be more flexible and have a different logic depending on its state or passed inputs. In order to achieve this and control the flow of the program execution, we can use control structure `if/elif/else`"
   ]
  },
  {
   "cell_type": "code",
   "execution_count": null,
   "metadata": {
    "collapsed": false,
    "pycharm": {
     "name": "#%%\n"
    }
   },
   "outputs": [],
   "source": [
    "if condition:\n",
    "    do"
   ]
  },
  {
   "cell_type": "code",
   "execution_count": 7,
   "metadata": {
    "pycharm": {
     "name": "#%%\n"
    }
   },
   "outputs": [],
   "source": [
    "our_condition = 'yes'"
   ]
  },
  {
   "cell_type": "code",
   "execution_count": 1,
   "metadata": {
    "pycharm": {
     "name": "#%%\n"
    }
   },
   "outputs": [
    {
     "name": "stdout",
     "output_type": "stream",
     "text": [
      "I need to print \"yes\", because if statement evaluated to True\n"
     ]
    }
   ],
   "source": [
    "if True:\n",
    "    print('I need to print \"yes\", because if statement evaluated to True')"
   ]
  },
  {
   "cell_type": "code",
   "execution_count": 2,
   "metadata": {
    "pycharm": {
     "name": "#%%\n"
    }
   },
   "outputs": [],
   "source": [
    "our_condition = 'yse' # assign new value and try to re-run above example\n",
    "\n",
    "if False:\n",
    "    print('I need to print \"yes\", because if statement evaluated to True')"
   ]
  },
  {
   "cell_type": "code",
   "execution_count": null,
   "metadata": {
    "pycharm": {
     "name": "#%%\n"
    }
   },
   "outputs": [],
   "source": [
    "our_condition == 'no'"
   ]
  },
  {
   "cell_type": "code",
   "execution_count": 5,
   "metadata": {
    "collapsed": false,
    "pycharm": {
     "name": "#%%\n"
    }
   },
   "outputs": [],
   "source": [
    "if our_condition:\n",
    "    print('Ура')"
   ]
  },
  {
   "cell_type": "markdown",
   "metadata": {
    "pycharm": {
     "name": "#%% md\n"
    }
   },
   "source": [
    "As you can see, the if statement is evaluated to `False` ( \"no\" doesn't equal \"yes\"), thus our block of code hasn't been executed and nothing happened. But what if we want our program to deal with such cases (if statement evaluated to `False`)"
   ]
  },
  {
   "cell_type": "code",
   "execution_count": 8,
   "metadata": {
    "pycharm": {
     "name": "#%%\n"
    }
   },
   "outputs": [
    {
     "name": "stdout",
     "output_type": "stream",
     "text": [
      "I need to print \"yes\", because if statement evaluated to True\n"
     ]
    }
   ],
   "source": [
    "if our_condition == 'yes':\n",
    "    print('I need to print \"yes\", because if statement evaluated to True')\n",
    "else:\n",
    "    print('If statement evaluated to false')"
   ]
  },
  {
   "cell_type": "markdown",
   "metadata": {
    "pycharm": {
     "name": "#%% md\n"
    }
   },
   "source": [
    "We can group multiple `if` statements in one `if/else` using special `elif`. An `if … elif … elif …` sequence is a substitute for the switch or case statements found in other languages."
   ]
  },
  {
   "cell_type": "code",
   "execution_count": 9,
   "metadata": {
    "pycharm": {
     "name": "#%%\n"
    }
   },
   "outputs": [
    {
     "name": "stdout",
     "output_type": "stream",
     "text": [
      "I need to print \"no\", because if statement evaluated to False\n"
     ]
    }
   ],
   "source": [
    "our_condition = \"no\"\n",
    "if our_condition == 'yes':\n",
    "    print(f'I need to print \"{our_condition}\", because if statement evaluated to True')\n",
    "elif our_condition == 'no':\n",
    "    print()\n",
    "else:\n",
    "    print('If statement evaluated to false')"
   ]
  },
  {
   "cell_type": "markdown",
   "metadata": {
    "pycharm": {
     "name": "#%% md\n"
    }
   },
   "source": [
    "We can group as many `elif` statements as we want. Besides that, we should pay attention to the order of `if/elif` statements, because they are evaluated one by one, and if one is evaluated to `True`, the following suite is executed, and all the other statements are not checked."
   ]
  },
  {
   "cell_type": "code",
   "execution_count": 11,
   "metadata": {
    "pycharm": {
     "name": "#%%\n"
    }
   },
   "outputs": [
    {
     "name": "stdout",
     "output_type": "stream",
     "text": [
      "x < 7\n"
     ]
    }
   ],
   "source": [
    "x = 1\n",
    "if x > 2:\n",
    "    print('x > 2')\n",
    "elif x > 5:\n",
    "    print('x > 5')\n",
    "elif x < 7:\n",
    "    print('x < 7')\n",
    "elif x // 3 == 0:\n",
    "    print('x % 3 == 0')\n",
    "else:\n",
    "    print('All other cases')"
   ]
  },
  {
   "cell_type": "code",
   "execution_count": 13,
   "metadata": {
    "pycharm": {
     "name": "#%%\n"
    }
   },
   "outputs": [
    {
     "name": "stdout",
     "output_type": "stream",
     "text": [
      "2/4\n"
     ]
    }
   ],
   "source": [
    "x = 6\n",
    "if x < 2:\n",
    "    print('x < 2')\n",
    "elif x >= 5:\n",
    "    if x == 5:\n",
    "        print('got five')\n",
    "    else:\n",
    "        print('x > 5')\n",
    "elif x % 4 != 0:\n",
    "    if x % 4 == 1:\n",
    "        print('1/4')\n",
    "    elif x % 4 == 2:\n",
    "        print('2/4')\n",
    "    else:\n",
    "        print('3/4')\n",
    "elif x < 7:\n",
    "    print('x < 7')\n",
    "else:\n",
    "    print('All other cases')"
   ]
  },
  {
   "cell_type": "code",
   "execution_count": null,
   "metadata": {
    "collapsed": false,
    "pycharm": {
     "name": "#%%\n"
    }
   },
   "outputs": [],
   "source": []
  }
 ],
 "metadata": {
  "kernelspec": {
   "display_name": "Python 3",
   "language": "python",
   "name": "python3"
  },
  "language_info": {
   "codemirror_mode": {
    "name": "ipython",
    "version": 3
   },
   "file_extension": ".py",
   "mimetype": "text/x-python",
   "name": "python",
   "nbconvert_exporter": "python",
   "pygments_lexer": "ipython3",
   "version": "3.7.4"
  }
 },
 "nbformat": 4,
 "nbformat_minor": 2
}
