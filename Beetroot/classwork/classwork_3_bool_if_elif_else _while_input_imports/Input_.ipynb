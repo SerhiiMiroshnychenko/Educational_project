{
 "cells": [
  {
   "cell_type": "markdown",
   "metadata": {
    "pycharm": {
     "name": "#%% md\n"
    }
   },
   "source": [
    "## Input"
   ]
  },
  {
   "cell_type": "code",
   "execution_count": 1,
   "metadata": {
    "pycharm": {
     "name": "#%%\n"
    }
   },
   "outputs": [
    {
     "name": "stdout",
     "output_type": "stream",
     "text": [
      "Help on method raw_input in module ipykernel.kernelbase:\n",
      "\n",
      "raw_input(prompt='') method of ipykernel.ipkernel.IPythonKernel instance\n",
      "    Forward raw_input to frontends\n",
      "    \n",
      "    Raises\n",
      "    ------\n",
      "    StdinNotImplementedError if active frontend doesn't support stdin.\n",
      "\n"
     ]
    }
   ],
   "source": [
    "help(input)"
   ]
  },
  {
   "cell_type": "code",
   "execution_count": 2,
   "metadata": {
    "pycharm": {
     "name": "#%%\n"
    }
   },
   "outputs": [
    {
     "data": {
      "text/plain": [
       "'input'"
      ]
     },
     "execution_count": 2,
     "metadata": {},
     "output_type": "execute_result"
    }
   ],
   "source": [
    "input(\"Give me smt: \")"
   ]
  },
  {
   "cell_type": "code",
   "execution_count": 3,
   "metadata": {
    "pycharm": {
     "name": "#%%\n"
    }
   },
   "outputs": [
    {
     "name": "stdout",
     "output_type": "stream",
     "text": [
      "Give me smt: 123\n"
     ]
    }
   ],
   "source": [
    "s = input(\"Give me smt: \")"
   ]
  },
  {
   "cell_type": "code",
   "execution_count": 4,
   "metadata": {
    "pycharm": {
     "name": "#%%\n"
    }
   },
   "outputs": [
    {
     "data": {
      "text/plain": [
       "'123'"
      ]
     },
     "execution_count": 4,
     "metadata": {},
     "output_type": "execute_result"
    }
   ],
   "source": [
    "s = 3\n",
    "b = s"
   ]
  },
  {
   "cell_type": "code",
   "execution_count": 5,
   "metadata": {
    "pycharm": {
     "name": "#%%\n"
    }
   },
   "outputs": [
    {
     "data": {
      "text/plain": [
       "str"
      ]
     },
     "execution_count": 5,
     "metadata": {},
     "output_type": "execute_result"
    }
   ],
   "source": [
    "type(s)"
   ]
  },
  {
   "cell_type": "code",
   "execution_count": 6,
   "metadata": {
    "pycharm": {
     "name": "#%%\n"
    }
   },
   "outputs": [
    {
     "name": "stdout",
     "output_type": "stream",
     "text": [
      "Give me some int pls: 123\n"
     ]
    }
   ],
   "source": [
    "num = input(\"Give me some int pls: \")"
   ]
  },
  {
   "cell_type": "code",
   "execution_count": 9,
   "metadata": {
    "pycharm": {
     "name": "#%%\n"
    }
   },
   "outputs": [
    {
     "name": "stdout",
     "output_type": "stream",
     "text": [
      "123\n",
      "<class 'str'>\n"
     ]
    }
   ],
   "source": [
    "print(num)\n",
    "print(type(num))"
   ]
  },
  {
   "cell_type": "code",
   "execution_count": 3,
   "metadata": {
    "collapsed": false,
    "pycharm": {
     "name": "#%%\n"
    }
   },
   "outputs": [
    {
     "name": "stdout",
     "output_type": "stream",
     "text": [
      "123\n",
      "<class 'int'>\n",
      "Thank you\n"
     ]
    }
   ],
   "source": [
    "num = int(input(\"Give me some int pls: \"))\n",
    "print(num)\n",
    "print(type(num))\n",
    "if isinstance(num, int):\n",
    "    print('Thank you')"
   ]
  },
  {
   "cell_type": "code",
   "execution_count": null,
   "metadata": {
    "collapsed": false,
    "pycharm": {
     "name": "#%%\n"
    }
   },
   "outputs": [],
   "source": [
    "animal = 'cat'\n",
    "def print_animal():\n",
    "    print('Local', animal)\n",
    "print_animal()\n",
    "print('Global', animal)"
   ]
  },
  {
   "cell_type": "code",
   "execution_count": 8,
   "metadata": {
    "collapsed": false,
    "pycharm": {
     "name": "#%%\n"
    }
   },
   "outputs": [
    {
     "name": "stdout",
     "output_type": "stream",
     "text": [
      "kangaroo\n",
      "inside change_and_print_global: giraffe\n",
      "kangaroo\n"
     ]
    }
   ],
   "source": [
    "animal = 'kangaroo'\n",
    "def change_and_print_global():\n",
    "    global animal\n",
    "    animal = 'giraffe'\n",
    "    print('inside change_and_print_global:', animal)\n",
    "print(animal)\n",
    "change_and_print_global()\n",
    "print(animal)"
   ]
  },
  {
   "cell_type": "code",
   "execution_count": 9,
   "metadata": {
    "collapsed": false,
    "pycharm": {
     "name": "#%%\n"
    }
   },
   "outputs": [
    {
     "data": {
      "text/plain": [
       "{'__name__': '__main__',\n",
       " '__doc__': 'Automatically created module for IPython interactive environment',\n",
       " '__package__': None,\n",
       " '__loader__': None,\n",
       " '__spec__': None,\n",
       " '__builtin__': <module 'builtins' (built-in)>,\n",
       " '__builtins__': <module 'builtins' (built-in)>,\n",
       " '_ih': ['',\n",
       "  'help(input)',\n",
       "  'input(\"Give me smt: \")',\n",
       "  'num = int(input(\"Give me some int pls: \"))\\nprint(num)\\nprint(type(num))\\nif isinstance(num, int):\\n    print(\\'Thank you\\')',\n",
       "  \"animal = 'cat'\\ndef print_animal():\\n    animal = 'dog'\\n    print('Local', animal)\\nprint_animal()\\nprint('Global', animal)\",\n",
       "  \"animal = 'cat'\\ndef print_animal():\\n    print('Local', animal)\\nprint_animal()\\nprint('Global', animal)\",\n",
       "  \"animal = 'cat'\\ndef print_animal():\\n    print('Local', animal)\\nprint_animal()\\nprint('Global', animal)\",\n",
       "  \"animal = 'kangaroo'\\ndef change_and_print_global():\\n    global animal\\n    animal = 'giraffe'\\n    print('inside change_and_print_global:', animal)\\nprint(animal) \\nchange_and_print_global() \\nprint(animal) \",\n",
       "  \"animal = 'kangaroo'\\ndef change_and_print_global():\\n    # global animal\\n    animal = 'giraffe'\\n    print('inside change_and_print_global:', animal)\\nprint(animal)\\nchange_and_print_global()\\nprint(animal)\",\n",
       "  'locals()'],\n",
       " '_oh': {2: 'input'},\n",
       " '_dh': [WindowsPath('D:/Beetroot_Python/lesson4_input_import')],\n",
       " 'In': ['',\n",
       "  'help(input)',\n",
       "  'input(\"Give me smt: \")',\n",
       "  'num = int(input(\"Give me some int pls: \"))\\nprint(num)\\nprint(type(num))\\nif isinstance(num, int):\\n    print(\\'Thank you\\')',\n",
       "  \"animal = 'cat'\\ndef print_animal():\\n    animal = 'dog'\\n    print('Local', animal)\\nprint_animal()\\nprint('Global', animal)\",\n",
       "  \"animal = 'cat'\\ndef print_animal():\\n    print('Local', animal)\\nprint_animal()\\nprint('Global', animal)\",\n",
       "  \"animal = 'cat'\\ndef print_animal():\\n    print('Local', animal)\\nprint_animal()\\nprint('Global', animal)\",\n",
       "  \"animal = 'kangaroo'\\ndef change_and_print_global():\\n    global animal\\n    animal = 'giraffe'\\n    print('inside change_and_print_global:', animal)\\nprint(animal) \\nchange_and_print_global() \\nprint(animal) \",\n",
       "  \"animal = 'kangaroo'\\ndef change_and_print_global():\\n    # global animal\\n    animal = 'giraffe'\\n    print('inside change_and_print_global:', animal)\\nprint(animal)\\nchange_and_print_global()\\nprint(animal)\",\n",
       "  'locals()'],\n",
       " 'Out': {2: 'input'},\n",
       " 'get_ipython': <bound method InteractiveShell.get_ipython of <ipykernel.zmqshell.ZMQInteractiveShell object at 0x000001EE8A1B6AF0>>,\n",
       " 'exit': <IPython.core.autocall.ZMQExitAutocall at 0x1ee8a1c4340>,\n",
       " 'quit': <IPython.core.autocall.ZMQExitAutocall at 0x1ee8a1c4340>,\n",
       " '_': 'input',\n",
       " '__': '',\n",
       " '___': '',\n",
       " '_i': \"animal = 'kangaroo'\\ndef change_and_print_global():\\n    # global animal\\n    animal = 'giraffe'\\n    print('inside change_and_print_global:', animal)\\nprint(animal)\\nchange_and_print_global()\\nprint(animal)\",\n",
       " '_ii': \"animal = 'kangaroo'\\ndef change_and_print_global():\\n    global animal\\n    animal = 'giraffe'\\n    print('inside change_and_print_global:', animal)\\nprint(animal) \\nchange_and_print_global() \\nprint(animal) \",\n",
       " '_iii': \"animal = 'cat'\\ndef print_animal():\\n    print('Local', animal)\\nprint_animal()\\nprint('Global', animal)\",\n",
       " '_i1': 'help(input)',\n",
       " 'sys': <module 'sys' (built-in)>,\n",
       " 'remove_imported_pydev_package': <function pydev_jupyter_utils.remove_imported_pydev_package()>,\n",
       " '_pydevd_bundle': <module '_pydevd_bundle' from 'D:\\\\Programs\\\\PyCharm 2022.1.3\\\\plugins\\\\python\\\\helpers\\\\pydev\\\\_pydevd_bundle\\\\__init__.py'>,\n",
       " 'pydev_jupyter_vars': <module 'pydev_jupyter_vars' from 'D:\\\\Programs\\\\PyCharm 2022.1.3\\\\plugins\\\\python\\\\helpers-pro\\\\jupyter_debug\\\\pydev_jupyter_vars.py'>,\n",
       " '_i2': 'input(\"Give me smt: \")',\n",
       " '_2': 'input',\n",
       " '_i3': 'num = int(input(\"Give me some int pls: \"))\\nprint(num)\\nprint(type(num))\\nif isinstance(num, int):\\n    print(\\'Thank you\\')',\n",
       " 'num': 123,\n",
       " '_i4': \"animal = 'cat'\\ndef print_animal():\\n    animal = 'dog'\\n    print('Local', animal)\\nprint_animal()\\nprint('Global', animal)\",\n",
       " 'animal': 'kangaroo',\n",
       " 'print_animal': <function __main__.print_animal()>,\n",
       " '_i5': \"animal = 'cat'\\ndef print_animal():\\n    print('Local', animal)\\nprint_animal()\\nprint('Global', animal)\",\n",
       " '_i6': \"animal = 'cat'\\ndef print_animal():\\n    print('Local', animal)\\nprint_animal()\\nprint('Global', animal)\",\n",
       " '_i7': \"animal = 'kangaroo'\\ndef change_and_print_global():\\n    global animal\\n    animal = 'giraffe'\\n    print('inside change_and_print_global:', animal)\\nprint(animal) \\nchange_and_print_global() \\nprint(animal) \",\n",
       " 'change_and_print_global': <function __main__.change_and_print_global()>,\n",
       " '_i8': \"animal = 'kangaroo'\\ndef change_and_print_global():\\n    # global animal\\n    animal = 'giraffe'\\n    print('inside change_and_print_global:', animal)\\nprint(animal)\\nchange_and_print_global()\\nprint(animal)\",\n",
       " '_i9': 'locals()'}"
      ]
     },
     "execution_count": 9,
     "metadata": {},
     "output_type": "execute_result"
    }
   ],
   "source": [
    "locals()"
   ]
  },
  {
   "cell_type": "code",
   "execution_count": 10,
   "metadata": {
    "collapsed": false,
    "pycharm": {
     "name": "#%%\n"
    }
   },
   "outputs": [
    {
     "data": {
      "text/plain": [
       "{'__name__': '__main__',\n",
       " '__doc__': 'Automatically created module for IPython interactive environment',\n",
       " '__package__': None,\n",
       " '__loader__': None,\n",
       " '__spec__': None,\n",
       " '__builtin__': <module 'builtins' (built-in)>,\n",
       " '__builtins__': <module 'builtins' (built-in)>,\n",
       " '_ih': ['',\n",
       "  'help(input)',\n",
       "  'input(\"Give me smt: \")',\n",
       "  'num = int(input(\"Give me some int pls: \"))\\nprint(num)\\nprint(type(num))\\nif isinstance(num, int):\\n    print(\\'Thank you\\')',\n",
       "  \"animal = 'cat'\\ndef print_animal():\\n    animal = 'dog'\\n    print('Local', animal)\\nprint_animal()\\nprint('Global', animal)\",\n",
       "  \"animal = 'cat'\\ndef print_animal():\\n    print('Local', animal)\\nprint_animal()\\nprint('Global', animal)\",\n",
       "  \"animal = 'cat'\\ndef print_animal():\\n    print('Local', animal)\\nprint_animal()\\nprint('Global', animal)\",\n",
       "  \"animal = 'kangaroo'\\ndef change_and_print_global():\\n    global animal\\n    animal = 'giraffe'\\n    print('inside change_and_print_global:', animal)\\nprint(animal) \\nchange_and_print_global() \\nprint(animal) \",\n",
       "  \"animal = 'kangaroo'\\ndef change_and_print_global():\\n    # global animal\\n    animal = 'giraffe'\\n    print('inside change_and_print_global:', animal)\\nprint(animal)\\nchange_and_print_global()\\nprint(animal)\",\n",
       "  'locals()',\n",
       "  'globals()'],\n",
       " '_oh': {2: 'input', 9: {...}},\n",
       " '_dh': [WindowsPath('D:/Beetroot_Python/lesson4_input_import')],\n",
       " 'In': ['',\n",
       "  'help(input)',\n",
       "  'input(\"Give me smt: \")',\n",
       "  'num = int(input(\"Give me some int pls: \"))\\nprint(num)\\nprint(type(num))\\nif isinstance(num, int):\\n    print(\\'Thank you\\')',\n",
       "  \"animal = 'cat'\\ndef print_animal():\\n    animal = 'dog'\\n    print('Local', animal)\\nprint_animal()\\nprint('Global', animal)\",\n",
       "  \"animal = 'cat'\\ndef print_animal():\\n    print('Local', animal)\\nprint_animal()\\nprint('Global', animal)\",\n",
       "  \"animal = 'cat'\\ndef print_animal():\\n    print('Local', animal)\\nprint_animal()\\nprint('Global', animal)\",\n",
       "  \"animal = 'kangaroo'\\ndef change_and_print_global():\\n    global animal\\n    animal = 'giraffe'\\n    print('inside change_and_print_global:', animal)\\nprint(animal) \\nchange_and_print_global() \\nprint(animal) \",\n",
       "  \"animal = 'kangaroo'\\ndef change_and_print_global():\\n    # global animal\\n    animal = 'giraffe'\\n    print('inside change_and_print_global:', animal)\\nprint(animal)\\nchange_and_print_global()\\nprint(animal)\",\n",
       "  'locals()',\n",
       "  'globals()'],\n",
       " 'Out': {2: 'input', 9: {...}},\n",
       " 'get_ipython': <bound method InteractiveShell.get_ipython of <ipykernel.zmqshell.ZMQInteractiveShell object at 0x000001EE8A1B6AF0>>,\n",
       " 'exit': <IPython.core.autocall.ZMQExitAutocall at 0x1ee8a1c4340>,\n",
       " 'quit': <IPython.core.autocall.ZMQExitAutocall at 0x1ee8a1c4340>,\n",
       " '_': {...},\n",
       " '__': 'input',\n",
       " '___': '',\n",
       " '_i': 'locals()',\n",
       " '_ii': \"animal = 'kangaroo'\\ndef change_and_print_global():\\n    # global animal\\n    animal = 'giraffe'\\n    print('inside change_and_print_global:', animal)\\nprint(animal)\\nchange_and_print_global()\\nprint(animal)\",\n",
       " '_iii': \"animal = 'kangaroo'\\ndef change_and_print_global():\\n    global animal\\n    animal = 'giraffe'\\n    print('inside change_and_print_global:', animal)\\nprint(animal) \\nchange_and_print_global() \\nprint(animal) \",\n",
       " '_i1': 'help(input)',\n",
       " 'sys': <module 'sys' (built-in)>,\n",
       " 'remove_imported_pydev_package': <function pydev_jupyter_utils.remove_imported_pydev_package()>,\n",
       " '_pydevd_bundle': <module '_pydevd_bundle' from 'D:\\\\Programs\\\\PyCharm 2022.1.3\\\\plugins\\\\python\\\\helpers\\\\pydev\\\\_pydevd_bundle\\\\__init__.py'>,\n",
       " 'pydev_jupyter_vars': <module 'pydev_jupyter_vars' from 'D:\\\\Programs\\\\PyCharm 2022.1.3\\\\plugins\\\\python\\\\helpers-pro\\\\jupyter_debug\\\\pydev_jupyter_vars.py'>,\n",
       " '_i2': 'input(\"Give me smt: \")',\n",
       " '_2': 'input',\n",
       " '_i3': 'num = int(input(\"Give me some int pls: \"))\\nprint(num)\\nprint(type(num))\\nif isinstance(num, int):\\n    print(\\'Thank you\\')',\n",
       " 'num': 123,\n",
       " '_i4': \"animal = 'cat'\\ndef print_animal():\\n    animal = 'dog'\\n    print('Local', animal)\\nprint_animal()\\nprint('Global', animal)\",\n",
       " 'animal': 'kangaroo',\n",
       " 'print_animal': <function __main__.print_animal()>,\n",
       " '_i5': \"animal = 'cat'\\ndef print_animal():\\n    print('Local', animal)\\nprint_animal()\\nprint('Global', animal)\",\n",
       " '_i6': \"animal = 'cat'\\ndef print_animal():\\n    print('Local', animal)\\nprint_animal()\\nprint('Global', animal)\",\n",
       " '_i7': \"animal = 'kangaroo'\\ndef change_and_print_global():\\n    global animal\\n    animal = 'giraffe'\\n    print('inside change_and_print_global:', animal)\\nprint(animal) \\nchange_and_print_global() \\nprint(animal) \",\n",
       " 'change_and_print_global': <function __main__.change_and_print_global()>,\n",
       " '_i8': \"animal = 'kangaroo'\\ndef change_and_print_global():\\n    # global animal\\n    animal = 'giraffe'\\n    print('inside change_and_print_global:', animal)\\nprint(animal)\\nchange_and_print_global()\\nprint(animal)\",\n",
       " '_i9': 'locals()',\n",
       " '_9': {...},\n",
       " '_i10': 'globals()'}"
      ]
     },
     "execution_count": 10,
     "metadata": {},
     "output_type": "execute_result"
    }
   ],
   "source": [
    "globals()"
   ]
  },
  {
   "cell_type": "code",
   "execution_count": 10,
   "metadata": {
    "collapsed": false,
    "pycharm": {
     "name": "#%%\n"
    }
   },
   "outputs": [
    {
     "ename": "TypeError",
     "evalue": "'str' object is not callable",
     "output_type": "error",
     "traceback": [
      "\u001b[1;31m---------------------------------------------------------------------------\u001b[0m",
      "\u001b[1;31mTypeError\u001b[0m                                 Traceback (most recent call last)",
      "Input \u001b[1;32mIn [10]\u001b[0m, in \u001b[0;36m<cell line: 2>\u001b[1;34m()\u001b[0m\n\u001b[0;32m      1\u001b[0m \u001b[38;5;28mlen\u001b[39m \u001b[38;5;241m=\u001b[39m \u001b[38;5;124m'\u001b[39m\u001b[38;5;124m1234\u001b[39m\u001b[38;5;124m'\u001b[39m\n\u001b[1;32m----> 2\u001b[0m \u001b[38;5;28;43mlen\u001b[39;49m\u001b[43m(\u001b[49m\u001b[38;5;124;43m'\u001b[39;49m\u001b[38;5;124;43m123\u001b[39;49m\u001b[38;5;124;43m'\u001b[39;49m\u001b[43m)\u001b[49m\n",
      "\u001b[1;31mTypeError\u001b[0m: 'str' object is not callable"
     ]
    }
   ],
   "source": [
    "len = '1234'\n",
    "len('123')"
   ]
  },
  {
   "cell_type": "code",
   "execution_count": 12,
   "metadata": {
    "collapsed": false,
    "pycharm": {
     "name": "#%%\n"
    }
   },
   "outputs": [
    {
     "name": "stdout",
     "output_type": "stream",
     "text": [
      "\n",
      "Welcome to Python 3.9's help utility!\n",
      "\n",
      "If this is your first time using Python, you should definitely check out\n",
      "the tutorial on the Internet at https://docs.python.org/3.9/tutorial/.\n",
      "\n",
      "Enter the name of any module, keyword, or topic to get help on writing\n",
      "Python programs and using Python modules.  To quit this help utility and\n",
      "return to the interpreter, just type \"quit\".\n",
      "\n",
      "To get a list of available modules, keywords, symbols, or topics, type\n",
      "\"modules\", \"keywords\", \"symbols\", or \"topics\".  Each module also comes\n",
      "with a one-line summary of what it does; to list the modules whose name\n",
      "or summary contain a given string such as \"spam\", type \"modules spam\".\n",
      "\n",
      "Help on method raw_input in module ipykernel.kernelbase:\n",
      "\n",
      "input = raw_input(prompt='') method of ipykernel.ipkernel.IPythonKernel instance\n",
      "    Forward raw_input to frontends\n",
      "    \n",
      "    Raises\n",
      "    ------\n",
      "    StdinNotImplementedError if active frontend doesn't support stdin.\n",
      "\n",
      "Help on class int in module builtins:\n",
      "\n",
      "class int(object)\n",
      " |  int([x]) -> integer\n",
      " |  int(x, base=10) -> integer\n",
      " |  \n",
      " |  Convert a number or string to an integer, or return 0 if no arguments\n",
      " |  are given.  If x is a number, return x.__int__().  For floating point\n",
      " |  numbers, this truncates towards zero.\n",
      " |  \n",
      " |  If x is not a number or if base is given, then x must be a string,\n",
      " |  bytes, or bytearray instance representing an integer literal in the\n",
      " |  given base.  The literal can be preceded by '+' or '-' and be surrounded\n",
      " |  by whitespace.  The base defaults to 10.  Valid bases are 0 and 2-36.\n",
      " |  Base 0 means to interpret the base from the string as an integer literal.\n",
      " |  >>> int('0b100', base=0)\n",
      " |  4\n",
      " |  \n",
      " |  Built-in subclasses:\n",
      " |      bool\n",
      " |  \n",
      " |  Methods defined here:\n",
      " |  \n",
      " |  __abs__(self, /)\n",
      " |      abs(self)\n",
      " |  \n",
      " |  __add__(self, value, /)\n",
      " |      Return self+value.\n",
      " |  \n",
      " |  __and__(self, value, /)\n",
      " |      Return self&value.\n",
      " |  \n",
      " |  __bool__(self, /)\n",
      " |      self != 0\n",
      " |  \n",
      " |  __ceil__(...)\n",
      " |      Ceiling of an Integral returns itself.\n",
      " |  \n",
      " |  __divmod__(self, value, /)\n",
      " |      Return divmod(self, value).\n",
      " |  \n",
      " |  __eq__(self, value, /)\n",
      " |      Return self==value.\n",
      " |  \n",
      " |  __float__(self, /)\n",
      " |      float(self)\n",
      " |  \n",
      " |  __floor__(...)\n",
      " |      Flooring an Integral returns itself.\n",
      " |  \n",
      " |  __floordiv__(self, value, /)\n",
      " |      Return self//value.\n",
      " |  \n",
      " |  __format__(self, format_spec, /)\n",
      " |      Default object formatter.\n",
      " |  \n",
      " |  __ge__(self, value, /)\n",
      " |      Return self>=value.\n",
      " |  \n",
      " |  __getattribute__(self, name, /)\n",
      " |      Return getattr(self, name).\n",
      " |  \n",
      " |  __getnewargs__(self, /)\n",
      " |  \n",
      " |  __gt__(self, value, /)\n",
      " |      Return self>value.\n",
      " |  \n",
      " |  __hash__(self, /)\n",
      " |      Return hash(self).\n",
      " |  \n",
      " |  __index__(self, /)\n",
      " |      Return self converted to an integer, if self is suitable for use as an index into a list.\n",
      " |  \n",
      " |  __int__(self, /)\n",
      " |      int(self)\n",
      " |  \n",
      " |  __invert__(self, /)\n",
      " |      ~self\n",
      " |  \n",
      " |  __le__(self, value, /)\n",
      " |      Return self<=value.\n",
      " |  \n",
      " |  __lshift__(self, value, /)\n",
      " |      Return self<<value.\n",
      " |  \n",
      " |  __lt__(self, value, /)\n",
      " |      Return self<value.\n",
      " |  \n",
      " |  __mod__(self, value, /)\n",
      " |      Return self%value.\n",
      " |  \n",
      " |  __mul__(self, value, /)\n",
      " |      Return self*value.\n",
      " |  \n",
      " |  __ne__(self, value, /)\n",
      " |      Return self!=value.\n",
      " |  \n",
      " |  __neg__(self, /)\n",
      " |      -self\n",
      " |  \n",
      " |  __or__(self, value, /)\n",
      " |      Return self|value.\n",
      " |  \n",
      " |  __pos__(self, /)\n",
      " |      +self\n",
      " |  \n",
      " |  __pow__(self, value, mod=None, /)\n",
      " |      Return pow(self, value, mod).\n",
      " |  \n",
      " |  __radd__(self, value, /)\n",
      " |      Return value+self.\n",
      " |  \n",
      " |  __rand__(self, value, /)\n",
      " |      Return value&self.\n",
      " |  \n",
      " |  __rdivmod__(self, value, /)\n",
      " |      Return divmod(value, self).\n",
      " |  \n",
      " |  __repr__(self, /)\n",
      " |      Return repr(self).\n",
      " |  \n",
      " |  __rfloordiv__(self, value, /)\n",
      " |      Return value//self.\n",
      " |  \n",
      " |  __rlshift__(self, value, /)\n",
      " |      Return value<<self.\n",
      " |  \n",
      " |  __rmod__(self, value, /)\n",
      " |      Return value%self.\n",
      " |  \n",
      " |  __rmul__(self, value, /)\n",
      " |      Return value*self.\n",
      " |  \n",
      " |  __ror__(self, value, /)\n",
      " |      Return value|self.\n",
      " |  \n",
      " |  __round__(...)\n",
      " |      Rounding an Integral returns itself.\n",
      " |      Rounding with an ndigits argument also returns an integer.\n",
      " |  \n",
      " |  __rpow__(self, value, mod=None, /)\n",
      " |      Return pow(value, self, mod).\n",
      " |  \n",
      " |  __rrshift__(self, value, /)\n",
      " |      Return value>>self.\n",
      " |  \n",
      " |  __rshift__(self, value, /)\n",
      " |      Return self>>value.\n",
      " |  \n",
      " |  __rsub__(self, value, /)\n",
      " |      Return value-self.\n",
      " |  \n",
      " |  __rtruediv__(self, value, /)\n",
      " |      Return value/self.\n",
      " |  \n",
      " |  __rxor__(self, value, /)\n",
      " |      Return value^self.\n",
      " |  \n",
      " |  __sizeof__(self, /)\n",
      " |      Returns size in memory, in bytes.\n",
      " |  \n",
      " |  __sub__(self, value, /)\n",
      " |      Return self-value.\n",
      " |  \n",
      " |  __truediv__(self, value, /)\n",
      " |      Return self/value.\n",
      " |  \n",
      " |  __trunc__(...)\n",
      " |      Truncating an Integral returns itself.\n",
      " |  \n",
      " |  __xor__(self, value, /)\n",
      " |      Return self^value.\n",
      " |  \n",
      " |  as_integer_ratio(self, /)\n",
      " |      Return integer ratio.\n",
      " |      \n",
      " |      Return a pair of integers, whose ratio is exactly equal to the original int\n",
      " |      and with a positive denominator.\n",
      " |      \n",
      " |      >>> (10).as_integer_ratio()\n",
      " |      (10, 1)\n",
      " |      >>> (-10).as_integer_ratio()\n",
      " |      (-10, 1)\n",
      " |      >>> (0).as_integer_ratio()\n",
      " |      (0, 1)\n",
      " |  \n",
      " |  bit_length(self, /)\n",
      " |      Number of bits necessary to represent self in binary.\n",
      " |      \n",
      " |      >>> bin(37)\n",
      " |      '0b100101'\n",
      " |      >>> (37).bit_length()\n",
      " |      6\n",
      " |  \n",
      " |  conjugate(...)\n",
      " |      Returns self, the complex conjugate of any int.\n",
      " |  \n",
      " |  to_bytes(self, /, length, byteorder, *, signed=False)\n",
      " |      Return an array of bytes representing an integer.\n",
      " |      \n",
      " |      length\n",
      " |        Length of bytes object to use.  An OverflowError is raised if the\n",
      " |        integer is not representable with the given number of bytes.\n",
      " |      byteorder\n",
      " |        The byte order used to represent the integer.  If byteorder is 'big',\n",
      " |        the most significant byte is at the beginning of the byte array.  If\n",
      " |        byteorder is 'little', the most significant byte is at the end of the\n",
      " |        byte array.  To request the native byte order of the host system, use\n",
      " |        `sys.byteorder' as the byte order value.\n",
      " |      signed\n",
      " |        Determines whether two's complement is used to represent the integer.\n",
      " |        If signed is False and a negative integer is given, an OverflowError\n",
      " |        is raised.\n",
      " |  \n",
      " |  ----------------------------------------------------------------------\n",
      " |  Class methods defined here:\n",
      " |  \n",
      " |  from_bytes(bytes, byteorder, *, signed=False) from builtins.type\n",
      " |      Return the integer represented by the given array of bytes.\n",
      " |      \n",
      " |      bytes\n",
      " |        Holds the array of bytes to convert.  The argument must either\n",
      " |        support the buffer protocol or be an iterable object producing bytes.\n",
      " |        Bytes and bytearray are examples of built-in objects that support the\n",
      " |        buffer protocol.\n",
      " |      byteorder\n",
      " |        The byte order used to represent the integer.  If byteorder is 'big',\n",
      " |        the most significant byte is at the beginning of the byte array.  If\n",
      " |        byteorder is 'little', the most significant byte is at the end of the\n",
      " |        byte array.  To request the native byte order of the host system, use\n",
      " |        `sys.byteorder' as the byte order value.\n",
      " |      signed\n",
      " |        Indicates whether two's complement is used to represent the integer.\n",
      " |  \n",
      " |  ----------------------------------------------------------------------\n",
      " |  Static methods defined here:\n",
      " |  \n",
      " |  __new__(*args, **kwargs) from builtins.type\n",
      " |      Create and return a new object.  See help(type) for accurate signature.\n",
      " |  \n",
      " |  ----------------------------------------------------------------------\n",
      " |  Data descriptors defined here:\n",
      " |  \n",
      " |  denominator\n",
      " |      the denominator of a rational number in lowest terms\n",
      " |  \n",
      " |  imag\n",
      " |      the imaginary part of a complex number\n",
      " |  \n",
      " |  numerator\n",
      " |      the numerator of a rational number in lowest terms\n",
      " |  \n",
      " |  real\n",
      " |      the real part of a complex number\n",
      "\n",
      "\n",
      "You are now leaving help and returning to the Python interpreter.\n",
      "If you want to ask for help on a particular object directly from the\n",
      "interpreter, you can type \"help(object)\".  Executing \"help('string')\"\n",
      "has the same effect as typing a particular string at the help> prompt.\n"
     ]
    }
   ],
   "source": [
    "help()"
   ]
  },
  {
   "cell_type": "code",
   "execution_count": 14,
   "metadata": {
    "collapsed": false,
    "pycharm": {
     "name": "#%%\n"
    }
   },
   "outputs": [
    {
     "data": {
      "text/plain": [
       "['ArithmeticError',\n",
       " 'AssertionError',\n",
       " 'AttributeError',\n",
       " 'BaseException',\n",
       " 'BlockingIOError',\n",
       " 'BrokenPipeError',\n",
       " 'BufferError',\n",
       " 'BytesWarning',\n",
       " 'ChildProcessError',\n",
       " 'ConnectionAbortedError',\n",
       " 'ConnectionError',\n",
       " 'ConnectionRefusedError',\n",
       " 'ConnectionResetError',\n",
       " 'DeprecationWarning',\n",
       " 'EOFError',\n",
       " 'Ellipsis',\n",
       " 'EnvironmentError',\n",
       " 'Exception',\n",
       " 'False',\n",
       " 'FileExistsError',\n",
       " 'FileNotFoundError',\n",
       " 'FloatingPointError',\n",
       " 'FutureWarning',\n",
       " 'GeneratorExit',\n",
       " 'IOError',\n",
       " 'ImportError',\n",
       " 'ImportWarning',\n",
       " 'IndentationError',\n",
       " 'IndexError',\n",
       " 'InterruptedError',\n",
       " 'IsADirectoryError',\n",
       " 'KeyError',\n",
       " 'KeyboardInterrupt',\n",
       " 'LookupError',\n",
       " 'MemoryError',\n",
       " 'ModuleNotFoundError',\n",
       " 'NameError',\n",
       " 'None',\n",
       " 'NotADirectoryError',\n",
       " 'NotImplemented',\n",
       " 'NotImplementedError',\n",
       " 'OSError',\n",
       " 'OverflowError',\n",
       " 'PendingDeprecationWarning',\n",
       " 'PermissionError',\n",
       " 'ProcessLookupError',\n",
       " 'RecursionError',\n",
       " 'ReferenceError',\n",
       " 'ResourceWarning',\n",
       " 'RuntimeError',\n",
       " 'RuntimeWarning',\n",
       " 'StopAsyncIteration',\n",
       " 'StopIteration',\n",
       " 'SyntaxError',\n",
       " 'SyntaxWarning',\n",
       " 'SystemError',\n",
       " 'SystemExit',\n",
       " 'TabError',\n",
       " 'TimeoutError',\n",
       " 'True',\n",
       " 'TypeError',\n",
       " 'UnboundLocalError',\n",
       " 'UnicodeDecodeError',\n",
       " 'UnicodeEncodeError',\n",
       " 'UnicodeError',\n",
       " 'UnicodeTranslateError',\n",
       " 'UnicodeWarning',\n",
       " 'UserWarning',\n",
       " 'ValueError',\n",
       " 'Warning',\n",
       " 'WindowsError',\n",
       " 'ZeroDivisionError',\n",
       " '__IPYTHON__',\n",
       " '__build_class__',\n",
       " '__debug__',\n",
       " '__doc__',\n",
       " '__import__',\n",
       " '__loader__',\n",
       " '__name__',\n",
       " '__package__',\n",
       " '__spec__',\n",
       " 'abs',\n",
       " 'all',\n",
       " 'any',\n",
       " 'ascii',\n",
       " 'bin',\n",
       " 'bool',\n",
       " 'breakpoint',\n",
       " 'bytearray',\n",
       " 'bytes',\n",
       " 'callable',\n",
       " 'chr',\n",
       " 'classmethod',\n",
       " 'compile',\n",
       " 'complex',\n",
       " 'copyright',\n",
       " 'credits',\n",
       " 'delattr',\n",
       " 'dict',\n",
       " 'dir',\n",
       " 'display',\n",
       " 'divmod',\n",
       " 'enumerate',\n",
       " 'eval',\n",
       " 'exec',\n",
       " 'execfile',\n",
       " 'filter',\n",
       " 'float',\n",
       " 'format',\n",
       " 'frozenset',\n",
       " 'get_ipython',\n",
       " 'getattr',\n",
       " 'globals',\n",
       " 'hasattr',\n",
       " 'hash',\n",
       " 'help',\n",
       " 'hex',\n",
       " 'id',\n",
       " 'input',\n",
       " 'int',\n",
       " 'isinstance',\n",
       " 'issubclass',\n",
       " 'iter',\n",
       " 'len',\n",
       " 'license',\n",
       " 'list',\n",
       " 'locals',\n",
       " 'map',\n",
       " 'max',\n",
       " 'memoryview',\n",
       " 'min',\n",
       " 'next',\n",
       " 'object',\n",
       " 'oct',\n",
       " 'open',\n",
       " 'ord',\n",
       " 'pow',\n",
       " 'print',\n",
       " 'property',\n",
       " 'range',\n",
       " 'repr',\n",
       " 'reversed',\n",
       " 'round',\n",
       " 'runfile',\n",
       " 'set',\n",
       " 'setattr',\n",
       " 'slice',\n",
       " 'sorted',\n",
       " 'staticmethod',\n",
       " 'str',\n",
       " 'sum',\n",
       " 'super',\n",
       " 'tuple',\n",
       " 'type',\n",
       " 'vars',\n",
       " 'zip']"
      ]
     },
     "execution_count": 14,
     "metadata": {},
     "output_type": "execute_result"
    }
   ],
   "source": [
    "dir(__builtins__)"
   ]
  },
  {
   "cell_type": "code",
   "execution_count": null,
   "metadata": {
    "collapsed": false,
    "pycharm": {
     "name": "#%%\n"
    }
   },
   "outputs": [],
   "source": [
    "import random\n",
    "\n",
    "def create():\n",
    "    random = 12345"
   ]
  }
 ],
 "metadata": {
  "kernelspec": {
   "display_name": "Python 3",
   "language": "python",
   "name": "python3"
  },
  "language_info": {
   "codemirror_mode": {
    "name": "ipython",
    "version": 3
   },
   "file_extension": ".py",
   "mimetype": "text/x-python",
   "name": "python",
   "nbconvert_exporter": "python",
   "pygments_lexer": "ipython3",
   "version": "3.7.4"
  }
 },
 "nbformat": 4,
 "nbformat_minor": 2
}
