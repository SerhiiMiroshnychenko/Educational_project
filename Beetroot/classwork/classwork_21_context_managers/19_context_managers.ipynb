{
 "cells": [
  {
   "cell_type": "markdown",
   "metadata": {},
   "source": [
    "A `context manager` is an object that defines the runtime context to be established when executing a with statement. The context manager handles the entry into, and the exit from, the desired runtime context for the execution of the block of code. Context managers are normally invoked using the with statement, but can also be used by directly invoking their methods (__enter__, __exit__).\n",
    "\n",
    "Typical uses of context managers include saving and restoring various kinds of global state, locking and unlocking resources, closing opened files, etc.\n"
   ]
  },
  {
   "cell_type": "code",
   "execution_count": 17,
   "outputs": [
    {
     "name": "stdout",
     "output_type": "stream",
     "text": [
      "Hello, Python!\n"
     ]
    }
   ],
   "source": [
    "# try:\n",
    "#     f = open('text.txt', 'r')\n",
    "#     print(f.read())\n",
    "# finally:\n",
    "#     f.close()\n",
    "\n",
    "with open('temp.txt', 'r') as f:\n",
    "    print(f.read())\n",
    "# f.read()/"
   ],
   "metadata": {
    "collapsed": false
   }
  },
  {
   "cell_type": "markdown",
   "metadata": {},
   "source": [
    "So, let's recap the with statement:\n",
    "\n",
    "- with_stmt ::=  \"with\" with_item (\",\" with_item)* \":\" suite\n",
    "- with_item ::=  expression [\"as\" target]"
   ]
  },
  {
   "cell_type": "markdown",
   "source": [
    "with A() as a:\n",
    "    suite"
   ],
   "metadata": {
    "collapsed": false
   }
  },
  {
   "cell_type": "markdown",
   "source": [
    "with A() as a:\n",
    "    with B() as b:\n",
    "        suite\n",
    "\n",
    "with connection() as con:\n",
    "    con.write()"
   ],
   "metadata": {
    "collapsed": false
   }
  },
  {
   "cell_type": "markdown",
   "metadata": {},
   "source": [
    "The execution of the `with` statement with one `item` proceeds as follows:\n",
    "\n",
    "1. The context expression (the expression given in the with_item) is evaluated to obtain a context manager.\n",
    "\n",
    "2. The context manager’s __exit__() is loaded for later use.\n",
    "\n",
    "3. The context manager’s __enter__() method is invoked.\n",
    "\n",
    "4. If a target was included in the with statement, the return value from __enter__() is assigned to it.\n",
    "\n",
    "*Note* The with statement guarantees that if the `enter()` method returns without an error, then `exit()` will always be called. Thus, if an error occurs during the assignment to the target list, it will be treated the same as an error occurring within the suite. See step 6 below.\n",
    "5. The suite is executed.\n",
    "\n",
    "6. The context manager’s __exit__() method is invoked. If an exception caused the suite to be exited, its type, value, and traceback are passed as arguments to __exit__(). Otherwise, three None arguments are supplied.\n",
    "\n",
    "If the suite was exited due to an exception, and the return value from the __exit__() method was false, the exception is reraised. If the return value was true, the exception is suppressed, and execution continues with the statement following the with statement.\n",
    "\n",
    "If the suite was exited for any reason other than an exception, the return value from __exit__() is ignored, and execution proceeds at the normal location for the kind of exit that was taken."
   ]
  },
  {
   "cell_type": "code",
   "execution_count": 18,
   "outputs": [],
   "source": [
    "with open('temp.txt', 'w') as f:\n",
    "    f.write('Hello, Python!')\n"
   ],
   "metadata": {
    "collapsed": false
   }
  },
  {
   "cell_type": "code",
   "execution_count": 19,
   "metadata": {},
   "outputs": [
    {
     "name": "stdout",
     "output_type": "stream",
     "text": [
      "Hello, Python!\n"
     ]
    }
   ],
   "source": [
    "with open('temp.txt', 'r') as f:\n",
    "    data = f.read()\n",
    "    print(data)"
   ]
  },
  {
   "cell_type": "code",
   "execution_count": 20,
   "metadata": {},
   "outputs": [
    {
     "data": {
      "text/plain": "True"
     },
     "execution_count": 20,
     "metadata": {},
     "output_type": "execute_result"
    }
   ],
   "source": [
    "f.closed"
   ]
  },
  {
   "cell_type": "markdown",
   "metadata": {},
   "source": [
    "## Implement class as context manager"
   ]
  },
  {
   "cell_type": "code",
   "execution_count": 21,
   "metadata": {},
   "outputs": [],
   "source": [
    "class ContextManager():\n",
    "    def __init__(self):\n",
    "        print('init method called')\n",
    "\n",
    "    def __enter__(self):\n",
    "        print('enter method called')\n",
    "        return self\n",
    "\n",
    "    def __exit__(self, exc_type, exc_value, exc_traceback):\n",
    "        print('exit method called')"
   ]
  },
  {
   "cell_type": "code",
   "execution_count": 22,
   "outputs": [
    {
     "name": "stdout",
     "output_type": "stream",
     "text": [
      "init method called\n",
      "enter method called\n",
      "with statement block\n",
      "exit method called\n"
     ]
    }
   ],
   "source": [
    "with ContextManager() as manager:\n",
    "    print('with statement block')"
   ],
   "metadata": {
    "collapsed": false
   }
  },
  {
   "cell_type": "code",
   "execution_count": 23,
   "outputs": [
    {
     "data": {
      "text/plain": "type"
     },
     "execution_count": 23,
     "metadata": {},
     "output_type": "execute_result"
    }
   ],
   "source": [
    "type(Exception)"
   ],
   "metadata": {
    "collapsed": false
   }
  },
  {
   "cell_type": "code",
   "execution_count": 41,
   "outputs": [],
   "source": [
    "class MyCounter:\n",
    "    counter = 0\n",
    "\n",
    "    @classmethod\n",
    "    def get_num_of_usage(cls):\n",
    "        return cls.counter\n",
    "\n",
    "\n",
    "    def __enter__(self):\n",
    "        MyCounter.counter += 1\n",
    "        return self\n",
    "\n",
    "\n",
    "    def __exit__(self, exc_type, exc_val, exc_tb):\n",
    "        print(f'Closing context, number of contexts is {self.counter}')\n",
    "        print(exc_type)\n",
    "        if issubclass(exc_type, Exception):\n",
    "            print(issubclass(exc_type, ValueError))\n",
    "            print(f'exc_type: {exc_type}')\n",
    "            print(f'exc_val: {exc_val}')\n",
    "            print(f'exc_tb: {exc_tb}')\n",
    "            print('handle')\n",
    "            return True\n",
    "        else:\n",
    "            print('Exit without exceptions.')\n",
    "            print(exc_type, exc_val, exc_tb)\n",
    "        return None"
   ],
   "metadata": {
    "collapsed": false
   }
  },
  {
   "cell_type": "code",
   "execution_count": 43,
   "metadata": {},
   "outputs": [
    {
     "name": "stdout",
     "output_type": "stream",
     "text": [
      "Inside context manager suite.\n",
      "Closing context, number of contexts is 2\n",
      "<class 'TypeError'>\n",
      "False\n",
      "exc_type: <class 'TypeError'>\n",
      "exc_val: exception raised\n",
      "exc_tb: <traceback object at 0x000001F8E6722B00>\n",
      "handle\n"
     ]
    }
   ],
   "source": [
    "with MyCounter() as counter:\n",
    "    print('Inside context manager suite.')\n",
    "    print('Call context manager instance method to get counter value:', counter.get_num_of_usage())\n",
    "    raise TypeError('exception raised').with_traceback(None)\n",
    "\n",
    "    # raise BaseException('exception raised').with_traceback(None)"
   ]
  },
  {
   "cell_type": "code",
   "execution_count": 44,
   "metadata": {},
   "outputs": [],
   "source": [
    "from contextlib import contextmanager"
   ]
  },
  {
   "cell_type": "code",
   "execution_count": 68,
   "metadata": {},
   "outputs": [],
   "source": [
    "counter_value = 0\n",
    "\n",
    "@contextmanager\n",
    "def conter_func():\n",
    "    global counter_value\n",
    "    counter_value += 1\n",
    "    print('Same as inside __enter__')\n",
    "    yield counter_value\n",
    "    print('Same as inside __exit__')\n",
    "    #counter_value = 0"
   ]
  },
  {
   "cell_type": "code",
   "execution_count": 71,
   "outputs": [
    {
     "name": "stdout",
     "output_type": "stream",
     "text": [
      "Same as inside __enter__\n",
      "Inside context manager suite.\n",
      "Call context manager instance method to get counter value: 3\n",
      "Same as inside __exit__\n"
     ]
    }
   ],
   "source": [
    "with conter_func() as counter:\n",
    "    print('Inside context manager suite.')\n",
    "    print('Call context manager instance method to get counter value:', counter)"
   ],
   "metadata": {
    "collapsed": false
   }
  },
  {
   "cell_type": "code",
   "execution_count": null,
   "outputs": [],
   "source": [
    "help(open)"
   ],
   "metadata": {
    "collapsed": false
   }
  },
  {
   "cell_type": "code",
   "execution_count": null,
   "outputs": [],
   "source": [],
   "metadata": {
    "collapsed": false
   }
  }
 ],
 "metadata": {
  "kernelspec": {
   "display_name": "Python 3",
   "language": "python",
   "name": "python3"
  },
  "language_info": {
   "codemirror_mode": {
    "name": "ipython",
    "version": 3
   },
   "file_extension": ".py",
   "mimetype": "text/x-python",
   "name": "python",
   "nbconvert_exporter": "python",
   "pygments_lexer": "ipython3",
   "version": "3.7.4"
  }
 },
 "nbformat": 4,
 "nbformat_minor": 2
}
