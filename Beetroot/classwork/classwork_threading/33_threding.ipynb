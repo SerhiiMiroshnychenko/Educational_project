{
 "cells": [
  {
   "cell_type": "code",
   "execution_count": 52,
   "metadata": {},
   "outputs": [],
   "source": [
    "import threading"
   ]
  },
  {
   "cell_type": "code",
   "execution_count": 53,
   "metadata": {},
   "outputs": [],
   "source": [
    "def test(name):\n",
    "    print(f'here {name}')"
   ]
  },
  {
   "cell_type": "code",
   "execution_count": 54,
   "metadata": {},
   "outputs": [
    {
     "name": "stdout",
     "output_type": "stream",
     "text": [
      "here 0\n",
      "here 1\n",
      "here 2\n",
      "here 3\n",
      "here 4\n"
     ]
    }
   ],
   "source": [
    "threads = []\n",
    "for i in range(5):\n",
    "    t = threading.Thread(target=test, args=(i,))\n",
    "    threads.append(t)\n",
    "    t.start()"
   ]
  },
  {
   "cell_type": "code",
   "execution_count": 55,
   "outputs": [
    {
     "data": {
      "text/plain": "[<Thread(Thread-184 (test), stopped 7732)>,\n <Thread(Thread-185 (test), stopped 15924)>,\n <Thread(Thread-186 (test), stopped 14772)>,\n <Thread(Thread-187 (test), stopped 16876)>,\n <Thread(Thread-188 (test), stopped 12776)>]"
     },
     "execution_count": 55,
     "metadata": {},
     "output_type": "execute_result"
    }
   ],
   "source": [
    "threads"
   ],
   "metadata": {
    "collapsed": false
   }
  },
  {
   "cell_type": "code",
   "execution_count": 56,
   "metadata": {},
   "outputs": [],
   "source": [
    "import time\n",
    "import random\n",
    "import logging"
   ]
  },
  {
   "cell_type": "code",
   "execution_count": 57,
   "metadata": {},
   "outputs": [
    {
     "name": "stdout",
     "output_type": "stream",
     "text": [
      "worker Starting\n",
      "worker2 Starting\n"
     ]
    }
   ],
   "source": [
    "def worker():\n",
    "    print(threading.current_thread().name, 'Starting')\n",
    "    time.sleep(random.random() * 5)\n",
    "    print('Inside worker')\n",
    "    print(threading.current_thread().name, 'Exiting')\n",
    "\n",
    "\n",
    "def worker2():\n",
    "    print(threading.current_thread().name, 'Starting')\n",
    "    time.sleep(random.random())\n",
    "    print('Inside worker 2')\n",
    "    print(threading.current_thread().name, 'Exiting')\n",
    "\n",
    "\n",
    "w = threading.Thread(name='worker', target=worker)\n",
    "w2 = threading.Thread(name='worker2', target=worker2)\n",
    "\n",
    "\n",
    "w.start()\n",
    "w2.start()\n"
   ]
  },
  {
   "cell_type": "markdown",
   "metadata": {},
   "source": [
    "A thread can be flagged as a “daemon thread”. The significance of this flag is that the entire Python program exits when only daemon threads are left."
   ]
  },
  {
   "cell_type": "code",
   "execution_count": 58,
   "metadata": {},
   "outputs": [
    {
     "name": "stdout",
     "output_type": "stream",
     "text": [
      "worker Starting\n",
      "worker2 Starting\n",
      "worker3 Starting\n"
     ]
    },
    {
     "name": "stderr",
     "output_type": "stream",
     "text": [
      "C:\\Users\\admin\\AppData\\Local\\Temp\\ipykernel_14556\\2245483205.py:2: DeprecationWarning: getName() is deprecated, get the name attribute instead\n",
      "  print(threading.current_thread().getName(), 'Starting')\n"
     ]
    }
   ],
   "source": [
    "def worker3():\n",
    "    print(threading.current_thread().getName(), 'Starting')\n",
    "    time.sleep(5)\n",
    "    print('Inside worker 2')\n",
    "    print(threading.current_thread().getName(), 'Exiting')\n",
    "\n",
    "w = threading.Thread(name='worker', target=worker)\n",
    "w2 = threading.Thread(name='worker2', target=worker2)\n",
    "w3 = threading.Thread(name='worker3', target=worker3, daemon=True)\n",
    "\n",
    "\n",
    "w.start()\n",
    "w2.start()\n",
    "w3.start()\n"
   ]
  },
  {
   "cell_type": "code",
   "execution_count": 59,
   "metadata": {},
   "outputs": [
    {
     "name": "stdout",
     "output_type": "stream",
     "text": [
      "Inside thread 1\n",
      "Inside thread 2\n",
      "OK\n",
      "OK2\n"
     ]
    }
   ],
   "source": [
    "def worker(name):\n",
    "    print(f'Inside thread {name}')\n",
    "    for x in range(10):\n",
    "        x ** 2\n",
    "        time.sleep(random.random())\n",
    "    print(f'Worker {name} finished')\n",
    "        \n",
    "w = threading.Thread(target=worker, args=(1,))\n",
    "w2 = threading.Thread(target=worker, args=(2,))\n",
    "w.start()\n",
    "w2.start()\n",
    "\n",
    "# w.join()\n",
    "print('OK')\n",
    "# w2.join()\n",
    "print('OK2')\n",
    "\n",
    "\n",
    "        "
   ]
  },
  {
   "cell_type": "code",
   "execution_count": 60,
   "metadata": {},
   "outputs": [
    {
     "name": "stdout",
     "output_type": "stream",
     "text": [
      "Inside thread 1\n",
      "Inside thread 2\n",
      "Inside worker 2\n",
      "worker2 Exiting\n",
      "Inside worker 2\n",
      "worker2 Exiting\n",
      "Inside worker\n",
      "worker Exiting\n",
      "Worker 1 finished\n",
      "Inside worker\n",
      "worker Exiting\n",
      "Worker 1 finished\n",
      "OK\n",
      "Worker 2 finished\n",
      "Inside worker 2\n",
      "worker3 Exiting\n"
     ]
    },
    {
     "name": "stderr",
     "output_type": "stream",
     "text": [
      "C:\\Users\\admin\\AppData\\Local\\Temp\\ipykernel_14556\\2245483205.py:5: DeprecationWarning: getName() is deprecated, get the name attribute instead\n",
      "  print(threading.current_thread().getName(), 'Exiting')\n"
     ]
    },
    {
     "name": "stdout",
     "output_type": "stream",
     "text": [
      "Worker 2 finished\n",
      "OK2\n"
     ]
    }
   ],
   "source": [
    "def worker(name):\n",
    "    print(f'Inside thread {name}')\n",
    "    for x in range(10):\n",
    "        x ** 2\n",
    "        time.sleep(random.random())\n",
    "    print(f'Worker {name} finished')\n",
    "\n",
    "w = threading.Thread(target=worker, args=(1,))\n",
    "w2 = threading.Thread(target=worker, args=(2,))\n",
    "w.start()\n",
    "w2.start()\n",
    "\n",
    "w.join()\n",
    "print('OK')\n",
    "w2.join()\n",
    "print('OK2')"
   ]
  },
  {
   "cell_type": "code",
   "execution_count": 61,
   "metadata": {},
   "outputs": [],
   "source": [
    "x = 0\n",
    "  \n",
    "def increment(): \n",
    "    global x\n",
    "    x += 1\n",
    "\n",
    "    \n",
    "def thread_task():\n",
    "    x = 0\n",
    "    for _ in range(1000000): \n",
    "        # increment()\n",
    "        x += 1\n",
    "    return x\n",
    "\n",
    "class ThreadWithReturnValue(threading.Thread):\n",
    "\n",
    "    def __init__(self, group=None, target=None, name=None, args=(), kwargs=None, Verbose=None):\n",
    "        if kwargs is None:\n",
    "            kwargs = {}\n",
    "        threading.Thread.__init__(self, group, target, name, args, kwargs)\n",
    "        self._return = None\n",
    "\n",
    "    def run(self):\n",
    "        if self._target is not None:\n",
    "            self._return = self._target(*self._args,\n",
    "                                                **self._kwargs)\n",
    "    def join(self, *args):\n",
    "        threading.Thread.join(self, *args)\n",
    "        return self._return\n",
    "        \n",
    "def main_task(): \n",
    "    global x \n",
    "    # setting global variable x as 0 \n",
    "    x = 0\n",
    "  \n",
    "    # creating threads \n",
    "    t1 = ThreadWithReturnValue(target=thread_task)\n",
    "    t2 = ThreadWithReturnValue(target=thread_task)\n",
    "  \n",
    "    # start threads \n",
    "    t1.start() \n",
    "    t2.start() \n",
    "    print(t1.join())\n",
    "    print(t2.join())\n",
    "    # wait until threads finish their job \n",
    "    # t1.join()\n",
    "    # t2.join()"
   ]
  },
  {
   "cell_type": "code",
   "execution_count": 62,
   "metadata": {},
   "outputs": [
    {
     "name": "stdout",
     "output_type": "stream",
     "text": [
      "1000000\n",
      "1000000\n",
      "Iteration 0: x = 0\n",
      "1000000\n",
      "1000000\n",
      "Iteration 1: x = 0\n",
      "1000000\n",
      "1000000\n",
      "Iteration 2: x = 0\n",
      "1000000\n",
      "1000000\n",
      "Iteration 3: x = 0\n",
      "1000000\n",
      "1000000\n",
      "Iteration 4: x = 0\n",
      "1000000\n",
      "1000000\n",
      "Iteration 5: x = 0\n",
      "1000000\n",
      "1000000\n",
      "Iteration 6: x = 0\n",
      "1000000\n",
      "1000000\n",
      "Iteration 7: x = 0\n",
      "1000000\n",
      "1000000\n",
      "Iteration 8: x = 0\n",
      "1000000\n",
      "1000000\n",
      "Iteration 9: x = 0\n"
     ]
    }
   ],
   "source": [
    "for i in range(10): \n",
    "    main_task()\n",
    "    print(f\"Iteration {i}: x = {x}\")"
   ]
  },
  {
   "cell_type": "code",
   "execution_count": 62,
   "outputs": [],
   "source": [],
   "metadata": {
    "collapsed": false
   }
  },
  {
   "cell_type": "code",
   "execution_count": 63,
   "metadata": {},
   "outputs": [],
   "source": [
    "x = 0\n",
    "  \n",
    "def thread_task(lock):\n",
    "    for _ in range(1000000):\n",
    "        lock.acquire()\n",
    "        increment()\n",
    "        lock.release()\n",
    "\n",
    "\n",
    "def main_task():\n",
    "    global x\n",
    "    lock = threading.RLock()\n",
    "    # setting global variable x as 0 \n",
    "    x = 0\n",
    "  \n",
    "    # creating threads \n",
    "    t1 = threading.Thread(target=thread_task, args=(lock,)) \n",
    "    t2 = threading.Thread(target=thread_task, args=(lock,)) \n",
    "  \n",
    "    # start threads \n",
    "    t1.start() \n",
    "    t2.start() \n",
    "  \n",
    "    # wait until threads finish their job \n",
    "    # t1.join()\n",
    "    # t2.join()"
   ]
  },
  {
   "cell_type": "code",
   "execution_count": 64,
   "metadata": {},
   "outputs": [
    {
     "name": "stdout",
     "output_type": "stream",
     "text": [
      "Iteration 0: x = 256296\n",
      "Iteration 1: x = 398091\n",
      "Iteration 2: x = 498079\n",
      "Iteration 3: x = 676999\n",
      "Iteration 4: x = 97341\n",
      "Iteration 5: x = 1346798\n",
      "Iteration 6: x = 276254\n",
      "Iteration 7: x = 142814\n",
      "Iteration 8: x = 1096982\n",
      "Iteration 9: x = 1516910\n"
     ]
    }
   ],
   "source": [
    "for i in range(10): \n",
    "    main_task()\n",
    "    print(f\"Iteration {i}: x = {x}\")"
   ]
  },
  {
   "cell_type": "code",
   "execution_count": 65,
   "metadata": {},
   "outputs": [
    {
     "name": "stdout",
     "output_type": "stream",
     "text": [
      "before first acquire\n",
      "before second acquire\n",
      "acquired lock twice\n"
     ]
    }
   ],
   "source": [
    "# l = threading.Lock()\n",
    "l = threading.RLock()\n",
    "print(\"before first acquire\")\n",
    "l.acquire()\n",
    "print(\"before second acquire\")\n",
    "l.acquire()\n",
    "print(\"acquired lock twice\")"
   ]
  },
  {
   "cell_type": "code",
   "execution_count": 73,
   "metadata": {},
   "outputs": [
    {
     "name": "stderr",
     "output_type": "stream",
     "text": [
      "(block     ) wait_for_event starting\n",
      "(nonblock  ) wait_for_event_timeout starting\n",
      "(MainThread) Waiting before calling Event.set()\n",
      "(MainThread) Event is set\n",
      "(block     ) event set: True\n",
      "(nonblock  ) event set: True\n",
      "(nonblock  ) processing event\n"
     ]
    }
   ],
   "source": [
    "import logging\n",
    "import time\n",
    "\n",
    "def wait_for_event(e):\n",
    "    \"\"\"Wait for the event to be set before doing anything\"\"\"\n",
    "    logging.debug('wait_for_event starting')\n",
    "    event_is_set = e.wait()\n",
    "    logging.debug('event set: %s', event_is_set)\n",
    "\n",
    "\n",
    "def wait_for_event_timeout(e, t):\n",
    "    \"\"\"Wait t seconds and then timeout\"\"\"\n",
    "    while not e.is_set():\n",
    "        logging.debug('wait_for_event_timeout starting')\n",
    "        event_is_set = e.wait(t)\n",
    "        logging.debug('event set: %s', event_is_set)\n",
    "        if event_is_set:\n",
    "            logging.debug('processing event')\n",
    "        else:\n",
    "            logging.debug('doing other work')\n",
    "\n",
    "\n",
    "logging.basicConfig(\n",
    "    level=logging.DEBUG,\n",
    "    format='(%(threadName)-10s) %(message)s',\n",
    ")\n",
    "\n",
    "e = threading.Event()\n",
    "t1 = threading.Thread(\n",
    "    name='block',\n",
    "    target=wait_for_event,\n",
    "    args=(e,),\n",
    ")\n",
    "t1.start()\n",
    "\n",
    "t2 = threading.Thread(\n",
    "    name='nonblock',\n",
    "    target=wait_for_event_timeout,\n",
    "    args=(e, 2),\n",
    ")\n",
    "t2.start()\n",
    "\n",
    "logging.debug('Waiting before calling Event.set()')\n",
    "time.sleep(0.3)\n",
    "e.set()\n",
    "logging.debug('Event is set')"
   ]
  },
  {
   "cell_type": "code",
   "execution_count": 67,
   "metadata": {},
   "outputs": [
    {
     "name": "stderr",
     "output_type": "stream",
     "text": [
      "(Thread-233) running\n",
      "(Thread-234) running\n",
      "(Thread-235) running\n",
      "(Thread-236) running\n",
      "(Thread-237) running\n"
     ]
    }
   ],
   "source": [
    "class MyThread(threading.Thread):\n",
    "\n",
    "    def run(self):\n",
    "        logging.debug('running')\n",
    "\n",
    "\n",
    "logging.basicConfig(\n",
    "    level=logging.DEBUG,\n",
    "    format='(%(threadName)-10s) %(message)s',\n",
    ")\n",
    "\n",
    "for i in range(5):\n",
    "    t = MyThread()\n",
    "    t.start()"
   ]
  },
  {
   "cell_type": "code",
   "execution_count": 68,
   "metadata": {},
   "outputs": [
    {
     "name": "stderr",
     "output_type": "stream",
     "text": [
      "(Thread-238) running with (0,) and {'a': 'A', 'b': 'B'}\n",
      "(Thread-239) running with (1,) and {'a': 'A', 'b': 'B'}\n",
      "(Thread-240) running with (2,) and {'a': 'A', 'b': 'B'}\n",
      "(Thread-241) running with (3,) and {'a': 'A', 'b': 'B'}\n",
      "(Thread-242) running with (4,) and {'a': 'A', 'b': 'B'}\n"
     ]
    }
   ],
   "source": [
    "class MyThreadWithArgs(threading.Thread):\n",
    "\n",
    "    def __init__(self, group=None, target=None, name=None,\n",
    "                 args=(), kwargs=None, *, daemon=None):\n",
    "        super().__init__(group=group, target=target, name=name,\n",
    "                         daemon=daemon)\n",
    "        self.args = args\n",
    "        self.kwargs = kwargs\n",
    "\n",
    "    def run(self):\n",
    "        logging.debug('running with %s and %s',\n",
    "                      self.args, self.kwargs)\n",
    "\n",
    "\n",
    "logging.basicConfig(\n",
    "    level=logging.DEBUG,\n",
    "    format='(%(threadName)-10s) %(message)s',\n",
    ")\n",
    "\n",
    "for i in range(5):\n",
    "    t = MyThreadWithArgs(args=(i,), kwargs={'a': 'A', 'b': 'B'})\n",
    "    t.start()"
   ]
  },
  {
   "cell_type": "code",
   "execution_count": 75,
   "outputs": [
    {
     "name": "stdout",
     "output_type": "stream",
     "text": [
      "The Factorial of 5 is: 120\n",
      "The Factorial of 9 is: 362880\n"
     ]
    }
   ],
   "source": [
    "from threading import *\n",
    "import time\n",
    "l=RLock()\n",
    "def factorial(n):\n",
    "   l.acquire()\n",
    "   if n==0:\n",
    "       result=1\n",
    "   else:\n",
    "       result=n*factorial(n-1)\n",
    "   l.release()\n",
    "   return result\n",
    "\n",
    "def results(n):\n",
    "   print(\"The Factorial of\", n, \"is:\", factorial(n))\n",
    "\n",
    "t1=Thread(target=results, args=(5,))\n",
    "t2=Thread(target=results, args=(9,))\n",
    "\n",
    "t1.start()\n",
    "t2.start()"
   ],
   "metadata": {
    "collapsed": false
   }
  },
  {
   "cell_type": "code",
   "execution_count": 76,
   "outputs": [
    {
     "name": "stdout",
     "output_type": "stream",
     "text": [
      "Hi Sireesh 15\n",
      "Hi Nitya 20\n",
      "Hi Shiva 16\n",
      "Hi Ajay 25\n"
     ]
    }
   ],
   "source": [
    "from threading import *\n",
    "import time\n",
    "s=Semaphore(2)\n",
    "def wish(name,age):\n",
    "  # for i in range(3):\n",
    "  s.acquire()\n",
    "  print(\"Hi\",name, age)\n",
    "  time.sleep(2)\n",
    "  s.release()\n",
    "t1=Thread(target=wish, args=(\"Sireesh\",15))\n",
    "t2=Thread(target=wish, args=(\"Nitya\",20))\n",
    "t3=Thread(target=wish, args=(\"Shiva\",16))\n",
    "t4=Thread(target=wish, args=(\"Ajay\",25))\n",
    "t1.start()\n",
    "t2.start()\n",
    "\n",
    "\n",
    "time.sleep(10)\n",
    "\n",
    "t3.start()\n",
    "t4.start()"
   ],
   "metadata": {
    "collapsed": false
   }
  },
  {
   "cell_type": "code",
   "execution_count": 70,
   "outputs": [],
   "source": [],
   "metadata": {
    "collapsed": false
   }
  }
 ],
 "metadata": {
  "kernelspec": {
   "display_name": "Python 3",
   "language": "python",
   "name": "python3"
  },
  "language_info": {
   "codemirror_mode": {
    "name": "ipython",
    "version": 3
   },
   "file_extension": ".py",
   "mimetype": "text/x-python",
   "name": "python",
   "nbconvert_exporter": "python",
   "pygments_lexer": "ipython3",
   "version": "3.7.4"
  }
 },
 "nbformat": 4,
 "nbformat_minor": 2
}
