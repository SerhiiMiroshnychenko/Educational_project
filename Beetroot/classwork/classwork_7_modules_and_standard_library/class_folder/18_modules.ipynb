{
 "cells": [
  {
   "cell_type": "markdown",
   "source": [
    "## sys.path and PYTHONPATH"
   ],
   "metadata": {
    "collapsed": false
   }
  },
  {
   "cell_type": "markdown",
   "source": [
    "A __module__ is a single .py file with Python code.\n",
    "A __package__ is a directory that can contains multiple Python modules."
   ],
   "metadata": {
    "collapsed": false
   }
  },
  {
   "cell_type": "code",
   "execution_count": 1,
   "metadata": {
    "collapsed": true
   },
   "outputs": [],
   "source": [
    "import sys"
   ]
  },
  {
   "cell_type": "markdown",
   "source": [
    "When you call import in the Python interpreter searches through a set of directories for the name provided. The list of directories that it searches is stored in sys.path and can be modified during run-time. To modify the paths before starting Python, you can modify the PYTHONPATH environment variable."
   ],
   "metadata": {
    "collapsed": false
   }
  },
  {
   "cell_type": "code",
   "execution_count": 15,
   "outputs": [
    {
     "data": {
      "text/plain": "['C:\\\\Program Files\\\\JetBrains\\\\PyCharm 2022.2.3\\\\plugins\\\\python\\\\helpers-pro\\\\jupyter_debug',\n 'C:\\\\Program Files\\\\JetBrains\\\\PyCharm 2022.2.3\\\\plugins\\\\python\\\\helpers\\\\pydev',\n 'D:\\\\Python\\\\Beetroot\\\\classwork\\\\classwork_7_modules_and_standard_library',\n 'D:\\\\Python\\\\Beetroot',\n 'C:\\\\Users\\\\admin\\\\AppData\\\\Local\\\\Programs\\\\Python\\\\Python311\\\\python311.zip',\n 'C:\\\\Users\\\\admin\\\\AppData\\\\Local\\\\Programs\\\\Python\\\\Python311\\\\DLLs',\n 'C:\\\\Users\\\\admin\\\\AppData\\\\Local\\\\Programs\\\\Python\\\\Python311\\\\Lib',\n 'C:\\\\Users\\\\admin\\\\AppData\\\\Local\\\\Programs\\\\Python\\\\Python311',\n 'D:\\\\Python\\\\Beetroot\\\\venv',\n '',\n 'D:\\\\Python\\\\Beetroot\\\\venv\\\\Lib\\\\site-packages',\n 'D:\\\\Python\\\\Beetroot\\\\venv\\\\Lib\\\\site-packages\\\\win32',\n 'D:\\\\Python\\\\Beetroot\\\\venv\\\\Lib\\\\site-packages\\\\win32\\\\lib',\n 'D:\\\\Python\\\\Beetroot\\\\venv\\\\Lib\\\\site-packages\\\\Pythonwin',\n 'C:/Users/Username/Desktop',\n 'C:/Users/Username/Desktop']"
     },
     "execution_count": 15,
     "metadata": {},
     "output_type": "execute_result"
    }
   ],
   "source": [
    "sys.path"
   ],
   "metadata": {
    "collapsed": false
   }
  },
  {
   "cell_type": "markdown",
   "source": [
    "## Initializing sys.path\n",
    "\n",
    "There are three ways to specify a path :\n",
    "__DEFAULT__ - By default, the interpreter looks for a module within the current directory. To make the interpreter search in some other directory you just simply have to change the current directory.\n",
    "__THROUGH ENVIRONMENT VARIABLES__ - An environment variable that contains the path an interpreter can take while looking for modules can be employed. Once set, it hints interpreter with directories to locate a module.\n",
    "__APPENDING PATH__ - append() is a built-in function of sys module that can be used with path variable to add a specific path for interpreter to search."
   ],
   "metadata": {
    "collapsed": false
   }
  },
  {
   "cell_type": "code",
   "execution_count": 16,
   "outputs": [
    {
     "data": {
      "text/plain": "['C:\\\\Program Files\\\\JetBrains\\\\PyCharm 2022.2.3\\\\plugins\\\\python\\\\helpers-pro\\\\jupyter_debug',\n 'C:\\\\Program Files\\\\JetBrains\\\\PyCharm 2022.2.3\\\\plugins\\\\python\\\\helpers\\\\pydev',\n 'D:\\\\Python\\\\Beetroot\\\\classwork\\\\classwork_7_modules_and_standard_library',\n 'D:\\\\Python\\\\Beetroot',\n 'C:\\\\Users\\\\admin\\\\AppData\\\\Local\\\\Programs\\\\Python\\\\Python311\\\\python311.zip',\n 'C:\\\\Users\\\\admin\\\\AppData\\\\Local\\\\Programs\\\\Python\\\\Python311\\\\DLLs',\n 'C:\\\\Users\\\\admin\\\\AppData\\\\Local\\\\Programs\\\\Python\\\\Python311\\\\Lib',\n 'C:\\\\Users\\\\admin\\\\AppData\\\\Local\\\\Programs\\\\Python\\\\Python311',\n 'D:\\\\Python\\\\Beetroot\\\\venv',\n '',\n 'D:\\\\Python\\\\Beetroot\\\\venv\\\\Lib\\\\site-packages',\n 'D:\\\\Python\\\\Beetroot\\\\venv\\\\Lib\\\\site-packages\\\\win32',\n 'D:\\\\Python\\\\Beetroot\\\\venv\\\\Lib\\\\site-packages\\\\win32\\\\lib',\n 'D:\\\\Python\\\\Beetroot\\\\venv\\\\Lib\\\\site-packages\\\\Pythonwin',\n 'C:/Users/Username/Desktop',\n 'C:/Users/Username/Desktop']"
     },
     "execution_count": 16,
     "metadata": {},
     "output_type": "execute_result"
    }
   ],
   "source": [
    "sys.path"
   ],
   "metadata": {
    "collapsed": false
   }
  },
  {
   "cell_type": "code",
   "execution_count": null,
   "outputs": [],
   "source": [
    "# PYTHONPATH=C:\\Users\\Username\\Desktop"
   ],
   "metadata": {
    "collapsed": false
   }
  },
  {
   "cell_type": "code",
   "execution_count": 5,
   "outputs": [],
   "source": [
    "sys.path.append('C:/Users/Username/Desktop')"
   ],
   "metadata": {
    "collapsed": false
   }
  },
  {
   "cell_type": "markdown",
   "source": [
    "So, the only reason to use PYTHONPATH variables is to maintain directories of custom Python libraries that are not installed in the site packages directory (the global default location).\n",
    "\n",
    "_https://www.simplilearn.com/tutorials/python-tutorial/python-path_\n",
    "set PYTHONPATH=C:\\pypath1\\;C:\\pypath2\\"
   ],
   "metadata": {
    "collapsed": false
   }
  },
  {
   "cell_type": "markdown",
   "source": [
    "# \\_\\_init\\_\\_.py and \\_\\_main\\_\\_.py"
   ],
   "metadata": {
    "collapsed": false
   }
  },
  {
   "cell_type": "markdown",
   "source": [
    "The difference between a module and a package in a moment, but the main idea is this:\n",
    "\n",
    "- When you import a package it runs the \\_\\_init\\_\\_.py file inside the package directory.\n",
    "- When you execute a package (e.g. python -m my_package) it executes the \\_\\_main\\_\\_.py file.\n",
    "- When you import a module it runs the entire file from top to bottom.\n",
    "- When you execute a module ir runs the entire file from top-to-bottom and sets the \\_\\_name\\_\\_ variable to the string \"\\_\\_main\\_\\_\"."
   ],
   "metadata": {
    "collapsed": false
   }
  },
  {
   "cell_type": "markdown",
   "source": [
    "In a package"
   ],
   "metadata": {
    "collapsed": false
   }
  },
  {
   "cell_type": "code",
   "execution_count": 8,
   "outputs": [],
   "source": [
    "import os\n",
    "\n",
    "def list_files(startpath):\n",
    "    for root, dirs, files in os.walk(startpath):\n",
    "        level = root.replace(startpath, '').count(os.sep)\n",
    "        indent = ' ' * 4 * level\n",
    "        print('{}{}/'.format(indent, os.path.basename(root)))\n",
    "        subindent = ' ' * 4 * (level + 1)\n",
    "        for f in files:\n",
    "            print('{}{}'.format(subindent, f))"
   ],
   "metadata": {
    "collapsed": false
   }
  },
  {
   "cell_type": "code",
   "execution_count": 9,
   "outputs": [
    {
     "name": "stdout",
     "output_type": "stream",
     "text": [
      "classwork_7_modules_and_standard_library/\n",
      "    18_modules.ipynb\n",
      "    18_standart_libraries.ipynb\n",
      "    date_time_.py\n",
      "    my_module.py\n",
      "    tasks.py\n"
     ]
    }
   ],
   "source": [
    "list_files('D:\\Python\\Beetroot\\classwork\\classwork_7_modules_and_standard_library')"
   ],
   "metadata": {
    "collapsed": false
   }
  },
  {
   "cell_type": "markdown",
   "source": [
    "In a module"
   ],
   "metadata": {
    "collapsed": false
   }
  },
  {
   "cell_type": "code",
   "execution_count": 12,
   "outputs": [
    {
     "name": "stdout",
     "output_type": "stream",
     "text": [
      "homework/\n",
      "    homework_1_first_steps/\n",
      "        my_text.txt\n",
      "        task2.ipynb\n",
      "        task2.py\n",
      "        task3.ipynb\n",
      "        task3.py\n",
      "        task3_ver2.ipynb\n",
      "        task3_ver2.py\n",
      "        test_file.py\n",
      "        __pycache__/\n",
      "            test_file.cpython-311.pyc\n",
      "    homework_2_variables_primitive_data_types/\n",
      "        task_1.py\n",
      "        task_2.py\n",
      "        task_3.py\n",
      "    homework_3_bool_if_elif_else _while/\n",
      "        task_1.py\n",
      "        task_2.py\n",
      "        task_3.py\n",
      "        task_4.py\n",
      "    homework_4_input_imports/\n",
      "        task_1.py\n",
      "        task_2.py\n",
      "        task_3.py\n",
      "    homework_5_list_tuple_set/\n",
      "        task_1.py\n",
      "        task_2.py\n",
      "        task_3.py\n",
      "        task_3_execution_speed.py\n",
      "        __pycache__/\n",
      "            task_3.cpython-311.pyc\n",
      "    homework_6_dict_for_generator/\n",
      "        task_1.py\n",
      "        task_2.py\n",
      "        task_3.py\n",
      "        task_4.py\n",
      "    homework_7_functions/\n",
      "        task_1.py\n",
      "        task_2.py\n",
      "        task_3.py\n",
      "        __pycache__/\n",
      "            task_3.cpython-311.pyc\n",
      "    homework_8_modules_and_standard_library/\n",
      "        task_1_ver1/\n",
      "            game_result.py\n",
      "            main_run_from_here.py\n",
      "            readme.txt\n",
      "            rock_scissors_paper.py\n",
      "            simile.py\n",
      "            the_rules_of_the_game.py\n",
      "            __pycache__/\n",
      "                game_result.cpython-311.pyc\n",
      "                rock_scissors_paper.cpython-311.pyc\n",
      "                simile.cpython-311.pyc\n",
      "                the_rules_of_the_game.cpython-311.pyc\n",
      "        task_1_ver2/\n",
      "            run_file.py\n",
      "            general/\n",
      "                ask_name.py\n",
      "                __init__.py\n",
      "                greeting/\n",
      "                    goodbye_name.py\n",
      "                    hi_name.py\n",
      "                    __init__.py\n",
      "                    __pycache__/\n",
      "                        hi_name.cpython-311.pyc\n",
      "                        __init__.cpython-311.pyc\n",
      "                __pycache__/\n",
      "                    ask_name.cpython-311.pyc\n",
      "                    __init__.cpython-311.pyc\n",
      "        task_2/\n",
      "            file_1.py\n",
      "            file_2.py\n",
      "            task_2.py\n",
      "            folder_1/\n",
      "                file_3.py\n",
      "                __pycache__/\n",
      "                    file_3.cpython-311.pyc\n",
      "            __pycache__/\n",
      "                file_1.cpython-311.pyc\n",
      "                file_2.cpython-311.pyc\n",
      "        task_3/\n",
      "            mymod.py\n",
      "            test_1.py\n",
      "            test_2.py\n",
      "            text_1.txt\n",
      "            text_2.txt\n",
      "            text_3.txt\n",
      "            text_4.txt\n",
      "            text_5.txt\n",
      "            __pycache__/\n",
      "                mymod.cpython-311.pyc\n"
     ]
    }
   ],
   "source": [
    "list_files('D:\\Python\\Beetroot\\homework')"
   ],
   "metadata": {
    "collapsed": false
   }
  },
  {
   "cell_type": "code",
   "execution_count": 13,
   "outputs": [
    {
     "name": "stdout",
     "output_type": "stream",
     "text": [
      "This will run when the file is imported.\n",
      "This will get executed only if\n",
      "the module is invoked directly.\n",
      "It will not run when this module is imported\n",
      "Executing function. This will only run when the function is called.\n"
     ]
    }
   ],
   "source": [
    "# my_module.py\n",
    "print('This will run when the file is imported.')\n",
    "\n",
    "def my_function():\n",
    "    print('Executing function. This will only run when the function is called.')\n",
    "\n",
    "if __name__ == '__main__':\n",
    "    print('This will get executed only if')\n",
    "    print('the module is invoked directly.')\n",
    "    print('It will not run when this module is imported')\n",
    "    my_function()"
   ],
   "metadata": {
    "collapsed": false
   }
  },
  {
   "cell_type": "markdown",
   "source": [
    "Try out a few different things to understand how it works:\n",
    "\n",
    "- Run the file directly with Python: python my_module.py\n",
    "- Invoke the module with -m flag: python -m my_module\n",
    "- Import the module from another Python file: python -c \"import my_module\"\n",
    "- Import and call the function defined: python -c \"import my_module; my_module.my_function()\""
   ],
   "metadata": {
    "collapsed": false
   }
  },
  {
   "cell_type": "markdown",
   "source": [
    "## Module search path\n",
    "\n",
    "When the interpreter executes the above import statement, it searches for *.py in a list of directories assembled from the following sources:\n",
    "\n",
    "- The directory from which the input script was run, or the current directory if the interpreter is being run interactively\n",
    "- The list of directories contained in the PYTHONPATH environment variable, if it is set. (The format for PYTHONPATH is OS-dependent but should mimic the PATH environment variable.)\n",
    "- An installation-dependent list of directories configured at the time Python is installed"
   ],
   "metadata": {
    "collapsed": false
   }
  },
  {
   "cell_type": "code",
   "execution_count": 14,
   "outputs": [
    {
     "ename": "SyntaxError",
     "evalue": "'(' was never closed (2735441723.py, line 1)",
     "output_type": "error",
     "traceback": [
      "\u001B[1;36m  Cell \u001B[1;32mIn [14], line 1\u001B[1;36m\u001B[0m\n\u001B[1;33m    some-parent-directory(#, This, needs, to, be, on, sys.path)\u001B[0m\n\u001B[1;37m                         ^\u001B[0m\n\u001B[1;31mSyntaxError\u001B[0m\u001B[1;31m:\u001B[0m '(' was never closed\n"
     ]
    }
   ],
   "source": [
    "/some-parent-directory # This needs to be on sys.path\n",
    "    /mymodule  # This is not really a module - it's a package\n",
    "        __init__.py  # import mymodule\n",
    "        # init is loaded when you `import mymodule` or anything below it\n",
    "        some.py  # import mymodule.some\n",
    "        implementation.py  # import mymodule.implementation\n",
    "        files.py  # import mymodule.files\n",
    "        /submodule\n",
    "            __init__.py  # import mymodule.submodule\n",
    "            # init is loaded when you `import mymodule.submodule` or anything below it\n",
    "            submodule_impl.py  # import mymodule.submodule.submodule_impl\n",
    "            goes.py  # import mymodule.submodule.goes\n",
    "            here.py  # import mymodule.submodule.here"
   ],
   "metadata": {
    "collapsed": false
   }
  },
  {
   "cell_type": "markdown",
   "source": [
    "# Absolute and Relative imports"
   ],
   "metadata": {
    "collapsed": false
   }
  },
  {
   "cell_type": "markdown",
   "source": [
    "__Absolute import__ involves full path i.e., from the project’s root folder to the desired module. An absolute import state that the resource to be imported using its full path from the project’s root folder."
   ],
   "metadata": {
    "collapsed": false
   }
  },
  {
   "cell_type": "code",
   "execution_count": null,
   "outputs": [],
   "source": [
    "from package1 import module1\n",
    "from package1.module2 import function1\n",
    "from package2 import class1\n",
    "from package2.subpackage1.module5 import function2"
   ],
   "metadata": {
    "collapsed": false
   }
  },
  {
   "cell_type": "markdown",
   "source": [
    "Absolute imports are preferred because they are quite clear and straightforward. It is easy to tell exactly where the imported resource is, just by looking at the statement. Additionally, absolute imports remain valid even if the current location of the import statement changes. In fact, PEP 8 explicitly recommends absolute imports."
   ],
   "metadata": {
    "collapsed": false
   }
  },
  {
   "cell_type": "markdown",
   "source": [
    "A __relative import__ specifies the resource to be imported relative to the current location—that is, the location where the import statement is."
   ],
   "metadata": {
    "collapsed": false
   }
  },
  {
   "cell_type": "code",
   "execution_count": null,
   "outputs": [],
   "source": [
    "from .some_module import some_class\n",
    "from ..some_package import some_function\n",
    "from . import some_class"
   ],
   "metadata": {
    "collapsed": false
   }
  },
  {
   "cell_type": "markdown",
   "source": [
    "A single dot means that the module or package referenced is in the same directory as the current location. Two dots mean that it is in the parent directory of the current location—that is, the directory above. The single dot means that you are importing from the current package."
   ],
   "metadata": {
    "collapsed": false
   }
  },
  {
   "cell_type": "markdown",
   "source": [
    "Pros:\n",
    "- Working with relative imports is concise and clear.\n",
    "- Based on current location it reduces the complexity of an import statement.\n",
    "\n",
    "Cons:\n",
    "- Relative imports is not so readable as absolute ones.\n",
    "- Using relative imports it is not easy because it is very hard to tell the location of a module."
   ],
   "metadata": {
    "collapsed": false
   }
  }
 ],
 "metadata": {
  "kernelspec": {
   "display_name": "Python 3",
   "language": "python",
   "name": "python3"
  },
  "language_info": {
   "codemirror_mode": {
    "name": "ipython",
    "version": 2
   },
   "file_extension": ".py",
   "mimetype": "text/x-python",
   "name": "python",
   "nbconvert_exporter": "python",
   "pygments_lexer": "ipython2",
   "version": "2.7.6"
  }
 },
 "nbformat": 4,
 "nbformat_minor": 0
}
