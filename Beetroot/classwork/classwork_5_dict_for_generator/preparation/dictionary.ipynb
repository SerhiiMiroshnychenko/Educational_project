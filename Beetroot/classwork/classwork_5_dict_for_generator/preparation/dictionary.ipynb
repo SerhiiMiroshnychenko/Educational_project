{
 "cells": [
  {
   "cell_type": "code",
   "execution_count": 1,
   "metadata": {
    "collapsed": true
   },
   "outputs": [
    {
     "name": "stdout",
     "output_type": "stream",
     "text": [
      "True\n",
      "True\n",
      "False\n"
     ]
    }
   ],
   "source": [
    "dict_0 = {\"1\": 1, \"a\": True, False: [1,2,3]}\n",
    "\n",
    "print(\"1\" in dict_0)\n",
    "print(False in dict_0)\n",
    "print(True in dict_0)"
   ]
  },
  {
   "cell_type": "code",
   "execution_count": 2,
   "outputs": [
    {
     "name": "stdout",
     "output_type": "stream",
     "text": [
      "15\n",
      "15\n",
      "46\n"
     ]
    }
   ],
   "source": [
    "sales = {1: 0, 2: 12, 3: 10, 4: 10, 5: 14}\n",
    "\n",
    "# The iterating through the dictionary is the iterating through its keys.\n",
    "print(sum(sales))\n",
    "\n",
    "# This is the same as the previous but makes the code clearer\n",
    "print(sum(sales.keys()))\n",
    "\n",
    "# Use values() method to get the sum of the dictionary()\n",
    "print(sum(sales.values()))"
   ],
   "metadata": {
    "collapsed": false
   }
  },
  {
   "cell_type": "code",
   "execution_count": 12,
   "outputs": [
    {
     "name": "stdout",
     "output_type": "stream",
     "text": [
      "five\n",
      "\n",
      "eight : 8\n",
      "five : 5\n",
      "four : 4\n",
      "nine : 9\n",
      "one : 1\n",
      "seven : 7\n",
      "sex : 6\n",
      "ten : 10\n",
      "three : 3\n",
      "two : 2\n",
      "\n",
      "10\n",
      "9\n",
      "8\n",
      "7\n",
      "6\n",
      "5\n",
      "4\n",
      "3\n",
      "2\n",
      "1\n"
     ]
    }
   ],
   "source": [
    "# Вивід ключа по його значенню\n",
    "numbers = {\"one\" : 1, \"two\" : 2, \"three\" : 3, \"four\" : 4, \"five\" : 5, 'sex' : 6, 'seven' : 7, 'eight' : 8, 'nine' : 9, 'ten' : 10}\n",
    "for name in numbers.keys():\n",
    "    number = numbers[name]\n",
    "    if number == 5:\n",
    "        print(name)\n",
    "\n",
    "# Вивід відсортованих по ключах значень і ключів\n",
    "print ()\n",
    "for name in sorted(numbers.keys()):\n",
    "    print(f'{name} : {numbers[name]}')\n",
    "\n",
    "# Вивід зворотно відсортованих по ключах значень\n",
    "print ()\n",
    "for name in sorted(numbers.values(),reverse = True):\n",
    "    print(name)"
   ],
   "metadata": {
    "collapsed": false
   }
  },
  {
   "cell_type": "code",
   "execution_count": 16,
   "outputs": [
    {
     "name": "stdout",
     "output_type": "stream",
     "text": [
      "{'Сергій': 1981, 'Вікторія': 1985, 'Юрій': 2012}\n",
      "2012\n",
      "{'Сергій': 1981, 'Вікторія': 1985, 'Юрій': 2012, 'Олександр': 1958}\n",
      "{'Сергій': 1981, 'Вікторія': 1995, 'Юрій': 2012, 'Олександр': 1958}\n",
      "{'Сергій': 1981, 'Вікторія': 1995, 'Юрій': 2012}\n",
      "{}\n",
      "{'Сергій': 40, 'Вікторія': 36, 'Юрій': 10, 'Хома': 1}\n",
      "{'Сергій': 40, 'Вікторія': 36, 'Юрій': 10}\n",
      "Сергій\n",
      "40\n",
      "Вікторія\n",
      "36\n",
      "Юрій\n",
      "10\n",
      "40\n",
      "36\n",
      "10\n",
      "Сергій\n",
      "Вікторія\n",
      "Юрій\n",
      "Сергій 40\n",
      "Вікторія 36\n",
      "Юрій 10\n",
      "{'Сергій': 40, 'Вікторія': 36, 'Юрій': 10}\n"
     ]
    }
   ],
   "source": [
    "dict1 = {\"Сергій\": 1981,\n",
    "         \"Вікторія\": 1985,\n",
    "         \"Юрій\": 2012}\n",
    "print (dict1)\n",
    "print(dict1['Юрій'])\n",
    "dict1 [\"Олександр\"] = 1958\n",
    "print(dict1)\n",
    "dict1[\"Вікторія\"] = 1995\n",
    "print(dict1)\n",
    "del dict1 [\"Олександр\"]\n",
    "print(dict1)\n",
    "dict1.clear()\n",
    "print(dict1)\n",
    "dict1 = {\"Сергій\": 40, \"Вікторія\": 36, \"Юрій\": 10, \"Хома\": 1}\n",
    "print(dict1)\n",
    "dict1.pop(\"Хома\")\n",
    "print (dict1)\n",
    "for x in dict1:\n",
    "  print(x)\n",
    "  print (dict1[x])\n",
    "for x in dict1.values():\n",
    "  print (x)\n",
    "for x in dict1.keys():\n",
    "  print (x)\n",
    "for x, y in dict1.items():\n",
    "  print(x,y)\n",
    "dict2 = dict1.copy()\n",
    "print(dict2)"
   ],
   "metadata": {
    "collapsed": false
   }
  },
  {
   "cell_type": "code",
   "execution_count": 15,
   "outputs": [
    {
     "name": "stdout",
     "output_type": "stream",
     "text": [
      "Варшава\n",
      "dict_keys(['Україна', 'Польша', 'Великобританія'])\n",
      "dict_values(['Київ', 'Варшава', 'Лондон'])\n",
      "{'Україна': 'Київ', 'Польша': 'Варшава', 'Великобританія': 'Лондон', 'Литва': 'Вільнюс'}\n",
      "dict_keys(['Непийпиво', 'Неїжпапа', 'Вернидуб', 'Кривопичко'])\n",
      "3.75\n",
      "4.333333333333333\n",
      "3.2\n",
      "3.5\n"
     ]
    }
   ],
   "source": [
    "dict1 = {\"Україна\":\"Київ\", \"Польща\":\"Варшава\", \"Великобританія\":\"Лондон\"}\n",
    "print (dict1[\"Польща\"])\n",
    "print(dict1.keys())\n",
    "print (dict1.values())\n",
    "dict2 = {\"Литва\":\"Вільнюс\"}\n",
    "dict1.update(dict2)\n",
    "print (dict1)\n",
    "dict3 = {\"Непийпиво\":[3,4,5,3], \"Неїжпапа\":[4,4,5], \"Вернидуб\":[2,3,4,5,2], \"Кривопичко\":[3,4]}\n",
    "print(dict3.keys())\n",
    "for key in dict3:\n",
    "  sum1 = sum(dict3[key])\n",
    "  len1 = len(dict3[key])\n",
    "  serbal1 = sum1 / len1\n",
    "  print(serbal1)"
   ],
   "metadata": {
    "collapsed": false
   }
  },
  {
   "cell_type": "code",
   "execution_count": 3,
   "outputs": [
    {
     "name": "stdout",
     "output_type": "stream",
     "text": [
      "True\n",
      "Ukraine\n",
      "Hi, Ukraine!\n",
      "Hi, Azov!\n"
     ]
    }
   ],
   "source": [
    "dict_0 = {\"test\": {\"a\": True}, \"execute\": lambda x: print(x)}\n",
    "print(dict_0[\"test\"][\"a\"])\n",
    "dict_0[\"execute\"](\"Ukraine\")\n",
    "\n",
    "class T:\n",
    "  def __init__(self, name):\n",
    "     self.name = name\n",
    "\n",
    "  def show_greeting(self):\n",
    "     print(f\"Hi, {self.name}!\")\n",
    "\n",
    "dict_1 = {\"test\": {\"a\": True}, \"execute\": T(\"Azov\")}\n",
    "dict_2 = {\"test\": {\"a\": True}, \"execute\": T}\n",
    "\n",
    "res_0 = dict_2[\"execute\"](\"Ukraine\")\n",
    "res_0.show_greeting()\n",
    "dict_1[\"execute\"].show_greeting()"
   ],
   "metadata": {
    "collapsed": false
   }
  },
  {
   "cell_type": "code",
   "execution_count": 4,
   "outputs": [
    {
     "name": "stdout",
     "output_type": "stream",
     "text": [
      "{'a': 1, 'b': 3, 'c': 4}\n",
      "{'b': 2, 'c': 4, 'a': 1}\n",
      "{'a': 1, 'b': 3, 'c': 4}\n"
     ]
    }
   ],
   "source": [
    "# how to combine dictionaries\n",
    "a = {'a': 1, 'b': 2}\n",
    "b = {'b': 3, 'c': 4}\n",
    "ab = {**a, **b}\n",
    "print (ab) # {'a': 1, 'b': 3, 'c': 4}\n",
    "ba = {**b, **a}\n",
    "print (ba) # {'b': 2, 'c': 4, 'a': 1}\n",
    "\n",
    "\n",
    "# Python >= 3.9\n",
    "a_b = a | b\n",
    "print (a_b) # {'a': 1, 'b': 3, 'c': 4}"
   ],
   "metadata": {
    "collapsed": false
   }
  },
  {
   "cell_type": "code",
   "execution_count": 5,
   "outputs": [
    {
     "name": "stdout",
     "output_type": "stream",
     "text": [
      "['April', 'August']\n",
      "April\n",
      "August\n",
      "{'January': 1, 'February': 2, 'March': 3, 'May': 5, 'June': 6, 'Jule': 7, 'September': 9, 'October': 10, 'November': 11, 'December': 12}\n"
     ]
    }
   ],
   "source": [
    "months = {\"January\": 1, \"February\": 2, \"March\": 3, \"April\": 4, \"May\": 5, \"June\": 6, \"Jule\": 7, \"August\": 8, \"September\": 9, \"October\": 10, \"November\": 11, \"December\": 12}\n",
    "months_A = []\n",
    "for month in months.keys():\n",
    "  if month[0] == \"A\":\n",
    "    months_A.append(month)\n",
    "print(months_A)\n",
    "i = 0\n",
    "print (months_A[0])\n",
    "print (months_A[1])\n",
    "while i < len(months_A):\n",
    "  del months[months_A[i]]\n",
    "  i += 1\n",
    "print (months)"
   ],
   "metadata": {
    "collapsed": false
   }
  },
  {
   "cell_type": "code",
   "execution_count": 13,
   "outputs": [
    {
     "name": "stdout",
     "output_type": "stream",
     "text": [
      "\n",
      "Country: Ukraine\n",
      "Capital: Kyiv\n",
      "\n",
      "Country: United Kingdom\n",
      "Capital: London\n",
      "\n",
      "Country: Poland\n",
      "Capital: Warsaw\n",
      "\n",
      "Country : Ukraine\n",
      "Capital: Kyiv\n",
      "\n",
      "Country : United Kingdom\n",
      "Capital: London\n",
      "\n",
      "Country : Poland\n",
      "Capital: Warsaw\n",
      "\n",
      "Countries:\n",
      "\n",
      "Ukraine\n",
      "United Kingdom\n",
      "Poland\n",
      "\n",
      "Countries:\n",
      "\n",
      "Ukraine\n",
      "United Kingdom\n",
      "Poland\n",
      "\n",
      "Kyiv is capital of Ukraine\n",
      "\n",
      "Warsaw is capital of Poland\n",
      "\n",
      "\n",
      "Додайте столицю США\n",
      "\n",
      "\n",
      "Київ у словнику!\n"
     ]
    }
   ],
   "source": [
    "# Вивід ключив і значень зі словника за допомогою цикла for та метода items()\n",
    "capitals = {\n",
    "  \"Ukraine\" : \"Kyiv\",\n",
    "  \"United Kingdom\" : \"London\",\n",
    "  \"Poland\" : \"Warsaw\",\n",
    "}\n",
    "for country, capital in capitals.items():\n",
    "    print (f\"\\nCountry: {country}\")\n",
    "    print (f\"Capital: {capital}\")\n",
    "\n",
    "# Вивід ключив і значень зі словника тільки за допомогою цикла for\n",
    "for country in capitals:\n",
    "    print (f\"\\nCountry : {country}\")\n",
    "    print (f\"Capital: {capitals[country]}\")\n",
    "\n",
    "# Вивід ключив зі словнику за допомогою циклу for та методу keys\n",
    "print (\"\\nCountries:\\n\")\n",
    "for country in capitals.keys():\n",
    "    print (country)\n",
    "\n",
    "# Вивід ключив зі словнику за допомогою лише циклу for\n",
    "print (\"\\nCountries:\\n\")\n",
    "for country in capitals:\n",
    "    print (country)\n",
    "\n",
    "# Вивід обраних ключів та значень\n",
    "countries = ['Ukraine','Poland']\n",
    "for country in capitals.keys():\n",
    "    if country in countries:\n",
    "        capital = capitals[country]\n",
    "        print (f\"\\n{capital} is capital of {country}\")\n",
    "\n",
    "# Пошук чи є такий ключ у словнику\n",
    "if \"USA\" not in capitals.keys():\n",
    "    print(f'\\n\\nДодайте столицю США')\n",
    "\n",
    "if \"Kyiv\" in capitals.values():\n",
    "    print(f'\\n\\nКиїв у словнику!')"
   ],
   "metadata": {
    "collapsed": false
   }
  },
  {
   "cell_type": "code",
   "execution_count": 14,
   "outputs": [
    {
     "name": "stdout",
     "output_type": "stream",
     "text": [
      "KYIV\n",
      "Цієї столиці немає\n",
      "None\n",
      "\n",
      "Ukraine : Kyiv\n",
      "\n",
      "United Kingdom : London\n",
      "\n",
      "Poland : Warsaw\n"
     ]
    }
   ],
   "source": [
    "capitals = {\n",
    "  \"Ukraine\" : \"Kyiv\",\n",
    "  \"United Kingdom\" : \"London\",\n",
    "  \"Poland\" : \"Warsaw\",\n",
    "}\n",
    "print (capitals [\"Ukraine\"].upper())\n",
    "capital_USA = capitals.get(\"USA\", \"Цієї столиці немає\") # ! Метод get\n",
    "# Перевіряє наявність такого ключа\n",
    "print (capital_USA)\n",
    "capital_Lithuania = capitals.get(\"Lithuania\") # Метод get\n",
    "# без другого аргументу\n",
    "# при відсутності ключа видає \"None\"\n",
    "print(capital_Lithuania)\n",
    "for country in capitals:# циклом по словнику\n",
    "  print (f\"\\n{country} : {capitals [country]}\")"
   ],
   "metadata": {
    "collapsed": false
   }
  },
  {
   "cell_type": "code",
   "execution_count": 6,
   "outputs": [
    {
     "name": "stdout",
     "output_type": "stream",
     "text": [
      "{0: 'Ꮷ', 1: 'ᵫ', 2: 'ᑏ', 3: '\\u0c53', 4: '↡', 5: 'ᖭ', 6: 'ვ', 7: 'һ', 8: 'ᇻ', 9: '⛟', 10: 'ᩉ', 11: '◃', 12: 'ᚖ', 13: '⍻', 14: 'ో', 15: '☤', 16: '᭮', 17: '\\u1bf9', 18: 'ষ', 19: 'ཧ', 20: '၄'}\n",
      "21\n",
      "dict_keys([0, 1, 2, 3, 4, 5, 6, 7, 8, 9, 10, 11, 12, 13, 14, 15, 16, 17, 18, 19, 20])\n",
      "[1, 3, 5, 7, 9, 11, 13, 15, 17, 19]\n",
      "1\n",
      "3\n",
      "5\n",
      "7\n",
      "9\n",
      "11\n",
      "13\n",
      "15\n",
      "17\n",
      "19\n",
      "{0: 'Ꮷ', 2: 'ᑏ', 4: '↡', 6: 'ვ', 8: 'ᇻ', 10: 'ᩉ', 12: 'ᚖ', 14: 'ో', 16: '᭮', 18: 'ষ', 20: '၄'}\n"
     ]
    }
   ],
   "source": [
    "import random\n",
    "dict1 = {}\n",
    "for x in range (21):\n",
    "  symbol = chr(random.randint(1,10000))\n",
    "  dict1[x] = symbol\n",
    "print (dict1)\n",
    "print (len(dict1))\n",
    "print (dict1.keys())\n",
    "odd_keys = []\n",
    "for x in dict1.keys():\n",
    "  if x % 2 != 0:\n",
    "    odd_keys.append(x)\n",
    "print (odd_keys)\n",
    "i = 0\n",
    "while i < len(odd_keys):\n",
    "  a = odd_keys[i]\n",
    "  print(a)\n",
    "  del dict1[a]\n",
    "  i += 1\n",
    "print (dict1)"
   ],
   "metadata": {
    "collapsed": false
   }
  },
  {
   "cell_type": "code",
   "execution_count": 7,
   "outputs": [
    {
     "name": "stdout",
     "output_type": "stream",
     "text": [
      "Key: 0\t Value: ᡀ\n",
      "Key: 2\t Value: ূ\n",
      "Key: 4\t Value: ͏\n",
      "Key: 6\t Value: Š\n",
      "Key: 8\t Value: ٪\n",
      "Key: 10\t Value: ƙ\n",
      "Key: 12\t Value: ඀\n",
      "Key: 14\t Value: ӥ\n",
      "Key: 16\t Value: ᢎ\n",
      "Key: 18\t Value: Ṻ\n",
      "Key: 20\t Value: ԫ\n"
     ]
    }
   ],
   "source": [
    "import random\n",
    "dict_numb = {}\n",
    "dict2 = {}\n",
    "for x in range (21):\n",
    "  symbol = chr(random.randint(1,10000))\n",
    "  dict_numb[x] = symbol\n",
    "for x,y in dict_numb.items():\n",
    "  if x%2 == 0:\n",
    "    print(f\"Key: {x}\\t Value: {y}\")\n",
    "i = 0"
   ],
   "metadata": {
    "collapsed": false
   }
  },
  {
   "cell_type": "code",
   "execution_count": 8,
   "outputs": [
    {
     "name": "stdout",
     "output_type": "stream",
     "text": [
      "\n",
      "Сергій має тваринку що зветься хома\n"
     ]
    }
   ],
   "source": [
    "# While and dictionary\n",
    "pets = {}\n",
    "interview_active = True\n",
    "while True:\n",
    "  name = input(\"Введіть Ваше ім'я: \")\n",
    "  if name == '0':\n",
    "    break\n",
    "  pet = input (\"Введіть вашого улюбленця: \")\n",
    "  pets[name] = pet\n",
    "print()\n",
    "for name, pet in pets.items():\n",
    "   print (f\"{name.title()} має тваринку що зветься {pet.title()}\")"
   ],
   "metadata": {
    "collapsed": false
   }
  },
  {
   "cell_type": "code",
   "execution_count": 9,
   "outputs": [
    {
     "name": "stdout",
     "output_type": "stream",
     "text": [
      "В нашому загоні всі знані козаки: \n",
      "Степан, Тарас, Макар, Євген.\n",
      "Кожен йде в бій зі своїми обладунками.\n",
      "\n",
      " Степан має:\n",
      "   зброя :  стугна\n",
      "   джура :  тур Петрик\n",
      "\n",
      " Тарас має:\n",
      "   зброя :  джавелін\n",
      "   джура :  вепр Хорт\n",
      "\n",
      " Макар має:\n",
      "   зброя :  вогнемет\n",
      "   транспорт :  бандеромобіль\n",
      "\n",
      " Євген має:\n",
      "   питомець :  швайнокарась\n"
     ]
    }
   ],
   "source": [
    "# Словник у словнику\n",
    "warriors = {\n",
    "    \"Степан\": {\n",
    "        \"зброя\": \"стугна\",\n",
    "        \"джура\": \"тур Петрик\",\n",
    "        },\n",
    "    \"Тарас\": {\n",
    "        \"зброя\": \"джавелін\",\n",
    "        \"джура\": \"вепр Хорт\",\n",
    "        },\n",
    "    \"Макар\": {\n",
    "        \"зброя\": \"вогнемет\",\n",
    "        \"транспорт\": \"бандеромобіль\",\n",
    "        },\n",
    "    \"Євген\": {\n",
    "        \"питомець\": \"швайнокарась\",\n",
    "        },\n",
    "}\n",
    "print(f\"В нашому загоні всі знані козаки: \")\n",
    "for name in warriors.keys():\n",
    "    if name == \"Євген\":\n",
    "        print (name + \".\")\n",
    "    else:\n",
    "        print (name+\", \", end = \"\")\n",
    "print (\"Кожен йде в бій зі своїми обладунками.\")\n",
    "for name, things in warriors.items():\n",
    "    print(f\"\\n {name} має:\")\n",
    "    for thing, th_name in things.items():\n",
    "        print(\"  \",thing,\": \",th_name)"
   ],
   "metadata": {
    "collapsed": false
   }
  },
  {
   "cell_type": "code",
   "execution_count": 10,
   "outputs": [
    {
     "name": "stdout",
     "output_type": "stream",
     "text": [
      "ДОБРИЙ ДЕНЬ!\n",
      "Сьогодні будемо бити москалів.\n",
      "\n",
      "Для завдання отримаєте броню келавр, транспорт бандеромобіль та наступну зброю:\n",
      " -кулемет\n",
      " -джавелін\n",
      " -пес Патрон\n",
      "\n",
      "З Вами підуть вірні побратими:\n",
      "\n",
      " Богдан зі зброєю:\n",
      " -дробовик\n",
      " -NLAW\n",
      " -булава\n",
      "\n",
      " Василь зі зброєю:\n",
      " -вуса\n",
      " -калаш\n",
      " -кулаки\n",
      "\n",
      " Юрко зі зброєю:\n",
      " -меч Арея\n",
      " -спис Адуна\n",
      " -дзеркало матерії\n",
      " -чорна діра\n",
      "\n",
      " Грицик зі зброєю:\n",
      " -шабля\n",
      " -вовк Барвінок\n"
     ]
    }
   ],
   "source": [
    "# Список у словнику\n",
    "warrior = {\"броня\": \"келавр\", \"зброя\": ['кулемет', 'джавелін', 'пес Патрон'], \"транспорт\": 'бандеромобіль'}\n",
    "print (\"ДОБРИЙ ДЕНЬ!\"\n",
    "\"\\nСьогодні будемо бити москалів.\\n\"\n",
    "\"\\nДля завдання отримаєте броню \"\n",
    "f\"{warrior['броня']}, транспорт {warrior['транспорт']} \"\n",
    "f\"та наступну зброю:\")\n",
    "for weapon in warrior[\"зброя\"]:\n",
    "    print (\" -\" + weapon)\n",
    "\n",
    "# Декілька списків у словнику\n",
    "warriors = {\"богдан\": [\"дробовик\", \"NLAW\", \"булава\"], \"василь\" : [\"вуса\",\"калаш\",\"кулаки\"], \"юрко\": [\"меч Арея\",\"спис Адуна\",\"дзеркало матерії\",\"чорна діра\"], \"грицик\": [\"шабля\", \"вовк Барвінок\"]}\n",
    "print (\"\\nЗ Вами підуть вірні побратими:\")\n",
    "for name, weapons in warriors.items():\n",
    "    print(f\"\\n {name.title()} зі зброєю:\")\n",
    "    for weapon in weapons:\n",
    "        print(f\" -\" + weapon)"
   ],
   "metadata": {
    "collapsed": false
   }
  },
  {
   "cell_type": "code",
   "execution_count": null,
   "outputs": [],
   "source": [
    "# Формування словника через input\n",
    "print (\"Введіть десять будь яких значень:\")\n",
    "x = 0\n",
    "dictionary = {}\n",
    "while x != 10:\n",
    "    x += 1\n",
    "    value = input ('\\nВЕДЕННЯ: ')\n",
    "    dictionary [x] = value\n",
    "print (dictionary)\n",
    "for value in set(dictionary.values()):\n",
    "  print (value)"
   ],
   "metadata": {
    "collapsed": false
   }
  }
 ],
 "metadata": {
  "kernelspec": {
   "display_name": "Python 3",
   "language": "python",
   "name": "python3"
  },
  "language_info": {
   "codemirror_mode": {
    "name": "ipython",
    "version": 2
   },
   "file_extension": ".py",
   "mimetype": "text/x-python",
   "name": "python",
   "nbconvert_exporter": "python",
   "pygments_lexer": "ipython2",
   "version": "2.7.6"
  }
 },
 "nbformat": 4,
 "nbformat_minor": 0
}
