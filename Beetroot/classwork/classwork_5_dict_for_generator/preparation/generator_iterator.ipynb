{
 "cells": [
  {
   "cell_type": "code",
   "execution_count": 1,
   "metadata": {
    "collapsed": true
   },
   "outputs": [
    {
     "name": "stdout",
     "output_type": "stream",
     "text": [
      "[2, 4, 6, 8, 10, 12, 14, 16, 18, 20]\n",
      "4\n",
      "2\n",
      "4\n",
      "6\n",
      "8\n",
      "10\n",
      "12\n",
      "14\n",
      "16\n",
      "18\n",
      "20\n",
      "<generator object <genexpr> at 0x00000184C82ECAD0>\n",
      "'generator' object is not subscriptable\n",
      "2\n",
      "4\n",
      "6\n",
      "8\n",
      "10\n",
      "12\n",
      "14\n",
      "16\n",
      "18\n",
      "20\n"
     ]
    }
   ],
   "source": [
    "# ітератор створює послідовність і зберігає в пам'яті кожен елемент\n",
    "my_iterator = [x*2 for x in range (1,11)]\n",
    "print (my_iterator)\n",
    "print (my_iterator[1])\n",
    "for x in my_iterator:\n",
    "  print (x)\n",
    "\n",
    "# генератор створює елементи під час виклику і не зберігає у пам'яті\n",
    "my_generator = (x*2 for x in range(1,11))\n",
    "print (my_generator)\n",
    "try:\n",
    "  print (my_generator[1])\n",
    "except TypeError as error:\n",
    "  print (error)\n",
    "for x in my_generator:\n",
    "  print (x)"
   ]
  }
 ],
 "metadata": {
  "kernelspec": {
   "display_name": "Python 3",
   "language": "python",
   "name": "python3"
  },
  "language_info": {
   "codemirror_mode": {
    "name": "ipython",
    "version": 2
   },
   "file_extension": ".py",
   "mimetype": "text/x-python",
   "name": "python",
   "nbconvert_exporter": "python",
   "pygments_lexer": "ipython2",
   "version": "2.7.6"
  }
 },
 "nbformat": 4,
 "nbformat_minor": 0
}
