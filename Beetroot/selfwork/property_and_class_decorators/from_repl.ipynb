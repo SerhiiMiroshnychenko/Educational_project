{
 "cells": [
  {
   "cell_type": "code",
   "execution_count": 12,
   "metadata": {
    "collapsed": true
   },
   "outputs": [
    {
     "name": "stdout",
     "output_type": "stream",
     "text": [
      "False\n"
     ]
    },
    {
     "ename": "ValueError",
     "evalue": "Alert! Intruder!",
     "output_type": "error",
     "traceback": [
      "\u001B[1;31m---------------------------------------------------------------------------\u001B[0m",
      "\u001B[1;31mValueError\u001B[0m                                Traceback (most recent call last)",
      "Cell \u001B[1;32mIn [12], line 21\u001B[0m\n\u001B[0;32m     19\u001B[0m pizza \u001B[38;5;241m=\u001B[39m Pizza([\u001B[38;5;124m\"\u001B[39m\u001B[38;5;124mcheese\u001B[39m\u001B[38;5;124m\"\u001B[39m, \u001B[38;5;124m\"\u001B[39m\u001B[38;5;124mtomato\u001B[39m\u001B[38;5;124m\"\u001B[39m])\n\u001B[0;32m     20\u001B[0m \u001B[38;5;28mprint\u001B[39m(pizza\u001B[38;5;241m.\u001B[39mpineapple_allowed)\n\u001B[1;32m---> 21\u001B[0m \u001B[43mpizza\u001B[49m\u001B[38;5;241;43m.\u001B[39;49m\u001B[43mpineapple_allowed\u001B[49m \u001B[38;5;241m=\u001B[39m \u001B[38;5;28;01mTrue\u001B[39;00m\n\u001B[0;32m     22\u001B[0m \u001B[38;5;28mprint\u001B[39m(pizza\u001B[38;5;241m.\u001B[39mpineapple_allowed)\n",
      "Cell \u001B[1;32mIn [12], line 17\u001B[0m, in \u001B[0;36mPizza.pineapple_allowed\u001B[1;34m(self, value)\u001B[0m\n\u001B[0;32m     15\u001B[0m     \u001B[38;5;28mself\u001B[39m\u001B[38;5;241m.\u001B[39m_pineapple_allowed \u001B[38;5;241m=\u001B[39m value\n\u001B[0;32m     16\u001B[0m \u001B[38;5;28;01melse\u001B[39;00m:\n\u001B[1;32m---> 17\u001B[0m     \u001B[38;5;28;01mraise\u001B[39;00m \u001B[38;5;167;01mValueError\u001B[39;00m(\u001B[38;5;124m\"\u001B[39m\u001B[38;5;124mAlert! Intruder!\u001B[39m\u001B[38;5;124m\"\u001B[39m)\n",
      "\u001B[1;31mValueError\u001B[0m: Alert! Intruder!"
     ]
    }
   ],
   "source": [
    "class Pizza:\n",
    "    def __init__(self, toppings):\n",
    "        self.toppings = toppings\n",
    "        self._pineapple_allowed = False\n",
    "\n",
    "    @property\n",
    "    def pineapple_allowed(self):\n",
    "        return self._pineapple_allowed\n",
    "\n",
    "    @pineapple_allowed.setter\n",
    "    def pineapple_allowed(self, value):\n",
    "        if value:\n",
    "            password = input(\"Enter the password: \")\n",
    "            if password == \"from future import braces\":\n",
    "                self._pineapple_allowed = value\n",
    "            else:\n",
    "                raise ValueError(\"Alert! Intruder!\")\n",
    "\n",
    "pizza = Pizza([\"cheese\", \"tomato\"])\n",
    "print(pizza.pineapple_allowed)\n",
    "pizza.pineapple_allowed = True\n",
    "print(pizza.pineapple_allowed)"
   ]
  },
  {
   "cell_type": "code",
   "execution_count": null,
   "outputs": [],
   "source": [
    "class C(object):\n",
    "    def __init__(self):\n",
    "        self._x = None\n",
    "\n",
    "    @property\n",
    "    def x(self):\n",
    "        \"\"\"I'm the 'x' property.\"\"\"\n",
    "        print(\"getter of x called\")\n",
    "        return self._x\n",
    "\n",
    "    @x.setter\n",
    "    def x(self, value):\n",
    "        print(\"setter of x called\")\n",
    "        self._x = value\n",
    "\n",
    "    @x.deleter\n",
    "    def x(self):\n",
    "        print(\"deleter of x called\")\n",
    "        del self._x\n",
    "\n",
    "\n",
    "c = C()\n",
    "print(c.__dict__)\n",
    "c.x = 'foo'  # setter called\n",
    "print(c.__dict__)\n",
    "foo = c.x    # getter called\n",
    "print (foo)\n",
    "del c.x      # deleter called\n",
    "print(c.__dict__)\n"
   ],
   "metadata": {
    "collapsed": false
   }
  },
  {
   "cell_type": "code",
   "execution_count": null,
   "outputs": [],
   "source": [
    "class Person:\n",
    "  def __init__(self, age):\n",
    "    self.age = int(age)\n",
    "\n",
    "  @property\n",
    "  def is_adult(self):\n",
    "    return self.age > 18\n",
    "\n",
    "per1 = Person(20)\n",
    "per2 = Person(15)\n",
    "print(per1.__dict__, per2.__dict__)\n",
    "list1 = [per1, per2]\n",
    "for per in list1:\n",
    "  if per.is_adult:\n",
    "    print (\"Adult,\", per.age, \"years old \")\n",
    "  else:\n",
    "    print (\"Not adult,\", per.age, \"years old \")\n"
   ],
   "metadata": {
    "collapsed": false
   }
  },
  {
   "cell_type": "code",
   "execution_count": null,
   "outputs": [],
   "source": [
    "class Pizza:\n",
    "    def __init__(self, toppings):\n",
    "        self.toppings = toppings\n",
    "\n",
    "    @classmethod\n",
    "    def pineapple_alowed(cls, toppings):\n",
    "      for topping in toppings:\n",
    "        if topping == \"pineapple\":\n",
    "          print (\"No pineapple!\")\n",
    "          return False\n",
    "      return True\n",
    "\n",
    "    @property\n",
    "    def toppings(self):\n",
    "        return self.__toppings\n",
    "\n",
    "    @toppings.setter\n",
    "    def toppings(self, toppings):\n",
    "      if self.pineapple_alowed(toppings):\n",
    "        self.__toppings = toppings\n",
    "\n",
    "    @toppings.deleter\n",
    "    def toppings(self):\n",
    "      del self.__toppings\n",
    "\n",
    "\n",
    "\n",
    "pizza = Pizza([ \"cheese\", \"tomato\" ])\n",
    "print (pizza.__dict__)\n",
    "print(pizza.toppings)\n",
    "pizza.toppings = [\"egg\", \"beetroot\"]\n",
    "print (pizza.__dict__)\n",
    "print(pizza.toppings)\n",
    "pizza.toppings = [\"apple\", \"pineapple\"]\n",
    "print (pizza.__dict__)\n",
    "print(pizza.toppings)"
   ],
   "metadata": {
    "collapsed": false
   }
  },
  {
   "cell_type": "code",
   "execution_count": null,
   "outputs": [],
   "source": [
    "class Rectangle:\n",
    "  def __init__(self, width, height):\n",
    "    self.width = width\n",
    "    self.height = height\n",
    "\n",
    "  def calculate_area(self):\n",
    "    return self.width * self.height\n",
    "\n",
    "  @classmethod\n",
    "  def new_square(cls, side_length):\n",
    "    return cls(side_length, side_length)\n",
    "\n",
    "\n",
    "rect = Rectangle(2,3)\n",
    "print(rect.calculate_area())\n",
    "\n",
    "square = Rectangle.new_square(4)\n",
    "print(square.calculate_area())"
   ],
   "metadata": {
    "collapsed": false
   }
  },
  {
   "cell_type": "code",
   "execution_count": null,
   "outputs": [],
   "source": [
    "\"\"\"Існує кілька магічних методів, які задають класам функціональність контейнерів.\n",
    "\n",
    "__len__ для len()\n",
    "\n",
    "__getitem__ для індексації\n",
    "\n",
    "__setitem__ для присвоювання значення індексованому елементу\n",
    "\n",
    "__delitem__ для видалення індексованих елементів\n",
    "\n",
    "__iter__ для перебору об'єктів (наприклад, у циклах for)\n",
    "\"\"\"\n",
    "\n",
    "import random\n",
    "\n",
    "class VagueList:\n",
    "    def __init__(self, cont):\n",
    "        self.cont = cont\n",
    "\n",
    "    def __getitem__(self, index):\n",
    "        return self.cont[index + random.randint(-1, 1)]\n",
    "\n",
    "    def __len__(self):\n",
    "        return random.randint(0, len(self.cont)*2)\n",
    "\n",
    "vague_list = VagueList([\"A\", \"B\", \"C\", \"D\", \"E\"])\n",
    "print(len(vague_list))\n",
    "print(len(vague_list))\n",
    "print(vague_list[2])\n",
    "print(vague_list[2])"
   ],
   "metadata": {
    "collapsed": false
   }
  },
  {
   "cell_type": "code",
   "execution_count": null,
   "outputs": [],
   "source": [
    "class Point:\n",
    "  MAX = 100\n",
    "\n",
    "  def __init__(self, x, y):\n",
    "    self.x = x\n",
    "    self.y = y\n",
    "\n",
    "  def __getattr__(self, item):\n",
    "      print(f\"__getattr__ : {item}\")\n",
    "      return False\n",
    "\n",
    "\n",
    "\n",
    "pt = Point (1,2)\n",
    "\n",
    "print (pt.x)\n",
    "print (pt.MAX)\n",
    "print (pt.MIN)\n",
    "pt.MIN = 0\n",
    "print (pt.MIN)\n",
    "pt.a = 3\n",
    "print (pt.a)"
   ],
   "metadata": {
    "collapsed": false
   }
  },
  {
   "cell_type": "code",
   "execution_count": null,
   "outputs": [],
   "source": [
    "class Point:\n",
    "  MAX = 100\n",
    "\n",
    "  def __init__(self, x, y):\n",
    "    self.x = x\n",
    "    self.y = y\n",
    "\n",
    "  def __getattribute__(self, item):\n",
    "    print(f\"__getattribute__ for {item}.\")\n",
    "    if item == 'x':\n",
    "      print(\"Доступу немає!\")\n",
    "    else:\n",
    "      return object.__getattribute__(self, item)\n",
    "\n",
    "\n",
    "pt = Point(1, 2)\n",
    "\n",
    "print (pt.x)\n",
    "print(pt.y)\n",
    "print (pt.MAX)\n",
    "print ()\n",
    "print (\"Через Клас:\")\n",
    "print(Point.MAX)\n",
    "print(Point.MAX)"
   ],
   "metadata": {
    "collapsed": false
   }
  },
  {
   "cell_type": "code",
   "execution_count": 13,
   "outputs": [
    {
     "name": "stdout",
     "output_type": "stream",
     "text": [
      ">spam>eggs\n",
      "e>spam>ggs\n",
      "eg>spam>gs\n",
      "egg>spam>s\n",
      "eggs>spam>\n"
     ]
    }
   ],
   "source": [
    "class SpecialString:\n",
    "    def __init__(self, cont):\n",
    "        self.cont = cont\n",
    "\n",
    "# If you've gotten this far in the course, you know what's happening above; I shouldn't need to explain it, a class has been declared.\n",
    "\n",
    "    def __gt__(self, other):\n",
    "        for index in range(len(other.cont)+1):\n",
    "\n",
    "# In referencing the List Slices course in the Python Beginner's Course, you'll figure out whats happening next, but the class has just created a for loop utilizing a range with an argument of the length of the string plus one. In our example: other.cont == \"eggs\" == 4 so 4 + 1 = 5. So the range has values of [0, 1, 2, 3, 4].\n",
    "\n",
    "            result = f\"{other.cont[:index]}>{self.cont}\"\n",
    "\n",
    "# On the first pass of the for loop, the index is at 0 so other.cont[:0] will return nothing as its only calling everything up to range 0, then it returns \">\" and then it returns self.cont. The previous line returns \">spam\" and moves to next line.\n",
    "\n",
    "\n",
    "            result += f\">{other.cont[index:]}\"\n",
    "            print(result)\n",
    "\n",
    "# This line adds \">\" followed by the the entire string from other.cont, as the start is at index 0, with no specified stop. So when result is printed it prints: >spam>eggs\n",
    "\n",
    "# Continuing with this logic for the next for loop pass: e>spam>ggs\n",
    "\n",
    "# Next: eg>spam>gs\n",
    "\n",
    "# And so and so on.\n",
    "\n",
    "# I hope this explained it adequately; I'm still sorta bad at Python terminology.\n",
    "\n",
    "spam = SpecialString(\"spam\")\n",
    "eggs = SpecialString(\"eggs\")\n",
    "spam > eggs"
   ],
   "metadata": {
    "collapsed": false
   }
  },
  {
   "cell_type": "code",
   "execution_count": 14,
   "outputs": [
    {
     "name": "stdout",
     "output_type": "stream",
     "text": [
      "spam\n",
      "============\n",
      "Hello world!\n",
      "Hello+word+!\n"
     ]
    }
   ],
   "source": [
    "class SpecialString:\n",
    "    def __init__(self, cont):\n",
    "        self.cont = cont\n",
    "    def __truediv__(self, other):\n",
    "        line = \"=\"*len(other.cont)\n",
    "        return \"\\n\".join([self.cont, line, other.cont])\n",
    "\n",
    "spam = SpecialString(\"spam\")\n",
    "hello = SpecialString(\"Hello world!\")\n",
    "print (spam / hello)\n",
    "\n",
    "print(\"+\".join([\"Hello\",\"word\",\"!\"]))\n"
   ],
   "metadata": {
    "collapsed": false
   }
  },
  {
   "cell_type": "code",
   "execution_count": 15,
   "outputs": [
    {
     "name": "stdout",
     "output_type": "stream",
     "text": [
      "Identity of BlueGreen:\n",
      "I am Blue!\n",
      "MRO:  (<class '__main__.BlueGreen'>, <class '__main__.Blue'>, <class '__main__.Green'>, <class 'object'>)\n",
      "******************************\n",
      "Identity of GreenBlue:\n",
      "I am Green!\n",
      "MRO:  (<class '__main__.GreenBlue'>, <class '__main__.Green'>, <class '__main__.Blue'>, <class 'object'>)\n"
     ]
    }
   ],
   "source": [
    "# Multiple inheritance and MRO\n",
    "# The method resolution order (MRO) determines which class provides the primary implementation of an inherited method.\n",
    "\n",
    "class Blue:\n",
    "    def who_am_i(self):\n",
    "        print(\"I am Blue!\")\n",
    "\n",
    "class Green:\n",
    "    def who_am_i(self):\n",
    "        print(\"I am Green!\")\n",
    "\n",
    "class BlueGreen(Blue, Green):\n",
    "    def who_am_i(self):\n",
    "        print(\"Identity of BlueGreen:\")\n",
    "        super().who_am_i()\n",
    "        print(\"MRO: \", BlueGreen.__mro__)\n",
    "\n",
    "class GreenBlue(Green, Blue):\n",
    "    def who_am_i(self):\n",
    "        print(\"Identity of GreenBlue:\")\n",
    "        super().who_am_i()\n",
    "        print(\"MRO: \", GreenBlue.__mro__)\n",
    "\n",
    "\n",
    "BlueGreen().who_am_i()\n",
    "print(\"*\" * 30)\n",
    "GreenBlue().who_am_i()"
   ],
   "metadata": {
    "collapsed": false
   }
  }
 ],
 "metadata": {
  "kernelspec": {
   "display_name": "Python 3",
   "language": "python",
   "name": "python3"
  },
  "language_info": {
   "codemirror_mode": {
    "name": "ipython",
    "version": 2
   },
   "file_extension": ".py",
   "mimetype": "text/x-python",
   "name": "python",
   "nbconvert_exporter": "python",
   "pygments_lexer": "ipython2",
   "version": "2.7.6"
  }
 },
 "nbformat": 4,
 "nbformat_minor": 0
}
