{
 "cells": [
  {
   "cell_type": "code",
   "execution_count": 31,
   "metadata": {
    "collapsed": true
   },
   "outputs": [],
   "source": [
    "import datetime"
   ]
  },
  {
   "cell_type": "code",
   "execution_count": 32,
   "outputs": [],
   "source": [
    "class Author:\n",
    "    def __init__(self, name: str, gender: str,  country: str, birthday: datetime.date, books: list = None):\n",
    "        self.name = name.title()\n",
    "        self.gender = gender\n",
    "        self.country = country.title()\n",
    "        self.birthday = birthday\n",
    "        self.birthday_ = birthday.strftime('%d-%m-%Y')\n",
    "        self.age = datetime.date.today() - self.birthday\n",
    "        if books is None:\n",
    "            books = []\n",
    "        self.books = books\n",
    "\n",
    "    def write(self, book_name, year: int):\n",
    "        book = Book(book_name, year, self, len(self.books) + 1)\n",
    "        self.books.append(book)\n",
    "        return book\n",
    "\n",
    "    def show_all_books(self):\n",
    "        for book in self.books:\n",
    "            print(f'{book.number}. {book.name} - {book.year}.')\n",
    "\n",
    "    def __str__(self):\n",
    "        age = int((datetime.date.today() - self.birthday).total_seconds() // (3600*24*365))\n",
    "        match self.gender:\n",
    "            case 'man'|'male':\n",
    "                sex = 'man'\n",
    "                who = 'He'\n",
    "            case 'woman'|'female':\n",
    "                sex = 'woman'\n",
    "                who = 'She'\n",
    "            case _:\n",
    "                sex = 'person'\n",
    "                who = 'This person'\n",
    "        return f'It is {self.name} a {sex} of ' \\\n",
    "               f'{age}' \\\n",
    "               f' years old. {who} is a writer from {self.country}, an author of {len(self.books)} books.'\n",
    "\n",
    "    def __repr__(self):\n",
    "        return f'Name: {self.name}\\nGender: {self.gender}\\n' \\\n",
    "               f'Birthday: {self.birthday_}\\nNumber of books: {len(self.books)}'\n",
    "\n",
    "    def show_annotation(self):\n",
    "        print(self.__str__())\n",
    "\n",
    "    def show_information(self):\n",
    "        print(self.__repr__())\n",
    "\n",
    "class Book:\n",
    "    __books_number = 0\n",
    "    __books = []\n",
    "    id = None\n",
    "\n",
    "    def __new__(cls,name: str, year: int, author: Author, number: int):\n",
    "        cls.id = (name, author.name)\n",
    "        if cls.id not in cls.__books:\n",
    "            cls.__books_number += 1\n",
    "            cls.__books.append(cls.id)\n",
    "            return super().__new__(cls)\n",
    "        else:\n",
    "            print('The book already exists.')\n",
    "            return None\n",
    "\n",
    "    def __init__(self, name: str, year: int, author: Author, number: int):\n",
    "        self.name = name\n",
    "        self.year = year\n",
    "        self.author = author\n",
    "        self.number = number\n",
    "        self.number_of_all = self.__books_number\n",
    "\n",
    "    def __str__(self):\n",
    "        return f'The book \"{self.name}\" has been wrote' \\\n",
    "               f' by {self.author.name} in {self.year} year. It is the {self.number} book from this author.'\n",
    "\n",
    "    def __repr__(self):\n",
    "        return f'Book: \"{self.name}\"\\nAuthor: {self.author.name}\\nYear: {self.year}\\n' \\\n",
    "               f'Number of the author\\'s books: {self.number}\\n' \\\n",
    "               f'Number of all books: {self.number_of_all}'\n",
    "\n",
    "    def show_annotation(self):\n",
    "        print(self.__str__())\n",
    "\n",
    "    def show_information(self):\n",
    "        print(self.__repr__())\n",
    "\n",
    "    @classmethod\n",
    "    def get_number_of_books(cls):\n",
    "        print(f'The total number of written books is {cls.__books_number}.')\n",
    "\n",
    "class Library:\n",
    "    def __init__(self, name: str, books: list[Book] = None, authors: list[Author] = None):\n",
    "        if books is None:\n",
    "            books = []\n",
    "        if authors is None:\n",
    "            authors = []\n",
    "        self.name = name.title()\n",
    "        self.books = books\n",
    "        self.authors = authors\n",
    "\n",
    "    def new_book(self, book: Book, author: Author) -> None:\n",
    "        if book.author.name == author.name:\n",
    "            self.books.append(book)\n",
    "            self.books = list(set(self.books))\n",
    "            self.authors.append(author)\n",
    "            self.authors = list(set(self.authors))\n",
    "        else:\n",
    "            print(f'{author.name} did not write book \"{book.name}\".')\n",
    "\n",
    "    def group_by_author(self, author: str) -> list[Book]:\n",
    "        return [book for book in self.books if book.author.name == author]\n",
    "\n",
    "    def show_by_author(self, author: str or Author) -> None:\n",
    "        author_ = author.title() if isinstance(author, str) else author.name\n",
    "        books = self.group_by_author(author_)\n",
    "        print(f\"There are {len(books)} {author_}'s books in our library:\")\n",
    "        for book in books:\n",
    "            print(f' ~ \"{book.name}\".')\n",
    "\n",
    "    def group_by_year(self, year: int) -> list[Book]:\n",
    "        return [book for book in self.books if book.year == year]\n",
    "\n",
    "    def show_by_year(self, year: int) -> None:\n",
    "        books = self.group_by_year(year)\n",
    "        print(f\"There are {len(books)} books written in {year} in our library:\")\n",
    "        for book in books:\n",
    "            print(f' ~ \"{book.name}\" ({book.author.name}).')\n",
    "\n",
    "    def show_all_books(self):\n",
    "        from prettytable import PrettyTable\n",
    "        table = PrettyTable()\n",
    "        table.field_names = ['Book', 'Year', 'Author']\n",
    "        for book in self.books:\n",
    "            table.add_row([book.name, book.year, book.author.name])\n",
    "        print(table)\n",
    "\n",
    "    def show_all_authors(self):\n",
    "        from prettytable import PrettyTable\n",
    "        table = PrettyTable()\n",
    "        table.field_names = ['Author', 'Number of books in the library']\n",
    "        for author in self.authors:\n",
    "            table.add_row([author.name, len(self.group_by_author(author.name))])\n",
    "        print(table)\n",
    "\n",
    "    def __str__(self):\n",
    "        return f'Our library is called \"{self.name}\".\\n' \\\n",
    "               f'It contains {len(self.books)} books by {len(set(self.authors))} authors.'\n",
    "\n",
    "    def __repr__(self):\n",
    "        return f'Library: \"{self.name}\"\\nNumber of books: {len(self.books)}' \\\n",
    "               f'\\nNumber of authors: {len(set(self.authors))}'\n",
    "\n",
    "    def show_annotation(self):\n",
    "        print(self.__str__())\n",
    "\n",
    "    def show_information(self):\n",
    "        print(self.__repr__())"
   ],
   "metadata": {
    "collapsed": false
   }
  },
  {
   "cell_type": "code",
   "execution_count": 33,
   "outputs": [],
   "source": [
    "# Створюємо автора: А́ртур Ігна́тіус Ко́нан Дойл\n",
    "author1 = Author('arthur conan doyle', 'man', 'united kingdom', datetime.date(1859, 5, 22))"
   ],
   "metadata": {
    "collapsed": false
   }
  },
  {
   "cell_type": "code",
   "execution_count": 34,
   "outputs": [],
   "source": [
    "# Конан Дойл пише свої книги:\n",
    "book1 = author1.write('The Five Orange Pips', 1887)\n",
    "book2 = author1.write('A scandal in Bohemia', 1888)\n",
    "book3 = author1.write('The Red-Headed League', 1890)"
   ],
   "metadata": {
    "collapsed": false
   }
  },
  {
   "cell_type": "code",
   "execution_count": 35,
   "outputs": [],
   "source": [
    "# Створюємо автора: Джоа́н Ро́улінг\n",
    "author2 = Author('joanne rowling', 'female', 'united kingdom', datetime.date(1965, 7, 31))"
   ],
   "metadata": {
    "collapsed": false
   }
  },
  {
   "cell_type": "code",
   "execution_count": 36,
   "outputs": [],
   "source": [
    "# Джоан Роулінг пише свої книги:\n",
    "book4 = author2.write(\"Harry Potter and the Philosopher's Stone\", 1997)\n",
    "book5 = author2.write('Harry Potter and the Chamber of Secrets', 1998)"
   ],
   "metadata": {
    "collapsed": false
   }
  },
  {
   "cell_type": "code",
   "execution_count": 37,
   "outputs": [],
   "source": [
    "# Створюємо автора: Сергій Жадан\n",
    "author3 = Author('serhiy zhadan', 'male', 'ukraine', datetime.date(1974, 8, 23))"
   ],
   "metadata": {
    "collapsed": false
   }
  },
  {
   "cell_type": "code",
   "execution_count": 38,
   "outputs": [],
   "source": [
    "# Сергій Жадан пише свою книгу:\n",
    "book6 = author3.write('Pepsi', 1998)"
   ],
   "metadata": {
    "collapsed": false
   }
  },
  {
   "cell_type": "code",
   "execution_count": 39,
   "outputs": [
    {
     "name": "stdout",
     "output_type": "stream",
     "text": [
      "The book already exists.\n"
     ]
    }
   ],
   "source": [
    "# Спробуємо створити ще одну таку ж книгу:\n",
    "book7 = author3.write('Pepsi', 1998)"
   ],
   "metadata": {
    "collapsed": false
   }
  },
  {
   "cell_type": "code",
   "execution_count": 40,
   "outputs": [
    {
     "name": "stdout",
     "output_type": "stream",
     "text": [
      "<class 'NoneType'>\n"
     ]
    }
   ],
   "source": [
    "print(type(book7))"
   ],
   "metadata": {
    "collapsed": false
   }
  },
  {
   "cell_type": "code",
   "execution_count": 41,
   "outputs": [
    {
     "name": "stdout",
     "output_type": "stream",
     "text": [
      "The total number of written books is 6.\n"
     ]
    }
   ],
   "source": [
    "# Виводимо загальну кількість книг:\n",
    "Book.get_number_of_books()"
   ],
   "metadata": {
    "collapsed": false
   }
  },
  {
   "cell_type": "code",
   "execution_count": 42,
   "outputs": [
    {
     "name": "stdout",
     "output_type": "stream",
     "text": [
      "The book \"Harry Potter and the Philosopher's Stone\" has been wrote by Joanne Rowling in 1997 year. It is the 1 book from this author.\n"
     ]
    }
   ],
   "source": [
    "# Подивимося анотацію на книгу № 4\n",
    "book4.show_annotation()"
   ],
   "metadata": {
    "collapsed": false
   }
  },
  {
   "cell_type": "code",
   "execution_count": 43,
   "outputs": [
    {
     "name": "stdout",
     "output_type": "stream",
     "text": [
      "Book: \"Pepsi\"\n",
      "Author: Serhiy Zhadan\n",
      "Year: 1998\n",
      "Number of the author's books: 1\n",
      "Number of all books: 6\n"
     ]
    }
   ],
   "source": [
    "# Подивимося інформацію про книгу № 6\n",
    "book6.show_information()"
   ],
   "metadata": {
    "collapsed": false
   }
  },
  {
   "cell_type": "code",
   "execution_count": 44,
   "outputs": [],
   "source": [
    "# Засновуємо бібліотеку \"Барвінок\"\n",
    "library = Library('periwinkle')"
   ],
   "metadata": {
    "collapsed": false
   }
  },
  {
   "cell_type": "code",
   "execution_count": 45,
   "outputs": [],
   "source": [
    "# Додаємо до фондів бібліотеки 3 книги (№№ 1, 4, 6)\n",
    "library.new_book(book1, author1)\n",
    "library.new_book(book4, author2)\n",
    "library.new_book(book6, author3)"
   ],
   "metadata": {
    "collapsed": false
   }
  },
  {
   "cell_type": "code",
   "execution_count": 46,
   "outputs": [
    {
     "name": "stdout",
     "output_type": "stream",
     "text": [
      "Our library is called \"Periwinkle\".\n",
      "It contains 3 books by 3 authors.\n"
     ]
    }
   ],
   "source": [
    "# Подивимося анотацію про нашу бібліотеку:\n",
    "library.show_annotation()"
   ],
   "metadata": {
    "collapsed": false
   }
  },
  {
   "cell_type": "code",
   "execution_count": 47,
   "outputs": [
    {
     "name": "stdout",
     "output_type": "stream",
     "text": [
      "Library: \"Periwinkle\"\n",
      "Number of books: 3\n",
      "Number of authors: 3\n"
     ]
    }
   ],
   "source": [
    "# Подивимося інформацію про нашу бібліотеку:\n",
    "library.show_information()"
   ],
   "metadata": {
    "collapsed": false
   }
  },
  {
   "cell_type": "code",
   "execution_count": 48,
   "outputs": [
    {
     "name": "stdout",
     "output_type": "stream",
     "text": [
      "+------------------------------------------+------+--------------------+\n",
      "|                   Book                   | Year |       Author       |\n",
      "+------------------------------------------+------+--------------------+\n",
      "|                  Pepsi                   | 1998 |   Serhiy Zhadan    |\n",
      "| Harry Potter and the Philosopher's Stone | 1997 |   Joanne Rowling   |\n",
      "|           The Five Orange Pips           | 1887 | Arthur Conan Doyle |\n",
      "+------------------------------------------+------+--------------------+\n"
     ]
    }
   ],
   "source": [
    "# Покажемо інформацію про книги в бібліотеці:\n",
    "library.show_all_books()"
   ],
   "metadata": {
    "collapsed": false
   }
  },
  {
   "cell_type": "code",
   "execution_count": 49,
   "outputs": [
    {
     "name": "stdout",
     "output_type": "stream",
     "text": [
      "+--------------------+--------------------------------+\n",
      "|       Author       | Number of books in the library |\n",
      "+--------------------+--------------------------------+\n",
      "|   Serhiy Zhadan    |               1                |\n",
      "|   Joanne Rowling   |               1                |\n",
      "| Arthur Conan Doyle |               1                |\n",
      "+--------------------+--------------------------------+\n"
     ]
    }
   ],
   "source": [
    "# Подивимося інформацію про авторів книг в бібліотеці:\n",
    "library.show_all_authors()"
   ],
   "metadata": {
    "collapsed": false
   }
  },
  {
   "cell_type": "code",
   "execution_count": 50,
   "outputs": [
    {
     "name": "stdout",
     "output_type": "stream",
     "text": [
      "Serhiy Zhadan did not write book \"A scandal in Bohemia\".\n"
     ]
    }
   ],
   "source": [
    "# Спробуємо додати книгу за невідповідним автором:\n",
    "library.new_book(book2, author3)"
   ],
   "metadata": {
    "collapsed": false
   }
  },
  {
   "cell_type": "code",
   "execution_count": 51,
   "outputs": [],
   "source": [
    "# Додамо всі наявні в програмі книги:\n",
    "library.new_book(book2, author1)\n",
    "library.new_book(book3, author1)\n",
    "library.new_book(book5, author2)\n",
    "library.new_book(book6, author3)"
   ],
   "metadata": {
    "collapsed": false
   }
  },
  {
   "cell_type": "code",
   "execution_count": 52,
   "outputs": [
    {
     "name": "stdout",
     "output_type": "stream",
     "text": [
      "Name: Serhiy Zhadan\n",
      "Gender: male\n",
      "Birthday: 23-08-1974\n",
      "Number of books: 2\n"
     ]
    }
   ],
   "source": [
    "# Подивимося інформацію про автора № 3\n",
    "author3.show_information()"
   ],
   "metadata": {
    "collapsed": false
   }
  },
  {
   "cell_type": "code",
   "execution_count": 53,
   "outputs": [
    {
     "name": "stdout",
     "output_type": "stream",
     "text": [
      "There are 1 Serhiy Zhadan's books in our library:\n",
      " ~ \"Pepsi\".\n"
     ]
    }
   ],
   "source": [
    "# Покажемо інформацію про автора 'serhiy zhadan' та його книги в бібліотеці:\n",
    "library.show_by_author('serhiy zhadan')"
   ],
   "metadata": {
    "collapsed": false
   }
  },
  {
   "cell_type": "code",
   "execution_count": 54,
   "outputs": [
    {
     "name": "stdout",
     "output_type": "stream",
     "text": [
      "It is Joanne Rowling a woman of 57 years old. She is a writer from United Kingdom, an author of 2 books.\n"
     ]
    }
   ],
   "source": [
    "# Покажемо анотацію про автора № 2:\n",
    "author2.show_annotation()"
   ],
   "metadata": {
    "collapsed": false
   }
  },
  {
   "cell_type": "code",
   "execution_count": 55,
   "outputs": [
    {
     "name": "stdout",
     "output_type": "stream",
     "text": [
      "There are 2 Joanne Rowling's books in our library:\n",
      " ~ \"Harry Potter and the Philosopher's Stone\".\n",
      " ~ \"Harry Potter and the Chamber of Secrets\".\n"
     ]
    }
   ],
   "source": [
    "# Покажемо інформацію про автора № 2 та його книги в бібліотеці:\n",
    "library.show_by_author(author2)"
   ],
   "metadata": {
    "collapsed": false
   }
  },
  {
   "cell_type": "code",
   "execution_count": 56,
   "outputs": [
    {
     "name": "stdout",
     "output_type": "stream",
     "text": [
      "There are 2 books written in 1998 in our library:\n",
      " ~ \"Pepsi\" (Serhiy Zhadan).\n",
      " ~ \"Harry Potter and the Chamber of Secrets\" (Joanne Rowling).\n"
     ]
    }
   ],
   "source": [
    "# Покажемо інформацію про книги 1998 року в бібліотеці:\n",
    "library.show_by_year(1998)"
   ],
   "metadata": {
    "collapsed": false
   }
  },
  {
   "cell_type": "code",
   "execution_count": 57,
   "outputs": [
    {
     "name": "stdout",
     "output_type": "stream",
     "text": [
      "Our library is called \"Periwinkle\".\n",
      "It contains 6 books by 3 authors.\n"
     ]
    }
   ],
   "source": [
    "# Подивимося анотацію про нашу бібліотеку:\n",
    "library.show_annotation()"
   ],
   "metadata": {
    "collapsed": false
   }
  },
  {
   "cell_type": "code",
   "execution_count": 58,
   "outputs": [
    {
     "name": "stdout",
     "output_type": "stream",
     "text": [
      "Library: \"Periwinkle\"\n",
      "Number of books: 6\n",
      "Number of authors: 3\n"
     ]
    }
   ],
   "source": [
    "# Подивимося інформацію про нашу бібліотеку:\n",
    "library.show_information()"
   ],
   "metadata": {
    "collapsed": false
   }
  },
  {
   "cell_type": "code",
   "execution_count": 59,
   "outputs": [
    {
     "name": "stdout",
     "output_type": "stream",
     "text": [
      "+------------------------------------------+------+--------------------+\n",
      "|                   Book                   | Year |       Author       |\n",
      "+------------------------------------------+------+--------------------+\n",
      "|                  Pepsi                   | 1998 |   Serhiy Zhadan    |\n",
      "|           The Five Orange Pips           | 1887 | Arthur Conan Doyle |\n",
      "|           A scandal in Bohemia           | 1888 | Arthur Conan Doyle |\n",
      "| Harry Potter and the Philosopher's Stone | 1997 |   Joanne Rowling   |\n",
      "|          The Red-Headed League           | 1890 | Arthur Conan Doyle |\n",
      "| Harry Potter and the Chamber of Secrets  | 1998 |   Joanne Rowling   |\n",
      "+------------------------------------------+------+--------------------+\n"
     ]
    }
   ],
   "source": [
    "# Покажемо інформацію про книги в бібліотеці:\n",
    "library.show_all_books()"
   ],
   "metadata": {
    "collapsed": false
   }
  },
  {
   "cell_type": "code",
   "execution_count": 60,
   "outputs": [
    {
     "name": "stdout",
     "output_type": "stream",
     "text": [
      "+--------------------+--------------------------------+\n",
      "|       Author       | Number of books in the library |\n",
      "+--------------------+--------------------------------+\n",
      "|   Serhiy Zhadan    |               1                |\n",
      "|   Joanne Rowling   |               2                |\n",
      "| Arthur Conan Doyle |               3                |\n",
      "+--------------------+--------------------------------+\n"
     ]
    }
   ],
   "source": [
    "# Подивимося інформацію про авторів книг в бібліотеці:\n",
    "library.show_all_authors()"
   ],
   "metadata": {
    "collapsed": false
   }
  }
 ],
 "metadata": {
  "kernelspec": {
   "display_name": "Python 3",
   "language": "python",
   "name": "python3"
  },
  "language_info": {
   "codemirror_mode": {
    "name": "ipython",
    "version": 2
   },
   "file_extension": ".py",
   "mimetype": "text/x-python",
   "name": "python",
   "nbconvert_exporter": "python",
   "pygments_lexer": "ipython2",
   "version": "2.7.6"
  }
 },
 "nbformat": 4,
 "nbformat_minor": 0
}
