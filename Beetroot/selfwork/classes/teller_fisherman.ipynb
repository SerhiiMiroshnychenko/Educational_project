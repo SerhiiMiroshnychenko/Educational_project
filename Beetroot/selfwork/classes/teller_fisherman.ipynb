{
 "cells": [
  {
   "cell_type": "code",
   "execution_count": 64,
   "metadata": {
    "collapsed": true
   },
   "outputs": [],
   "source": [
    "class StoryTaller:\n",
    "    def __init__(self, name:str, age:int, profession:str):\n",
    "        self.name = name\n",
    "        self.age = age\n",
    "        self.profession = profession\n",
    "        self.story = ''\n",
    "\n",
    "    def greeting(self):\n",
    "        print(f'Hi, My name is {self.name}! I am {self.age} and I am a {self.profession} by profession.')\n",
    "\n",
    "    def learn_story(self, story:str):\n",
    "        self.story = story\n",
    "\n",
    "    def tell_story(self):\n",
    "        print(self.story)"
   ]
  },
  {
   "cell_type": "code",
   "execution_count": 65,
   "outputs": [],
   "source": [
    "speaker1 = StoryTaller('Bob', 30, 'engineer')"
   ],
   "metadata": {
    "collapsed": false
   }
  },
  {
   "cell_type": "code",
   "execution_count": 66,
   "outputs": [
    {
     "name": "stdout",
     "output_type": "stream",
     "text": [
      "Hi, My name is Bob! I am 30 and I am a engineer by profession.\n"
     ]
    }
   ],
   "source": [
    "speaker1.greeting()"
   ],
   "metadata": {
    "collapsed": false
   }
  },
  {
   "cell_type": "code",
   "execution_count": 67,
   "outputs": [],
   "source": [
    "speaker1.learn_story('My Mom was a queen!')"
   ],
   "metadata": {
    "collapsed": false
   }
  },
  {
   "cell_type": "code",
   "execution_count": 68,
   "outputs": [
    {
     "name": "stdout",
     "output_type": "stream",
     "text": [
      "My Mom was a queen!\n"
     ]
    }
   ],
   "source": [
    "speaker1.tell_story()"
   ],
   "metadata": {
    "collapsed": false
   }
  },
  {
   "cell_type": "code",
   "execution_count": 69,
   "outputs": [],
   "source": [
    "class Fisherman(StoryTaller):\n",
    "    def __init__(self, name:str, age:int):\n",
    "        super().__init__(name, age, profession='Fisherman')\n",
    "        self.profession = 'Fisherman'\n",
    "\n",
    "    def greeting(self):\n",
    "        print(f'Hi, My name is {self.name}! I am {self.age} and I am a {self.profession}.')\n",
    "\n",
    "    def learn_story(self, story:str):\n",
    "        if 'fish' in story:\n",
    "            story = story.replace('fish', 'very big fish')\n",
    "        self.story = story"
   ],
   "metadata": {
    "collapsed": false
   }
  },
  {
   "cell_type": "code",
   "execution_count": 70,
   "outputs": [],
   "source": [
    "speaker2 = Fisherman('Tom', 33)"
   ],
   "metadata": {
    "collapsed": false
   }
  },
  {
   "cell_type": "code",
   "execution_count": 71,
   "outputs": [
    {
     "name": "stdout",
     "output_type": "stream",
     "text": [
      "Hi, My name is Tom! I am 33 and I am a Fisherman.\n"
     ]
    }
   ],
   "source": [
    "speaker2.greeting()"
   ],
   "metadata": {
    "collapsed": false
   }
  },
  {
   "cell_type": "code",
   "execution_count": 72,
   "outputs": [],
   "source": [
    "speaker2.learn_story('My Dad was a captain!')"
   ],
   "metadata": {
    "collapsed": false
   }
  },
  {
   "cell_type": "code",
   "execution_count": 73,
   "outputs": [
    {
     "name": "stdout",
     "output_type": "stream",
     "text": [
      "My Dad was a captain!\n"
     ]
    }
   ],
   "source": [
    "speaker2.tell_story()"
   ],
   "metadata": {
    "collapsed": false
   }
  },
  {
   "cell_type": "code",
   "execution_count": 74,
   "outputs": [],
   "source": [
    "speaker1.learn_story('I caught a fish yesterday.')"
   ],
   "metadata": {
    "collapsed": false
   }
  },
  {
   "cell_type": "code",
   "execution_count": 75,
   "outputs": [],
   "source": [
    "speaker2.learn_story('I caught a fish yesterday.')"
   ],
   "metadata": {
    "collapsed": false
   }
  },
  {
   "cell_type": "code",
   "execution_count": 76,
   "outputs": [
    {
     "name": "stdout",
     "output_type": "stream",
     "text": [
      "I caught a fish yesterday.\n",
      "I caught a very big fish yesterday.\n"
     ]
    }
   ],
   "source": [
    "speaker1.tell_story()\n",
    "speaker2.tell_story()"
   ],
   "metadata": {
    "collapsed": false
   }
  },
  {
   "cell_type": "code",
   "execution_count": 77,
   "outputs": [
    {
     "name": "stdout",
     "output_type": "stream",
     "text": [
      "True\n",
      "False\n",
      "True\n",
      "True\n"
     ]
    }
   ],
   "source": [
    "print(issubclass(Fisherman, StoryTaller))\n",
    "print(isinstance(Fisherman, StoryTaller))\n",
    "print(isinstance(StoryTaller, object))\n",
    "print(isinstance(Fisherman, object))"
   ],
   "metadata": {
    "collapsed": false
   }
  },
  {
   "cell_type": "code",
   "execution_count": 78,
   "outputs": [
    {
     "name": "stdout",
     "output_type": "stream",
     "text": [
      "True\n",
      "True\n"
     ]
    }
   ],
   "source": [
    "print(isinstance(speaker2, StoryTaller))\n",
    "print(isinstance(speaker2, Fisherman))"
   ],
   "metadata": {
    "collapsed": false
   }
  },
  {
   "cell_type": "code",
   "execution_count": 79,
   "outputs": [
    {
     "name": "stdout",
     "output_type": "stream",
     "text": [
      "True\n",
      "False\n"
     ]
    }
   ],
   "source": [
    "print(isinstance(speaker1, StoryTaller))\n",
    "print(isinstance(speaker1, Fisherman))"
   ],
   "metadata": {
    "collapsed": false
   }
  },
  {
   "cell_type": "code",
   "execution_count": 80,
   "outputs": [
    {
     "name": "stdout",
     "output_type": "stream",
     "text": [
      "<class 'type'>\n"
     ]
    }
   ],
   "source": [
    "print(type(Fisherman))"
   ],
   "metadata": {
    "collapsed": false
   }
  },
  {
   "cell_type": "code",
   "execution_count": 81,
   "outputs": [],
   "source": [
    "class Policeman(StoryTaller):\n",
    "    def __new__(cls, *args, **kwargs):\n",
    "        print('Policeman was born!')\n",
    "        return super().__new__(cls)\n",
    "\n",
    "    def __init__(self, name:str, age:int):\n",
    "        super().__init__(name, age, profession='Policeman')\n",
    "        self.profession = 'Policeman'\n"
   ],
   "metadata": {
    "collapsed": false
   }
  },
  {
   "cell_type": "code",
   "execution_count": 82,
   "outputs": [
    {
     "name": "stdout",
     "output_type": "stream",
     "text": [
      "Policeman was born!\n"
     ]
    }
   ],
   "source": [
    "speaker3 = Policeman('Bill', 35)"
   ],
   "metadata": {
    "collapsed": false
   }
  }
 ],
 "metadata": {
  "kernelspec": {
   "display_name": "Python 3",
   "language": "python",
   "name": "python3"
  },
  "language_info": {
   "codemirror_mode": {
    "name": "ipython",
    "version": 2
   },
   "file_extension": ".py",
   "mimetype": "text/x-python",
   "name": "python",
   "nbconvert_exporter": "python",
   "pygments_lexer": "ipython2",
   "version": "2.7.6"
  }
 },
 "nbformat": 4,
 "nbformat_minor": 0
}
