{
 "cells": [
  {
   "cell_type": "code",
   "execution_count": 1,
   "metadata": {
    "collapsed": true
   },
   "outputs": [
    {
     "name": "stdout",
     "output_type": "stream",
     "text": [
      "Geeks for Geeks\n"
     ]
    }
   ],
   "source": [
    "# Python program showing\n",
    "# use of __call__() method\n",
    "\n",
    "class MyDecorator:\n",
    "    def __init__(self, func):\n",
    "        self.function = func\n",
    "\n",
    "    def __call__(self):\n",
    "\n",
    "        # We can add some code\n",
    "        # before function call\n",
    "\n",
    "        self.function()\n",
    "\n",
    "        # We can also add some code\n",
    "        # after function call.\n",
    "\n",
    "\n",
    "# adding class decorator to the function\n",
    "@MyDecorator\n",
    "def function():\n",
    "    print(\"Geeks for Geeks\")\n",
    "\n",
    "function()"
   ]
  },
  {
   "cell_type": "code",
   "execution_count": 2,
   "outputs": [
    {
     "name": "stdout",
     "output_type": "stream",
     "text": [
      "hello, geeks_for_geeks\n"
     ]
    }
   ],
   "source": [
    "# Python program showing\n",
    "# class decorator with *args\n",
    "# and **kwargs\n",
    "\n",
    "class MyDecorator:\n",
    "    def __init__(self, function):\n",
    "        self.function = function\n",
    "\n",
    "    def __call__(self, *args, **kwargs):\n",
    "\n",
    "        # We can add some code\n",
    "        # before function call\n",
    "\n",
    "        self.function(*args, **kwargs)\n",
    "\n",
    "        # We can also add some code\n",
    "        # after function call.\n",
    "\n",
    "\n",
    "# adding class decorator to the function\n",
    "@MyDecorator\n",
    "def function(name, message ='Hello'):\n",
    "    print(f\"{message}, {name}\")\n",
    "\n",
    "function(\"geeks_for_geeks\", \"hello\")"
   ],
   "metadata": {
    "collapsed": false
   }
  },
  {
   "cell_type": "code",
   "execution_count": 3,
   "outputs": [
    {
     "name": "stdout",
     "output_type": "stream",
     "text": [
      "given number is: 195\n",
      "Square of number is: 38025\n"
     ]
    }
   ],
   "source": [
    "# Python program showing\n",
    "# class decorator with\n",
    "# return statement\n",
    "\n",
    "class SquareDecorator:\n",
    "\n",
    "    def __init__(self, function):\n",
    "        self.function = function\n",
    "\n",
    "    def __call__(self, *args, **kwargs):\n",
    "\n",
    "        return self.function(*args, **kwargs)\n",
    "\n",
    " # adding class decorator to the function\n",
    "@SquareDecorator\n",
    "def get_square(n):\n",
    "    print(\"given number is:\", n)\n",
    "    return n * n\n",
    "\n",
    "print(\"Square of number is:\", get_square(195))"
   ],
   "metadata": {
    "collapsed": false
   }
  },
  {
   "cell_type": "code",
   "execution_count": 4,
   "outputs": [
    {
     "name": "stdout",
     "output_type": "stream",
     "text": [
      "Execution took 3.0011372566223145 seconds\n"
     ]
    }
   ],
   "source": [
    "# Python program to execute\n",
    "# time of a program\n",
    "\n",
    "# importing time module\n",
    "from time import time\n",
    "class Timer:\n",
    "\n",
    "    def __init__(self, func):\n",
    "        self.function = func\n",
    "\n",
    "    def __call__(self, *args, **kwargs):\n",
    "        start_time = time()\n",
    "        result = self.function(*args, **kwargs)\n",
    "        end_time = time()\n",
    "        print(f\"Execution took {end_time - start_time} seconds\")\n",
    "        return result\n",
    "\n",
    "\n",
    "# adding a decorator to the function\n",
    "@Timer\n",
    "def some_function(delay):\n",
    "    from time import sleep\n",
    "\n",
    "    # Introducing some time delay to\n",
    "    # simulate a time taking function.\n",
    "    sleep(delay)\n",
    "\n",
    "some_function(3)"
   ],
   "metadata": {
    "collapsed": false
   }
  },
  {
   "cell_type": "code",
   "execution_count": 8,
   "outputs": [
    {
     "name": "stdout",
     "output_type": "stream",
     "text": [
      "6\n"
     ]
    },
    {
     "ename": "TypeError",
     "evalue": "parameter cannot be a string !!",
     "output_type": "error",
     "traceback": [
      "\u001B[1;31m---------------------------------------------------------------------------\u001B[0m",
      "\u001B[1;31mTypeError\u001B[0m                                 Traceback (most recent call last)",
      "Cell \u001B[1;32mIn [8], line 25\u001B[0m\n\u001B[0;32m     22\u001B[0m \u001B[38;5;28mprint\u001B[39m(add_numbers(\u001B[38;5;241m1\u001B[39m, \u001B[38;5;241m2\u001B[39m, \u001B[38;5;241m3\u001B[39m))\n\u001B[0;32m     24\u001B[0m \u001B[38;5;66;03m# raises Error. \u001B[39;00m\n\u001B[1;32m---> 25\u001B[0m \u001B[38;5;28mprint\u001B[39m(\u001B[43madd_numbers\u001B[49m\u001B[43m(\u001B[49m\u001B[38;5;241;43m1\u001B[39;49m\u001B[43m,\u001B[49m\u001B[43m \u001B[49m\u001B[38;5;124;43m'\u001B[39;49m\u001B[38;5;124;43m2\u001B[39;49m\u001B[38;5;124;43m'\u001B[39;49m\u001B[43m,\u001B[49m\u001B[43m \u001B[49m\u001B[38;5;241;43m3\u001B[39;49m\u001B[43m)\u001B[49m) \n",
      "Cell \u001B[1;32mIn [8], line 12\u001B[0m, in \u001B[0;36mErrorCheck.__call__\u001B[1;34m(self, *params)\u001B[0m\n\u001B[0;32m     10\u001B[0m \u001B[38;5;28;01mdef\u001B[39;00m \u001B[38;5;21m__call__\u001B[39m(\u001B[38;5;28mself\u001B[39m, \u001B[38;5;241m*\u001B[39mparams):\n\u001B[0;32m     11\u001B[0m     \u001B[38;5;28;01mif\u001B[39;00m \u001B[38;5;28many\u001B[39m([\u001B[38;5;28misinstance\u001B[39m(i, \u001B[38;5;28mstr\u001B[39m) \u001B[38;5;28;01mfor\u001B[39;00m i \u001B[38;5;129;01min\u001B[39;00m params]):\n\u001B[1;32m---> 12\u001B[0m         \u001B[38;5;28;01mraise\u001B[39;00m \u001B[38;5;167;01mTypeError\u001B[39;00m(\u001B[38;5;124m\"\u001B[39m\u001B[38;5;124mparameter cannot be a string !!\u001B[39m\u001B[38;5;124m\"\u001B[39m)\n\u001B[0;32m     13\u001B[0m     \u001B[38;5;28;01melse\u001B[39;00m:\n\u001B[0;32m     14\u001B[0m         \u001B[38;5;28;01mreturn\u001B[39;00m \u001B[38;5;28mself\u001B[39m\u001B[38;5;241m.\u001B[39mfunction(\u001B[38;5;241m*\u001B[39mparams)\n",
      "\u001B[1;31mTypeError\u001B[0m: parameter cannot be a string !!"
     ]
    }
   ],
   "source": [
    "# Python program checking\n",
    "# error parameter using\n",
    "# class decorator\n",
    "\n",
    "class ErrorCheck:\n",
    "\n",
    "    def __init__(self, function):\n",
    "        self.function = function\n",
    "\n",
    "    def __call__(self, *params):\n",
    "        if any([isinstance(i, str) for i in params]):\n",
    "            raise TypeError(\"parameter cannot be a string !!\")\n",
    "        else:\n",
    "            return self.function(*params)\n",
    "\n",
    "\n",
    "@ErrorCheck\n",
    "def add_numbers(*numbers):\n",
    "    return sum(numbers)\n",
    "\n",
    "#  returns 6\n",
    "print(add_numbers(1, 2, 3))\n",
    "\n",
    "# raises Error.\n",
    "print(add_numbers(1, '2', 3))"
   ],
   "metadata": {
    "collapsed": false
   }
  },
  {
   "cell_type": "code",
   "execution_count": 9,
   "outputs": [
    {
     "name": "stdout",
     "output_type": "stream",
     "text": [
      "<__main__.Power object at 0x000001DE674D4610>\n",
      "16\n"
     ]
    }
   ],
   "source": [
    "class Power(object):\n",
    "\tdef __init__(self, arg):\n",
    "\t\tself._arg = arg\n",
    "\n",
    "\tdef __call__(self, a, b):\n",
    "\t\tretval = self._arg(a, b)\n",
    "\t\treturn retval ** 2\n",
    "\n",
    "\n",
    "@Power\n",
    "def multiply_together(a, b):\n",
    "\treturn a * b\n",
    "\n",
    "\n",
    "print(multiply_together)\n",
    "print(multiply_together(2, 2))"
   ],
   "metadata": {
    "collapsed": false
   }
  },
  {
   "cell_type": "code",
   "execution_count": 10,
   "outputs": [
    {
     "name": "stdout",
     "output_type": "stream",
     "text": [
      "16\n"
     ]
    }
   ],
   "source": [
    "class Power(object):\n",
    "\tdef __init__(self, arg):\n",
    "\t\tself._arg = arg\n",
    "\n",
    "\tdef __call__(self, *param_arg):\n",
    "\t\t\"\"\"If there are decorator arguments, __call__() is only called once\n",
    "\t\tas part of the decoration process. You can only give it a single argument,\n",
    "\t\twhich is the function object\n",
    "\t\tIf there are no decorator arguments, the function\n",
    "\t\tto be decorated is passed to the constructor.\n",
    "\t\t\"\"\"\n",
    "\t\tif len(param_arg) == 1:\n",
    "\t\t\tdef wrapper(a, b):\n",
    "\t\t\t\tretval = param_arg[0](a, b)\n",
    "\t\t\t\treturn retval ** self._arg\n",
    "\t\t\treturn wrapper\n",
    "\t\telse:\n",
    "\t\t\texpo = 2\n",
    "\t\t\tretval = self._arg(param_arg[0], param_arg[1])\n",
    "\t\t\treturn retval ** expo\n",
    "\n",
    "\n",
    "# @Power(3)\n",
    "# def multiply_together(a, b):\n",
    "# \treturn a * b\n",
    "\n",
    "\n",
    "@Power\n",
    "def multiply_together(a, b):\n",
    "\treturn a * b\n",
    "\n",
    "\n",
    "print(multiply_together(2, 2))"
   ],
   "metadata": {
    "collapsed": false
   }
  },
  {
   "cell_type": "code",
   "execution_count": 11,
   "outputs": [],
   "source": [
    "import functools\n",
    "\n",
    "class CountCalls:\n",
    "    def __init__(self, func):\n",
    "        functools.update_wrapper(self, func)\n",
    "        self.func = func\n",
    "        self.num_calls = 0\n",
    "\n",
    "    def __call__(self, *args, **kwargs):\n",
    "        self.num_calls += 1\n",
    "        print(f\"Call {self.num_calls} of {self.func.__name__!r}\")\n",
    "        return self.func(*args, **kwargs)\n",
    "\n",
    "@CountCalls\n",
    "def say_whee():\n",
    "    print(\"Whee!\")"
   ],
   "metadata": {
    "collapsed": false
   }
  },
  {
   "cell_type": "code",
   "execution_count": 12,
   "outputs": [
    {
     "name": "stdout",
     "output_type": "stream",
     "text": [
      "Call 1 of 'say_whee'\n",
      "Whee!\n"
     ]
    }
   ],
   "source": [
    "say_whee()"
   ],
   "metadata": {
    "collapsed": false
   }
  },
  {
   "cell_type": "code",
   "execution_count": 13,
   "outputs": [
    {
     "name": "stdout",
     "output_type": "stream",
     "text": [
      "Call 2 of 'say_whee'\n",
      "Whee!\n"
     ]
    }
   ],
   "source": [
    "say_whee()"
   ],
   "metadata": {
    "collapsed": false
   }
  },
  {
   "cell_type": "code",
   "execution_count": 14,
   "outputs": [
    {
     "data": {
      "text/plain": "2"
     },
     "execution_count": 14,
     "metadata": {},
     "output_type": "execute_result"
    }
   ],
   "source": [
    "say_whee.num_calls"
   ],
   "metadata": {
    "collapsed": false
   }
  }
 ],
 "metadata": {
  "kernelspec": {
   "display_name": "Python 3",
   "language": "python",
   "name": "python3"
  },
  "language_info": {
   "codemirror_mode": {
    "name": "ipython",
    "version": 2
   },
   "file_extension": ".py",
   "mimetype": "text/x-python",
   "name": "python",
   "nbconvert_exporter": "python",
   "pygments_lexer": "ipython2",
   "version": "2.7.6"
  }
 },
 "nbformat": 4,
 "nbformat_minor": 0
}
