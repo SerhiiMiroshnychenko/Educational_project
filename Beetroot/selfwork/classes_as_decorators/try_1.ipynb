{
 "cells": [
  {
   "cell_type": "code",
   "execution_count": 58,
   "metadata": {
    "collapsed": true
   },
   "outputs": [],
   "source": [
    "class TypeDecorators:\n",
    "    def __init__(self, func):\n",
    "        self.func = func\n",
    "    # to_int\n",
    "    # to_str\n",
    "    # to_bool\n",
    "    # to_float\n",
    "    def show_name(self):\n",
    "        print(self.func.__name__)\n",
    "\n",
    "    def to_int(self, *args):\n",
    "        return int(self(*args))\n",
    "\n",
    "    def __call__(self, *args, **kwargs):\n",
    "        return self.func(*args, **kwargs)\n"
   ]
  },
  {
   "cell_type": "code",
   "execution_count": 53,
   "outputs": [],
   "source": [
    "@TypeDecorators\n",
    "def multiply(number_a:int or float, number_b:int or float):\n",
    "  \"\"\" multiplies two provided numbers \"\"\"\n",
    "  return number_a * number_b"
   ],
   "metadata": {
    "collapsed": false
   }
  },
  {
   "cell_type": "code",
   "execution_count": 54,
   "outputs": [
    {
     "name": "stdout",
     "output_type": "stream",
     "text": [
      "<__main__.TypeDecorators object at 0x000001D6F566AA10>\n",
      "<class '__main__.TypeDecorators'>\n"
     ]
    }
   ],
   "source": [
    "f = multiply\n",
    "print(f)\n",
    "print(type(f))"
   ],
   "metadata": {
    "collapsed": false
   }
  },
  {
   "cell_type": "code",
   "execution_count": 61,
   "outputs": [
    {
     "ename": "TypeError",
     "evalue": "multiply() missing 2 required positional arguments: 'number_a' and 'number_b'",
     "output_type": "error",
     "traceback": [
      "\u001B[1;31m---------------------------------------------------------------------------\u001B[0m",
      "\u001B[1;31mTypeError\u001B[0m                                 Traceback (most recent call last)",
      "Cell \u001B[1;32mIn [61], line 1\u001B[0m\n\u001B[1;32m----> 1\u001B[0m \u001B[38;5;129;43m@TypeDecorators\u001B[39;49m\u001B[38;5;241;43m.\u001B[39;49m\u001B[43mto_int\u001B[49m\n\u001B[0;32m      2\u001B[0m \u001B[38;5;28;43;01mdef\u001B[39;49;00m\u001B[43m \u001B[49m\u001B[38;5;21;43mmultiply\u001B[39;49m\u001B[43m(\u001B[49m\u001B[43mnumber_a\u001B[49m\u001B[43m:\u001B[49m\u001B[38;5;28;43mint\u001B[39;49m\u001B[43m \u001B[49m\u001B[38;5;129;43;01mor\u001B[39;49;00m\u001B[43m \u001B[49m\u001B[38;5;28;43mfloat\u001B[39;49m\u001B[43m,\u001B[49m\u001B[43m \u001B[49m\u001B[43mnumber_b\u001B[49m\u001B[43m:\u001B[49m\u001B[38;5;28;43mint\u001B[39;49m\u001B[43m \u001B[49m\u001B[38;5;129;43;01mor\u001B[39;49;00m\u001B[43m \u001B[49m\u001B[38;5;28;43mfloat\u001B[39;49m\u001B[43m)\u001B[49m\u001B[43m:\u001B[49m\n\u001B[0;32m      3\u001B[0m \u001B[43m  \u001B[49m\u001B[38;5;124;43;03m\"\"\" multiplies two provided numbers \"\"\"\u001B[39;49;00m\n\u001B[0;32m      4\u001B[0m \u001B[43m  \u001B[49m\u001B[38;5;28;43;01mreturn\u001B[39;49;00m\u001B[43m \u001B[49m\u001B[43mnumber_a\u001B[49m\u001B[43m \u001B[49m\u001B[38;5;241;43m*\u001B[39;49m\u001B[43m \u001B[49m\u001B[43mnumber_b\u001B[49m\n",
      "Cell \u001B[1;32mIn [58], line 12\u001B[0m, in \u001B[0;36mTypeDecorators.to_int\u001B[1;34m(self, *args)\u001B[0m\n\u001B[0;32m     11\u001B[0m \u001B[38;5;28;01mdef\u001B[39;00m \u001B[38;5;21mto_int\u001B[39m(\u001B[38;5;28mself\u001B[39m, \u001B[38;5;241m*\u001B[39margs):\n\u001B[1;32m---> 12\u001B[0m     \u001B[38;5;28;01mreturn\u001B[39;00m \u001B[38;5;28mint\u001B[39m(\u001B[38;5;28;43mself\u001B[39;49m\u001B[43m(\u001B[49m\u001B[38;5;241;43m*\u001B[39;49m\u001B[43margs\u001B[49m\u001B[43m)\u001B[49m)\n",
      "\u001B[1;31mTypeError\u001B[0m: multiply() missing 2 required positional arguments: 'number_a' and 'number_b'"
     ]
    }
   ],
   "source": [
    "@TypeDecorators.to_int\n",
    "def multiply(number_a:int or float, number_b:int or float):\n",
    "  \"\"\" multiplies two provided numbers \"\"\"\n",
    "  return number_a * number_b"
   ],
   "metadata": {
    "collapsed": false
   }
  },
  {
   "cell_type": "code",
   "execution_count": null,
   "outputs": [],
   "source": [
    "f = multiply\n",
    "print(f)\n",
    "print(type(f))"
   ],
   "metadata": {
    "collapsed": false
   }
  },
  {
   "cell_type": "code",
   "execution_count": null,
   "outputs": [],
   "source": [
    "f.show_name()"
   ],
   "metadata": {
    "collapsed": false
   }
  },
  {
   "cell_type": "code",
   "execution_count": null,
   "outputs": [],
   "source": [
    "f_int = f.to_int(0.5, 20.0)\n",
    "print(f_int)"
   ],
   "metadata": {
    "collapsed": false
   }
  },
  {
   "cell_type": "code",
   "execution_count": null,
   "outputs": [],
   "source": [
    "f_int = f.to_int"
   ],
   "metadata": {
    "collapsed": false
   }
  },
  {
   "cell_type": "code",
   "execution_count": null,
   "outputs": [],
   "source": [
    "print(type(f_int))"
   ],
   "metadata": {
    "collapsed": false
   }
  },
  {
   "cell_type": "code",
   "execution_count": null,
   "outputs": [],
   "source": [
    "f_int(0.5, 20.0)"
   ],
   "metadata": {
    "collapsed": false
   }
  },
  {
   "cell_type": "code",
   "execution_count": null,
   "outputs": [],
   "source": [
    "print(multiply(0.5, 20.0))"
   ],
   "metadata": {
    "collapsed": false
   }
  }
 ],
 "metadata": {
  "kernelspec": {
   "display_name": "Python 3",
   "language": "python",
   "name": "python3"
  },
  "language_info": {
   "codemirror_mode": {
    "name": "ipython",
    "version": 2
   },
   "file_extension": ".py",
   "mimetype": "text/x-python",
   "name": "python",
   "nbconvert_exporter": "python",
   "pygments_lexer": "ipython2",
   "version": "2.7.6"
  }
 },
 "nbformat": 4,
 "nbformat_minor": 0
}
