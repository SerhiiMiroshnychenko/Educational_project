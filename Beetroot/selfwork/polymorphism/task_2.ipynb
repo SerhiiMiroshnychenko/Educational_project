{
 "cells": [
  {
   "cell_type": "code",
   "execution_count": 23,
   "metadata": {
    "collapsed": true
   },
   "outputs": [],
   "source": [
    "import datetime"
   ]
  },
  {
   "cell_type": "code",
   "execution_count": 25,
   "outputs": [],
   "source": [
    "class Author:\n",
    "    def __init__(self, name: str, gender: str,  country: str, birthday: datetime.date, books: list = None):\n",
    "        self.name = name.title()\n",
    "        self.gender = gender\n",
    "        self.country = country.title()\n",
    "        self.birthday = birthday\n",
    "        self.birthday_ = birthday.strftime('%d-%m-%Y')\n",
    "        self.age = datetime.date.today() - self.birthday\n",
    "        if books is None:\n",
    "            books = []\n",
    "        self.books = books\n",
    "\n",
    "    def write(self, book_name, year: int):\n",
    "        book = Book(book_name, year, self.name, len(self.books) + 1)\n",
    "        self.books.append(book)\n",
    "        return book\n",
    "\n",
    "    def show_all_books(self):\n",
    "        for book in self.books:\n",
    "            print(f'{book.number}. {book.name} - {book.year}.')\n",
    "\n",
    "    def __str__(self):\n",
    "        age = int((datetime.date.today() - self.birthday).total_seconds() // (3600*24*365))\n",
    "        match self.gender:\n",
    "            case 'man'|'male':\n",
    "                sex = 'man'\n",
    "                who = 'He'\n",
    "            case 'woman'|'female':\n",
    "                sex = 'woman'\n",
    "                who = 'She'\n",
    "            case _:\n",
    "                sex = 'person'\n",
    "                who = 'This person'\n",
    "        return f'It is {self.name} a {sex} of ' \\\n",
    "               f'{age}' \\\n",
    "               f' years old. {who} is a writer from {self.country}, an author of {len(self.books)} books.'\n",
    "\n",
    "    def __repr__(self):\n",
    "        return f'Name: {self.name}\\nGender: {self.gender}\\n' \\\n",
    "               f'Birthday: {self.birthday_}\\nNumber of books: {len(self.books)}'\n",
    "\n",
    "    def show_annotation(self):\n",
    "        print(self.__str__())\n",
    "\n",
    "    def show_information(self):\n",
    "        print(self.__repr__())\n",
    "\n",
    "class Book:\n",
    "    __books_number = 0\n",
    "    __books = []\n",
    "    id = None\n",
    "\n",
    "    def __new__(cls,name: str, year: int, author_name: str, number: int):\n",
    "        cls.__books_number += 1\n",
    "        print(cls.__books_number)\n",
    "        cls.id = (name, author_name)\n",
    "        print(cls.id)\n",
    "        if cls.id not in cls.__books:\n",
    "            cls.__books.append(cls.id)\n",
    "            print(cls.__books)\n",
    "            return super().__new__(cls)\n",
    "        else:\n",
    "            return None\n",
    "\n",
    "    def __init__(self, name: str, year: int, author_name: str, number: int):\n",
    "        self.name = name\n",
    "        self.year = year\n",
    "        self.author = author_name\n",
    "        self.number = number\n",
    "        self.number_of_all = self.__books_number\n",
    "\n",
    "    def __str__(self):\n",
    "        return f'The book \"{self.name}\" has been wrote' \\\n",
    "               f' by {self.author} in {self.year} year. It is the {self.number} book from this author.'\n",
    "\n",
    "    def __repr__(self):\n",
    "        return f'Book: {self.name}\\nAuthor: {self.author}\\nYear: {self.year}\\n' \\\n",
    "               f'Number of the author\\'s books: {self.number}\\n' \\\n",
    "               f'Number of all books: {self.number_of_all}'\n",
    "\n",
    "    def show_annotation(self):\n",
    "        print(self.__str__())\n",
    "\n",
    "    def show_information(self):\n",
    "        print(self.__repr__())\n",
    "\n",
    "    @classmethod\n",
    "    def get_number_of_books(cls):\n",
    "        print(f'The total number of written books is {cls.__books_number}.')\n",
    "        print(len(cls.__books))\n",
    "        print(cls.__books)\n",
    "\n",
    "class Library:\n",
    "    def __init__(self, name: str, books: list[Book] = None, authors: list[Author] = None):\n",
    "        if books is None:\n",
    "            books = []\n",
    "        if authors is None:\n",
    "            authors = []\n",
    "        self.name = name.title()\n",
    "        self.books = books\n",
    "        self.authors = authors\n",
    "\n",
    "    def new_book(self, book: Book, author: Author) -> None:\n",
    "        if book.author == author.name:\n",
    "            self.books.append(book)\n",
    "            self.books = list(set(self.books))\n",
    "            self.authors.append(author)\n",
    "            self.authors = list(set(self.authors))\n",
    "        else:\n",
    "            print(f'{author.name} did not write book \"{book.name}\".')\n",
    "\n",
    "    def group_by_author(self, author: str) -> list[Book]:\n",
    "        return [book for book in self.books if book.author == author]\n",
    "\n",
    "    def show_by_author(self, author: str or Author) -> None:\n",
    "        author_ = author.title() if isinstance(author, str) else author.name\n",
    "        books = self.group_by_author(author_)\n",
    "        print(f\"There are {len(books)} {author_}'s books in our library:\")\n",
    "        for book in books:\n",
    "            print(f' ~ {book.name}')\n",
    "\n",
    "    def group_by_year(self, year: int) -> list[Book]:\n",
    "        return [book for book in self.books if book.year == year]\n",
    "\n",
    "    def show_by_year(self, year: int) -> None:\n",
    "        books = self.group_by_year(year)\n",
    "        print(f\"There are {len(books)} books written in {year} in our library:\")\n",
    "        for book in books:\n",
    "            print(f' ~ {book.name} ({book.author})')\n",
    "\n",
    "    def show_all_books(self):\n",
    "        from prettytable import PrettyTable\n",
    "        table = PrettyTable()\n",
    "        table.field_names = ['Book', 'Year', 'Author']\n",
    "        for book in self.books:\n",
    "            table.add_row([book.name, book.year, book.author])\n",
    "        print(table)\n",
    "\n",
    "    def show_all_authors(self):\n",
    "        from prettytable import PrettyTable\n",
    "        table = PrettyTable()\n",
    "        table.field_names = ['Author', 'Number of books in the library']\n",
    "        for author in self.authors:\n",
    "            table.add_row([author.name, len(self.group_by_author(author.name))])\n",
    "        print(table)\n",
    "\n",
    "    def __str__(self):\n",
    "        return f'Our library is called \"{self.name}\".\\n' \\\n",
    "               f'It contains {len(self.books)} books by {len(set(self.authors))} authors.'\n",
    "\n",
    "    def __repr__(self):\n",
    "        return f'Library: \"{self.name}\"\\nNumber of books: {len(self.books)}' \\\n",
    "               f'\\nNumber of authors: {len(set(self.authors))}'\n",
    "\n",
    "    def show_annotation(self):\n",
    "        print(self.__str__())\n",
    "\n",
    "    def show_information(self):\n",
    "        print(self.__repr__())"
   ],
   "metadata": {
    "collapsed": false
   }
  },
  {
   "cell_type": "code",
   "execution_count": 26,
   "outputs": [],
   "source": [
    "author1 = Author('arthur conan doyle', 'man', 'united kingdom', datetime.date(1859, 5, 22))"
   ],
   "metadata": {
    "collapsed": false
   }
  },
  {
   "cell_type": "code",
   "execution_count": 27,
   "outputs": [
    {
     "name": "stdout",
     "output_type": "stream",
     "text": [
      "1\n",
      "('The Five Orange Pips', 'Arthur Conan Doyle')\n",
      "[('The Five Orange Pips', 'Arthur Conan Doyle')]\n",
      "2\n",
      "('A scandal in Bohemia', 'Arthur Conan Doyle')\n",
      "[('The Five Orange Pips', 'Arthur Conan Doyle'), ('A scandal in Bohemia', 'Arthur Conan Doyle')]\n",
      "3\n",
      "('The Red-Headed League', 'Arthur Conan Doyle')\n",
      "[('The Five Orange Pips', 'Arthur Conan Doyle'), ('A scandal in Bohemia', 'Arthur Conan Doyle'), ('The Red-Headed League', 'Arthur Conan Doyle')]\n"
     ]
    }
   ],
   "source": [
    "book1 = author1.write('The Five Orange Pips', 1887)\n",
    "book2 = author1.write('A scandal in Bohemia', 1888)\n",
    "book3 = author1.write('The Red-Headed League', 1890)"
   ],
   "metadata": {
    "collapsed": false
   }
  },
  {
   "cell_type": "code",
   "execution_count": 28,
   "outputs": [],
   "source": [
    "author2 = Author('joanne rowling', 'female', 'united kingdom', datetime.date(1965, 7, 31))"
   ],
   "metadata": {
    "collapsed": false
   }
  },
  {
   "cell_type": "code",
   "execution_count": 29,
   "outputs": [
    {
     "name": "stdout",
     "output_type": "stream",
     "text": [
      "4\n",
      "(\"Harry Potter and the Philosopher's Stone\", 'Joanne Rowling')\n",
      "[('The Five Orange Pips', 'Arthur Conan Doyle'), ('A scandal in Bohemia', 'Arthur Conan Doyle'), ('The Red-Headed League', 'Arthur Conan Doyle'), (\"Harry Potter and the Philosopher's Stone\", 'Joanne Rowling')]\n",
      "5\n",
      "('Harry Potter and the Chamber of Secrets', 'Joanne Rowling')\n",
      "[('The Five Orange Pips', 'Arthur Conan Doyle'), ('A scandal in Bohemia', 'Arthur Conan Doyle'), ('The Red-Headed League', 'Arthur Conan Doyle'), (\"Harry Potter and the Philosopher's Stone\", 'Joanne Rowling'), ('Harry Potter and the Chamber of Secrets', 'Joanne Rowling')]\n"
     ]
    }
   ],
   "source": [
    "book4 = author2.write(\"Harry Potter and the Philosopher's Stone\", 1997)\n",
    "book5 = author2.write('Harry Potter and the Chamber of Secrets', 1998)"
   ],
   "metadata": {
    "collapsed": false
   }
  },
  {
   "cell_type": "code",
   "execution_count": 30,
   "outputs": [],
   "source": [
    "author3 = Author('serhiy zhadan', 'male', 'ukraine', datetime.date(1974, 8, 23))"
   ],
   "metadata": {
    "collapsed": false
   }
  },
  {
   "cell_type": "code",
   "execution_count": 31,
   "outputs": [
    {
     "name": "stdout",
     "output_type": "stream",
     "text": [
      "6\n",
      "('Pepsi', 'Serhiy Zhadan')\n",
      "[('The Five Orange Pips', 'Arthur Conan Doyle'), ('A scandal in Bohemia', 'Arthur Conan Doyle'), ('The Red-Headed League', 'Arthur Conan Doyle'), (\"Harry Potter and the Philosopher's Stone\", 'Joanne Rowling'), ('Harry Potter and the Chamber of Secrets', 'Joanne Rowling'), ('Pepsi', 'Serhiy Zhadan')]\n"
     ]
    }
   ],
   "source": [
    "book6 = author3.write('Pepsi', 1998)"
   ],
   "metadata": {
    "collapsed": false
   }
  },
  {
   "cell_type": "code",
   "execution_count": 32,
   "outputs": [
    {
     "name": "stdout",
     "output_type": "stream",
     "text": [
      "The total number of written books is 6.\n",
      "6\n",
      "[('The Five Orange Pips', 'Arthur Conan Doyle'), ('A scandal in Bohemia', 'Arthur Conan Doyle'), ('The Red-Headed League', 'Arthur Conan Doyle'), (\"Harry Potter and the Philosopher's Stone\", 'Joanne Rowling'), ('Harry Potter and the Chamber of Secrets', 'Joanne Rowling'), ('Pepsi', 'Serhiy Zhadan')]\n"
     ]
    }
   ],
   "source": [
    "Book.get_number_of_books()"
   ],
   "metadata": {
    "collapsed": false
   }
  },
  {
   "cell_type": "code",
   "execution_count": 33,
   "outputs": [
    {
     "name": "stdout",
     "output_type": "stream",
     "text": [
      "The book \"Harry Potter and the Philosopher's Stone\" has been wrote by Joanne Rowling in 1997 year. It is the 1 book from this author.\n"
     ]
    }
   ],
   "source": [
    "book4.show_annotation()"
   ],
   "metadata": {
    "collapsed": false
   }
  },
  {
   "cell_type": "code",
   "execution_count": 34,
   "outputs": [
    {
     "name": "stdout",
     "output_type": "stream",
     "text": [
      "Book: The Red-Headed League\n",
      "Author: Arthur Conan Doyle\n",
      "Year: 1890\n",
      "Number of the author's books: 3\n",
      "Number of all books: 3\n"
     ]
    }
   ],
   "source": [
    "book6.show_information()"
   ],
   "metadata": {
    "collapsed": false
   }
  },
  {
   "cell_type": "code",
   "execution_count": 35,
   "outputs": [],
   "source": [
    "library = Library('periwinkle')"
   ],
   "metadata": {
    "collapsed": false
   }
  },
  {
   "cell_type": "code",
   "execution_count": 36,
   "outputs": [],
   "source": [
    "library.new_book(book1, author1)\n",
    "library.new_book(book4, author2)\n",
    "library.new_book(book6, author3)"
   ],
   "metadata": {
    "collapsed": false
   }
  },
  {
   "cell_type": "code",
   "execution_count": 37,
   "outputs": [
    {
     "name": "stdout",
     "output_type": "stream",
     "text": [
      "Our library is called \"Periwinkle\".\n",
      "It contains 3 books by 3 authors.\n"
     ]
    }
   ],
   "source": [
    "library.show_annotation()"
   ],
   "metadata": {
    "collapsed": false
   }
  },
  {
   "cell_type": "code",
   "execution_count": 38,
   "outputs": [
    {
     "name": "stdout",
     "output_type": "stream",
     "text": [
      "Library: \"Periwinkle\"\n",
      "Number of books: 3\n",
      "Number of authors: 3\n"
     ]
    }
   ],
   "source": [
    "library.show_information()"
   ],
   "metadata": {
    "collapsed": false
   }
  },
  {
   "cell_type": "code",
   "execution_count": 39,
   "outputs": [
    {
     "name": "stdout",
     "output_type": "stream",
     "text": [
      "+------------------------------------------+------+--------------------+\n",
      "|                   Book                   | Year |       Author       |\n",
      "+------------------------------------------+------+--------------------+\n",
      "| Harry Potter and the Philosopher's Stone | 1997 |   Joanne Rowling   |\n",
      "|                  Pepsi                   | 1998 |   Serhiy Zhadan    |\n",
      "|           The Five Orange Pips           | 1887 | Arthur Conan Doyle |\n",
      "+------------------------------------------+------+--------------------+\n"
     ]
    }
   ],
   "source": [
    "library.show_all_books()"
   ],
   "metadata": {
    "collapsed": false
   }
  },
  {
   "cell_type": "code",
   "execution_count": 40,
   "outputs": [
    {
     "name": "stdout",
     "output_type": "stream",
     "text": [
      "+--------------------+--------------------------------+\n",
      "|       Author       | Number of books in the library |\n",
      "+--------------------+--------------------------------+\n",
      "|   Serhiy Zhadan    |               1                |\n",
      "| Arthur Conan Doyle |               1                |\n",
      "|   Joanne Rowling   |               1                |\n",
      "+--------------------+--------------------------------+\n"
     ]
    }
   ],
   "source": [
    "library.show_all_authors()"
   ],
   "metadata": {
    "collapsed": false
   }
  },
  {
   "cell_type": "code",
   "execution_count": 41,
   "outputs": [
    {
     "name": "stdout",
     "output_type": "stream",
     "text": [
      "Serhiy Zhadan did not write book \"A scandal in Bohemia\".\n"
     ]
    }
   ],
   "source": [
    "library.new_book(book2, author3)"
   ],
   "metadata": {
    "collapsed": false
   }
  },
  {
   "cell_type": "code",
   "execution_count": 42,
   "outputs": [],
   "source": [
    "library.new_book(book2, author1)\n",
    "library.new_book(book3, author1)\n",
    "library.new_book(book5, author2)\n",
    "library.new_book(book6, author3)"
   ],
   "metadata": {
    "collapsed": false
   }
  },
  {
   "cell_type": "code",
   "execution_count": 43,
   "outputs": [
    {
     "name": "stdout",
     "output_type": "stream",
     "text": [
      "Name: Serhiy Zhadan\n",
      "Gender: male\n",
      "Birthday: 23-08-1974\n",
      "Number of books: 1\n"
     ]
    }
   ],
   "source": [
    "author3.show_information()"
   ],
   "metadata": {
    "collapsed": false
   }
  },
  {
   "cell_type": "code",
   "execution_count": 44,
   "outputs": [
    {
     "name": "stdout",
     "output_type": "stream",
     "text": [
      "There are 1 Serhiy Zhadan's books in our library:\n",
      " ~ Pepsi\n"
     ]
    }
   ],
   "source": [
    "library.show_by_author('serhiy zhadan')"
   ],
   "metadata": {
    "collapsed": false
   }
  },
  {
   "cell_type": "code",
   "execution_count": 45,
   "outputs": [
    {
     "name": "stdout",
     "output_type": "stream",
     "text": [
      "It is Joanne Rowling a woman of 57 years old. She is a writer from United Kingdom, an author of 2 books.\n"
     ]
    }
   ],
   "source": [
    "author2.show_annotation()"
   ],
   "metadata": {
    "collapsed": false
   }
  },
  {
   "cell_type": "code",
   "execution_count": 46,
   "outputs": [
    {
     "name": "stdout",
     "output_type": "stream",
     "text": [
      "There are 2 Joanne Rowling's books in our library:\n",
      " ~ Harry Potter and the Chamber of Secrets\n",
      " ~ Harry Potter and the Philosopher's Stone\n"
     ]
    }
   ],
   "source": [
    "library.show_by_author(author2)"
   ],
   "metadata": {
    "collapsed": false
   }
  },
  {
   "cell_type": "code",
   "execution_count": 47,
   "outputs": [
    {
     "name": "stdout",
     "output_type": "stream",
     "text": [
      "There are 2 books written in 1998 in our library:\n",
      " ~ Pepsi (Serhiy Zhadan)\n",
      " ~ Harry Potter and the Chamber of Secrets (Joanne Rowling)\n"
     ]
    }
   ],
   "source": [
    "library.show_by_year(1998)"
   ],
   "metadata": {
    "collapsed": false
   }
  },
  {
   "cell_type": "code",
   "execution_count": 48,
   "outputs": [
    {
     "name": "stdout",
     "output_type": "stream",
     "text": [
      "Our library is called \"Periwinkle\".\n",
      "It contains 6 books by 3 authors.\n"
     ]
    }
   ],
   "source": [
    "library.show_annotation()"
   ],
   "metadata": {
    "collapsed": false
   }
  },
  {
   "cell_type": "code",
   "execution_count": 49,
   "outputs": [
    {
     "name": "stdout",
     "output_type": "stream",
     "text": [
      "Library: \"Periwinkle\"\n",
      "Number of books: 6\n",
      "Number of authors: 3\n"
     ]
    }
   ],
   "source": [
    "library.show_information()"
   ],
   "metadata": {
    "collapsed": false
   }
  },
  {
   "cell_type": "code",
   "execution_count": 50,
   "outputs": [
    {
     "name": "stdout",
     "output_type": "stream",
     "text": [
      "+------------------------------------------+------+--------------------+\n",
      "|                   Book                   | Year |       Author       |\n",
      "+------------------------------------------+------+--------------------+\n",
      "|                  Pepsi                   | 1998 |   Serhiy Zhadan    |\n",
      "|           The Five Orange Pips           | 1887 | Arthur Conan Doyle |\n",
      "|           A scandal in Bohemia           | 1888 | Arthur Conan Doyle |\n",
      "| Harry Potter and the Chamber of Secrets  | 1998 |   Joanne Rowling   |\n",
      "| Harry Potter and the Philosopher's Stone | 1997 |   Joanne Rowling   |\n",
      "|          The Red-Headed League           | 1890 | Arthur Conan Doyle |\n",
      "+------------------------------------------+------+--------------------+\n"
     ]
    }
   ],
   "source": [
    "library.show_all_books()"
   ],
   "metadata": {
    "collapsed": false
   }
  },
  {
   "cell_type": "code",
   "execution_count": 51,
   "outputs": [
    {
     "name": "stdout",
     "output_type": "stream",
     "text": [
      "+--------------------+--------------------------------+\n",
      "|       Author       | Number of books in the library |\n",
      "+--------------------+--------------------------------+\n",
      "|   Serhiy Zhadan    |               1                |\n",
      "| Arthur Conan Doyle |               3                |\n",
      "|   Joanne Rowling   |               2                |\n",
      "+--------------------+--------------------------------+\n"
     ]
    }
   ],
   "source": [
    "library.show_all_authors()"
   ],
   "metadata": {
    "collapsed": false
   }
  }
 ],
 "metadata": {
  "kernelspec": {
   "display_name": "Python 3",
   "language": "python",
   "name": "python3"
  },
  "language_info": {
   "codemirror_mode": {
    "name": "ipython",
    "version": 2
   },
   "file_extension": ".py",
   "mimetype": "text/x-python",
   "name": "python",
   "nbconvert_exporter": "python",
   "pygments_lexer": "ipython2",
   "version": "2.7.6"
  }
 },
 "nbformat": 4,
 "nbformat_minor": 0
}
