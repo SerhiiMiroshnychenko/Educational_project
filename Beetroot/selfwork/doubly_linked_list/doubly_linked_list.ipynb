{
 "cells": [
  {
   "cell_type": "code",
   "execution_count": 51,
   "metadata": {
    "collapsed": true
   },
   "outputs": [],
   "source": [
    "class DoublyNode:\n",
    "    def __init__(self, data):\n",
    "        self._data = data\n",
    "        self._next = None\n",
    "        self._prev = None\n",
    "\n",
    "    def get_data(self):\n",
    "        return self._data\n",
    "\n",
    "    def set_data(self, data):\n",
    "        self._data = data\n",
    "\n",
    "    def get_next(self):\n",
    "        return self._next\n",
    "\n",
    "    def set_next(self, new_next):\n",
    "        self._next = new_next\n",
    "\n",
    "    def get_prev(self):\n",
    "        return self._next\n",
    "\n",
    "    def set_prev(self, new_next):\n",
    "        self._next = new_next\n"
   ]
  },
  {
   "cell_type": "code",
   "execution_count": 52,
   "outputs": [],
   "source": [
    "class UnorderedDoubleList:\n",
    "\n",
    "    def __init__(self):\n",
    "        self._head = None\n",
    "        self._tail = None\n",
    "\n",
    "    def __repr__(self):\n",
    "        base_string = ''\n",
    "        current = self._head\n",
    "        while current is not None:\n",
    "            base_string += f'{current.get_data()} -> '\n",
    "            current = current.get_next()\n",
    "        base_string += 'None'\n",
    "        return base_string\n",
    "\n",
    "    def is_empty(self):\n",
    "        return self._head is None\n",
    "\n",
    "    def size(self):\n",
    "        count = 0\n",
    "        current = self._head\n",
    "        while current is not None:\n",
    "            count += 1\n",
    "            current = current.get_next()\n",
    "        return count\n",
    "\n",
    "    def add(self, value):\n",
    "        node = DoublyNode(value)\n",
    "        if self.size() == 0:\n",
    "            self._head = node\n",
    "            self._tail = node\n",
    "        else:\n",
    "            node.set_next(self._head)\n",
    "            self._head.set_prev(node)\n",
    "            self._head = node\n",
    "            self._head.set_prev(self._tail)\n",
    "\n",
    "    def delete(self, value):\n",
    "        if self.is_empty():\n",
    "            print(\"Linked List is empty. Cannot delete elements.\")\n",
    "        elif self._head.next is None:\n",
    "            if self._head.data == value:\n",
    "                self._head = None\n",
    "        else:\n",
    "            node = self._head\n",
    "            while node is not None and node.data != value:\n",
    "                node = node.next\n",
    "            if node is None:\n",
    "                print(\"Element not present in linked list. Cannot delete element.\")\n",
    "            elif node.next is None:\n",
    "                node = self._head\n",
    "                while node.next is not None:\n",
    "                    node = node.next\n",
    "                node.prev.next = None\n",
    "                node.prev = None\n",
    "            else:\n",
    "                node.next = node.prev.next\n",
    "                node.next.prev = node.prev\n",
    "                node.next = None\n",
    "                node.prev = None\n",
    "\n",
    "    def search(self, item):\n",
    "        current = self._head\n",
    "        found = False\n",
    "        stop = False\n",
    "        while current is not None and not found and not stop:\n",
    "            if current.get_data() == item:\n",
    "                found = True\n",
    "            elif current is self._tail:\n",
    "                stop = True\n",
    "            else:\n",
    "                current = current.get_next()\n",
    "\n",
    "        return found\n",
    "\n",
    "    def remove(self, item):\n",
    "        current = self._head\n",
    "        previous = None\n",
    "        found = False\n",
    "        while not found:\n",
    "            if current.get_data() == item:\n",
    "                found = True\n",
    "            else:\n",
    "                previous = current\n",
    "                current = current.get_next()\n",
    "                next_ = current.get_next()\n",
    "\n",
    "        if previous is None:\n",
    "            self._head = current.get_next()\n",
    "            self._head.set_prev(None)\n",
    "        elif next_ is None:\n",
    "            self._tail = previous\n",
    "            self._tail.set_next(self._head)\n",
    "        else:\n",
    "            previous.set_next(current.get_next())\n",
    "            current.get_next().set_prev(previous)\n",
    "\n",
    "    def insert(self, position, value):\n",
    "        current = self._head\n",
    "        previous = None\n",
    "        if position != 0:\n",
    "            for _ in range(position):\n",
    "                previous = current\n",
    "                current = current.get_next()\n",
    "            node = DoublyNode(value)\n",
    "            node.set_next(current)\n",
    "            previous.set_next(node)\n",
    "        else:\n",
    "            self.add(value)\n"
   ],
   "metadata": {
    "collapsed": false
   }
  },
  {
   "cell_type": "code",
   "execution_count": 53,
   "outputs": [],
   "source": [
    "sample = UnorderedDoubleList()"
   ],
   "metadata": {
    "collapsed": false
   }
  },
  {
   "cell_type": "code",
   "execution_count": 54,
   "outputs": [
    {
     "name": "stdout",
     "output_type": "stream",
     "text": [
      "None\n",
      "True\n"
     ]
    }
   ],
   "source": [
    "print(sample)\n",
    "print(sample.is_empty())"
   ],
   "metadata": {
    "collapsed": false
   }
  },
  {
   "cell_type": "code",
   "execution_count": 55,
   "outputs": [],
   "source": [
    "sample.add(1)"
   ],
   "metadata": {
    "collapsed": false
   }
  },
  {
   "cell_type": "code",
   "execution_count": 56,
   "outputs": [
    {
     "name": "stdout",
     "output_type": "stream",
     "text": [
      "1 -> None\n",
      "False\n"
     ]
    }
   ],
   "source": [
    "print(sample)\n",
    "print(sample.is_empty())"
   ],
   "metadata": {
    "collapsed": false
   }
  },
  {
   "cell_type": "code",
   "execution_count": 56,
   "outputs": [],
   "source": [],
   "metadata": {
    "collapsed": false
   }
  }
 ],
 "metadata": {
  "kernelspec": {
   "display_name": "Python 3",
   "language": "python",
   "name": "python3"
  },
  "language_info": {
   "codemirror_mode": {
    "name": "ipython",
    "version": 2
   },
   "file_extension": ".py",
   "mimetype": "text/x-python",
   "name": "python",
   "nbconvert_exporter": "python",
   "pygments_lexer": "ipython2",
   "version": "2.7.6"
  }
 },
 "nbformat": 4,
 "nbformat_minor": 0
}
