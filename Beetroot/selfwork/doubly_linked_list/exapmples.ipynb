{
 "cells": [
  {
   "cell_type": "code",
   "execution_count": 16,
   "metadata": {
    "collapsed": true
   },
   "outputs": [],
   "source": [
    "class DoublyNode:\n",
    "    def __init__(self, data):\n",
    "        self._data = data\n",
    "        self._next = None\n",
    "        self._prev = None\n",
    "\n",
    "    def get_data(self):\n",
    "        return self._data\n",
    "\n",
    "    def set_data(self, data):\n",
    "        self._data = data\n",
    "\n",
    "    def get_next(self):\n",
    "        return self._next\n",
    "\n",
    "    def set_next(self, new_next):\n",
    "        self._next = new_next\n",
    "\n",
    "    def get_prev(self):\n",
    "        return self._next\n",
    "\n",
    "    def set_prev(self, new_next):\n",
    "        self._next = new_next"
   ]
  },
  {
   "cell_type": "code",
   "execution_count": 17,
   "outputs": [],
   "source": [
    "class UnorderedDoubleList:\n",
    "\n",
    "    def __init__(self):\n",
    "        self._head = None\n",
    "        self._tail = None\n",
    "\n",
    "    def __repr__(self):\n",
    "        base_string = ''\n",
    "        current = self._head\n",
    "        while current is not None:\n",
    "            base_string += f'{current.get_data()} -> '\n",
    "            current = current.get_next()\n",
    "        base_string += 'None'\n",
    "        return base_string\n",
    "\n",
    "    def is_empty(self):\n",
    "        return self._head is None\n",
    "\n",
    "    def size(self):\n",
    "        count = 0\n",
    "        current = self._head\n",
    "        while current is not None:\n",
    "            count += 1\n",
    "            current = current.get_next()\n",
    "        return count\n",
    "\n",
    "    def add(self, value):\n",
    "        node = DoublyNode(value)\n",
    "        if self.size() == 0:\n",
    "            self._head = node\n",
    "            self._tail = node\n",
    "        else:\n",
    "            node.set_next(self._head)\n",
    "            self._head.set_prev(node)\n",
    "            self._head = node\n",
    "            self._head.set_prev(self._tail)\n",
    "\n",
    "    def delete(self, value):\n",
    "        if self.is_empty():\n",
    "            print(\"Linked List is empty. Cannot delete elements.\")\n",
    "        elif self._head.next is None:\n",
    "            if self._head.data == value:\n",
    "                self._head = None\n",
    "        else:\n",
    "            node = self._head\n",
    "            while node is not None and node.data != value:\n",
    "                node = node.next\n",
    "            if node is None:\n",
    "                print(\"Element not present in linked list. Cannot delete element.\")\n",
    "            elif node.next is None:\n",
    "                node = self._head\n",
    "                while node.next is not None:\n",
    "                    node = node.next\n",
    "                node.prev.next = None\n",
    "                node.prev = None\n",
    "            else:\n",
    "                node.next = node.prev.next\n",
    "                node.next.prev = node.prev\n",
    "                node.next = None\n",
    "                node.prev = None\n",
    "\n",
    "    def search(self, item):\n",
    "        current = self._head\n",
    "        found = False\n",
    "        stop = False\n",
    "        while current is not None and not found and not stop:\n",
    "            if current.get_data() == item:\n",
    "                found = True\n",
    "            elif current is self._tail:\n",
    "                stop = True\n",
    "            else:\n",
    "                current = current.get_next()\n",
    "\n",
    "        return found\n",
    "\n",
    "    def remove(self, item):\n",
    "        current = self._head\n",
    "        previous = None\n",
    "        found = False\n",
    "        while not found:\n",
    "            if current.get_data() == item:\n",
    "                found = True\n",
    "            else:\n",
    "                previous = current\n",
    "                current = current.get_next()\n",
    "                next_ = current.get_next()\n",
    "\n",
    "        if previous is None:\n",
    "            self._head = current.get_next()\n",
    "            self._head.set_prev(None)\n",
    "        elif next_ is None:\n",
    "            self._tail = previous\n",
    "            self._tail.set_next(self._head)\n",
    "        else:\n",
    "            previous.set_next(current.get_next())\n",
    "            current.get_next().set_prev(previous)\n",
    "\n",
    "    def insert(self, position, value):\n",
    "        current = self._head\n",
    "        previous = None\n",
    "        if position != 0:\n",
    "            for _ in range(position):\n",
    "                previous = current\n",
    "                current = current.get_next()\n",
    "            node = DoublyNode(value)\n",
    "            node.set_next(current)\n",
    "            previous.set_next(node)\n",
    "        else:\n",
    "            self.add(value)"
   ],
   "metadata": {
    "collapsed": false
   }
  },
  {
   "cell_type": "code",
   "execution_count": 18,
   "outputs": [],
   "source": [
    "example = UnorderedDoubleList()"
   ],
   "metadata": {
    "collapsed": false
   }
  },
  {
   "cell_type": "code",
   "execution_count": 19,
   "outputs": [
    {
     "name": "stdout",
     "output_type": "stream",
     "text": [
      "None\n",
      "True\n"
     ]
    }
   ],
   "source": [
    "print(example)\n",
    "print(example.is_empty())"
   ],
   "metadata": {
    "collapsed": false
   }
  },
  {
   "cell_type": "code",
   "execution_count": 20,
   "outputs": [],
   "source": [
    "example.add(0)"
   ],
   "metadata": {
    "collapsed": false
   }
  },
  {
   "cell_type": "code",
   "execution_count": 21,
   "outputs": [
    {
     "name": "stdout",
     "output_type": "stream",
     "text": [
      "0 -> None\n",
      "False\n"
     ]
    }
   ],
   "source": [
    "print(example)\n",
    "print(example.is_empty())"
   ],
   "metadata": {
    "collapsed": false
   }
  },
  {
   "cell_type": "code",
   "execution_count": 22,
   "outputs": [],
   "source": [
    "example.add(1)"
   ],
   "metadata": {
    "collapsed": false
   }
  },
  {
   "cell_type": "code",
   "execution_count": 22,
   "outputs": [
    {
     "ename": "KeyboardInterrupt",
     "evalue": "",
     "output_type": "error",
     "traceback": [
      "\u001B[1;31m---------------------------------------------------------------------------\u001B[0m",
      "\u001B[1;31mKeyboardInterrupt\u001B[0m                         Traceback (most recent call last)",
      "File \u001B[1;32mD:\\Python\\Beetroot\\venv\\Lib\\site-packages\\IPython\\core\\async_helpers.py:129\u001B[0m, in \u001B[0;36m_pseudo_sync_runner\u001B[1;34m(coro)\u001B[0m\n\u001B[0;32m    121\u001B[0m \u001B[38;5;124;03m\"\"\"\u001B[39;00m\n\u001B[0;32m    122\u001B[0m \u001B[38;5;124;03mA runner that does not really allow async execution, and just advance the coroutine.\u001B[39;00m\n\u001B[0;32m    123\u001B[0m \n\u001B[1;32m   (...)\u001B[0m\n\u001B[0;32m    126\u001B[0m \u001B[38;5;124;03mCredit to Nathaniel Smith\u001B[39;00m\n\u001B[0;32m    127\u001B[0m \u001B[38;5;124;03m\"\"\"\u001B[39;00m\n\u001B[0;32m    128\u001B[0m \u001B[38;5;28;01mtry\u001B[39;00m:\n\u001B[1;32m--> 129\u001B[0m     coro\u001B[38;5;241m.\u001B[39msend(\u001B[38;5;28;01mNone\u001B[39;00m)\n\u001B[0;32m    130\u001B[0m \u001B[38;5;28;01mexcept\u001B[39;00m \u001B[38;5;167;01mStopIteration\u001B[39;00m \u001B[38;5;28;01mas\u001B[39;00m exc:\n\u001B[0;32m    131\u001B[0m     \u001B[38;5;28;01mreturn\u001B[39;00m exc\u001B[38;5;241m.\u001B[39mvalue\n",
      "File \u001B[1;32mD:\\Python\\Beetroot\\venv\\Lib\\site-packages\\IPython\\core\\interactiveshell.py:3162\u001B[0m, in \u001B[0;36mInteractiveShell.run_cell_async\u001B[1;34m(self, raw_cell, store_history, silent, shell_futures, transformed_cell, preprocessing_exc_tuple, cell_id)\u001B[0m\n\u001B[0;32m   3159\u001B[0m _run_async \u001B[38;5;241m=\u001B[39m \u001B[38;5;28;01mFalse\u001B[39;00m\n\u001B[0;32m   3161\u001B[0m \u001B[38;5;28;01mwith\u001B[39;00m \u001B[38;5;28mself\u001B[39m\u001B[38;5;241m.\u001B[39mbuiltin_trap:\n\u001B[1;32m-> 3162\u001B[0m     cell_name \u001B[38;5;241m=\u001B[39m \u001B[43mcompiler\u001B[49m\u001B[38;5;241;43m.\u001B[39;49m\u001B[43mcache\u001B[49m\u001B[43m(\u001B[49m\u001B[43mcell\u001B[49m\u001B[43m,\u001B[49m\u001B[43m \u001B[49m\u001B[38;5;28;43mself\u001B[39;49m\u001B[38;5;241;43m.\u001B[39;49m\u001B[43mexecution_count\u001B[49m\u001B[43m,\u001B[49m\u001B[43m \u001B[49m\u001B[43mraw_code\u001B[49m\u001B[38;5;241;43m=\u001B[39;49m\u001B[43mraw_cell\u001B[49m\u001B[43m)\u001B[49m\n\u001B[0;32m   3164\u001B[0m     \u001B[38;5;28;01mwith\u001B[39;00m \u001B[38;5;28mself\u001B[39m\u001B[38;5;241m.\u001B[39mdisplay_trap:\n\u001B[0;32m   3165\u001B[0m         \u001B[38;5;66;03m# Compile to bytecode\u001B[39;00m\n\u001B[0;32m   3166\u001B[0m         \u001B[38;5;28;01mtry\u001B[39;00m:\n",
      "File \u001B[1;32mD:\\Python\\Beetroot\\venv\\Lib\\site-packages\\IPython\\core\\compilerop.py:140\u001B[0m, in \u001B[0;36mCachingCompiler.cache\u001B[1;34m(self, transformed_code, number, raw_code)\u001B[0m\n\u001B[0;32m    137\u001B[0m \u001B[38;5;28;01mif\u001B[39;00m raw_code \u001B[38;5;129;01mis\u001B[39;00m \u001B[38;5;28;01mNone\u001B[39;00m:\n\u001B[0;32m    138\u001B[0m     raw_code \u001B[38;5;241m=\u001B[39m transformed_code\n\u001B[1;32m--> 140\u001B[0m name \u001B[38;5;241m=\u001B[39m \u001B[38;5;28;43mself\u001B[39;49m\u001B[38;5;241;43m.\u001B[39;49m\u001B[43mget_code_name\u001B[49m\u001B[43m(\u001B[49m\u001B[43mraw_code\u001B[49m\u001B[43m,\u001B[49m\u001B[43m \u001B[49m\u001B[43mtransformed_code\u001B[49m\u001B[43m,\u001B[49m\u001B[43m \u001B[49m\u001B[43mnumber\u001B[49m\u001B[43m)\u001B[49m\n\u001B[0;32m    142\u001B[0m \u001B[38;5;66;03m# Save the execution count\u001B[39;00m\n\u001B[0;32m    143\u001B[0m \u001B[38;5;28mself\u001B[39m\u001B[38;5;241m.\u001B[39m_filename_map[name] \u001B[38;5;241m=\u001B[39m number\n",
      "File \u001B[1;32mD:\\Python\\Beetroot\\venv\\Lib\\site-packages\\ipykernel\\compiler.py:97\u001B[0m, in \u001B[0;36mXCachingCompiler.get_code_name\u001B[1;34m(self, raw_code, code, number)\u001B[0m\n\u001B[0;32m     96\u001B[0m \u001B[38;5;28;01mdef\u001B[39;00m \u001B[38;5;21mget_code_name\u001B[39m(\u001B[38;5;28mself\u001B[39m, raw_code, code, number):\n\u001B[1;32m---> 97\u001B[0m     \u001B[38;5;28;01mreturn\u001B[39;00m \u001B[43mget_file_name\u001B[49m\u001B[43m(\u001B[49m\u001B[43mraw_code\u001B[49m\u001B[43m)\u001B[49m\n",
      "File \u001B[1;32mD:\\Python\\Beetroot\\venv\\Lib\\site-packages\\ipykernel\\compiler.py:87\u001B[0m, in \u001B[0;36mget_file_name\u001B[1;34m(code)\u001B[0m\n\u001B[0;32m     85\u001B[0m \u001B[38;5;28;01mif\u001B[39;00m cell_name \u001B[38;5;129;01mis\u001B[39;00m \u001B[38;5;28;01mNone\u001B[39;00m:\n\u001B[0;32m     86\u001B[0m     name \u001B[38;5;241m=\u001B[39m murmur2_x86(code, get_tmp_hash_seed())\n\u001B[1;32m---> 87\u001B[0m     cell_name \u001B[38;5;241m=\u001B[39m \u001B[43mget_tmp_directory\u001B[49m\u001B[43m(\u001B[49m\u001B[43m)\u001B[49m \u001B[38;5;241m+\u001B[39m os\u001B[38;5;241m.\u001B[39msep \u001B[38;5;241m+\u001B[39m \u001B[38;5;28mstr\u001B[39m(name) \u001B[38;5;241m+\u001B[39m \u001B[38;5;124m\"\u001B[39m\u001B[38;5;124m.py\u001B[39m\u001B[38;5;124m\"\u001B[39m\n\u001B[0;32m     88\u001B[0m \u001B[38;5;28;01mreturn\u001B[39;00m cell_name\n",
      "File \u001B[1;32mD:\\Python\\Beetroot\\venv\\Lib\\site-packages\\ipykernel\\compiler.py:73\u001B[0m, in \u001B[0;36mget_tmp_directory\u001B[1;34m()\u001B[0m\n\u001B[0;32m     72\u001B[0m \u001B[38;5;28;01mdef\u001B[39;00m \u001B[38;5;21mget_tmp_directory\u001B[39m():\n\u001B[1;32m---> 73\u001B[0m     tmp_dir \u001B[38;5;241m=\u001B[39m \u001B[43mconvert_to_long_pathname\u001B[49m\u001B[43m(\u001B[49m\u001B[43mtempfile\u001B[49m\u001B[38;5;241;43m.\u001B[39;49m\u001B[43mgettempdir\u001B[49m\u001B[43m(\u001B[49m\u001B[43m)\u001B[49m\u001B[43m)\u001B[49m\n\u001B[0;32m     74\u001B[0m     pid \u001B[38;5;241m=\u001B[39m os\u001B[38;5;241m.\u001B[39mgetpid()\n\u001B[0;32m     75\u001B[0m     \u001B[38;5;28;01mreturn\u001B[39;00m tmp_dir \u001B[38;5;241m+\u001B[39m os\u001B[38;5;241m.\u001B[39msep \u001B[38;5;241m+\u001B[39m \u001B[38;5;124m\"\u001B[39m\u001B[38;5;124mipykernel_\u001B[39m\u001B[38;5;124m\"\u001B[39m \u001B[38;5;241m+\u001B[39m \u001B[38;5;28mstr\u001B[39m(pid)\n",
      "File \u001B[1;32mD:\\Python\\Beetroot\\venv\\Lib\\site-packages\\ipykernel\\compiler.py:59\u001B[0m, in \u001B[0;36m_convert_to_long_pathname\u001B[1;34m(filename)\u001B[0m\n\u001B[0;32m     57\u001B[0m \u001B[38;5;28;01mdef\u001B[39;00m \u001B[38;5;21m_convert_to_long_pathname\u001B[39m(filename):\n\u001B[0;32m     58\u001B[0m     buf \u001B[38;5;241m=\u001B[39m ctypes\u001B[38;5;241m.\u001B[39mcreate_unicode_buffer(MAX_PATH)\n\u001B[1;32m---> 59\u001B[0m     rv \u001B[38;5;241m=\u001B[39m \u001B[43m_GetLongPathName\u001B[49m\u001B[43m(\u001B[49m\u001B[43mfilename\u001B[49m\u001B[43m,\u001B[49m\u001B[43m \u001B[49m\u001B[43mbuf\u001B[49m\u001B[43m,\u001B[49m\u001B[43m \u001B[49m\u001B[43mMAX_PATH\u001B[49m\u001B[43m)\u001B[49m\n\u001B[0;32m     60\u001B[0m     \u001B[38;5;28;01mif\u001B[39;00m rv \u001B[38;5;241m!=\u001B[39m \u001B[38;5;241m0\u001B[39m \u001B[38;5;129;01mand\u001B[39;00m rv \u001B[38;5;241m<\u001B[39m\u001B[38;5;241m=\u001B[39m MAX_PATH:\n\u001B[0;32m     61\u001B[0m         filename \u001B[38;5;241m=\u001B[39m buf\u001B[38;5;241m.\u001B[39mvalue\n",
      "\u001B[1;31mKeyboardInterrupt\u001B[0m: "
     ]
    }
   ],
   "source": [
    "print(example)\n",
    "print(example.is_empty())"
   ],
   "metadata": {
    "collapsed": false
   }
  },
  {
   "cell_type": "markdown",
   "source": [
    "from random import randint\n",
    "\n",
    "for _ in range(10):\n",
    "    example.add(randint)"
   ],
   "metadata": {
    "collapsed": false
   }
  }
 ],
 "metadata": {
  "kernelspec": {
   "display_name": "Python 3",
   "language": "python",
   "name": "python3"
  },
  "language_info": {
   "codemirror_mode": {
    "name": "ipython",
    "version": 2
   },
   "file_extension": ".py",
   "mimetype": "text/x-python",
   "name": "python",
   "nbconvert_exporter": "python",
   "pygments_lexer": "ipython2",
   "version": "2.7.6"
  }
 },
 "nbformat": 4,
 "nbformat_minor": 0
}
