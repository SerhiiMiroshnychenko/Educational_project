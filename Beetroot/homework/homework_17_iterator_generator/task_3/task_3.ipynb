{
 "cells": [
  {
   "cell_type": "markdown",
   "source": [
    "# Task 3\n",
    "# Create your own implementation of an iterable, which could be used inside\n",
    "# for-in loop. Also, add logic for retrieving elements using square brackets\n",
    "# syntax."
   ],
   "metadata": {
    "collapsed": false
   }
  },
  {
   "cell_type": "code",
   "execution_count": 340,
   "metadata": {
    "collapsed": true
   },
   "outputs": [],
   "source": [
    "class Iterable:\n",
    "\n",
    "    def __init__(self, *data):\n",
    "        new_data = []\n",
    "        for element in data:\n",
    "            try:\n",
    "                for elem in element:\n",
    "                    new_data += [elem]\n",
    "            except TypeError:\n",
    "                new_data += [element]\n",
    "        self.data = tuple(new_data)\n",
    "        self.index = 0\n",
    "\n",
    "    def __iter__(self):\n",
    "        return self\n",
    "\n",
    "    def __next__(self):\n",
    "        if self.index == len(self.data):\n",
    "            self.index = 0\n",
    "            raise StopIteration\n",
    "        self.index += 1\n",
    "        return self.data[self.index-1]\n",
    "\n",
    "    def __getitem__(self, ind):\n",
    "        for counter, element in enumerate(self.data):\n",
    "            if counter == ind:\n",
    "                return element\n",
    "        print('Index out of range.')\n",
    "\n",
    "    def __len__(self):\n",
    "        return sum(1 for _ in self.data)\n",
    "\n",
    "    def __str__(self):\n",
    "        return f'{self.data}'"
   ]
  },
  {
   "cell_type": "code",
   "execution_count": 341,
   "outputs": [],
   "source": [
    "i0 = Iterable('a', 'b', 'c', 'd', 'e', 'f')"
   ],
   "metadata": {
    "collapsed": false
   }
  },
  {
   "cell_type": "code",
   "execution_count": 342,
   "outputs": [
    {
     "name": "stdout",
     "output_type": "stream",
     "text": [
      "a...b...c...d...e...f..."
     ]
    }
   ],
   "source": [
    "for i in i0:\n",
    "    print(i, end='...')"
   ],
   "metadata": {
    "collapsed": false
   }
  },
  {
   "cell_type": "code",
   "execution_count": 355,
   "outputs": [
    {
     "name": "stdout",
     "output_type": "stream",
     "text": [
      "a---b---c---d---e---f\n",
      "6\n"
     ]
    }
   ],
   "source": [
    "print(*i0, sep='---')\n",
    "print(len(i0))"
   ],
   "metadata": {
    "collapsed": false
   }
  },
  {
   "cell_type": "code",
   "execution_count": 344,
   "outputs": [
    {
     "name": "stdout",
     "output_type": "stream",
     "text": [
      "d\n"
     ]
    }
   ],
   "source": [
    "print(i0[3])"
   ],
   "metadata": {
    "collapsed": false
   }
  },
  {
   "cell_type": "code",
   "execution_count": 345,
   "outputs": [
    {
     "name": "stdout",
     "output_type": "stream",
     "text": [
      "Index out of range.\n",
      "None\n"
     ]
    }
   ],
   "source": [
    "print(i0[10])"
   ],
   "metadata": {
    "collapsed": false
   }
  },
  {
   "cell_type": "code",
   "execution_count": 346,
   "outputs": [],
   "source": [
    "i1 = Iterable('Beetroot')"
   ],
   "metadata": {
    "collapsed": false
   }
  },
  {
   "cell_type": "code",
   "execution_count": 347,
   "outputs": [
    {
     "name": "stdout",
     "output_type": "stream",
     "text": [
      "B...e...e...t...r...o...o...t..."
     ]
    }
   ],
   "source": [
    "for i in i1:\n",
    "    print(i, end='...')"
   ],
   "metadata": {
    "collapsed": false
   }
  },
  {
   "cell_type": "code",
   "execution_count": 354,
   "outputs": [
    {
     "name": "stdout",
     "output_type": "stream",
     "text": [
      "B-e-e-t-r-o-o-t\n",
      "8\n"
     ]
    }
   ],
   "source": [
    "print(*i1, sep='-')\n",
    "print(len(i1))"
   ],
   "metadata": {
    "collapsed": false
   }
  },
  {
   "cell_type": "code",
   "execution_count": 349,
   "outputs": [],
   "source": [
    "i2 = Iterable('Python', 1,2,3,4, ['a', 'b', 'c', 'd', 'e'])"
   ],
   "metadata": {
    "collapsed": false
   }
  },
  {
   "cell_type": "code",
   "execution_count": 350,
   "outputs": [
    {
     "name": "stdout",
     "output_type": "stream",
     "text": [
      "P-y-t-h-o-n-1-2-3-4-a-b-c-d-e\n"
     ]
    }
   ],
   "source": [
    "print(*i2, sep='-')"
   ],
   "metadata": {
    "collapsed": false
   }
  },
  {
   "cell_type": "code",
   "execution_count": 351,
   "outputs": [
    {
     "name": "stdout",
     "output_type": "stream",
     "text": [
      "P...y...t...h...o...n...1...2...3...4...a...b...c...d...e..."
     ]
    }
   ],
   "source": [
    "for i in i2:\n",
    "    print(i, end='...')"
   ],
   "metadata": {
    "collapsed": false
   }
  },
  {
   "cell_type": "code",
   "execution_count": 353,
   "outputs": [
    {
     "name": "stdout",
     "output_type": "stream",
     "text": [
      "a\n",
      "15\n"
     ]
    }
   ],
   "source": [
    "print(i2[10])\n",
    "print(len(i2))"
   ],
   "metadata": {
    "collapsed": false
   }
  }
 ],
 "metadata": {
  "kernelspec": {
   "display_name": "Python 3",
   "language": "python",
   "name": "python3"
  },
  "language_info": {
   "codemirror_mode": {
    "name": "ipython",
    "version": 2
   },
   "file_extension": ".py",
   "mimetype": "text/x-python",
   "name": "python",
   "nbconvert_exporter": "python",
   "pygments_lexer": "ipython2",
   "version": "2.7.6"
  }
 },
 "nbformat": 4,
 "nbformat_minor": 0
}
