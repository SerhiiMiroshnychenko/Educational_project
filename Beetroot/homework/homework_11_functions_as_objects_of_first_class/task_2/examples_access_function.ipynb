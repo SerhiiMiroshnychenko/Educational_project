{
 "cells": [
  {
   "cell_type": "markdown",
   "source": [
    "Приклади роботи функції access_function"
   ],
   "metadata": {
    "collapsed": false
   }
  },
  {
   "cell_type": "code",
   "execution_count": 1,
   "metadata": {
    "collapsed": true
   },
   "outputs": [
    {
     "name": "stdout",
     "output_type": "stream",
     "text": [
      "105\n"
     ]
    }
   ],
   "source": [
    "# Перша функція для дослідів:\n",
    "def outside(func):\n",
    "    \"\"\"A nested function\"\"\"\n",
    "    def inside(x):\n",
    "        x **= 2\n",
    "        return func(x)\n",
    "    return inside\n",
    "\n",
    "\n",
    "def add_5(n): return n + 5\n",
    "\n",
    "\n",
    "result = outside(add_5)\n",
    "print(result(10))"
   ]
  },
  {
   "cell_type": "code",
   "execution_count": 2,
   "outputs": [
    {
     "name": "stdout",
     "output_type": "stream",
     "text": [
      "HERE: PYTHON BEETROOT!\n"
     ]
    }
   ],
   "source": [
    "# Друга функція для дослідів:\n",
    "def upper(text): return text.upper()\n",
    "\n",
    "def lower(text): return text.lower()\n",
    "\n",
    "def printer(func):\n",
    "    \"\"\"A function that changes text and prints it\"\"\"\n",
    "    def adder(text):\n",
    "        res = 'Here: ' + text + '!'\n",
    "        return func(res)\n",
    "    return adder\n",
    "\n",
    "texter = printer(upper)\n",
    "print(texter('Python Beetroot'))"
   ],
   "metadata": {
    "collapsed": false
   }
  },
  {
   "cell_type": "code",
   "execution_count": 3,
   "outputs": [
    {
     "name": "stdout",
     "output_type": "stream",
     "text": [
      "I am simple printer!\n",
      "Hello, I am simple printer!\n"
     ]
    }
   ],
   "source": [
    "# Третя функція для дослідів:\n",
    "def simple_printer():\n",
    "    \"\"\"A simple function for printing\"\"\"\n",
    "    return 'I am simple printer!'\n",
    "\n",
    "def decor_print(func):\n",
    "    def say_hello():\n",
    "        print('Hello, ', end = '')\n",
    "        return func\n",
    "    return say_hello\n",
    "\n",
    "print(simple_printer())\n",
    "print(decor_print(simple_printer)()())"
   ],
   "metadata": {
    "collapsed": false
   }
  },
  {
   "cell_type": "code",
   "execution_count": 4,
   "outputs": [],
   "source": [
    "from access_function import access_function"
   ],
   "metadata": {
    "collapsed": false
   }
  },
  {
   "cell_type": "code",
   "execution_count": 5,
   "outputs": [
    {
     "name": "stdout",
     "output_type": "stream",
     "text": [
      "Функція <outside> містить в собі функцію <inside>\n",
      "Результат виклику функції inside(3) =  9\n"
     ]
    },
    {
     "data": {
      "text/plain": "9"
     },
     "execution_count": 5,
     "metadata": {},
     "output_type": "execute_result"
    }
   ],
   "source": [
    "# Тестуємо першу функцію\n",
    "access_function(outside, 3)"
   ],
   "metadata": {
    "collapsed": false
   }
  },
  {
   "cell_type": "code",
   "execution_count": 6,
   "outputs": [
    {
     "name": "stdout",
     "output_type": "stream",
     "text": [
      "Функція <printer> містить в собі функцію <adder>\n",
      "Результат виклику функції adder(task) =  Here: task!\n"
     ]
    },
    {
     "data": {
      "text/plain": "'Here: task!'"
     },
     "execution_count": 6,
     "metadata": {},
     "output_type": "execute_result"
    }
   ],
   "source": [
    "# Тестуємо другу функцію:\n",
    "access_function(printer, 'task')"
   ],
   "metadata": {
    "collapsed": false
   }
  },
  {
   "cell_type": "code",
   "execution_count": 7,
   "outputs": [
    {
     "name": "stdout",
     "output_type": "stream",
     "text": [
      "Функція <decor_print> містить в собі функцію <say_hello>\n",
      "Результат виклику функції say_hello() = Hello, "
     ]
    }
   ],
   "source": [
    "# Тестуємо третю функцію:\n",
    "access_function(decor_print)"
   ],
   "metadata": {
    "collapsed": false
   }
  }
 ],
 "metadata": {
  "kernelspec": {
   "display_name": "Python 3",
   "language": "python",
   "name": "python3"
  },
  "language_info": {
   "codemirror_mode": {
    "name": "ipython",
    "version": 2
   },
   "file_extension": ".py",
   "mimetype": "text/x-python",
   "name": "python",
   "nbconvert_exporter": "python",
   "pygments_lexer": "ipython2",
   "version": "2.7.6"
  }
 },
 "nbformat": 4,
 "nbformat_minor": 0
}
