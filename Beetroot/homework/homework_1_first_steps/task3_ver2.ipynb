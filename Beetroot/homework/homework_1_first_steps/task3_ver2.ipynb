{
 "cells": [
  {
   "cell_type": "code",
   "execution_count": 1,
   "id": "36340cb9",
   "metadata": {},
   "outputs": [
    {
     "data": {
      "text/plain": [
       "'Task 3'"
      ]
     },
     "execution_count": 1,
     "metadata": {},
     "output_type": "execute_result"
    }
   ],
   "source": [
    "\"\"\"Task 3\"\"\"\n",
    "# Version 2"
   ]
  },
  {
   "cell_type": "code",
   "execution_count": 1,
   "id": "9d45ec6e",
   "metadata": {},
   "outputs": [
    {
     "name": "stdout",
     "output_type": "stream",
     "text": [
      "##########\n",
      "#        #\n",
      "#        #\n",
      "#        #\n",
      "##########\n"
     ]
    }
   ],
   "source": [
    "# Малюємо \"О\"\n",
    "for i in range(5):\n",
    "    for j in range(10):\n",
    "        if j == 0 or (i == 0 and j < 9) or (i == 4 and j < 9):\n",
    "            print('#', end='')\n",
    "        elif j == 9:\n",
    "            print('#')\n",
    "        else:\n",
    "            print(' ', end='')"
   ]
  },
  {
   "cell_type": "code",
   "execution_count": 3,
   "id": "82826932",
   "metadata": {},
   "outputs": [
    {
     "name": "stdout",
     "output_type": "stream",
     "text": [
      "#        #\n",
      "#        #\n",
      "##########\n",
      "#        #\n",
      "#        #\n"
     ]
    }
   ],
   "source": [
    "# Малюємо \"Н\"\n",
    "for i in range(5):\n",
    "    for j in range(10):\n",
    "        if j == 0 or (i == 2 and j < 9):\n",
    "            print('#', end='')\n",
    "        elif j == 9:\n",
    "            print('#')\n",
    "        else:\n",
    "            print(' ', end='')"
   ]
  }
 ],
 "metadata": {
  "kernelspec": {
   "display_name": "Python 3 (ipykernel)",
   "language": "python",
   "name": "python3"
  },
  "language_info": {
   "codemirror_mode": {
    "name": "ipython",
    "version": 3
   },
   "file_extension": ".py",
   "mimetype": "text/x-python",
   "name": "python",
   "nbconvert_exporter": "python",
   "pygments_lexer": "ipython3",
   "version": "3.9.13"
  }
 },
 "nbformat": 4,
 "nbformat_minor": 5
}
