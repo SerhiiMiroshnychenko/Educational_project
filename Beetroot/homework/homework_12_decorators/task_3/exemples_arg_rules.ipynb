{
 "cells": [
  {
   "cell_type": "code",
   "execution_count": 1,
   "metadata": {
    "collapsed": true
   },
   "outputs": [],
   "source": [
    "from arg_rules import arg_rules"
   ]
  },
  {
   "cell_type": "code",
   "execution_count": 2,
   "outputs": [],
   "source": [
    "@arg_rules(type_=str, max_length=15, contains=['05', '@'])\n",
    "def create_slogan(name: str) -> str:\n",
    "    return f\"{name} drinks pepsi in his brand new BMW!\""
   ],
   "metadata": {
    "collapsed": false
   }
  },
  {
   "cell_type": "code",
   "execution_count": 15,
   "outputs": [
    {
     "name": "stdout",
     "output_type": "stream",
     "text": [
      "Працює функція \"create_slogan\":\n"
     ]
    }
   ],
   "source": [
    "print(f'Працює функція \"{create_slogan.__name__}\":')"
   ],
   "metadata": {
    "collapsed": false
   }
  },
  {
   "cell_type": "code",
   "execution_count": 12,
   "outputs": [
    {
     "name": "stdout",
     "output_type": "stream",
     "text": [
      "Звіт про помилки:\n",
      "1. Завелика довжина переданого аргументу: 19.\n",
      "\n"
     ]
    }
   ],
   "source": [
    "res = create_slogan('johndoe05@gmail.com')"
   ],
   "metadata": {
    "collapsed": false
   }
  },
  {
   "cell_type": "code",
   "execution_count": 13,
   "outputs": [
    {
     "name": "stdout",
     "output_type": "stream",
     "text": [
      "False\n"
     ]
    }
   ],
   "source": [
    "print(res)"
   ],
   "metadata": {
    "collapsed": false
   }
  },
  {
   "cell_type": "code",
   "execution_count": 16,
   "outputs": [],
   "source": [
    "res = create_slogan('S@SH05')"
   ],
   "metadata": {
    "collapsed": false
   }
  },
  {
   "cell_type": "code",
   "execution_count": 17,
   "outputs": [
    {
     "name": "stdout",
     "output_type": "stream",
     "text": [
      "S@SH05 drinks pepsi in his brand new BMW!\n"
     ]
    }
   ],
   "source": [
    "print(res)"
   ],
   "metadata": {
    "collapsed": false
   }
  },
  {
   "cell_type": "code",
   "execution_count": 10,
   "outputs": [
    {
     "name": "stdout",
     "output_type": "stream",
     "text": [
      "Звіт про помилки:\n",
      "1. У переданому аргументі не вистачає ['05', '@'].\n",
      "\n"
     ]
    }
   ],
   "source": [
    "res = create_slogan('I am paper')"
   ],
   "metadata": {
    "collapsed": false
   }
  },
  {
   "cell_type": "code",
   "execution_count": 11,
   "outputs": [
    {
     "name": "stdout",
     "output_type": "stream",
     "text": [
      "False\n"
     ]
    }
   ],
   "source": [
    "print(res)"
   ],
   "metadata": {
    "collapsed": false
   }
  },
  {
   "cell_type": "code",
   "execution_count": 6,
   "outputs": [
    {
     "name": "stdout",
     "output_type": "stream",
     "text": [
      "Звіт про помилки:\n",
      "1. Не відповідний тип переданого аргументу: <class 'int'>.\n",
      "2. Помилка: <class 'TypeError'>. Причина: object of type 'int' has no len().\n",
      "\n",
      "False\n"
     ]
    }
   ],
   "source": [
    "res = create_slogan(123)\n",
    "print(res)"
   ],
   "metadata": {
    "collapsed": false
   }
  },
  {
   "cell_type": "code",
   "execution_count": 7,
   "outputs": [
    {
     "name": "stdout",
     "output_type": "stream",
     "text": [
      "Звіт про помилки:\n",
      "1. Не відповідний тип переданого аргументу: <class 'list'>.\n",
      "2. У переданому аргументі не вистачає ['05', '@'].\n",
      "\n",
      "False\n"
     ]
    }
   ],
   "source": [
    "res = create_slogan(['a', 'b', 'c'])\n",
    "print(res)"
   ],
   "metadata": {
    "collapsed": false
   }
  },
  {
   "cell_type": "code",
   "execution_count": 8,
   "outputs": [
    {
     "name": "stdout",
     "output_type": "stream",
     "text": [
      "@05@05@05 drinks pepsi in his brand new BMW!\n"
     ]
    }
   ],
   "source": [
    "res = create_slogan('@05@05@05')\n",
    "print(res)"
   ],
   "metadata": {
    "collapsed": false
   }
  },
  {
   "cell_type": "code",
   "execution_count": 9,
   "outputs": [
    {
     "name": "stdout",
     "output_type": "stream",
     "text": [
      "Звіт про помилки:\n",
      "1. У переданому аргументі не вистачає ['@'].\n",
      "\n",
      "False\n"
     ]
    }
   ],
   "source": [
    "res = create_slogan('050505')\n",
    "print(res)"
   ],
   "metadata": {
    "collapsed": false
   }
  }
 ],
 "metadata": {
  "kernelspec": {
   "display_name": "Python 3",
   "language": "python",
   "name": "python3"
  },
  "language_info": {
   "codemirror_mode": {
    "name": "ipython",
    "version": 2
   },
   "file_extension": ".py",
   "mimetype": "text/x-python",
   "name": "python",
   "nbconvert_exporter": "python",
   "pygments_lexer": "ipython2",
   "version": "2.7.6"
  }
 },
 "nbformat": 4,
 "nbformat_minor": 0
}
