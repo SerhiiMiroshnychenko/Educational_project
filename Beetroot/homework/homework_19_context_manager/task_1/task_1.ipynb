{
 "cells": [
  {
   "cell_type": "code",
   "execution_count": 11,
   "metadata": {
    "collapsed": true
   },
   "outputs": [],
   "source": [
    "import logging\n",
    "\n",
    "logging.basicConfig(level=logging.DEBUG)\n",
    "logger = logging.getLogger(' ')\n",
    "enter_log = logging.getLogger('ENTER')\n",
    "exit_log = logging.getLogger('EXIT')\n",
    "start_log = logging.getLogger('START')\n",
    "count_log = logging.getLogger('COUNT')\n",
    "report_log = logging.getLogger('REPORT')\n",
    "\n",
    "class Open:\n",
    "    successful_counter = 0\n",
    "    failed_counter = 0\n",
    "    def __init__(self, name, mode='r', encoding='utf-8'):\n",
    "        start_log.info(f'\\nThe start operation with file <{name}> (mode=\"{mode}\"):')\n",
    "        self.name = name\n",
    "        self.mode = mode\n",
    "        self.encoding = encoding\n",
    "        self.file = None\n",
    "\n",
    "    @classmethod\n",
    "    def successful_counter_add(cls):\n",
    "        cls.successful_counter += 1\n",
    "        count_log.info(f'SUCCESSFUL counter added to {cls.successful_counter}.')\n",
    "\n",
    "    @classmethod\n",
    "    def failed_counter_add(cls):\n",
    "        cls.failed_counter += 1\n",
    "        count_log.info(f'FAILED counter added to {cls.failed_counter}.')\n",
    "\n",
    "    def __enter__(self):\n",
    "        enter_log.info('Calling __enter__;')\n",
    "\n",
    "        try:\n",
    "            if self.mode != 'x':\n",
    "                self.file = open(self.name, 'r', encoding=self.encoding)\n",
    "                self.copy_file = self.file.read()\n",
    "                enter_log.info(f'The file <{self.name}> was copied.')\n",
    "                self.file.close()\n",
    "        except BaseException as error:\n",
    "            enter_log.error(f'Tried to read: {error.__class__} {error}')\n",
    "\n",
    "        try:\n",
    "            self.file = open(self.name, self.mode, encoding=self.encoding)\n",
    "            enter_log.info(f'The file <{self.name}> was opened in \"{self.mode}\"-mode and returned.')\n",
    "            return self.file\n",
    "        except BaseException as error:\n",
    "            enter_log.error(f'Tried to open in \"{self.mode}\": {error.__class__} {error}')\n",
    "            self.failed_counter_add()\n",
    "            raise error\n",
    "        finally:\n",
    "            self.report('ENTER')\n",
    "\n",
    "    def __exit__(self, exc_type, exc_value, exc_traceback):\n",
    "        exit_log.info('Calling __exit__;')\n",
    "\n",
    "        if exc_type:\n",
    "\n",
    "            exit_log.error(f'ERROR in EXIT: {exc_type} {exc_value} {exc_traceback}')\n",
    "\n",
    "            self.failed_counter_add()\n",
    "\n",
    "            if self.file:\n",
    "                try:\n",
    "                    with open(f'{self.name}', 'w', encoding=self.encoding) as new_file:\n",
    "                        print(self.copy_file, file=new_file, end='')\n",
    "                        exit_log.info(f'The file <{self.name}> was repaired successfully.')\n",
    "                except BaseException as error:\n",
    "                    exit_log.error(f'{error.__class__} {error}')\n",
    "            self.report('EXIT (fail)')\n",
    "\n",
    "            return True\n",
    "\n",
    "        else:\n",
    "\n",
    "            exit_log.info(f'The operation with file <{self.name}> (mode=\"{self.mode}\") is successful.')\n",
    "            self.successful_counter_add()\n",
    "\n",
    "            self.report('EXIT (success)')\n",
    "\n",
    "            return None\n",
    "\n",
    "    def report(self, place):\n",
    "        report_log.info(f'Report in {place}:')\n",
    "        if self.file:\n",
    "            report_log.info(f'Check 1: the file <{self.name}> is closed: {self.file.closed}.')\n",
    "            if not self.file.closed:\n",
    "                if place != 'ENTER':\n",
    "                    self.file.close()\n",
    "                    report_log.info(f'Check 2: the file <{self.name}> is closed: {self.file.closed}.')\n",
    "                else:\n",
    "                    report_log.info(f'Check 2: the file <{self.name}> is opened and sent to \"EXIT\".')\n",
    "        else:\n",
    "            report_log.info(f'The file <{self.name}> was not created.')"
   ]
  },
  {
   "cell_type": "code",
   "execution_count": 12,
   "outputs": [
    {
     "name": "stderr",
     "output_type": "stream",
     "text": [
      "INFO:root:\n",
      "\n",
      "----------1. Success(1) is expected:\n",
      "INFO:START:\n",
      "The start operation with file <demo.txt> (mode=\"w\"):\n",
      "INFO:ENTER:Calling __enter__;\n",
      "INFO:ENTER:The file <demo.txt> was copied.\n",
      "INFO:ENTER:The file <demo.txt> was opened in \"w\"-mode and returned.\n",
      "INFO:REPORT:Report in ENTER:\n",
      "INFO:REPORT:Check 1: the file <demo.txt> is closed: False.\n",
      "INFO:REPORT:Check 2: the file <demo.txt> is opened and sent to \"EXIT\".\n",
      "INFO:EXIT:Calling __exit__;\n",
      "INFO:EXIT:The operation with file <demo.txt> (mode=\"w\") is successful.\n",
      "INFO:COUNT:SUCCESSFUL counter added to 1.\n",
      "INFO:REPORT:Report in EXIT (success):\n",
      "INFO:REPORT:Check 1: the file <demo.txt> is closed: False.\n",
      "INFO:REPORT:Check 2: the file <demo.txt> is closed: True.\n"
     ]
    }
   ],
   "source": [
    "logging.info('\\n\\n----------1. Success(1) is expected:')\n",
    "with Open('demo.txt', 'w') as opened_file:\n",
    "    opened_file.write('PYTHON IS GREAT!')"
   ],
   "metadata": {
    "collapsed": false
   }
  },
  {
   "cell_type": "code",
   "execution_count": 13,
   "outputs": [
    {
     "name": "stderr",
     "output_type": "stream",
     "text": [
      "INFO:root:\n",
      "\n",
      "----------2. Success(2) is expected:\n",
      "INFO:START:\n",
      "The start operation with file <demo.txt> (mode=\"r\"):\n",
      "INFO:ENTER:Calling __enter__;\n",
      "INFO:ENTER:The file <demo.txt> was copied.\n",
      "INFO:ENTER:The file <demo.txt> was opened in \"r\"-mode and returned.\n",
      "INFO:REPORT:Report in ENTER:\n",
      "INFO:REPORT:Check 1: the file <demo.txt> is closed: False.\n",
      "INFO:REPORT:Check 2: the file <demo.txt> is opened and sent to \"EXIT\".\n",
      "INFO: :The file content: <<PYTHON IS GREAT!>>.\n",
      "INFO:EXIT:Calling __exit__;\n",
      "INFO:EXIT:The operation with file <demo.txt> (mode=\"r\") is successful.\n",
      "INFO:COUNT:SUCCESSFUL counter added to 2.\n",
      "INFO:REPORT:Report in EXIT (success):\n",
      "INFO:REPORT:Check 1: the file <demo.txt> is closed: False.\n",
      "INFO:REPORT:Check 2: the file <demo.txt> is closed: True.\n"
     ]
    }
   ],
   "source": [
    "logging.info('\\n\\n----------2. Success(2) is expected:')\n",
    "with Open('demo.txt', 'r') as opened_file:\n",
    "    logger.info(f'The file content: <<{opened_file.read()}>>.')"
   ],
   "metadata": {
    "collapsed": false
   }
  },
  {
   "cell_type": "code",
   "execution_count": 14,
   "outputs": [
    {
     "name": "stderr",
     "output_type": "stream",
     "text": [
      "INFO:root:\n",
      "\n",
      "----------3. Fail(1) is expected:\n",
      "INFO:START:\n",
      "The start operation with file <demo1.txt> (mode=\"r\"):\n",
      "INFO:ENTER:Calling __enter__;\n",
      "ERROR:ENTER:Tried to read: <class 'FileNotFoundError'> [Errno 2] No such file or directory: 'demo1.txt'\n",
      "ERROR:ENTER:Tried to open in \"r\": <class 'FileNotFoundError'> [Errno 2] No such file or directory: 'demo1.txt'\n",
      "INFO:COUNT:FAILED counter added to 1.\n",
      "INFO:REPORT:Report in ENTER:\n",
      "INFO:REPORT:The file <demo1.txt> was not created.\n",
      "ERROR: :<class 'FileNotFoundError'> [Errno 2] No such file or directory: 'demo1.txt'\n",
      "\n"
     ]
    }
   ],
   "source": [
    "try:\n",
    "    logging.info('\\n\\n----------3. Fail(1) is expected:')\n",
    "    with Open('demo1.txt', 'r') as opened_file:\n",
    "        logger.info(f'The file content: <<{opened_file.read()}>>.')\n",
    "except FileNotFoundError as error:\n",
    "    logger.error(f'{error.__class__} {error}\\n')"
   ],
   "metadata": {
    "collapsed": false
   }
  },
  {
   "cell_type": "code",
   "execution_count": 15,
   "outputs": [
    {
     "name": "stderr",
     "output_type": "stream",
     "text": [
      "INFO:root:\n",
      "\n",
      "----------4. Fail(2) is expected:\n",
      "INFO:START:\n",
      "The start operation with file <123> (mode=\"r\"):\n",
      "INFO:ENTER:Calling __enter__;\n",
      "ERROR:ENTER:Tried to read: <class 'OSError'> [WinError 6] The handle is invalid\n",
      "ERROR:ENTER:Tried to open in \"r\": <class 'OSError'> [WinError 6] The handle is invalid\n",
      "INFO:COUNT:FAILED counter added to 2.\n",
      "INFO:REPORT:Report in ENTER:\n",
      "INFO:REPORT:The file <123> was not created.\n",
      "ERROR: :<class 'OSError'> [WinError 6] The handle is invalid\n",
      "\n"
     ]
    }
   ],
   "source": [
    "try:\n",
    "    logging.info('\\n\\n----------4. Fail(2) is expected:')\n",
    "    with Open(123, 'r') as opened_file:\n",
    "        print(opened_file.read())\n",
    "except OSError as error:\n",
    "    logger.error(f'{error.__class__} {error}\\n')"
   ],
   "metadata": {
    "collapsed": false
   }
  },
  {
   "cell_type": "code",
   "execution_count": 16,
   "outputs": [
    {
     "name": "stderr",
     "output_type": "stream",
     "text": [
      "INFO:root:\n",
      "\n",
      "----------5. Fail(3) is expected:\n",
      "INFO:START:\n",
      "The start operation with file <demo.txt> (mode=\"w\"):\n",
      "INFO:ENTER:Calling __enter__;\n",
      "INFO:ENTER:The file <demo.txt> was copied.\n",
      "INFO:ENTER:The file <demo.txt> was opened in \"w\"-mode and returned.\n",
      "INFO:REPORT:Report in ENTER:\n",
      "INFO:REPORT:Check 1: the file <demo.txt> is closed: False.\n",
      "INFO:REPORT:Check 2: the file <demo.txt> is opened and sent to \"EXIT\".\n",
      "INFO:EXIT:Calling __exit__;\n",
      "ERROR:EXIT:ERROR in EXIT: <class 'NameError'> name 'wrong_context' is not defined <traceback object at 0x000001EEB3C30B00>\n",
      "INFO:COUNT:FAILED counter added to 3.\n",
      "INFO:EXIT:The file <demo.txt> was repaired successfully.\n",
      "INFO:REPORT:Report in EXIT (fail):\n",
      "INFO:REPORT:Check 1: the file <demo.txt> is closed: False.\n",
      "INFO:REPORT:Check 2: the file <demo.txt> is closed: True.\n"
     ]
    }
   ],
   "source": [
    "try:\n",
    "    logging.info('\\n\\n----------5. Fail(3) is expected:')\n",
    "    with Open('demo.txt', 'w') as opened_file:\n",
    "        opened_file.write(wrong_context)\n",
    "except NameError as error:\n",
    "    logger.error(f'{error.__class__} {error}\\n')"
   ],
   "metadata": {
    "collapsed": false
   }
  },
  {
   "cell_type": "code",
   "execution_count": 17,
   "outputs": [
    {
     "name": "stderr",
     "output_type": "stream",
     "text": [
      "INFO:root:\n",
      "\n",
      "----------6. Success(3) is expected:\n",
      "INFO:START:\n",
      "The start operation with file <demo.txt> (mode=\"a\"):\n",
      "INFO:ENTER:Calling __enter__;\n",
      "INFO:ENTER:The file <demo.txt> was copied.\n",
      "INFO:ENTER:The file <demo.txt> was opened in \"a\"-mode and returned.\n",
      "INFO:REPORT:Report in ENTER:\n",
      "INFO:REPORT:Check 1: the file <demo.txt> is closed: False.\n",
      "INFO:REPORT:Check 2: the file <demo.txt> is opened and sent to \"EXIT\".\n",
      "INFO:EXIT:Calling __exit__;\n",
      "INFO:EXIT:The operation with file <demo.txt> (mode=\"a\") is successful.\n",
      "INFO:COUNT:SUCCESSFUL counter added to 3.\n",
      "INFO:REPORT:Report in EXIT (success):\n",
      "INFO:REPORT:Check 1: the file <demo.txt> is closed: False.\n",
      "INFO:REPORT:Check 2: the file <demo.txt> is closed: True.\n"
     ]
    }
   ],
   "source": [
    "logging.info('\\n\\n----------6. Success(3) is expected:')\n",
    "with Open('demo.txt', 'a') as opened_file:\n",
    "    opened_file.write('BEETROOT IS NICE!')"
   ],
   "metadata": {
    "collapsed": false
   }
  },
  {
   "cell_type": "code",
   "execution_count": 18,
   "outputs": [
    {
     "name": "stderr",
     "output_type": "stream",
     "text": [
      "INFO:root:\n",
      "\n",
      "----------7. Fail(4) is expected:\n",
      "INFO:START:\n",
      "The start operation with file <demo2.txt> (mode=\"x\"):\n",
      "INFO:ENTER:Calling __enter__;\n",
      "ERROR:ENTER:Tried to open in \"x\": <class 'FileExistsError'> [Errno 17] File exists: 'demo2.txt'\n",
      "INFO:COUNT:FAILED counter added to 4.\n",
      "INFO:REPORT:Report in ENTER:\n",
      "INFO:REPORT:The file <demo2.txt> was not created.\n",
      "ERROR: :<class 'FileExistsError'> [Errno 17] File exists: 'demo2.txt'\n",
      "\n"
     ]
    }
   ],
   "source": [
    "try:\n",
    "    logging.info('\\n\\n----------7. Fail(4) is expected:')\n",
    "    with Open('demo2.txt', 'x') as opened_file:\n",
    "        opened_file.write('HELLO 2023!')\n",
    "except FileExistsError as error:\n",
    "    logger.error(f'{error.__class__} {error}\\n')"
   ],
   "metadata": {
    "collapsed": false
   }
  },
  {
   "cell_type": "code",
   "execution_count": 19,
   "outputs": [
    {
     "name": "stderr",
     "output_type": "stream",
     "text": [
      "INFO:root:\n",
      "\n",
      "----------8. Fail(5) is expected:\n",
      "INFO:START:\n",
      "The start operation with file <demo.txt> (mode=\"x\"):\n",
      "INFO:ENTER:Calling __enter__;\n",
      "ERROR:ENTER:Tried to open in \"x\": <class 'FileExistsError'> [Errno 17] File exists: 'demo.txt'\n",
      "INFO:COUNT:FAILED counter added to 5.\n",
      "INFO:REPORT:Report in ENTER:\n",
      "INFO:REPORT:The file <demo.txt> was not created.\n",
      "ERROR: :<class 'FileExistsError'> [Errno 17] File exists: 'demo.txt'\n",
      "\n"
     ]
    }
   ],
   "source": [
    "try:\n",
    "    logging.info('\\n\\n----------8. Fail(5) is expected:')\n",
    "    with Open('demo.txt', 'x') as opened_file:\n",
    "        opened_file.write('SAMPLE TEXT...')\n",
    "except FileExistsError as error:\n",
    "    logger.error(f'{error.__class__} {error}\\n')"
   ],
   "metadata": {
    "collapsed": false
   }
  },
  {
   "cell_type": "code",
   "execution_count": 20,
   "outputs": [
    {
     "name": "stderr",
     "output_type": "stream",
     "text": [
      "CRITICAL: :Successful_counter = 3;\n",
      "CRITICAL: :Failed_counter = 5;\n"
     ]
    }
   ],
   "source": [
    "logger.critical(f'Successful_counter = {Open.successful_counter};')\n",
    "logger.critical(f'Failed_counter = {Open.failed_counter};')"
   ],
   "metadata": {
    "collapsed": false
   }
  }
 ],
 "metadata": {
  "kernelspec": {
   "display_name": "Python 3",
   "language": "python",
   "name": "python3"
  },
  "language_info": {
   "codemirror_mode": {
    "name": "ipython",
    "version": 2
   },
   "file_extension": ".py",
   "mimetype": "text/x-python",
   "name": "python",
   "nbconvert_exporter": "python",
   "pygments_lexer": "ipython2",
   "version": "2.7.6"
  }
 },
 "nbformat": 4,
 "nbformat_minor": 0
}
