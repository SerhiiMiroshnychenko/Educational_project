{
 "cells": [
  {
   "cell_type": "markdown",
   "source": [
    "# Task 3\n",
    "# Write a class TypeDecorators which has several methods for converting results of functions to a specified type (if it's possible):\n",
    "# methods:\n",
    "# to_int\n",
    "# to_str\n",
    "# to_bool\n",
    "# to_float\n",
    "#\n",
    "# Don't forget to use @wraps\n",
    "\n",
    "\"\"\"class TypeDecorators:\n",
    "    pass\n",
    "\n",
    "@TypeDecorators.to_int\n",
    "def do_nothing(string: str):\n",
    "    return string\n",
    "\n",
    "@TypeDecorators.to_bool\n",
    "def do_something(string: str):\n",
    "    return string\n",
    "\n",
    "assert do_nothing('25') == 25\n",
    "assert do_something('True') is True\"\"\""
   ],
   "metadata": {
    "collapsed": false
   }
  },
  {
   "cell_type": "code",
   "execution_count": 15,
   "metadata": {
    "collapsed": true
   },
   "outputs": [],
   "source": [
    "from functools import wraps\n",
    "\n",
    "class TypeDecorators:\n",
    "\n",
    "    @staticmethod\n",
    "    def to_int(func):\n",
    "        @wraps(func)\n",
    "        def inner(*args):\n",
    "            try:\n",
    "                return int(func(*args))\n",
    "            except Exception as e:\n",
    "                print(e.__class__, e)\n",
    "                return None\n",
    "        return inner\n",
    "\n",
    "    @staticmethod\n",
    "    def to_str(func):\n",
    "        @wraps(func)\n",
    "        def inner(*args):\n",
    "            try:\n",
    "                return str(func(*args))\n",
    "            except Exception as e:\n",
    "                print(e.__class__, e)\n",
    "                return None\n",
    "        return inner\n",
    "\n",
    "    @staticmethod\n",
    "    def to_bool(func):\n",
    "        @wraps(func)\n",
    "        def inner(*args):\n",
    "            try:\n",
    "                return bool(func(*args))\n",
    "            except Exception as e:\n",
    "                print(e.__class__, e)\n",
    "                return None\n",
    "        return inner\n",
    "\n",
    "    @staticmethod\n",
    "    def to_float(func):\n",
    "        @wraps(func)\n",
    "        def inner(*args):\n",
    "            try:\n",
    "                return float(func(*args))\n",
    "            except Exception as e:\n",
    "                print(e.__class__, e)\n",
    "                return None\n",
    "        return inner\n"
   ]
  },
  {
   "cell_type": "code",
   "execution_count": 16,
   "outputs": [],
   "source": [
    "@TypeDecorators.to_int\n",
    "def do_nothing(string: str):\n",
    "    return string"
   ],
   "metadata": {
    "collapsed": false
   }
  },
  {
   "cell_type": "code",
   "execution_count": 17,
   "outputs": [
    {
     "name": "stdout",
     "output_type": "stream",
     "text": [
      "25\n",
      "<class 'int'>\n",
      "do_nothing\n"
     ]
    }
   ],
   "source": [
    "print(x:=do_nothing('25'))\n",
    "print(type(x))\n",
    "print(do_nothing.__name__)"
   ],
   "metadata": {
    "collapsed": false
   }
  },
  {
   "cell_type": "code",
   "execution_count": 18,
   "outputs": [],
   "source": [
    "@TypeDecorators.to_bool\n",
    "def do_something(string: str):\n",
    "    return string"
   ],
   "metadata": {
    "collapsed": false
   }
  },
  {
   "cell_type": "code",
   "execution_count": 19,
   "outputs": [
    {
     "name": "stdout",
     "output_type": "stream",
     "text": [
      "True\n",
      "<class 'bool'>\n"
     ]
    }
   ],
   "source": [
    "print(x:=do_something('True'))\n",
    "print(type(x))"
   ],
   "metadata": {
    "collapsed": false
   }
  },
  {
   "cell_type": "code",
   "execution_count": 20,
   "outputs": [],
   "source": [
    "@TypeDecorators.to_int\n",
    "def adds(a, b):\n",
    "    return a + b"
   ],
   "metadata": {
    "collapsed": false
   }
  },
  {
   "cell_type": "code",
   "execution_count": 21,
   "outputs": [
    {
     "name": "stdout",
     "output_type": "stream",
     "text": [
      "11\n",
      "<class 'int'>\n"
     ]
    }
   ],
   "source": [
    "print(x:=adds(0.5, 10.5))\n",
    "print(type(x))"
   ],
   "metadata": {
    "collapsed": false
   }
  },
  {
   "cell_type": "code",
   "execution_count": 22,
   "outputs": [],
   "source": [
    "@TypeDecorators.to_float\n",
    "def adds(a, b):\n",
    "    return a + b"
   ],
   "metadata": {
    "collapsed": false
   }
  },
  {
   "cell_type": "code",
   "execution_count": 23,
   "outputs": [
    {
     "name": "stdout",
     "output_type": "stream",
     "text": [
      "33.0\n",
      "<class 'float'>\n"
     ]
    }
   ],
   "source": [
    "print(x:=adds(11, 22))\n",
    "print(type(x))"
   ],
   "metadata": {
    "collapsed": false
   }
  },
  {
   "cell_type": "code",
   "execution_count": 24,
   "outputs": [],
   "source": [
    "@TypeDecorators.to_str\n",
    "def adds(a, b):\n",
    "    return a + b"
   ],
   "metadata": {
    "collapsed": false
   }
  },
  {
   "cell_type": "code",
   "execution_count": 25,
   "outputs": [
    {
     "name": "stdout",
     "output_type": "stream",
     "text": [
      "23.0\n",
      "<class 'str'>\n"
     ]
    }
   ],
   "source": [
    "print(x:=adds(1.0, 22))\n",
    "print(type(x))"
   ],
   "metadata": {
    "collapsed": false
   }
  },
  {
   "cell_type": "code",
   "execution_count": 26,
   "outputs": [],
   "source": [
    "@TypeDecorators.to_bool\n",
    "def adds(a, b):\n",
    "    return a + b"
   ],
   "metadata": {
    "collapsed": false
   }
  },
  {
   "cell_type": "code",
   "execution_count": 27,
   "outputs": [
    {
     "name": "stdout",
     "output_type": "stream",
     "text": [
      "True\n",
      "<class 'bool'>\n"
     ]
    }
   ],
   "source": [
    "print(x:=adds(1.0, 22))\n",
    "print(type(x))"
   ],
   "metadata": {
    "collapsed": false
   }
  },
  {
   "cell_type": "code",
   "execution_count": 28,
   "outputs": [
    {
     "name": "stdout",
     "output_type": "stream",
     "text": [
      "False\n",
      "<class 'bool'>\n"
     ]
    }
   ],
   "source": [
    "print(x:=adds(1.0, -1))\n",
    "print(type(x))"
   ],
   "metadata": {
    "collapsed": false
   }
  }
 ],
 "metadata": {
  "kernelspec": {
   "display_name": "Python 3",
   "language": "python",
   "name": "python3"
  },
  "language_info": {
   "codemirror_mode": {
    "name": "ipython",
    "version": 2
   },
   "file_extension": ".py",
   "mimetype": "text/x-python",
   "name": "python",
   "nbconvert_exporter": "python",
   "pygments_lexer": "ipython2",
   "version": "2.7.6"
  }
 },
 "nbformat": 4,
 "nbformat_minor": 0
}
