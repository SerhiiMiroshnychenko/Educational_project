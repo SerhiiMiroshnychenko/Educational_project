{
 "cells": [
  {
   "cell_type": "code",
   "execution_count": 2,
   "metadata": {
    "collapsed": true
   },
   "outputs": [],
   "source": [
    "from task_1 import Person, Student, Teacher"
   ]
  },
  {
   "cell_type": "markdown",
   "source": [
    "JUNIOR, a little boy"
   ],
   "metadata": {
    "collapsed": false
   }
  },
  {
   "cell_type": "code",
   "execution_count": 3,
   "outputs": [],
   "source": [
    "# JUNIOR, a little boy\n",
    "junior = Person('Junior', 'boy', 5, 1.1, 15)"
   ],
   "metadata": {
    "collapsed": false
   }
  },
  {
   "cell_type": "code",
   "execution_count": 4,
   "outputs": [
    {
     "name": "stdout",
     "output_type": "stream",
     "text": [
      "Hello, my name is Junior and I’m a boy of 5 years old.\n",
      "I'm eating. My width is also 15 kg.\n",
      "I'm sleeping. When I sleep I grow. I am already 1.1 m tall!\n"
     ]
    }
   ],
   "source": [
    "junior.speak()\n",
    "junior.eat()\n",
    "junior.sleep()"
   ],
   "metadata": {
    "collapsed": false
   }
  },
  {
   "cell_type": "markdown",
   "source": [
    "SARAH, a female student"
   ],
   "metadata": {
    "collapsed": false
   }
  },
  {
   "cell_type": "code",
   "execution_count": 5,
   "outputs": [],
   "source": [
    "# JUNIOR, a little boy\n",
    "sarah = Student('Sarah', 'girl', 15, 1.5, 50, 9)"
   ],
   "metadata": {
    "collapsed": false
   }
  },
  {
   "cell_type": "code",
   "execution_count": 6,
   "outputs": [
    {
     "name": "stdout",
     "output_type": "stream",
     "text": [
      "Hello, my name is Sarah and I’m a girl of 15 years old.\n",
      "I am going to my school. I'm already in the 9 grade.\n",
      "I love Bill! I am 1 time in love!\n",
      "I love Tom! I am 2 time in love!\n",
      "I went to the 10 grade!\n"
     ]
    }
   ],
   "source": [
    "sarah.speak()\n",
    "sarah.go_school()\n",
    "sarah.love('bill')\n",
    "sarah.love('tom')\n",
    "sarah.up_grade()"
   ],
   "metadata": {
    "collapsed": false
   }
  },
  {
   "cell_type": "markdown",
   "source": [
    "AMANDA, a female teacher"
   ],
   "metadata": {
    "collapsed": false
   }
  },
  {
   "cell_type": "code",
   "execution_count": 7,
   "outputs": [],
   "source": [
    "# JUNIOR, a little boy\n",
    "amanda = Teacher('Amanda', 'women', 35, 1.7, 60, 'math', 1, 5000)"
   ],
   "metadata": {
    "collapsed": false
   }
  },
  {
   "cell_type": "code",
   "execution_count": 8,
   "outputs": [
    {
     "name": "stdout",
     "output_type": "stream",
     "text": [
      "Hello, my name is Amanda and I’m a women of 35 years old.\n",
      "I am going to my school. I work there as a math teacher.\n",
      "I have been teaching math for 1 years.\n",
      "I get my salary of 5000 dollars\n"
     ]
    }
   ],
   "source": [
    "amanda.speak()\n",
    "amanda.study()\n",
    "amanda.pass_exam()\n",
    "amanda.go_school()\n",
    "amanda.teaching()\n",
    "amanda.get_salary()"
   ],
   "metadata": {
    "collapsed": false
   }
  },
  {
   "cell_type": "code",
   "execution_count": 9,
   "outputs": [
    {
     "name": "stdout",
     "output_type": "stream",
     "text": [
      "True\n"
     ]
    }
   ],
   "source": [
    "print(issubclass(Teacher, Person))"
   ],
   "metadata": {
    "collapsed": false
   }
  },
  {
   "cell_type": "code",
   "execution_count": 10,
   "outputs": [
    {
     "name": "stdout",
     "output_type": "stream",
     "text": [
      "(<class 'task_1.Teacher'>, <class 'task_1.Student'>, <class 'task_1.Person'>, <class 'object'>)\n"
     ]
    }
   ],
   "source": [
    "print(amanda.__class__.__mro__)"
   ],
   "metadata": {
    "collapsed": false
   }
  }
 ],
 "metadata": {
  "kernelspec": {
   "display_name": "Python 3",
   "language": "python",
   "name": "python3"
  },
  "language_info": {
   "codemirror_mode": {
    "name": "ipython",
    "version": 2
   },
   "file_extension": ".py",
   "mimetype": "text/x-python",
   "name": "python",
   "nbconvert_exporter": "python",
   "pygments_lexer": "ipython2",
   "version": "2.7.6"
  }
 },
 "nbformat": 4,
 "nbformat_minor": 0
}
