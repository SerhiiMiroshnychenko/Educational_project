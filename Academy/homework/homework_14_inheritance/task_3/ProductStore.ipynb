{
 "cells": [
  {
   "cell_type": "code",
   "execution_count": 237,
   "outputs": [],
   "source": [
    "class Product:\n",
    "    def __init__(self, product_type: str, product_name: str, product_price: float):\n",
    "        self.product_type = product_type\n",
    "        self.product_name = product_name\n",
    "        self.product_price = product_price\n",
    "\n",
    "    def __str__(self):\n",
    "        return f\"{self.product_name.capitalize()}({self.product_type}): {self.product_price} UAH\""
   ],
   "metadata": {
    "collapsed": false
   }
  },
  {
   "cell_type": "code",
   "execution_count": 238,
   "outputs": [],
   "source": [
    "class MethodError(ValueError):\n",
    "    def __init__(self, message: str):\n",
    "        super().__init__(message)\n",
    "        self.message = message\n",
    "\n",
    "    def __str__(self):\n",
    "        return self.message"
   ],
   "metadata": {
    "collapsed": false
   }
  },
  {
   "cell_type": "code",
   "execution_count": 239,
   "outputs": [],
   "source": [
    "def error_handling(error: MethodError):\n",
    "    try:\n",
    "        raise error\n",
    "    except MethodError as e:\n",
    "        print(f'{e.__class__} has been detected.\\nThe reason: {e}')"
   ],
   "metadata": {
    "collapsed": false
   }
  },
  {
   "cell_type": "code",
   "execution_count": 240,
   "outputs": [],
   "source": [
    "class Catalog:\n",
    "    def __init__(self):\n",
    "        self.catalog = {}\n",
    "\n",
    "    def add_product(self, product: Product, amount: int):\n",
    "        if product.product_type in self.catalog:\n",
    "            if product.product_name in self.catalog[product.product_type]:\n",
    "                if product.product_price in self.catalog[product.product_type][product.product_name]:\n",
    "                    self.catalog[product.product_type][product.product_name][product.product_price] += amount\n",
    "                else:\n",
    "                    self.catalog[product.product_type][product.product_name][product.product_price] = amount\n",
    "            else:\n",
    "                self.catalog[product.product_type][product.product_name] = {product.product_price: amount}\n",
    "        else:\n",
    "            self.catalog[product.product_type] = {product.product_name: {product.product_price: amount}}\n",
    "\n",
    "    def remove_product(self, product: Product, amount: int):\n",
    "        operation = False # Is the operation successfully completed\n",
    "        message = '' # Message in case if the product isn't in the catalog\n",
    "        if product.product_type in self.catalog:\n",
    "            if product.product_name in self.catalog[product.product_type]:\n",
    "                if product.product_price in self.catalog[product.product_type][product.product_name]:\n",
    "                    self.catalog[product.product_type][product.product_name][product.product_price] -= amount\n",
    "                    operation = True\n",
    "                else:\n",
    "                    message = 'the product with the price'\n",
    "            else:\n",
    "                message = 'the product'\n",
    "        else:\n",
    "            message = 'the type of products'\n",
    "        if not operation:\n",
    "            final_message = f\"Sorry, but we don't have {message} in our catalog.\"\n",
    "            error = MethodError(final_message)\n",
    "            error_handling(error)\n",
    "\n",
    "    def show_catalog(self):\n",
    "        print(self.catalog)"
   ],
   "metadata": {
    "collapsed": false
   }
  },
  {
   "cell_type": "code",
   "execution_count": 241,
   "outputs": [],
   "source": [
    "class Depository:\n",
    "    def __init__(self, max_product_numbers: int):\n",
    "        self.max_product_numbers = max_product_numbers\n",
    "        self.number_of_products = 0\n",
    "        self.products = {}\n",
    "\n",
    "    def add_product(self, product: Product, amount: int):\n",
    "        if amount + self.number_of_products < self.max_product_numbers:\n",
    "            if product in self.products:\n",
    "                self.products[product] += amount\n",
    "            else:\n",
    "                self.products[product] = amount\n",
    "            self.number_of_products += amount\n",
    "            return True\n",
    "        else:\n",
    "            error = MethodError('Sorry, but we cannot add more products in our depository.')\n",
    "            error_handling(error)\n",
    "            return False\n",
    "\n",
    "    def give_product(self, product_name, amount: int):\n",
    "        message = ''\n",
    "        for product in self.products:\n",
    "            if product_name == product.product_name:\n",
    "                if amount <= self.products[product]:\n",
    "                    self.products[product] -= amount\n",
    "                    print(f'Here are your {amount} {product.product_name} for {product.product_price} UAH')\n",
    "                    return product\n",
    "                else:\n",
    "                    message = 'the required amount of '\n",
    "        final_message = f\"Sorry, but we don't have {message}{product_name} in our depository.\"\n",
    "        error = MethodError(final_message)\n",
    "        error_handling(error)\n",
    "        return False\n",
    "\n",
    "    def show_products(self):\n",
    "        for one in self.products:\n",
    "            print(one)\n",
    "\n",
    "    def get_information(self):\n",
    "        information = []\n",
    "        for our_product in self.products:\n",
    "            info = our_product.product_name, our_product.product_type, our_product.product_price, self.products[our_product]\n",
    "            information.append(info)\n",
    "        return information\n",
    "\n"
   ],
   "metadata": {
    "collapsed": false
   }
  },
  {
   "cell_type": "code",
   "execution_count": 242,
   "outputs": [],
   "source": [
    "class Cashier:\n",
    "    def __init__(self, cash: float, price_premium: int=30):\n",
    "        self.start_cash = cash\n",
    "        self.cash = cash\n",
    "        self.price_premium = price_premium\n",
    "        self.bought_products = 0\n",
    "        self.sold_products = 0\n",
    "        self.income = 0\n",
    "        self.discounts = []\n",
    "\n",
    "\n",
    "    def set_price_premium(self, new_price_premium: int):\n",
    "        self.price_premium = new_price_premium\n",
    "\n",
    "    def set_discount(self, identifier: str, discount: int, type_identifier: str):\n",
    "        new_discount = type_identifier, identifier, discount\n",
    "        self.discounts.append(new_discount)\n",
    "\n",
    "    def del_discount(self, identifier: str, discount: int, type_identifier: str):\n",
    "        old_discount = type_identifier, identifier, discount\n",
    "        for our_discount in self.discounts:\n",
    "            if old_discount == our_discount:\n",
    "                self.discounts.remove(our_discount)\n",
    "\n",
    "    def show_discounts(self):\n",
    "        print('Today we have discounts:')\n",
    "        for discount in self.discounts:\n",
    "            print(f'\\t{discount[1].capitalize()} - {discount[2]}% off')\n",
    "\n",
    "    def buy_product(self, product: Product, amount: int):\n",
    "        if product.product_price * amount <= self.cash:\n",
    "            self.cash -= round(product.product_price * amount, 2)\n",
    "            self.income = self.cash - self.start_cash\n",
    "            product.product_price = round(product.product_price * (1 + self.price_premium / 100), 1)\n",
    "            self.bought_products += amount\n",
    "            return True\n",
    "        else:\n",
    "            final_message = f\"We don't have enough money to buy the {product.product_name} in the amount of {amount} pcs\"\n",
    "            error = MethodError(final_message)\n",
    "            error_handling(error)\n",
    "            return False\n",
    "\n",
    "    def sell_product(self, product: Product, amount: int):\n",
    "        current_price = product.product_price\n",
    "        for discount in self.discounts:\n",
    "            if discount[0] == 'type' and discount[1] == product.product_type:\n",
    "                current_price = round(product.product_price * (1 - discount[2] / 100), 1)\n",
    "            if discount[0] == 'name' and discount[1] == product.product_name:\n",
    "                current_price = round(product.product_price * (1 - discount[2] / 100), 1)\n",
    "        self.cash += current_price * amount\n",
    "        self.income = round(self.cash - self.start_cash, 1)\n",
    "        self.sold_products += amount"
   ],
   "metadata": {
    "collapsed": false
   }
  },
  {
   "cell_type": "code",
   "execution_count": 243,
   "outputs": [],
   "source": [
    "class ProductStore:\n",
    "    def __init__(self, store_name: str, depository_volume: int, start_cash: float):\n",
    "        self.store_name = store_name\n",
    "        self.catalog = Catalog()\n",
    "        self.depository = Depository(depository_volume)\n",
    "        self.cashier = Cashier(start_cash)\n",
    "\n",
    "    def greeting(self):\n",
    "        print(f\"Welcome to the <<{self.store_name.upper()}>> store!\")\n",
    "\n",
    "    def add_product(self, product: Product, amount: int):\n",
    "        if self.cashier.buy_product(product, amount) and self.depository.add_product(product, amount):\n",
    "            self.catalog.add_product(product, amount)\n",
    "\n",
    "    def sell_product(self, product_name: str, amount: int):\n",
    "        if result := self.depository.give_product(product_name, amount):\n",
    "            self.catalog.remove_product(result, amount)\n",
    "            self.cashier.sell_product(result, amount)\n",
    "\n",
    "    @staticmethod\n",
    "    def make_discount_price(our_products: list[tuple], our_discounts: list[tuple]):\n",
    "        our_products_discount = []\n",
    "        for our_product in our_products:\n",
    "            for our_discount in our_discounts:\n",
    "                our_product = list(our_product)\n",
    "                if our_product[0] == our_discount[1] or our_product[1] == our_discount[1]:\n",
    "                    our_product[2] = round(our_product[2] * (1 - our_discount[2] / 100), 1)\n",
    "            our_products_discount.append(tuple(our_product))\n",
    "        return set(our_products_discount)\n",
    "\n",
    "    def get_all_products(self):\n",
    "        our_discount_products = self.make_information()\n",
    "        for our_discount_product in our_discount_products:\n",
    "            if our_discount_product[3] != 0:\n",
    "                print(f'{our_discount_product[0].title()}({our_discount_product[1]}): {our_discount_product[2]} UAH - {our_discount_product[3]} pieces.')\n",
    "\n",
    "    def make_information(self):\n",
    "        our_products = self.depository.get_information()\n",
    "        our_discounts = self.cashier.discounts\n",
    "        return self.make_discount_price(our_products, our_discounts)\n",
    "\n",
    "\n",
    "    def get_product_info(self, name_product):\n",
    "        our_discount_products = self.make_information()\n",
    "        for our_discount_product in our_discount_products:\n",
    "            if our_discount_product[0] == name_product:\n",
    "                print(f'{our_discount_product[0].title()}({our_discount_product[1]}): {our_discount_product[2]} UAH - {our_discount_product[3]} pieces.')\n",
    "\n",
    "    def get_income(self):\n",
    "        return self.cashier.income\n",
    "\n",
    "    def set_discount(self, identifier: str, discount: int, type_identifier: str):\n",
    "        self.cashier.set_discount(identifier, discount, type_identifier)"
   ],
   "metadata": {
    "collapsed": false
   }
  },
  {
   "cell_type": "code",
   "execution_count": 244,
   "outputs": [
    {
     "data": {
      "text/plain": "'PRODUCTS:'"
     },
     "execution_count": 244,
     "metadata": {},
     "output_type": "execute_result"
    }
   ],
   "source": [
    "\"\"\"PRODUCTS:\"\"\""
   ],
   "metadata": {
    "collapsed": false
   }
  },
  {
   "cell_type": "code",
   "execution_count": 245,
   "outputs": [],
   "source": [
    "bananas = Product('fruits', 'bananas', 65.5)"
   ],
   "metadata": {
    "collapsed": false
   }
  },
  {
   "cell_type": "code",
   "execution_count": 246,
   "outputs": [],
   "source": [
    "oranges = Product('fruits', 'oranges', 70.0)"
   ],
   "metadata": {
    "collapsed": false
   }
  },
  {
   "cell_type": "code",
   "execution_count": 247,
   "outputs": [],
   "source": [
    "socks = Product('clothes', 'socks', 25.0)"
   ],
   "metadata": {
    "collapsed": false
   }
  },
  {
   "cell_type": "code",
   "execution_count": 248,
   "outputs": [],
   "source": [
    "apples = Product('fruits', 'apples', 10.5)"
   ],
   "metadata": {
    "collapsed": false
   }
  },
  {
   "cell_type": "code",
   "execution_count": 249,
   "outputs": [],
   "source": [
    "beetroots = Product('vegetables', 'beetroots', 12.8)"
   ],
   "metadata": {
    "collapsed": false
   }
  },
  {
   "cell_type": "code",
   "execution_count": 250,
   "outputs": [],
   "source": [
    "potatoes = Product('vegetables', 'potatoes', 8.0)"
   ],
   "metadata": {
    "collapsed": false
   }
  },
  {
   "cell_type": "code",
   "execution_count": 251,
   "outputs": [],
   "source": [
    "t_shirts = Product('clothes', 't_shirts', 150.0)"
   ],
   "metadata": {
    "collapsed": false
   }
  },
  {
   "cell_type": "code",
   "execution_count": 252,
   "outputs": [
    {
     "data": {
      "text/plain": "'THE <<ATB>> STORE'"
     },
     "execution_count": 252,
     "metadata": {},
     "output_type": "execute_result"
    }
   ],
   "source": [
    "\"\"\"THE <<ATB>> STORE\"\"\""
   ],
   "metadata": {
    "collapsed": false
   }
  },
  {
   "cell_type": "code",
   "execution_count": 253,
   "outputs": [],
   "source": [
    "atb = ProductStore('atb', 1000, 50000)"
   ],
   "metadata": {
    "collapsed": false
   }
  },
  {
   "cell_type": "code",
   "execution_count": 254,
   "outputs": [
    {
     "data": {
      "text/plain": "\"LET'S START!\""
     },
     "execution_count": 254,
     "metadata": {},
     "output_type": "execute_result"
    }
   ],
   "source": [
    "\"\"\"LET'S START!\"\"\""
   ],
   "metadata": {
    "collapsed": false
   }
  },
  {
   "cell_type": "code",
   "execution_count": 255,
   "outputs": [
    {
     "name": "stdout",
     "output_type": "stream",
     "text": [
      "Welcome to the <<ATB>> store!\n"
     ]
    }
   ],
   "source": [
    "atb.greeting()"
   ],
   "metadata": {
    "collapsed": false
   }
  },
  {
   "cell_type": "code",
   "execution_count": 256,
   "outputs": [
    {
     "data": {
      "text/plain": "\"LET'S BUY PRODUCTS!\""
     },
     "execution_count": 256,
     "metadata": {},
     "output_type": "execute_result"
    }
   ],
   "source": [
    "\"\"\"LET'S BUY PRODUCTS!\"\"\""
   ],
   "metadata": {
    "collapsed": false
   }
  },
  {
   "cell_type": "code",
   "execution_count": 257,
   "outputs": [],
   "source": [
    "atb.add_product(bananas, 100)"
   ],
   "metadata": {
    "collapsed": false
   }
  },
  {
   "cell_type": "code",
   "execution_count": 258,
   "outputs": [],
   "source": [
    "atb.add_product(oranges, 100)"
   ],
   "metadata": {
    "collapsed": false
   }
  },
  {
   "cell_type": "code",
   "execution_count": 259,
   "outputs": [],
   "source": [
    "atb.add_product(socks, 50)"
   ],
   "metadata": {
    "collapsed": false
   }
  },
  {
   "cell_type": "code",
   "execution_count": 260,
   "outputs": [],
   "source": [
    "atb.add_product(apples, 200)"
   ],
   "metadata": {
    "collapsed": false
   }
  },
  {
   "cell_type": "code",
   "execution_count": 261,
   "outputs": [],
   "source": [
    "atb.add_product(beetroots, 100)"
   ],
   "metadata": {
    "collapsed": false
   }
  },
  {
   "cell_type": "code",
   "execution_count": 262,
   "outputs": [],
   "source": [
    "atb.add_product(potatoes, 300)"
   ],
   "metadata": {
    "collapsed": false
   }
  },
  {
   "cell_type": "code",
   "execution_count": 263,
   "outputs": [],
   "source": [
    "atb.add_product(t_shirts, 25)"
   ],
   "metadata": {
    "collapsed": false
   }
  },
  {
   "cell_type": "code",
   "execution_count": 264,
   "outputs": [
    {
     "name": "stdout",
     "output_type": "stream",
     "text": [
      "Apples(fruits): 13.7 UAH - 200 pieces.\n",
      "Bananas(fruits): 85.2 UAH - 100 pieces.\n",
      "T_Shirts(clothes): 195.0 UAH - 25 pieces.\n",
      "Potatoes(vegetables): 10.4 UAH - 300 pieces.\n",
      "Beetroots(vegetables): 16.6 UAH - 100 pieces.\n",
      "Socks(clothes): 32.5 UAH - 50 pieces.\n",
      "Oranges(fruits): 91.0 UAH - 100 pieces.\n"
     ]
    }
   ],
   "source": [
    "atb.get_all_products()"
   ],
   "metadata": {
    "collapsed": false
   }
  },
  {
   "cell_type": "code",
   "execution_count": 265,
   "outputs": [
    {
     "name": "stdout",
     "output_type": "stream",
     "text": [
      "{'fruits': {'bananas': {85.2: 100}, 'oranges': {91.0: 100}, 'apples': {13.7: 200}}, 'clothes': {'socks': {32.5: 50}, 't_shirts': {195.0: 25}}, 'vegetables': {'beetroots': {16.6: 100}, 'potatoes': {10.4: 300}}}\n"
     ]
    }
   ],
   "source": [
    "atb.catalog.show_catalog()"
   ],
   "metadata": {
    "collapsed": false
   }
  },
  {
   "cell_type": "code",
   "execution_count": 266,
   "outputs": [
    {
     "data": {
      "text/plain": "{<__main__.Product at 0x1c884b327d0>: 100,\n <__main__.Product at 0x1c884b6aa50>: 100,\n <__main__.Product at 0x1c884b6a710>: 50,\n <__main__.Product at 0x1c884b6a3d0>: 200,\n <__main__.Product at 0x1c884b6ad90>: 100,\n <__main__.Product at 0x1c884b31ad0>: 300,\n <__main__.Product at 0x1c884af8090>: 25}"
     },
     "execution_count": 266,
     "metadata": {},
     "output_type": "execute_result"
    }
   ],
   "source": [
    "atb.depository.products"
   ],
   "metadata": {
    "collapsed": false
   }
  },
  {
   "cell_type": "code",
   "execution_count": 267,
   "outputs": [
    {
     "data": {
      "text/plain": "25670.0"
     },
     "execution_count": 267,
     "metadata": {},
     "output_type": "execute_result"
    }
   ],
   "source": [
    "atb.cashier.cash"
   ],
   "metadata": {
    "collapsed": false
   }
  },
  {
   "cell_type": "code",
   "execution_count": 268,
   "outputs": [
    {
     "data": {
      "text/plain": "-24330.0"
     },
     "execution_count": 268,
     "metadata": {},
     "output_type": "execute_result"
    }
   ],
   "source": [
    "atb.get_income()"
   ],
   "metadata": {
    "collapsed": false
   }
  },
  {
   "cell_type": "code",
   "execution_count": 269,
   "outputs": [
    {
     "data": {
      "text/plain": "\"LET'S SELL IT!\""
     },
     "execution_count": 269,
     "metadata": {},
     "output_type": "execute_result"
    }
   ],
   "source": [
    "\"\"\"LET'S SELL IT!\"\"\""
   ],
   "metadata": {
    "collapsed": false
   }
  },
  {
   "cell_type": "code",
   "execution_count": 270,
   "outputs": [
    {
     "name": "stdout",
     "output_type": "stream",
     "text": [
      "Here are your 50 bananas for 85.2 UAH\n"
     ]
    }
   ],
   "source": [
    "atb.sell_product(\"bananas\", 50)"
   ],
   "metadata": {
    "collapsed": false
   }
  },
  {
   "cell_type": "code",
   "execution_count": 271,
   "outputs": [
    {
     "name": "stdout",
     "output_type": "stream",
     "text": [
      "Here are your 30 oranges for 91.0 UAH\n"
     ]
    }
   ],
   "source": [
    "atb.sell_product('oranges', 30)"
   ],
   "metadata": {
    "collapsed": false
   }
  },
  {
   "cell_type": "code",
   "execution_count": 272,
   "outputs": [
    {
     "name": "stdout",
     "output_type": "stream",
     "text": [
      "Here are your 20 socks for 32.5 UAH\n"
     ]
    }
   ],
   "source": [
    "atb.sell_product('socks', 20)"
   ],
   "metadata": {
    "collapsed": false
   }
  },
  {
   "cell_type": "code",
   "execution_count": 273,
   "outputs": [
    {
     "name": "stdout",
     "output_type": "stream",
     "text": [
      "Here are your 120 apples for 13.7 UAH\n"
     ]
    }
   ],
   "source": [
    "atb.sell_product('apples', 120)"
   ],
   "metadata": {
    "collapsed": false
   }
  },
  {
   "cell_type": "code",
   "execution_count": 274,
   "outputs": [
    {
     "name": "stdout",
     "output_type": "stream",
     "text": [
      "Here are your 60 beetroots for 16.6 UAH\n"
     ]
    }
   ],
   "source": [
    "atb.sell_product('beetroots', 60)"
   ],
   "metadata": {
    "collapsed": false
   }
  },
  {
   "cell_type": "code",
   "execution_count": 275,
   "outputs": [
    {
     "name": "stdout",
     "output_type": "stream",
     "text": [
      "Here are your 180 potatoes for 10.4 UAH\n"
     ]
    }
   ],
   "source": [
    "atb.sell_product('potatoes', 180)"
   ],
   "metadata": {
    "collapsed": false
   }
  },
  {
   "cell_type": "code",
   "execution_count": 276,
   "outputs": [
    {
     "name": "stdout",
     "output_type": "stream",
     "text": [
      "Here are your 5 t_shirts for 195.0 UAH\n"
     ]
    }
   ],
   "source": [
    "atb.sell_product('t_shirts', 5)"
   ],
   "metadata": {
    "collapsed": false
   }
  },
  {
   "cell_type": "code",
   "execution_count": 277,
   "outputs": [
    {
     "name": "stdout",
     "output_type": "stream",
     "text": [
      "Oranges(fruits): 91.0 UAH - 70 pieces.\n",
      "Apples(fruits): 13.7 UAH - 80 pieces.\n",
      "T_Shirts(clothes): 195.0 UAH - 20 pieces.\n",
      "Potatoes(vegetables): 10.4 UAH - 120 pieces.\n",
      "Beetroots(vegetables): 16.6 UAH - 40 pieces.\n",
      "Socks(clothes): 32.5 UAH - 30 pieces.\n",
      "Bananas(fruits): 85.2 UAH - 50 pieces.\n"
     ]
    }
   ],
   "source": [
    "atb.get_all_products()"
   ],
   "metadata": {
    "collapsed": false
   }
  },
  {
   "cell_type": "code",
   "execution_count": 278,
   "outputs": [
    {
     "data": {
      "text/plain": "38797.0"
     },
     "execution_count": 278,
     "metadata": {},
     "output_type": "execute_result"
    }
   ],
   "source": [
    "atb.cashier.cash"
   ],
   "metadata": {
    "collapsed": false
   }
  },
  {
   "cell_type": "code",
   "execution_count": 279,
   "outputs": [
    {
     "name": "stdout",
     "output_type": "stream",
     "text": [
      "Beetroots(vegetables): 16.6 UAH - 40 pieces.\n"
     ]
    }
   ],
   "source": [
    "atb.get_product_info('beetroots')"
   ],
   "metadata": {
    "collapsed": false
   }
  },
  {
   "cell_type": "code",
   "execution_count": 280,
   "outputs": [
    {
     "name": "stdout",
     "output_type": "stream",
     "text": [
      "T_Shirts(clothes): 195.0 UAH - 20 pieces.\n"
     ]
    }
   ],
   "source": [
    "atb.get_product_info('t_shirts')"
   ],
   "metadata": {
    "collapsed": false
   }
  },
  {
   "cell_type": "code",
   "execution_count": 281,
   "outputs": [],
   "source": [
    "atb.set_discount('clothes', 5, 'type')\n",
    "atb.set_discount('beetroots', 7, 'name')"
   ],
   "metadata": {
    "collapsed": false
   }
  },
  {
   "cell_type": "code",
   "execution_count": 282,
   "outputs": [
    {
     "name": "stdout",
     "output_type": "stream",
     "text": [
      "Today we have discounts:\n",
      "\tClothes - 5% off\n",
      "\tBeetroots - 7% off\n"
     ]
    }
   ],
   "source": [
    "atb.cashier.show_discounts()"
   ],
   "metadata": {
    "collapsed": false
   }
  },
  {
   "cell_type": "code",
   "execution_count": 283,
   "outputs": [
    {
     "name": "stdout",
     "output_type": "stream",
     "text": [
      "Beetroots(vegetables): 15.4 UAH - 40 pieces.\n"
     ]
    }
   ],
   "source": [
    "atb.get_product_info('beetroots')"
   ],
   "metadata": {
    "collapsed": false
   }
  },
  {
   "cell_type": "code",
   "execution_count": 284,
   "outputs": [
    {
     "name": "stdout",
     "output_type": "stream",
     "text": [
      "T_Shirts(clothes): 185.2 UAH - 20 pieces.\n"
     ]
    }
   ],
   "source": [
    "atb.get_product_info('t_shirts')"
   ],
   "metadata": {
    "collapsed": false
   }
  },
  {
   "cell_type": "code",
   "execution_count": 285,
   "outputs": [
    {
     "data": {
      "text/plain": "\"LET'S SELL ALL PRODUCTS!\""
     },
     "execution_count": 285,
     "metadata": {},
     "output_type": "execute_result"
    }
   ],
   "source": [
    "\"\"\"LET'S SELL ALL PRODUCTS!\"\"\""
   ],
   "metadata": {
    "collapsed": false
   }
  },
  {
   "cell_type": "code",
   "execution_count": 286,
   "outputs": [
    {
     "name": "stdout",
     "output_type": "stream",
     "text": [
      "Here are your 50 bananas for 85.2 UAH\n",
      "Here are your 70 oranges for 91.0 UAH\n",
      "Here are your 30 socks for 32.5 UAH\n",
      "Here are your 80 apples for 13.7 UAH\n",
      "Here are your 39 beetroots for 16.6 UAH\n",
      "Here are your 120 potatoes for 10.4 UAH\n",
      "Here are your 20 t_shirts for 195.0 UAH\n"
     ]
    }
   ],
   "source": [
    "atb.sell_product(\"bananas\", 50)\n",
    "atb.sell_product('oranges', 70)\n",
    "atb.sell_product('socks', 30)\n",
    "atb.sell_product('apples', 80)\n",
    "atb.sell_product('beetroots', 39)\n",
    "atb.sell_product('potatoes', 120)\n",
    "atb.sell_product('t_shirts', 20)"
   ],
   "metadata": {
    "collapsed": false
   }
  },
  {
   "cell_type": "code",
   "execution_count": 287,
   "outputs": [
    {
     "name": "stdout",
     "output_type": "stream",
     "text": [
      "Beetroots(vegetables): 15.4 UAH - 1 pieces.\n"
     ]
    }
   ],
   "source": [
    "atb.get_all_products()"
   ],
   "metadata": {
    "collapsed": false
   }
  },
  {
   "cell_type": "code",
   "execution_count": 288,
   "outputs": [
    {
     "name": "stdout",
     "output_type": "stream",
     "text": [
      "<class '__main__.MethodError'> has been detected.\n",
      "The reason: Sorry, but we don't have the required amount of beetroots in our depository.\n"
     ]
    }
   ],
   "source": [
    "atb.sell_product('beetroots', 10)"
   ],
   "metadata": {
    "collapsed": false
   }
  },
  {
   "cell_type": "code",
   "execution_count": 289,
   "outputs": [
    {
     "name": "stdout",
     "output_type": "stream",
     "text": [
      "<class '__main__.MethodError'> has been detected.\n",
      "The reason: Sorry, but we don't have onions in our depository.\n"
     ]
    }
   ],
   "source": [
    "atb.sell_product('onions', 10)"
   ],
   "metadata": {
    "collapsed": false
   }
  },
  {
   "cell_type": "code",
   "execution_count": 290,
   "outputs": [],
   "source": [
    "atb.cashier.del_discount('clothes', 5, 'type')"
   ],
   "metadata": {
    "collapsed": false
   }
  },
  {
   "cell_type": "code",
   "execution_count": 291,
   "outputs": [
    {
     "name": "stdout",
     "output_type": "stream",
     "text": [
      "Today we have discounts:\n",
      "\tBeetroots - 7% off\n"
     ]
    }
   ],
   "source": [
    "atb.cashier.show_discounts()"
   ],
   "metadata": {
    "collapsed": false
   }
  },
  {
   "cell_type": "code",
   "execution_count": 292,
   "outputs": [
    {
     "data": {
      "text/plain": "7002.6"
     },
     "execution_count": 292,
     "metadata": {},
     "output_type": "execute_result"
    }
   ],
   "source": [
    "atb.get_income()"
   ],
   "metadata": {
    "collapsed": false
   }
  },
  {
   "cell_type": "code",
   "execution_count": 293,
   "outputs": [
    {
     "data": {
      "text/plain": "57002.6"
     },
     "execution_count": 293,
     "metadata": {},
     "output_type": "execute_result"
    }
   ],
   "source": [
    "atb.cashier.cash"
   ],
   "metadata": {
    "collapsed": false
   }
  },
  {
   "cell_type": "code",
   "execution_count": 294,
   "outputs": [
    {
     "data": {
      "text/plain": "875"
     },
     "execution_count": 294,
     "metadata": {},
     "output_type": "execute_result"
    }
   ],
   "source": [
    "atb.cashier.bought_products"
   ],
   "metadata": {
    "collapsed": false
   }
  },
  {
   "cell_type": "code",
   "execution_count": 295,
   "outputs": [
    {
     "data": {
      "text/plain": "874"
     },
     "execution_count": 295,
     "metadata": {},
     "output_type": "execute_result"
    }
   ],
   "source": [
    "atb.cashier.sold_products"
   ],
   "metadata": {
    "collapsed": false
   }
  },
  {
   "cell_type": "code",
   "execution_count": 295,
   "outputs": [],
   "source": [],
   "metadata": {
    "collapsed": false
   }
  },
  {
   "cell_type": "markdown",
   "source": [],
   "metadata": {
    "collapsed": false
   }
  },
  {
   "cell_type": "markdown",
   "source": [],
   "metadata": {
    "collapsed": false
   }
  }
 ],
 "metadata": {
  "kernelspec": {
   "display_name": "Python 3",
   "language": "python",
   "name": "python3"
  },
  "language_info": {
   "codemirror_mode": {
    "name": "ipython",
    "version": 2
   },
   "file_extension": ".py",
   "mimetype": "text/x-python",
   "name": "python",
   "nbconvert_exporter": "python",
   "pygments_lexer": "ipython2",
   "version": "2.7.6"
  }
 },
 "nbformat": 4,
 "nbformat_minor": 0
}
