{
 "cells": [
  {
   "cell_type": "code",
   "execution_count": 460,
   "metadata": {
    "collapsed": true
   },
   "outputs": [],
   "source": [
    "class DoublyNode:\n",
    "    def __init__(self, data):\n",
    "        self._data = data\n",
    "        self._next = None\n",
    "        self._prev = None\n",
    "\n",
    "    def get_data(self):\n",
    "        return self._data\n",
    "\n",
    "    def set_data(self, data):\n",
    "        self._data = data\n",
    "\n",
    "    def get_next(self):\n",
    "        return self._next\n",
    "\n",
    "    def set_next(self, new_next):\n",
    "        self._next = new_next\n",
    "\n",
    "    def get_prev(self):\n",
    "        return self._prev\n",
    "\n",
    "    def set_prev(self, new_prev):\n",
    "        self._prev = new_prev"
   ]
  },
  {
   "cell_type": "code",
   "execution_count": 461,
   "outputs": [],
   "source": [
    "class UnorderedDoubleList:\n",
    "    \n",
    "    def __init__(self):\n",
    "        self._head = None\n",
    "        self._tail = None\n",
    "\n",
    "    def is_empty(self):\n",
    "        return self._head is None\n",
    "\n",
    "    def add_head(self, value):\n",
    "        \"\"\"Додаємо новий вузол до голови\"\"\"\n",
    "        new_node = DoublyNode(value)\n",
    "        if self.is_empty():\n",
    "            self._tail = new_node\n",
    "        else:\n",
    "            prev_node = self._head\n",
    "            new_node.set_next(prev_node)\n",
    "            prev_node.set_prev(new_node)\n",
    "\n",
    "        self._head = new_node\n",
    "\n",
    "    def add_tail(self, value):\n",
    "        \"\"\"Додаємо новий вузол до хвоста\"\"\"\n",
    "        new_node = DoublyNode(value)\n",
    "        if self.is_empty():\n",
    "            self._head = new_node\n",
    "        else:\n",
    "            next_node = self._tail\n",
    "            new_node.set_prev(next_node)\n",
    "            next_node.set_next(new_node)\n",
    "\n",
    "        self._tail = new_node\n",
    "\n",
    "    def size(self):\n",
    "        size_counter = 0\n",
    "        if self.is_empty():\n",
    "            return size_counter\n",
    "        current_node = self._head\n",
    "        while current_node is not None:\n",
    "            size_counter += 1\n",
    "            current_node = current_node.get_next()\n",
    "\n",
    "        return size_counter\n",
    "\n",
    "    def delete(self, item):\n",
    "        \"\"\"Видаляємо всі вузли за заданим значенням\"\"\"\n",
    "        is_find = False\n",
    "        if self.is_empty():\n",
    "            print('The list is empty.')\n",
    "            return is_find\n",
    "        else:\n",
    "            current_node = self._head\n",
    "            previous_node = current_node.get_prev()\n",
    "            next_node = current_node.get_next()\n",
    "            while current_node.get_next() is not None:\n",
    "                if current_node.get_data() == item:\n",
    "                    print('We find and delete it!')\n",
    "                    is_find = True\n",
    "                    previous_node.set_next(next_node)\n",
    "                    next_node.set_prev(previous_node)\n",
    "                    current_node = previous_node\n",
    "                current_node = current_node.get_next()\n",
    "                previous_node = current_node.get_prev()\n",
    "                next_node = current_node.get_next()\n",
    "        return is_find\n",
    "\n",
    "    def remove(self, position):\n",
    "        \"\"\"Видаляємо вузол за позицією\"\"\"\n",
    "        if self.is_empty():\n",
    "            print('The list is empty.')\n",
    "            return False\n",
    "        elif self.size() < position:\n",
    "            print('The position is out of the list.')\n",
    "            return False\n",
    "        else:\n",
    "            current_position = 0\n",
    "            current_node = self._head\n",
    "            previous_node = current_node.get_prev()\n",
    "            next_node = current_node.get_next()\n",
    "            while current_node.get_next() is not None:\n",
    "                if position == current_position:\n",
    "                    print(f'We find and remove {current_node.get_data()}.')\n",
    "                    previous_node.set_next(next_node)\n",
    "                    next_node.set_prev(previous_node)\n",
    "                    return True\n",
    "                current_position += 1\n",
    "                current_node = current_node.get_next()\n",
    "                previous_node = current_node.get_prev()\n",
    "                next_node = current_node.get_next()\n",
    "        return False\n",
    "\n",
    "    def insert(self, position, value):\n",
    "        \"\"\"Вставка вузла\"\"\"\n",
    "        if self.is_empty():\n",
    "            if position == 0:\n",
    "                self.add_head(value)\n",
    "                return True\n",
    "            else:\n",
    "                print('The list is empty.')\n",
    "                return False\n",
    "        elif self.size() < position:\n",
    "            print('The position is out of the list.')\n",
    "            return False\n",
    "        else:\n",
    "            new_node = DoublyNode(value)\n",
    "            current_position = 0\n",
    "            current_node = self._head\n",
    "            previous_node = current_node.get_prev()\n",
    "            next_node = current_node.get_next()\n",
    "            while current_node.get_next() is not None:\n",
    "                try:\n",
    "                    print(f'Previous = {previous_node.get_data()}')\n",
    "                    print(f'Current = {current_node.get_data()}')\n",
    "                    print(f'Next_node = {next_node.get_data()}\\n')\n",
    "                except AttributeError as e:\n",
    "                    print(e)\n",
    "                if position == current_position:\n",
    "                    new_node.set_prev(previous_node)\n",
    "                    new_node.set_next(current_node)\n",
    "                    previous_node.set_next(new_node)\n",
    "                    current_node.set_prev(new_node)\n",
    "                    print(f'We inserted {value} into {position}-index position.')\n",
    "                    return True\n",
    "                current_position += 1\n",
    "                current_node = current_node.get_next()\n",
    "                previous_node = current_node.get_prev()\n",
    "                next_node = current_node.get_next()\n",
    "        return False\n",
    "\n",
    "    def index(self, item):\n",
    "        \"\"\"Шукаємо індекси вузлів за заданим значенням\"\"\"\n",
    "        is_item = False\n",
    "        node_index = []\n",
    "        if self.is_empty():\n",
    "            print('The list is empty.')\n",
    "            return is_item\n",
    "        else:\n",
    "            current_position = 0\n",
    "            current_node = self._head\n",
    "            while current_node is not None:\n",
    "                if current_node.get_data() == item:\n",
    "                    is_item = True\n",
    "                    node_index.append(current_position)\n",
    "                current_position += 1\n",
    "                current_node = current_node.get_next()\n",
    "        if is_item:\n",
    "            print(f'We find the \"{item}\" with {node_index}-index.')\n",
    "            return tuple(node_index)\n",
    "        print(f'There is not the <{item}> in the list.')\n",
    "        return is_item\n",
    "\n",
    "    def search(self, item):\n",
    "        \"\"\"Шукаємо кількість вузлів з заданим значенням\"\"\"\n",
    "        if self.is_empty():\n",
    "            print('The list is empty.')\n",
    "            return False\n",
    "        else:\n",
    "            item_counter = 0\n",
    "            current_position = 0\n",
    "            current_node = self._head\n",
    "            while current_node is not None:\n",
    "                if current_node.get_data() == item:\n",
    "                    item_counter += 1\n",
    "                current_position += 1\n",
    "                current_node = current_node.get_next()\n",
    "        if item_counter > 0:\n",
    "            print(f'We find the \"{item}\" in the list <{item_counter}> times.')\n",
    "            return item_counter\n",
    "        print(f'There is not the <{item}> in the list.')\n",
    "        return False\n",
    "\n",
    "    def __repr__(self):\n",
    "        \"\"\"Репрезентація\"\"\"\n",
    "        representation = ''\n",
    "        if self.is_empty():\n",
    "            representation += 'The list is empty.'\n",
    "        else:\n",
    "            current_node = self._head\n",
    "            representation += 'Head > '\n",
    "            while current_node is not None:\n",
    "                representation += f'{current_node.get_data()} > '\n",
    "                current_node = current_node.get_next()\n",
    "            representation += 'Tail'\n",
    "        return representation\n",
    "\n",
    "    def __str__(self):\n",
    "        \"\"\"Стрічковий вигляд\"\"\"\n",
    "        return self.__repr__()"
   ],
   "metadata": {
    "collapsed": false
   }
  },
  {
   "cell_type": "code",
   "execution_count": 462,
   "outputs": [],
   "source": [
    "new_list = UnorderedDoubleList()"
   ],
   "metadata": {
    "collapsed": false
   }
  },
  {
   "cell_type": "code",
   "execution_count": 463,
   "outputs": [
    {
     "name": "stdout",
     "output_type": "stream",
     "text": [
      "The list is empty.\n",
      "True\n",
      "0\n"
     ]
    }
   ],
   "source": [
    "print(new_list)\n",
    "print(new_list.is_empty())\n",
    "print(new_list.size())"
   ],
   "metadata": {
    "collapsed": false
   }
  },
  {
   "cell_type": "code",
   "execution_count": 464,
   "outputs": [],
   "source": [
    "new_list.add_head('First element')"
   ],
   "metadata": {
    "collapsed": false
   }
  },
  {
   "cell_type": "code",
   "execution_count": 465,
   "outputs": [
    {
     "name": "stdout",
     "output_type": "stream",
     "text": [
      "False\n",
      "Head > First element > Tail\n",
      "1\n"
     ]
    }
   ],
   "source": [
    "print(new_list.is_empty())\n",
    "print(new_list)\n",
    "print(new_list.size())"
   ],
   "metadata": {
    "collapsed": false
   }
  },
  {
   "cell_type": "code",
   "execution_count": 466,
   "outputs": [],
   "source": [
    "for elem in range(1, 6):\n",
    "    new_list.add_head(elem)"
   ],
   "metadata": {
    "collapsed": false
   }
  },
  {
   "cell_type": "code",
   "execution_count": 467,
   "outputs": [
    {
     "name": "stdout",
     "output_type": "stream",
     "text": [
      "Head > 5 > 4 > 3 > 2 > 1 > First element > Tail\n",
      "6\n"
     ]
    }
   ],
   "source": [
    "print(new_list)\n",
    "print(new_list.size())"
   ],
   "metadata": {
    "collapsed": false
   }
  },
  {
   "cell_type": "code",
   "execution_count": 468,
   "outputs": [],
   "source": [
    "for elem in range(-1, -6, -1):\n",
    "    new_list.add_tail(elem)"
   ],
   "metadata": {
    "collapsed": false
   }
  },
  {
   "cell_type": "code",
   "execution_count": 469,
   "outputs": [
    {
     "name": "stdout",
     "output_type": "stream",
     "text": [
      "Head > 5 > 4 > 3 > 2 > 1 > First element > -1 > -2 > -3 > -4 > -5 > Tail\n"
     ]
    }
   ],
   "source": [
    "print(new_list)"
   ],
   "metadata": {
    "collapsed": false
   }
  },
  {
   "cell_type": "code",
   "execution_count": 470,
   "outputs": [
    {
     "name": "stdout",
     "output_type": "stream",
     "text": [
      "We find and delete it!\n"
     ]
    },
    {
     "data": {
      "text/plain": "True"
     },
     "execution_count": 470,
     "metadata": {},
     "output_type": "execute_result"
    }
   ],
   "source": [
    "new_list.delete('First element')"
   ],
   "metadata": {
    "collapsed": false
   }
  },
  {
   "cell_type": "code",
   "execution_count": 471,
   "outputs": [
    {
     "name": "stdout",
     "output_type": "stream",
     "text": [
      "Head > 5 > 4 > 3 > 2 > 1 > -1 > -2 > -3 > -4 > -5 > Tail\n"
     ]
    }
   ],
   "source": [
    "print(new_list)"
   ],
   "metadata": {
    "collapsed": false
   }
  },
  {
   "cell_type": "code",
   "execution_count": 472,
   "outputs": [
    {
     "data": {
      "text/plain": "False"
     },
     "execution_count": 472,
     "metadata": {},
     "output_type": "execute_result"
    }
   ],
   "source": [
    "new_list.delete(100)"
   ],
   "metadata": {
    "collapsed": false
   }
  },
  {
   "cell_type": "code",
   "execution_count": 473,
   "outputs": [
    {
     "name": "stdout",
     "output_type": "stream",
     "text": [
      "We find and remove 2.\n"
     ]
    },
    {
     "data": {
      "text/plain": "True"
     },
     "execution_count": 473,
     "metadata": {},
     "output_type": "execute_result"
    }
   ],
   "source": [
    "new_list.remove(3)"
   ],
   "metadata": {
    "collapsed": false
   }
  },
  {
   "cell_type": "code",
   "execution_count": 474,
   "outputs": [
    {
     "name": "stdout",
     "output_type": "stream",
     "text": [
      "Head > 5 > 4 > 3 > 1 > -1 > -2 > -3 > -4 > -5 > Tail\n",
      "9\n"
     ]
    }
   ],
   "source": [
    "print(new_list)\n",
    "print(new_list.size())"
   ],
   "metadata": {
    "collapsed": false
   }
  },
  {
   "cell_type": "code",
   "execution_count": 475,
   "outputs": [
    {
     "name": "stdout",
     "output_type": "stream",
     "text": [
      "'NoneType' object has no attribute 'get_data'\n",
      "Previous = 5\n",
      "Current = 4\n",
      "Next_node = 3\n",
      "\n",
      "Previous = 4\n",
      "Current = 3\n",
      "Next_node = 1\n",
      "\n",
      "Previous = 3\n",
      "Current = 1\n",
      "Next_node = -1\n",
      "\n",
      "We inserted 2 into 3-index position.\n"
     ]
    },
    {
     "data": {
      "text/plain": "True"
     },
     "execution_count": 475,
     "metadata": {},
     "output_type": "execute_result"
    }
   ],
   "source": [
    "new_list.insert(3, 2)"
   ],
   "metadata": {
    "collapsed": false
   }
  },
  {
   "cell_type": "code",
   "execution_count": 476,
   "outputs": [
    {
     "name": "stdout",
     "output_type": "stream",
     "text": [
      "Head > 5 > 4 > 3 > 2 > 1 > -1 > -2 > -3 > -4 > -5 > Tail\n",
      "10\n"
     ]
    }
   ],
   "source": [
    "print(new_list)\n",
    "print(new_list.size())"
   ],
   "metadata": {
    "collapsed": false
   }
  },
  {
   "cell_type": "code",
   "execution_count": 477,
   "outputs": [
    {
     "name": "stdout",
     "output_type": "stream",
     "text": [
      "We find the \"1\" with [4]-index.\n"
     ]
    },
    {
     "data": {
      "text/plain": "(4,)"
     },
     "execution_count": 477,
     "metadata": {},
     "output_type": "execute_result"
    }
   ],
   "source": [
    "new_list.index(1)"
   ],
   "metadata": {
    "collapsed": false
   }
  },
  {
   "cell_type": "code",
   "execution_count": 478,
   "outputs": [
    {
     "name": "stdout",
     "output_type": "stream",
     "text": [
      "There is not the <100> in the list.\n"
     ]
    },
    {
     "data": {
      "text/plain": "False"
     },
     "execution_count": 478,
     "metadata": {},
     "output_type": "execute_result"
    }
   ],
   "source": [
    "new_list.index(100)"
   ],
   "metadata": {
    "collapsed": false
   }
  },
  {
   "cell_type": "code",
   "execution_count": 479,
   "outputs": [
    {
     "name": "stdout",
     "output_type": "stream",
     "text": [
      "We find the \"-3\" in the list <1> times.\n"
     ]
    },
    {
     "data": {
      "text/plain": "1"
     },
     "execution_count": 479,
     "metadata": {},
     "output_type": "execute_result"
    }
   ],
   "source": [
    "new_list.search(-3)"
   ],
   "metadata": {
    "collapsed": false
   }
  },
  {
   "cell_type": "code",
   "execution_count": 480,
   "outputs": [],
   "source": [
    "new_list.add_head('python')\n",
    "new_list.add_tail('python')"
   ],
   "metadata": {
    "collapsed": false
   }
  },
  {
   "cell_type": "code",
   "execution_count": 481,
   "outputs": [
    {
     "name": "stdout",
     "output_type": "stream",
     "text": [
      "Head > python > 5 > 4 > 3 > 2 > 1 > -1 > -2 > -3 > -4 > -5 > python > Tail\n"
     ]
    }
   ],
   "source": [
    "print(new_list)"
   ],
   "metadata": {
    "collapsed": false
   }
  },
  {
   "cell_type": "code",
   "execution_count": 482,
   "outputs": [
    {
     "name": "stdout",
     "output_type": "stream",
     "text": [
      "We find the \"python\" with [0, 11]-index.\n"
     ]
    },
    {
     "data": {
      "text/plain": "(0, 11)"
     },
     "execution_count": 482,
     "metadata": {},
     "output_type": "execute_result"
    }
   ],
   "source": [
    "new_list.index('python')"
   ],
   "metadata": {
    "collapsed": false
   }
  },
  {
   "cell_type": "code",
   "execution_count": 483,
   "outputs": [
    {
     "name": "stdout",
     "output_type": "stream",
     "text": [
      "We find the \"python\" in the list <2> times.\n"
     ]
    },
    {
     "data": {
      "text/plain": "2"
     },
     "execution_count": 483,
     "metadata": {},
     "output_type": "execute_result"
    }
   ],
   "source": [
    "new_list.search('python')"
   ],
   "metadata": {
    "collapsed": false
   }
  }
 ],
 "metadata": {
  "kernelspec": {
   "display_name": "Python 3",
   "language": "python",
   "name": "python3"
  },
  "language_info": {
   "codemirror_mode": {
    "name": "ipython",
    "version": 2
   },
   "file_extension": ".py",
   "mimetype": "text/x-python",
   "name": "python",
   "nbconvert_exporter": "python",
   "pygments_lexer": "ipython2",
   "version": "2.7.6"
  }
 },
 "nbformat": 4,
 "nbformat_minor": 0
}
