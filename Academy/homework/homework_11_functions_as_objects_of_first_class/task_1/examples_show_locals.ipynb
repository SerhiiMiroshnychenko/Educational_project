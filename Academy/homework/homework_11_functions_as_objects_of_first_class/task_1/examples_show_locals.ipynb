{
 "cells": [
  {
   "cell_type": "markdown",
   "source": [
    "Приклади роботи функції show_locals"
   ],
   "metadata": {
    "collapsed": false
   }
  },
  {
   "cell_type": "code",
   "execution_count": 1,
   "metadata": {
    "collapsed": true
   },
   "outputs": [
    {
     "name": "stdout",
     "output_type": "stream",
     "text": [
      "330\n"
     ]
    }
   ],
   "source": [
    "# Перша функція для дослідів:\n",
    "def special_addition(x, y):\n",
    "    \"\"\"Special addition function\"\"\"\n",
    "    c = x * y\n",
    "    return (x + y) * c\n",
    "\n",
    "result = special_addition\n",
    "print(result(5, 6))"
   ]
  },
  {
   "cell_type": "code",
   "execution_count": 2,
   "outputs": [
    {
     "name": "stdout",
     "output_type": "stream",
     "text": [
      "1...2...3...8...5...14...8...14...9...13..."
     ]
    }
   ],
   "source": [
    "# Друга функція для дослідів:\n",
    "def randomizer(x):\n",
    "    \"\"\"Random addition function\"\"\"\n",
    "    from random import randint\n",
    "    y = randint(0, 10)\n",
    "    return x + y\n",
    "\n",
    "number = randomizer\n",
    "for i in range(10):\n",
    "    print(number(i), end='...')"
   ],
   "metadata": {
    "collapsed": false
   }
  },
  {
   "cell_type": "code",
   "execution_count": 3,
   "outputs": [
    {
     "name": "stdout",
     "output_type": "stream",
     "text": [
      "24\n",
      "0\n"
     ]
    }
   ],
   "source": [
    "# Третя функція для дослідів:\n",
    "def inf_multiplication(*args):\n",
    "    \"\"\"Infinity multiplication function\"\"\"\n",
    "    from functools import reduce\n",
    "    return reduce(lambda x, y: x * y, args)\n",
    "\n",
    "result_1 = inf_multiplication(1, 2, 3, 4)\n",
    "result_2 = inf_multiplication(0, 1, 2, 3, 4, 5, 6, 7, 8, 9, 10)\n",
    "print(result_1)\n",
    "print(result_2)"
   ],
   "metadata": {
    "collapsed": false
   }
  },
  {
   "cell_type": "code",
   "execution_count": 4,
   "outputs": [
    {
     "name": "stdout",
     "output_type": "stream",
     "text": [
      "Я друкую:-)\n"
     ]
    }
   ],
   "source": [
    "# Четверта функція для дослідів:\n",
    "def simple_printer():\n",
    "    \"\"\"A function that prints a simple text\"\"\"\n",
    "    print('Я друкую:-)')\n",
    "\n",
    "simple_printer()"
   ],
   "metadata": {
    "collapsed": false
   }
  },
  {
   "cell_type": "markdown",
   "source": [
    "Випробування show_locals"
   ],
   "metadata": {
    "collapsed": false
   }
  },
  {
   "cell_type": "code",
   "execution_count": 5,
   "outputs": [],
   "source": [
    "from show_locals import show_locals"
   ],
   "metadata": {
    "collapsed": false
   }
  },
  {
   "cell_type": "code",
   "execution_count": 6,
   "outputs": [
    {
     "name": "stdout",
     "output_type": "stream",
     "text": [
      "Кількість локальних змінних у функції <special_addition>: 3 шт.\n",
      "А саме: ('x', 'y', 'c')\n"
     ]
    }
   ],
   "source": [
    "show_locals(special_addition)"
   ],
   "metadata": {
    "collapsed": false
   }
  },
  {
   "cell_type": "code",
   "execution_count": 7,
   "outputs": [
    {
     "name": "stdout",
     "output_type": "stream",
     "text": [
      "Кількість локальних змінних у функції <randomizer>: 3 шт.\n",
      "А саме: ('x', 'randint', 'y')\n"
     ]
    }
   ],
   "source": [
    "show_locals(randomizer)"
   ],
   "metadata": {
    "collapsed": false
   }
  },
  {
   "cell_type": "code",
   "execution_count": 8,
   "outputs": [
    {
     "name": "stdout",
     "output_type": "stream",
     "text": [
      "Кількість локальних змінних у функції <inf_multiplication>: 2 шт.\n",
      "А саме: ('args', 'reduce')\n"
     ]
    }
   ],
   "source": [
    "show_locals(inf_multiplication)"
   ],
   "metadata": {
    "collapsed": false
   }
  },
  {
   "cell_type": "code",
   "execution_count": 9,
   "outputs": [
    {
     "name": "stdout",
     "output_type": "stream",
     "text": [
      "Кількість локальних змінних у функції <simple_printer>: 0 шт.\n",
      "А саме: ()\n"
     ]
    }
   ],
   "source": [
    "show_locals(simple_printer)"
   ],
   "metadata": {
    "collapsed": false
   }
  },
  {
   "cell_type": "markdown",
   "source": [
    "Висновок: працює коректно.\n",
    "Дякую за увагу!"
   ],
   "metadata": {
    "collapsed": false
   }
  }
 ],
 "metadata": {
  "kernelspec": {
   "display_name": "Python 3",
   "language": "python",
   "name": "python3"
  },
  "language_info": {
   "codemirror_mode": {
    "name": "ipython",
    "version": 2
   },
   "file_extension": ".py",
   "mimetype": "text/x-python",
   "name": "python",
   "nbconvert_exporter": "python",
   "pygments_lexer": "ipython2",
   "version": "2.7.6"
  }
 },
 "nbformat": 4,
 "nbformat_minor": 0
}
