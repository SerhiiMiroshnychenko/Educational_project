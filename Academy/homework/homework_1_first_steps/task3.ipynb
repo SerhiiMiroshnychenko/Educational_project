{
 "cells": [
  {
   "cell_type": "code",
   "execution_count": 1,
   "id": "2bcb852b",
   "metadata": {},
   "outputs": [
    {
     "name": "stdout",
     "output_type": "stream",
     "text": [
      " ######### \n",
      " # \t # \n",
      " # \t # \n",
      " # \t # \n",
      " ######### \n",
      "\n",
      " # \t # \n",
      " # \t # \n",
      " ######### \n",
      " # \t # \n",
      " # \t # \n",
      "\n"
     ]
    }
   ],
   "source": [
    "print('', '#' * 9, '\\n', '#', '\\t', '#', '\\n', '#', '\\t', '#', '\\n', '#', '\\t', '#', '\\n', '#' * 9, '\\n')\n",
    "print('', '#', '\\t', '#', '\\n', '#', '\\t', '#', '\\n', '#' * 9, '\\n', '#', '\\t', '#', '\\n', '#', '\\t', '#', '\\n')"
   ]
  }
 ],
 "metadata": {
  "kernelspec": {
   "display_name": "Python 3.10.7 64-bit",
   "language": "python",
   "name": "python3"
  },
  "language_info": {
   "codemirror_mode": {
    "name": "ipython",
    "version": 3
   },
   "file_extension": ".py",
   "mimetype": "text/x-python",
   "name": "python",
   "nbconvert_exporter": "python",
   "pygments_lexer": "ipython3",
   "version": "3.10.7"
  },
  "vscode": {
   "interpreter": {
    "hash": "beedbe2faf2f7048d727558d0bc3221e7eba2a0b921cac4d4771b2feb8f74b30"
   }
  }
 },
 "nbformat": 4,
 "nbformat_minor": 5
}
