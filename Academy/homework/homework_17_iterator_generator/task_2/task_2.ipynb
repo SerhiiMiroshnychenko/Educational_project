{
 "cells": [
  {
   "cell_type": "markdown",
   "source": [
    "# Task 2\n",
    "# Create your own implementation of a built-in function range, named in_range(),\n",
    "# which takes three parameters: `start`, `end`, and optional step.\n",
    "# Tips: See the documentation for `range` function"
   ],
   "metadata": {
    "collapsed": false
   }
  },
  {
   "cell_type": "code",
   "execution_count": 1,
   "metadata": {
    "collapsed": true
   },
   "outputs": [],
   "source": [
    "class InRange1:\n",
    "\n",
    "    def __init__(self, start:int, end:int, step:int=1):\n",
    "        self.start = start\n",
    "        self.end = end\n",
    "        self.step = step\n",
    "\n",
    "    def __iter__(self):\n",
    "         counter = self.start\n",
    "         while self.end > counter:\n",
    "             yield counter\n",
    "             counter += self.step\n",
    "\n",
    "    def __str__(self):\n",
    "        if self.step == 1:\n",
    "            return f'in_range_1 ({self.start}, {self.end})'\n",
    "        return f'in_range_1 ({self.start}, {self.end}, {self.step})'"
   ]
  },
  {
   "cell_type": "code",
   "execution_count": 2,
   "outputs": [
    {
     "name": "stdout",
     "output_type": "stream",
     "text": [
      "range(2, 20, 2)\n",
      "2 4 6 8 10 12 14 16 18\n",
      "<class 'range'>\n",
      "2.0...4.0...6.0...8.0...10.0...12.0...14.0...16.0...18.0..."
     ]
    }
   ],
   "source": [
    "a = range(2, 20, 2)\n",
    "print(a)\n",
    "print(*a)\n",
    "print(type(a))\n",
    "for i in a:\n",
    "    print(i * 1.0, end='...')"
   ],
   "metadata": {
    "collapsed": false
   }
  },
  {
   "cell_type": "code",
   "execution_count": 3,
   "outputs": [
    {
     "name": "stdout",
     "output_type": "stream",
     "text": [
      "in_range_1 (2, 20, 2)\n",
      "2 4 6 8 10 12 14 16 18\n",
      "<class '__main__.InRange1'>\n",
      "2.0...4.0...6.0...8.0...10.0...12.0...14.0...16.0...18.0..."
     ]
    }
   ],
   "source": [
    "b = InRange1(2, 20, 2)\n",
    "print(b)\n",
    "print(*b)\n",
    "print(type(b))\n",
    "for i in b:\n",
    "    print(i * 1.0, end='...')"
   ],
   "metadata": {
    "collapsed": false
   }
  },
  {
   "cell_type": "code",
   "execution_count": 4,
   "outputs": [],
   "source": [
    "class InRange2:\n",
    "\n",
    "    def __init__(self, start:int, end:int, step:int=1):\n",
    "        self.start = start\n",
    "        self.end = end\n",
    "        self.step = step\n",
    "        self.ind = 0\n",
    "\n",
    "    def __iter__(self):\n",
    "         return self\n",
    "\n",
    "    def __next__(self):\n",
    "        if self.ind > self.end-1:\n",
    "            self.ind = 0\n",
    "            raise StopIteration\n",
    "        val = self.ind\n",
    "        self.ind += self.step\n",
    "        return val\n",
    "\n",
    "    def __str__(self):\n",
    "        if self.step == 1:\n",
    "            return f'in_range_2({self.start}, {self.end})'\n",
    "        return f'in_range_2({self.start}, {self.end}, {self.step})'"
   ],
   "metadata": {
    "collapsed": false
   }
  },
  {
   "cell_type": "code",
   "execution_count": 5,
   "outputs": [
    {
     "name": "stdout",
     "output_type": "stream",
     "text": [
      "in_range_2(2, 20, 2)\n",
      "0 2 4 6 8 10 12 14 16 18\n",
      "<class '__main__.InRange2'>\n",
      "0.0...2.0...4.0...6.0...8.0...10.0...12.0...14.0...16.0...18.0..."
     ]
    }
   ],
   "source": [
    "b = InRange2(2, 20, 2)\n",
    "print(b)\n",
    "print(*b)\n",
    "print(type(b))\n",
    "for i in b:\n",
    "    print(i * 1.0, end='...')"
   ],
   "metadata": {
    "collapsed": false
   }
  }
 ],
 "metadata": {
  "kernelspec": {
   "display_name": "Python 3",
   "language": "python",
   "name": "python3"
  },
  "language_info": {
   "codemirror_mode": {
    "name": "ipython",
    "version": 2
   },
   "file_extension": ".py",
   "mimetype": "text/x-python",
   "name": "python",
   "nbconvert_exporter": "python",
   "pygments_lexer": "ipython2",
   "version": "2.7.6"
  }
 },
 "nbformat": 4,
 "nbformat_minor": 0
}
