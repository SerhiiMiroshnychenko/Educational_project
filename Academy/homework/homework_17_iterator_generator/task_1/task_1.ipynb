{
 "cells": [
  {
   "cell_type": "markdown",
   "source": [
    "# Task 1\n",
    "# Create your own implementation of a built-in function enumerate, named\n",
    "# `with_index`, which takes two parameters: `iterable` and `start`,\n",
    "# default is 0. Tips: see the documentation for the enumerate function"
   ],
   "metadata": {
    "collapsed": false
   }
  },
  {
   "cell_type": "code",
   "execution_count": 35,
   "outputs": [],
   "source": [
    "\"\"\"FIRST VERSION\"\"\"\n",
    "class WithIndex:\n",
    "\n",
    "    def __new__(cls, iterable, start=0, step=1):\n",
    "        try:\n",
    "            iter(iterable)\n",
    "            return super().__new__(cls)\n",
    "        except Exception as e:\n",
    "            print(e.__class__, e)\n",
    "\n",
    "\n",
    "    def __init__(self, iterable, start:int=0, step:int=1):\n",
    "        self.iterable = iterable\n",
    "        self.start = start\n",
    "        self.step = step\n",
    "        self.ind = 0\n",
    "        self.end = len(iterable)\n",
    "\n",
    "    def __iter__(self):\n",
    "        return self\n",
    "\n",
    "    def __next__(self):\n",
    "        if self.ind > self.end-1:\n",
    "            self.ind = 0\n",
    "            raise StopIteration\n",
    "        val = (self.ind * self.step + self.start, self.iterable[self.ind])\n",
    "        self.ind += 1\n",
    "        return val"
   ],
   "metadata": {
    "collapsed": false
   }
  },
  {
   "cell_type": "code",
   "execution_count": 36,
   "outputs": [
    {
     "name": "stdout",
     "output_type": "stream",
     "text": [
      "(1, 'a') (2, 'b') (3, 'c') (4, 'd') (5, 'e')\n",
      "(1, 'a')...(2, 'b')...(3, 'c')...(4, 'd')...(5, 'e')..."
     ]
    }
   ],
   "source": [
    "list_1 = ['a', 'b', 'c', 'd', 'e']\n",
    "wi = WithIndex(list_1, 1)\n",
    "print(*wi)\n",
    "for el in wi:\n",
    "    print(el, end='...')"
   ],
   "metadata": {
    "collapsed": false
   }
  },
  {
   "cell_type": "code",
   "execution_count": 37,
   "outputs": [
    {
     "name": "stdout",
     "output_type": "stream",
     "text": [
      "<class '__main__.WithIndex'>\n",
      "(10, 'P') (20, 'y') (30, 't') (40, 'h') (50, 'o') (60, 'n')\n",
      "(10, 'P')...(20, 'y')...(30, 't')...(40, 'h')...(50, 'o')...(60, 'n')..."
     ]
    }
   ],
   "source": [
    "wi = WithIndex('Python', 10, 10)\n",
    "print(type(wi))\n",
    "print(*wi)\n",
    "for el in wi:\n",
    "    print(el, end='...')"
   ],
   "metadata": {
    "collapsed": false
   }
  },
  {
   "cell_type": "code",
   "execution_count": 38,
   "outputs": [
    {
     "name": "stdout",
     "output_type": "stream",
     "text": [
      "<class 'TypeError'> 'int' object is not iterable\n",
      "None\n",
      "<class 'NoneType'>\n"
     ]
    }
   ],
   "source": [
    "wi = WithIndex(1000, 1)\n",
    "print(wi)\n",
    "print(type(wi))"
   ],
   "metadata": {
    "collapsed": false
   }
  },
  {
   "cell_type": "code",
   "execution_count": 39,
   "outputs": [],
   "source": [
    "\"\"\"SECOND VERSION\"\"\"\n",
    "class WithIndex:\n",
    "\n",
    "    def __new__(cls, iterable, start=0, step=1):\n",
    "        try:\n",
    "            iter(iterable)\n",
    "            return super().__new__(cls)\n",
    "        except Exception as e:\n",
    "            print(e.__class__, e)\n",
    "\n",
    "\n",
    "    def __init__(self, iterable, start:int=0, step:int=1):\n",
    "        self.iterable = iterable\n",
    "        self.start = start\n",
    "        self.step = step\n",
    "        self.ind = 0\n",
    "        self.end = len(iterable)\n",
    "\n",
    "    def __iter__(self):\n",
    "        while self.end > self.ind:\n",
    "            yield self.ind * self.step + self.start, self.iterable[self.ind]\n",
    "            self.ind += 1\n",
    "        self.ind = 0"
   ],
   "metadata": {
    "collapsed": false
   }
  },
  {
   "cell_type": "code",
   "execution_count": 40,
   "outputs": [
    {
     "name": "stdout",
     "output_type": "stream",
     "text": [
      "(1, 'a') (2, 'b') (3, 'c') (4, 'd') (5, 'e')\n",
      "(1, 'a')...(2, 'b')...(3, 'c')...(4, 'd')...(5, 'e')..."
     ]
    }
   ],
   "source": [
    "list_1 = ['a', 'b', 'c', 'd', 'e']\n",
    "wi = WithIndex(list_1, 1)\n",
    "print(*wi)\n",
    "for el in wi:\n",
    "    print(el, end='...')"
   ],
   "metadata": {
    "collapsed": false
   }
  },
  {
   "cell_type": "code",
   "execution_count": 41,
   "outputs": [
    {
     "name": "stdout",
     "output_type": "stream",
     "text": [
      "<class '__main__.WithIndex'>\n",
      "(10, 'P') (20, 'y') (30, 't') (40, 'h') (50, 'o') (60, 'n')\n",
      "(10, 'P')...(20, 'y')...(30, 't')...(40, 'h')...(50, 'o')...(60, 'n')..."
     ]
    }
   ],
   "source": [
    "wi = WithIndex('Python', 10, 10)\n",
    "print(type(wi))\n",
    "print(*wi)\n",
    "for el in wi:\n",
    "    print(el, end='...')"
   ],
   "metadata": {
    "collapsed": false
   }
  },
  {
   "cell_type": "code",
   "execution_count": 42,
   "outputs": [
    {
     "name": "stdout",
     "output_type": "stream",
     "text": [
      "<class 'TypeError'> 'int' object is not iterable\n",
      "None\n",
      "<class 'NoneType'>\n"
     ]
    }
   ],
   "source": [
    "wi = WithIndex(1000, 1)\n",
    "print(wi)\n",
    "print(type(wi))"
   ],
   "metadata": {
    "collapsed": false
   }
  }
 ],
 "metadata": {
  "kernelspec": {
   "display_name": "Python 3",
   "language": "python",
   "name": "python3"
  },
  "language_info": {
   "codemirror_mode": {
    "name": "ipython",
    "version": 2
   },
   "file_extension": ".py",
   "mimetype": "text/x-python",
   "name": "python",
   "nbconvert_exporter": "python",
   "pygments_lexer": "ipython2",
   "version": "2.7.6"
  }
 },
 "nbformat": 4,
 "nbformat_minor": 0
}
