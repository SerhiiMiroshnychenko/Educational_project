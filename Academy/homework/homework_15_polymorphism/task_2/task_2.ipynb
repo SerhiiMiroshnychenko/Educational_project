{
 "cells": [
  {
   "cell_type": "code",
   "execution_count": 1,
   "metadata": {
    "collapsed": true
   },
   "outputs": [],
   "source": [
    "import datetime"
   ]
  },
  {
   "cell_type": "code",
   "execution_count": 2,
   "outputs": [],
   "source": [
    "from task_2 import Author, Book, Library"
   ],
   "metadata": {
    "collapsed": false
   }
  },
  {
   "cell_type": "code",
   "execution_count": 3,
   "outputs": [],
   "source": [
    "# Створюємо автора: А́ртур Ігна́тіус Ко́нан Дойл\n",
    "author1 = Author('arthur conan doyle', 'man', 'united kingdom', datetime.date(1859, 5, 22))"
   ],
   "metadata": {
    "collapsed": false
   }
  },
  {
   "cell_type": "code",
   "execution_count": 4,
   "outputs": [],
   "source": [
    "# Конан Дойл пише свої книги:\n",
    "book1 = author1.write('The Five Orange Pips', 1887)\n",
    "book2 = author1.write('A scandal in Bohemia', 1888)\n",
    "book3 = author1.write('The Red-Headed League', 1890)"
   ],
   "metadata": {
    "collapsed": false
   }
  },
  {
   "cell_type": "code",
   "execution_count": 5,
   "outputs": [],
   "source": [
    "# Створюємо автора: Джоа́н Ро́улінг\n",
    "author2 = Author('joanne rowling', 'female', 'united kingdom', datetime.date(1965, 7, 31))"
   ],
   "metadata": {
    "collapsed": false
   }
  },
  {
   "cell_type": "code",
   "execution_count": 6,
   "outputs": [],
   "source": [
    "# Джоан Роулінг пише свої книги:\n",
    "book4 = author2.write(\"Harry Potter and the Philosopher's Stone\", 1997)\n",
    "book5 = author2.write('Harry Potter and the Chamber of Secrets', 1998)"
   ],
   "metadata": {
    "collapsed": false
   }
  },
  {
   "cell_type": "code",
   "execution_count": 7,
   "outputs": [],
   "source": [
    "# Створюємо автора: Сергій Жадан\n",
    "author3 = Author('serhiy zhadan', 'male', 'ukraine', datetime.date(1974, 8, 23))"
   ],
   "metadata": {
    "collapsed": false
   }
  },
  {
   "cell_type": "code",
   "execution_count": 8,
   "outputs": [],
   "source": [
    "# Сергій Жадан пише свою книгу:\n",
    "book6 = author3.write('Pepsi', 1998)"
   ],
   "metadata": {
    "collapsed": false
   }
  },
  {
   "cell_type": "code",
   "execution_count": 9,
   "outputs": [
    {
     "name": "stdout",
     "output_type": "stream",
     "text": [
      "The book already exists.\n"
     ]
    }
   ],
   "source": [
    "# Спробуємо створити ще одну таку ж книгу:\n",
    "book7 = author3.write('Pepsi', 1998)"
   ],
   "metadata": {
    "collapsed": false
   }
  },
  {
   "cell_type": "code",
   "execution_count": 10,
   "outputs": [
    {
     "name": "stdout",
     "output_type": "stream",
     "text": [
      "<class 'NoneType'>\n"
     ]
    }
   ],
   "source": [
    "print(type(book7))"
   ],
   "metadata": {
    "collapsed": false
   }
  },
  {
   "cell_type": "code",
   "execution_count": 11,
   "outputs": [
    {
     "name": "stdout",
     "output_type": "stream",
     "text": [
      "The total number of written books is 6.\n"
     ]
    }
   ],
   "source": [
    "# Виводимо загальну кількість книг:\n",
    "Book.get_number_of_books()"
   ],
   "metadata": {
    "collapsed": false
   }
  },
  {
   "cell_type": "code",
   "execution_count": 12,
   "outputs": [
    {
     "name": "stdout",
     "output_type": "stream",
     "text": [
      "The book \"Harry Potter and the Philosopher's Stone\" has been wrote by Joanne Rowling in 1997 year. It is the 1 book from this author.\n"
     ]
    }
   ],
   "source": [
    "# Подивимося анотацію на книгу № 4\n",
    "book4.show_annotation()"
   ],
   "metadata": {
    "collapsed": false
   }
  },
  {
   "cell_type": "code",
   "execution_count": 13,
   "outputs": [
    {
     "name": "stdout",
     "output_type": "stream",
     "text": [
      "Book: \"Pepsi\"\n",
      "Author: Serhiy Zhadan\n",
      "Year: 1998\n",
      "Number of the author's books: 1\n",
      "Number of all books: 6\n"
     ]
    }
   ],
   "source": [
    "# Подивимося інформацію про книгу № 6\n",
    "book6.show_information()"
   ],
   "metadata": {
    "collapsed": false
   }
  },
  {
   "cell_type": "code",
   "execution_count": 14,
   "outputs": [],
   "source": [
    "# Засновуємо бібліотеку \"Барвінок\"\n",
    "library = Library('periwinkle')"
   ],
   "metadata": {
    "collapsed": false
   }
  },
  {
   "cell_type": "code",
   "execution_count": 15,
   "outputs": [],
   "source": [
    "# Додаємо до фондів бібліотеки 3 книги (№№ 1, 4, 6)\n",
    "library.new_book(book1, author1)\n",
    "library.new_book(book4, author2)\n",
    "library.new_book(book6, author3)"
   ],
   "metadata": {
    "collapsed": false
   }
  },
  {
   "cell_type": "code",
   "execution_count": 16,
   "outputs": [
    {
     "name": "stdout",
     "output_type": "stream",
     "text": [
      "Our library is called \"Periwinkle\".\n",
      "It contains 3 books by 3 authors.\n"
     ]
    }
   ],
   "source": [
    "# Подивимося анотацію про нашу бібліотеку:\n",
    "library.show_annotation()"
   ],
   "metadata": {
    "collapsed": false
   }
  },
  {
   "cell_type": "code",
   "execution_count": 17,
   "outputs": [
    {
     "name": "stdout",
     "output_type": "stream",
     "text": [
      "Library: \"Periwinkle\"\n",
      "Number of books: 3\n",
      "Number of authors: 3\n"
     ]
    }
   ],
   "source": [
    "# Подивимося інформацію про нашу бібліотеку:\n",
    "library.show_information()"
   ],
   "metadata": {
    "collapsed": false
   }
  },
  {
   "cell_type": "code",
   "execution_count": 18,
   "outputs": [
    {
     "name": "stdout",
     "output_type": "stream",
     "text": [
      "+------------------------------------------+------+--------------------+\n",
      "|                   Book                   | Year |       Author       |\n",
      "+------------------------------------------+------+--------------------+\n",
      "| Harry Potter and the Philosopher's Stone | 1997 |   Joanne Rowling   |\n",
      "|           The Five Orange Pips           | 1887 | Arthur Conan Doyle |\n",
      "|                  Pepsi                   | 1998 |   Serhiy Zhadan    |\n",
      "+------------------------------------------+------+--------------------+\n"
     ]
    }
   ],
   "source": [
    "# Покажемо інформацію про книги в бібліотеці:\n",
    "library.show_all_books()"
   ],
   "metadata": {
    "collapsed": false
   }
  },
  {
   "cell_type": "code",
   "execution_count": 19,
   "outputs": [
    {
     "name": "stdout",
     "output_type": "stream",
     "text": [
      "+--------------------+--------------------------------+\n",
      "|       Author       | Number of books in the library |\n",
      "+--------------------+--------------------------------+\n",
      "|   Serhiy Zhadan    |               1                |\n",
      "|   Joanne Rowling   |               1                |\n",
      "| Arthur Conan Doyle |               1                |\n",
      "+--------------------+--------------------------------+\n"
     ]
    }
   ],
   "source": [
    "# Подивимося інформацію про авторів книг в бібліотеці:\n",
    "library.show_all_authors()"
   ],
   "metadata": {
    "collapsed": false
   }
  },
  {
   "cell_type": "code",
   "execution_count": 20,
   "outputs": [
    {
     "name": "stdout",
     "output_type": "stream",
     "text": [
      "Serhiy Zhadan did not write book \"A scandal in Bohemia\".\n"
     ]
    }
   ],
   "source": [
    "# Спробуємо додати книгу за невідповідним автором:\n",
    "library.new_book(book2, author3)"
   ],
   "metadata": {
    "collapsed": false
   }
  },
  {
   "cell_type": "code",
   "execution_count": 21,
   "outputs": [],
   "source": [
    "# Додамо всі наявні в програмі книги:\n",
    "library.new_book(book2, author1)\n",
    "library.new_book(book3, author1)\n",
    "library.new_book(book5, author2)\n",
    "library.new_book(book6, author3)"
   ],
   "metadata": {
    "collapsed": false
   }
  },
  {
   "cell_type": "code",
   "execution_count": 22,
   "outputs": [
    {
     "name": "stdout",
     "output_type": "stream",
     "text": [
      "Name: Serhiy Zhadan\n",
      "Gender: male\n",
      "Birthday: 23-08-1974\n",
      "Number of books: 2\n"
     ]
    }
   ],
   "source": [
    "# Подивимося інформацію про автора № 3\n",
    "author3.show_information()"
   ],
   "metadata": {
    "collapsed": false
   }
  },
  {
   "cell_type": "code",
   "execution_count": 23,
   "outputs": [
    {
     "name": "stdout",
     "output_type": "stream",
     "text": [
      "There are 1 Serhiy Zhadan's books in our library:\n",
      " ~ \"Pepsi\".\n"
     ]
    }
   ],
   "source": [
    "# Покажемо інформацію про автора 'serhiy zhadan' та його книги в бібліотеці:\n",
    "library.show_by_author('serhiy zhadan')"
   ],
   "metadata": {
    "collapsed": false
   }
  },
  {
   "cell_type": "code",
   "execution_count": 24,
   "outputs": [
    {
     "name": "stdout",
     "output_type": "stream",
     "text": [
      "It is Joanne Rowling a woman of 57 years old. She is a writer from United Kingdom, an author of 2 books.\n"
     ]
    }
   ],
   "source": [
    "# Покажемо анотацію про автора № 2:\n",
    "author2.show_annotation()"
   ],
   "metadata": {
    "collapsed": false
   }
  },
  {
   "cell_type": "code",
   "execution_count": 25,
   "outputs": [
    {
     "name": "stdout",
     "output_type": "stream",
     "text": [
      "There are 2 Joanne Rowling's books in our library:\n",
      " ~ \"Harry Potter and the Philosopher's Stone\".\n",
      " ~ \"Harry Potter and the Chamber of Secrets\".\n"
     ]
    }
   ],
   "source": [
    "# Покажемо інформацію про автора № 2 та його книги в бібліотеці:\n",
    "library.show_by_author(author2)"
   ],
   "metadata": {
    "collapsed": false
   }
  },
  {
   "cell_type": "code",
   "execution_count": 26,
   "outputs": [
    {
     "name": "stdout",
     "output_type": "stream",
     "text": [
      "There are 2 books written in 1998 in our library:\n",
      " ~ \"Harry Potter and the Chamber of Secrets\" (Joanne Rowling).\n",
      " ~ \"Pepsi\" (Serhiy Zhadan).\n"
     ]
    }
   ],
   "source": [
    "# Покажемо інформацію про книги 1998 року в бібліотеці:\n",
    "library.show_by_year(1998)"
   ],
   "metadata": {
    "collapsed": false
   }
  },
  {
   "cell_type": "code",
   "execution_count": 27,
   "outputs": [
    {
     "name": "stdout",
     "output_type": "stream",
     "text": [
      "Our library is called \"Periwinkle\".\n",
      "It contains 6 books by 3 authors.\n"
     ]
    }
   ],
   "source": [
    "# Подивимося анотацію про нашу бібліотеку:\n",
    "library.show_annotation()"
   ],
   "metadata": {
    "collapsed": false
   }
  },
  {
   "cell_type": "code",
   "execution_count": 28,
   "outputs": [
    {
     "name": "stdout",
     "output_type": "stream",
     "text": [
      "Library: \"Periwinkle\"\n",
      "Number of books: 6\n",
      "Number of authors: 3\n"
     ]
    }
   ],
   "source": [
    "# Подивимося інформацію про нашу бібліотеку:\n",
    "library.show_information()"
   ],
   "metadata": {
    "collapsed": false
   }
  },
  {
   "cell_type": "code",
   "execution_count": 29,
   "outputs": [
    {
     "name": "stdout",
     "output_type": "stream",
     "text": [
      "+------------------------------------------+------+--------------------+\n",
      "|                   Book                   | Year |       Author       |\n",
      "+------------------------------------------+------+--------------------+\n",
      "| Harry Potter and the Philosopher's Stone | 1997 |   Joanne Rowling   |\n",
      "| Harry Potter and the Chamber of Secrets  | 1998 |   Joanne Rowling   |\n",
      "|                  Pepsi                   | 1998 |   Serhiy Zhadan    |\n",
      "|           A scandal in Bohemia           | 1888 | Arthur Conan Doyle |\n",
      "|           The Five Orange Pips           | 1887 | Arthur Conan Doyle |\n",
      "|          The Red-Headed League           | 1890 | Arthur Conan Doyle |\n",
      "+------------------------------------------+------+--------------------+\n"
     ]
    }
   ],
   "source": [
    "# Покажемо інформацію про книги в бібліотеці:\n",
    "library.show_all_books()"
   ],
   "metadata": {
    "collapsed": false
   }
  },
  {
   "cell_type": "code",
   "execution_count": 30,
   "outputs": [
    {
     "name": "stdout",
     "output_type": "stream",
     "text": [
      "+--------------------+--------------------------------+\n",
      "|       Author       | Number of books in the library |\n",
      "+--------------------+--------------------------------+\n",
      "|   Serhiy Zhadan    |               1                |\n",
      "|   Joanne Rowling   |               2                |\n",
      "| Arthur Conan Doyle |               3                |\n",
      "+--------------------+--------------------------------+\n"
     ]
    }
   ],
   "source": [
    "# Подивимося інформацію про авторів книг в бібліотеці:\n",
    "library.show_all_authors()"
   ],
   "metadata": {
    "collapsed": false
   }
  }
 ],
 "metadata": {
  "kernelspec": {
   "display_name": "Python 3",
   "language": "python",
   "name": "python3"
  },
  "language_info": {
   "codemirror_mode": {
    "name": "ipython",
    "version": 2
   },
   "file_extension": ".py",
   "mimetype": "text/x-python",
   "name": "python",
   "nbconvert_exporter": "python",
   "pygments_lexer": "ipython2",
   "version": "2.7.6"
  }
 },
 "nbformat": 4,
 "nbformat_minor": 0
}
