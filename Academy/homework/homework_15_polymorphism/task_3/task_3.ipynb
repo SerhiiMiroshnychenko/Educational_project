{
 "cells": [
  {
   "cell_type": "code",
   "execution_count": 186,
   "metadata": {
    "collapsed": true
   },
   "outputs": [],
   "source": [
    "class Fraction:\n",
    "\n",
    "    def __new__(cls, numerator, denominator):\n",
    "        if isinstance(numerator, int) and isinstance(denominator, int) and denominator != 0:\n",
    "            return super().__new__(cls)\n",
    "        try:\n",
    "            raise TypeError('Invalid data type! Use only integer numbers.\\nDenominator can not be zero.')\n",
    "        except TypeError as e:\n",
    "            return f'{e.__class__} has been detected.\\nThe reason: {e}'\n",
    "\n",
    "    def __init__(self, numerator: int, denominator: int):\n",
    "        # Block 1\n",
    "        self.positive = numerator * denominator >= 0\n",
    "        self.numerator = abs(numerator)\n",
    "        self.denominator = abs(denominator)\n",
    "\n",
    "         # Block 2\n",
    "        n, d = self.numerator, self.denominator\n",
    "        if n < d:\n",
    "            n, d = d, n\n",
    "        while d:\n",
    "            n, d = d, n % d\n",
    "\n",
    "        # Block 3\n",
    "        self.numerator //= n\n",
    "        self.denominator //= n\n",
    "\n",
    "        # Block 4\n",
    "        self.integer = self.numerator // self.denominator\n",
    "        self.numerator %= self.denominator\n",
    "\n",
    "        # Block 5\n",
    "        self.integer = self.integer if self.positive else - self.integer\n",
    "\n",
    "        # Block 6\n",
    "        if not self.integer and not self.positive:\n",
    "            self.numerator = - self.numerator\n",
    "\n",
    "    def __float__(self):\n",
    "        p = 1 if self.positive else -1\n",
    "        return (\n",
    "            p * round((abs(self.integer) * self.denominator + self.numerator) / self.denominator, 3)\n",
    "            if self.integer else p * round((abs(self.numerator) / self.denominator), 3))\n",
    "\n",
    "    def integer_conversion(self, other):\n",
    "        if self.integer:\n",
    "            p = 1 if self.positive else -1\n",
    "            self.numerator = p * (abs(self.integer) * self.denominator + self.numerator)\n",
    "\n",
    "        if other.integer:\n",
    "            o = 1 if other.positive else -1\n",
    "            other.numerator = o * (abs(other.integer) * other.denominator + other.numerator)\n",
    "\n",
    "        return self.numerator, other.numerator\n",
    "\n",
    "    def __add__(self, other):\n",
    "\n",
    "        other = self.check_other(other)\n",
    "\n",
    "        self.numerator, other.numerator = self.integer_conversion(other)\n",
    "\n",
    "        up = self.numerator * other.denominator + self.denominator * other.numerator\n",
    "        down = self.denominator * other.denominator\n",
    "\n",
    "        return Fraction(up, down)\n",
    "\n",
    "    def __radd__(self, other):\n",
    "\n",
    "        # other.__add__(self) -> Чому не працює?\n",
    "        other = self.check_other(other)\n",
    "\n",
    "        self.numerator, other.numerator = self.integer_conversion(other)\n",
    "\n",
    "        up = self.numerator * other.denominator + self.denominator * other.numerator\n",
    "        down = self.denominator * other.denominator\n",
    "\n",
    "        return Fraction(up, down)\n",
    "\n",
    "    def __sub__(self, other):\n",
    "\n",
    "        other = self.check_other(other)\n",
    "        self.numerator, other.numerator = self.integer_conversion(other)\n",
    "\n",
    "        up = self.numerator * other.denominator - self.denominator * other.numerator\n",
    "        down = self.denominator * other.denominator\n",
    "\n",
    "        return Fraction(up, down)\n",
    "\n",
    "    def __rsub__(self, other):\n",
    "\n",
    "        other = self.check_other(other)\n",
    "\n",
    "        self.numerator, other.numerator = self.integer_conversion(other)\n",
    "\n",
    "        up = self.denominator * other.numerator - self.numerator * other.denominator\n",
    "        down = self.denominator * other.denominator\n",
    "\n",
    "        return Fraction(up, down)\n",
    "\n",
    "    def __mul__(self, other):\n",
    "\n",
    "        other = self.check_other(other)\n",
    "\n",
    "        self.numerator, other.numerator = self.integer_conversion(other)\n",
    "\n",
    "        up =  self.numerator * other.numerator\n",
    "        down = self.denominator * other.denominator\n",
    "\n",
    "        return Fraction(up, down)\n",
    "\n",
    "    def __rmul__(self, other):\n",
    "\n",
    "        other = self.check_other(other)\n",
    "\n",
    "        self.numerator, other.numerator = self.integer_conversion(other)\n",
    "\n",
    "        up =  self.numerator * other.numerator\n",
    "        down = self.denominator * other.denominator\n",
    "\n",
    "        return Fraction(up, down)\n",
    "\n",
    "    def __truediv__(self, other):\n",
    "\n",
    "        other = self.check_other(other)\n",
    "\n",
    "        self.numerator, other.numerator = self.integer_conversion(other)\n",
    "\n",
    "        up =  self.numerator * other.denominator\n",
    "        down = self.denominator * other.numerator\n",
    "\n",
    "        return Fraction(up, down)\n",
    "\n",
    "    def __rtruediv__(self, other):\n",
    "\n",
    "        other = self.check_other(other)\n",
    "\n",
    "        self.numerator, other.numerator = self.integer_conversion(other)\n",
    "\n",
    "        up =  self.numerator * other.denominator\n",
    "        down = self.denominator * other.numerator\n",
    "\n",
    "        return Fraction(up, down)\n",
    "\n",
    "    # def __rdiv__(self, other): -> Не працює. Пише у float немає методу __rdiv__\n",
    "\n",
    "    def __eq__(self, other):\n",
    "\n",
    "        other = self.check_other(other)\n",
    "        self.numerator, other.numerator = self.integer_conversion(other)\n",
    "        return self.numerator == other.numerator and self.denominator == other.denominator\n",
    "\n",
    "    def __ne__(self,other):\n",
    "\n",
    "        other = self.check_other(other)\n",
    "        self.numerator, other.numerator = self.integer_conversion(other)\n",
    "        return self.numerator != other.numerator and self.denominator != other.denominator\n",
    "\n",
    "    def __lt__(self,other):\n",
    "        result = self - other\n",
    "        return float(result) < 0\n",
    "\n",
    "    # def __rlt__(self,other): -> '<' not supported between instances of 'float' and 'Fraction'\n",
    "\n",
    "    def __gt__(self, other):\n",
    "        return float(self - other) > 0\n",
    "\n",
    "    def __le__(self,other):\n",
    "        return self == other or self < other\n",
    "\n",
    "    def __ge__(self,other):\n",
    "        return self == other or self > other\n",
    "\n",
    "    def __neg__(self):\n",
    "        if self.integer:\n",
    "            numerator = -1 * abs(self.integer) * self.denominator + self.numerator\n",
    "        else:\n",
    "            numerator = -1 * self.numerator\n",
    "        denominator = self.denominator\n",
    "        return Fraction(numerator, denominator)\n",
    "\n",
    "    def check_other(self, other):\n",
    "        other_type = type(other)\n",
    "        if other_type != type(self):\n",
    "            other = Fraction.fractionating(other)\n",
    "        return other\n",
    "\n",
    "    @staticmethod\n",
    "    def fractionating(number):\n",
    "\n",
    "        if isinstance(number, float):\n",
    "            up = number * 10\n",
    "            down = 10\n",
    "            while up != int(up):\n",
    "                up *= 10\n",
    "                down *= 10\n",
    "            up = int(up)\n",
    "            down = int(down)\n",
    "            return Fraction(up, down)\n",
    "\n",
    "        if isinstance(number, int):\n",
    "            up = number\n",
    "            down = 1\n",
    "            return Fraction(up, down)\n",
    "\n",
    "    def __str__(self):\n",
    "        if self.integer and self.numerator:\n",
    "            return f'{self.integer}x({self.numerator}/{self.denominator})'\n",
    "        elif self.integer:\n",
    "            return f'{self.integer}'\n",
    "        elif self.numerator:\n",
    "            return f'{self.numerator}/{self.denominator}'\n",
    "        else:\n",
    "            return f'{self.numerator}'\n",
    "\n",
    "    def __repr__(self):\n",
    "        return f'Fractional number = {self}\\nInteger part = {self.integer}\\nNumerator = {self.numerator}\\nDenominator = {self.denominator}'"
   ]
  },
  {
   "cell_type": "code",
   "execution_count": 187,
   "outputs": [
    {
     "data": {
      "text/plain": "True"
     },
     "execution_count": 187,
     "metadata": {},
     "output_type": "execute_result"
    }
   ],
   "source": [
    "x = Fraction(1, 2)\n",
    "y = Fraction(1, 4)\n",
    "x + y == Fraction(3, 4)"
   ],
   "metadata": {
    "collapsed": false
   }
  },
  {
   "cell_type": "code",
   "execution_count": 188,
   "outputs": [
    {
     "name": "stdout",
     "output_type": "stream",
     "text": [
      "x=1/2, y=1/4, s=-1/5 a=-2/3, b=2/5, c=3/4\n",
      "x=0.5, y=0.25, s=-0.2, a=-0.667, b=0.4, c=0.75\n"
     ]
    }
   ],
   "source": [
    "s = Fraction(-1, 5)\n",
    "a = Fraction(2, -3)\n",
    "b = Fraction(2, 5)\n",
    "c = Fraction(3, 4)\n",
    "print(f'x={x}, y={y}, s={s} a={a}, b={b}, c={c}')\n",
    "print(f'x={float(x)}, y={float(y)}, s={float(s)}, a={float(a)}, b={float(b)}, c={float(c)}')"
   ],
   "metadata": {
    "collapsed": false
   }
  },
  {
   "cell_type": "code",
   "execution_count": 189,
   "outputs": [
    {
     "name": "stdout",
     "output_type": "stream",
     "text": [
      "True\n",
      "False\n",
      "True\n",
      "False\n",
      "True\n",
      "True\n"
     ]
    }
   ],
   "source": [
    "print(x > y)\n",
    "print(s < a)\n",
    "print(b == 0.4)\n",
    "print(c != 0.75)\n",
    "print(x >= 0.1)\n",
    "print(y <= 1)"
   ],
   "metadata": {
    "collapsed": false
   }
  },
  {
   "cell_type": "code",
   "execution_count": 190,
   "outputs": [
    {
     "name": "stdout",
     "output_type": "stream",
     "text": [
      "True\n",
      "False\n",
      "True\n",
      "True\n",
      "True\n",
      "True\n"
     ]
    }
   ],
   "source": [
    "print(x == Fraction(3, 6))\n",
    "print(y != Fraction(6, 24))\n",
    "print(0.2 <= b)\n",
    "print(2 >= c)\n",
    "print(3/4 == c)\n",
    "print(-s*5 == 1)"
   ],
   "metadata": {
    "collapsed": false
   }
  },
  {
   "cell_type": "code",
   "execution_count": 191,
   "outputs": [
    {
     "name": "stdout",
     "output_type": "stream",
     "text": [
      "r1=1x(1/30), float(r1)=1.033\n"
     ]
    }
   ],
   "source": [
    "r1 = x + y + s + a + b + c\n",
    "print(f'r1={r1}, {float(r1)=}')"
   ],
   "metadata": {
    "collapsed": false
   }
  },
  {
   "cell_type": "code",
   "execution_count": 192,
   "outputs": [
    {
     "name": "stdout",
     "output_type": "stream",
     "text": [
      "r1=-1/30, float(r1)=-0.033\n"
     ]
    }
   ],
   "source": [
    "r1 = x - y - s - a - b - c\n",
    "print(f'r1={r1}, {float(r1)=}')"
   ],
   "metadata": {
    "collapsed": false
   }
  },
  {
   "cell_type": "code",
   "execution_count": 193,
   "outputs": [
    {
     "name": "stdout",
     "output_type": "stream",
     "text": [
      "r1=25/32, float(r1)=0.781\n"
     ]
    }
   ],
   "source": [
    "r1 = x * y / s * a / b * c\n",
    "print(f'r1={r1}, {float(r1)=}')"
   ],
   "metadata": {
    "collapsed": false
   }
  },
  {
   "cell_type": "code",
   "execution_count": 194,
   "outputs": [
    {
     "name": "stdout",
     "output_type": "stream",
     "text": [
      "r1=2/3, float(r1)=0.667\n"
     ]
    }
   ],
   "source": [
    "r1 = - a\n",
    "print(f'r1={r1}, {float(r1)=}')"
   ],
   "metadata": {
    "collapsed": false
   }
  },
  {
   "cell_type": "code",
   "execution_count": 195,
   "outputs": [
    {
     "name": "stdout",
     "output_type": "stream",
     "text": [
      "r1=-1/2, float(r1)=-0.5\n"
     ]
    }
   ],
   "source": [
    "r1 = - x\n",
    "print(f'r1={r1}, {float(r1)=}')"
   ],
   "metadata": {
    "collapsed": false
   }
  },
  {
   "cell_type": "code",
   "execution_count": 196,
   "outputs": [
    {
     "name": "stdout",
     "output_type": "stream",
     "text": [
      "r1=1x(1/5), float(r1)=1.2\n",
      "Fractional number = 1x(1/5)\n",
      "Integer part = 1\n",
      "Numerator = 1\n",
      "Denominator = 5\n"
     ]
    }
   ],
   "source": [
    "r1 = x + 0.7\n",
    "print(f'r1={r1}, {float(r1)=}')\n",
    "print(r1.__repr__())"
   ],
   "metadata": {
    "collapsed": false
   }
  },
  {
   "cell_type": "code",
   "execution_count": 197,
   "outputs": [
    {
     "name": "stdout",
     "output_type": "stream",
     "text": [
      "r1=1x(1/20), float(r1)=1.05\n"
     ]
    }
   ],
   "source": [
    "r1 = 0.8 + y\n",
    "print(f'r1={r1}, {float(r1)=}')"
   ],
   "metadata": {
    "collapsed": false
   }
  },
  {
   "cell_type": "code",
   "execution_count": 198,
   "outputs": [
    {
     "name": "stdout",
     "output_type": "stream",
     "text": [
      "r1=13/20, float(r1)=0.65\n"
     ]
    }
   ],
   "source": [
    "r1 = c - 0.1\n",
    "print(f'r1={r1}, {float(r1)=}')"
   ],
   "metadata": {
    "collapsed": false
   }
  },
  {
   "cell_type": "code",
   "execution_count": 199,
   "outputs": [
    {
     "name": "stdout",
     "output_type": "stream",
     "text": [
      "r1=13/15, float(r1)=0.867\n"
     ]
    }
   ],
   "source": [
    "r1 = 0.2 - a\n",
    "print(f'r1={r1}, {float(r1)=}')"
   ],
   "metadata": {
    "collapsed": false
   }
  },
  {
   "cell_type": "code",
   "execution_count": 200,
   "outputs": [
    {
     "name": "stdout",
     "output_type": "stream",
     "text": [
      "r1=2x(1/2), float(r1)=2.5\n"
     ]
    }
   ],
   "source": [
    "r1 = 10 * y\n",
    "print(f'r1={r1}, {float(r1)=}')"
   ],
   "metadata": {
    "collapsed": false
   }
  },
  {
   "cell_type": "code",
   "execution_count": 201,
   "outputs": [
    {
     "name": "stdout",
     "output_type": "stream",
     "text": [
      "r1=1/2, float(r1)=0.5\n"
     ]
    }
   ],
   "source": [
    "r1 = y * 2\n",
    "print(f'r1={r1}, {float(r1)=}')"
   ],
   "metadata": {
    "collapsed": false
   }
  },
  {
   "cell_type": "code",
   "execution_count": 202,
   "outputs": [
    {
     "name": "stdout",
     "output_type": "stream",
     "text": [
      "r1=1/5, float(r1)=0.2\n"
     ]
    }
   ],
   "source": [
    "r1 = b / 2\n",
    "print(f'r1={r1}, {float(r1)=}')"
   ],
   "metadata": {
    "collapsed": false
   }
  },
  {
   "cell_type": "code",
   "execution_count": 203,
   "outputs": [
    {
     "name": "stdout",
     "output_type": "stream",
     "text": [
      "r1=-1, float(r1)=-1.0\n",
      "Fractional number = -1\n",
      "Integer part = -1\n",
      "Numerator = 0\n",
      "Denominator = 1\n"
     ]
    }
   ],
   "source": [
    "r1 = 0.2 / s\n",
    "print(f'r1={r1}, {float(r1)=}')\n",
    "print(r1.__repr__())"
   ],
   "metadata": {
    "collapsed": false
   }
  }
 ],
 "metadata": {
  "kernelspec": {
   "display_name": "Python 3",
   "language": "python",
   "name": "python3"
  },
  "language_info": {
   "codemirror_mode": {
    "name": "ipython",
    "version": 2
   },
   "file_extension": ".py",
   "mimetype": "text/x-python",
   "name": "python",
   "nbconvert_exporter": "python",
   "pygments_lexer": "ipython2",
   "version": "2.7.6"
  }
 },
 "nbformat": 4,
 "nbformat_minor": 0
}
