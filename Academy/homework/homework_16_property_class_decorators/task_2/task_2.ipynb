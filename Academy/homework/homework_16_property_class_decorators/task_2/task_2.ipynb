{
 "cells": [
  {
   "cell_type": "markdown",
   "source": [
    "# Task 2\n",
    "\n",
    "# Implement 2 classes, the first one is the Boss and the second one is the Worker.\n",
    "# Worker has a property 'boss', and its value must be an instance of Boss.\n",
    "# You can reassign this value, but you should check whether the new value is Boss.\n",
    "# Each Boss has a list of his own workers. You should implement a method that allows\n",
    "# you to add workers to a Boss. You're not allowed to add instances of Boss class\n",
    "# to workers list directly via access to attribute, use getters and setters instead!\n",
    "# You can refactor the existing code."
   ],
   "metadata": {
    "collapsed": false
   }
  },
  {
   "cell_type": "code",
   "execution_count": 2,
   "outputs": [],
   "source": [
    "class Worker:\n",
    "    def __init__(self, id_: int, name: str, company: str=None, boss=None):\n",
    "        self.id = id_\n",
    "        self.name = name\n",
    "        self.company = company\n",
    "        self.boss = None\n",
    "        if boss:\n",
    "            self.set_boss(boss)\n",
    "\n",
    "    def set_boss(self, new_boss):\n",
    "        try:\n",
    "            if self.boss and self:\n",
    "                self.boss.del_worker(self)\n",
    "            new_boss.add_worker(self)\n",
    "        except Exception as e:\n",
    "            print(e.__class__, e)\n",
    "\n",
    "    def show_info(self):\n",
    "        print(f'Name: {self.name}\\nCompany: {self.company}\\nBoss: {self.boss}\\nId: {self.id}')\n",
    "\n",
    "    def __str__(self):\n",
    "        return f'{self.name.title()}'"
   ],
   "metadata": {
    "collapsed": false
   }
  },
  {
   "cell_type": "code",
   "execution_count": 3,
   "metadata": {
    "collapsed": true
   },
   "outputs": [],
   "source": [
    "class Boss:\n",
    "    def __init__(self, id_: int, name: str, company: str):\n",
    "        self.id = id_\n",
    "        self.name = name\n",
    "        self.company = company\n",
    "        self.__workers = []\n",
    "        self.__workers_count = 0\n",
    "\n",
    "    @property\n",
    "    def workers(self):\n",
    "        return self.__workers\n",
    "\n",
    "    @workers.setter\n",
    "    def workers(self, workers: list[Worker]):\n",
    "        for worker in workers:\n",
    "            worker.set_boss(self)\n",
    "        self.__workers = workers\n",
    "        self.__workers_count += len(workers)\n",
    "\n",
    "    @workers.deleter\n",
    "    def workers(self):\n",
    "        for worker in self.__workers:\n",
    "            worker.boss = None\n",
    "            worker.company = None\n",
    "        self.__workers = []\n",
    "\n",
    "    def check_worker(self, worker: Worker):\n",
    "        if isinstance(worker, Worker) and worker in self.__workers:\n",
    "            print(f\"{worker.name.title()} is in {self.name.title()}'s workers.\")\n",
    "        elif isinstance(worker, Worker):\n",
    "            print(f\"{worker.name.title()} isn't in {self.name.title()}'s workers.\")\n",
    "        else:\n",
    "            print(\"Worker's type error!\")\n",
    "\n",
    "    def get_worker(self, worker_name: str):\n",
    "        for worker in self.__workers:\n",
    "            if worker_name == worker.name:\n",
    "                return worker\n",
    "\n",
    "    def add_worker(self, worker: Worker or str):\n",
    "        if self.get_worker(worker) or worker in self.__workers:\n",
    "            print('This worker is already working.')\n",
    "        elif isinstance(worker, str):\n",
    "            worker_name = worker\n",
    "            worker_id = int(str(self.id) + str(self.__workers_count))\n",
    "            Worker(worker_id, worker_name, self.company, self)\n",
    "            self.__workers_count += 1\n",
    "        elif isinstance(worker, Worker):\n",
    "            worker.boss = self\n",
    "            worker.company = self.company\n",
    "            new_worker = worker\n",
    "            self.__workers.append(new_worker)\n",
    "            self.__workers_count += 1\n",
    "        else:\n",
    "            print(\"Worker's type error!1\")\n",
    "\n",
    "    def del_worker(self, worker: Worker):\n",
    "        if isinstance(worker, Worker) and worker in self.__workers:\n",
    "            worker_ind = self.__workers.index(worker)\n",
    "            self.__workers[worker_ind].boss = None\n",
    "            self.__workers[worker_ind].company = None\n",
    "            self.__workers.remove(worker)\n",
    "        else:\n",
    "            message = \"Worker's type error!\" if worker in self.__workers else f\"{self.name.title()} does not have this worker.\"\n",
    "            print(message)\n",
    "\n",
    "    def show_info(self):\n",
    "        print(f'Name: {self.name}\\nCompany: {self.company}\\nId: {self.id}\\nNumber of workers: {len(self.workers)}')\n",
    "\n",
    "    def show_workers(self):\n",
    "        if self.__workers:\n",
    "            for number, worker in enumerate(self.__workers, 1):\n",
    "                print(f'{number}. {worker.name}')\n",
    "        else:\n",
    "            print('No workers.')\n",
    "\n",
    "    def __str__(self):\n",
    "        return f'{self.name.title()}'"
   ]
  },
  {
   "cell_type": "code",
   "execution_count": 4,
   "outputs": [],
   "source": [
    "w1 = Worker(1, 'Tom Thomson', 'IBM')\n",
    "b1 = Boss(1, 'Jon Smith', 'Google')\n",
    "w2 = Worker(2, 'Cap Captain', None, b1)"
   ],
   "metadata": {
    "collapsed": false
   }
  },
  {
   "cell_type": "code",
   "execution_count": 5,
   "outputs": [
    {
     "name": "stdout",
     "output_type": "stream",
     "text": [
      "Google\n"
     ]
    }
   ],
   "source": [
    "print(w2.company)"
   ],
   "metadata": {
    "collapsed": false
   }
  },
  {
   "cell_type": "code",
   "execution_count": 6,
   "outputs": [
    {
     "name": "stdout",
     "output_type": "stream",
     "text": [
      "1. Cap Captain\n"
     ]
    }
   ],
   "source": [
    "b1.show_workers()"
   ],
   "metadata": {
    "collapsed": false
   }
  },
  {
   "cell_type": "code",
   "execution_count": 7,
   "outputs": [
    {
     "name": "stdout",
     "output_type": "stream",
     "text": [
      "Name: Jon Smith\n",
      "Company: Google\n",
      "Id: 1\n",
      "Number of workers: 1\n"
     ]
    }
   ],
   "source": [
    "b1.show_info()"
   ],
   "metadata": {
    "collapsed": false
   }
  },
  {
   "cell_type": "code",
   "execution_count": 8,
   "outputs": [
    {
     "name": "stdout",
     "output_type": "stream",
     "text": [
      "1. Cap Captain\n",
      "2. Tom Thomson\n"
     ]
    }
   ],
   "source": [
    "b1.add_worker(w1)\n",
    "b1.show_workers()"
   ],
   "metadata": {
    "collapsed": false
   }
  },
  {
   "cell_type": "code",
   "execution_count": 9,
   "outputs": [
    {
     "name": "stdout",
     "output_type": "stream",
     "text": [
      "Name: Tom Thomson\n",
      "Company: Google\n",
      "Boss: Jon Smith\n",
      "Id: 1\n"
     ]
    }
   ],
   "source": [
    "w1.show_info()"
   ],
   "metadata": {
    "collapsed": false
   }
  },
  {
   "cell_type": "code",
   "execution_count": 10,
   "outputs": [
    {
     "name": "stdout",
     "output_type": "stream",
     "text": [
      "1. Cap Captain\n",
      "2. Tom Thomson\n"
     ]
    }
   ],
   "source": [
    "b1.show_workers()"
   ],
   "metadata": {
    "collapsed": false
   }
  },
  {
   "cell_type": "code",
   "execution_count": 11,
   "outputs": [
    {
     "name": "stdout",
     "output_type": "stream",
     "text": [
      "1. Cap Captain\n",
      "2. Tom Thomson\n",
      "3. Mery Jones\n"
     ]
    }
   ],
   "source": [
    "b1.add_worker('Mery Jones')\n",
    "b1.show_workers()"
   ],
   "metadata": {
    "collapsed": false
   }
  },
  {
   "cell_type": "code",
   "execution_count": 12,
   "outputs": [
    {
     "name": "stdout",
     "output_type": "stream",
     "text": [
      "Name: Mery Jones\n",
      "Company: Google\n",
      "Boss: Jon Smith\n",
      "Id: 12\n"
     ]
    }
   ],
   "source": [
    "mary = b1.get_worker('Mery Jones')\n",
    "mary.show_info()"
   ],
   "metadata": {
    "collapsed": false
   }
  },
  {
   "cell_type": "code",
   "execution_count": 13,
   "outputs": [
    {
     "name": "stdout",
     "output_type": "stream",
     "text": [
      "Name: Mery Jones\n",
      "Company: Apple\n",
      "Boss: Alan Lewis\n",
      "Id: 12\n"
     ]
    }
   ],
   "source": [
    "b2 = Boss(222, 'Alan Lewis', 'Apple')\n",
    "mary.set_boss(b2)\n",
    "mary.show_info()"
   ],
   "metadata": {
    "collapsed": false
   }
  },
  {
   "cell_type": "code",
   "execution_count": 14,
   "outputs": [
    {
     "name": "stdout",
     "output_type": "stream",
     "text": [
      "Name: Alan Lewis\n",
      "Company: Apple\n",
      "Id: 222\n",
      "Number of workers: 1\n"
     ]
    }
   ],
   "source": [
    "b2.show_info()"
   ],
   "metadata": {
    "collapsed": false
   }
  },
  {
   "cell_type": "code",
   "execution_count": 15,
   "outputs": [
    {
     "name": "stdout",
     "output_type": "stream",
     "text": [
      "1. Mery Jones\n"
     ]
    }
   ],
   "source": [
    "b2.show_workers()"
   ],
   "metadata": {
    "collapsed": false
   }
  },
  {
   "cell_type": "code",
   "execution_count": 16,
   "outputs": [
    {
     "name": "stdout",
     "output_type": "stream",
     "text": [
      "1. Cap Captain\n",
      "2. Tom Thomson\n"
     ]
    }
   ],
   "source": [
    "b1.show_workers()"
   ],
   "metadata": {
    "collapsed": false
   }
  },
  {
   "cell_type": "code",
   "execution_count": 17,
   "outputs": [
    {
     "name": "stdout",
     "output_type": "stream",
     "text": [
      "1. Cap Captain\n"
     ]
    }
   ],
   "source": [
    "b1.del_worker(w1)\n",
    "b1.show_workers()"
   ],
   "metadata": {
    "collapsed": false
   }
  },
  {
   "cell_type": "code",
   "execution_count": 18,
   "outputs": [
    {
     "name": "stdout",
     "output_type": "stream",
     "text": [
      "Name: Tom Thomson\n",
      "Company: None\n",
      "Boss: None\n",
      "Id: 1\n"
     ]
    }
   ],
   "source": [
    "w1.show_info()"
   ],
   "metadata": {
    "collapsed": false
   }
  },
  {
   "cell_type": "code",
   "execution_count": 19,
   "outputs": [
    {
     "name": "stdout",
     "output_type": "stream",
     "text": [
      "1. Mery Jones\n",
      "2. Tom Thomson\n"
     ]
    }
   ],
   "source": [
    "b2.add_worker(w1)\n",
    "b2.show_workers()"
   ],
   "metadata": {
    "collapsed": false
   }
  },
  {
   "cell_type": "code",
   "execution_count": 20,
   "outputs": [
    {
     "name": "stdout",
     "output_type": "stream",
     "text": [
      "This worker is already working.\n"
     ]
    }
   ],
   "source": [
    "b2.add_worker(w1)"
   ],
   "metadata": {
    "collapsed": false
   }
  },
  {
   "cell_type": "code",
   "execution_count": 21,
   "outputs": [
    {
     "name": "stdout",
     "output_type": "stream",
     "text": [
      "1. Mery Jones\n",
      "2. Tom Thomson\n"
     ]
    }
   ],
   "source": [
    "b2.show_workers()"
   ],
   "metadata": {
    "collapsed": false
   }
  },
  {
   "cell_type": "code",
   "execution_count": 22,
   "outputs": [
    {
     "name": "stdout",
     "output_type": "stream",
     "text": [
      "Name: Tom Thomson\n",
      "Company: Apple\n",
      "Boss: Alan Lewis\n",
      "Id: 1\n"
     ]
    }
   ],
   "source": [
    "w1.show_info()"
   ],
   "metadata": {
    "collapsed": false
   }
  },
  {
   "cell_type": "code",
   "execution_count": 23,
   "outputs": [],
   "source": [
    "b1.workers = [w1, w2, mary]"
   ],
   "metadata": {
    "collapsed": false
   }
  },
  {
   "cell_type": "code",
   "execution_count": 24,
   "outputs": [
    {
     "name": "stdout",
     "output_type": "stream",
     "text": [
      "1. Tom Thomson\n",
      "2. Cap Captain\n",
      "3. Mery Jones\n"
     ]
    }
   ],
   "source": [
    "b1.show_workers()"
   ],
   "metadata": {
    "collapsed": false
   }
  },
  {
   "cell_type": "code",
   "execution_count": 25,
   "outputs": [
    {
     "name": "stdout",
     "output_type": "stream",
     "text": [
      "No workers.\n"
     ]
    }
   ],
   "source": [
    "b2.show_workers()"
   ],
   "metadata": {
    "collapsed": false
   }
  },
  {
   "cell_type": "code",
   "execution_count": 26,
   "outputs": [
    {
     "name": "stdout",
     "output_type": "stream",
     "text": [
      "Name: Tom Thomson\n",
      "Company: Google\n",
      "Boss: Jon Smith\n",
      "Id: 1\n"
     ]
    }
   ],
   "source": [
    "w1.show_info()"
   ],
   "metadata": {
    "collapsed": false
   }
  },
  {
   "cell_type": "code",
   "execution_count": 27,
   "outputs": [
    {
     "name": "stdout",
     "output_type": "stream",
     "text": [
      "No workers.\n"
     ]
    }
   ],
   "source": [
    "del b1.workers\n",
    "b1.show_workers()"
   ],
   "metadata": {
    "collapsed": false
   }
  },
  {
   "cell_type": "code",
   "execution_count": 28,
   "outputs": [
    {
     "name": "stdout",
     "output_type": "stream",
     "text": [
      "Name: Tom Thomson\n",
      "Company: None\n",
      "Boss: None\n",
      "Id: 1\n"
     ]
    }
   ],
   "source": [
    "w1.show_info()"
   ],
   "metadata": {
    "collapsed": false
   }
  },
  {
   "cell_type": "code",
   "execution_count": 29,
   "outputs": [
    {
     "name": "stdout",
     "output_type": "stream",
     "text": [
      "Name: Cap Captain\n",
      "Company: None\n",
      "Boss: None\n",
      "Id: 2\n"
     ]
    }
   ],
   "source": [
    "w2.show_info()"
   ],
   "metadata": {
    "collapsed": false
   }
  },
  {
   "cell_type": "code",
   "execution_count": 30,
   "outputs": [
    {
     "name": "stdout",
     "output_type": "stream",
     "text": [
      "Name: Mery Jones\n",
      "Company: None\n",
      "Boss: None\n",
      "Id: 12\n"
     ]
    }
   ],
   "source": [
    "mary.show_info()"
   ],
   "metadata": {
    "collapsed": false
   }
  }
 ],
 "metadata": {
  "kernelspec": {
   "display_name": "Python 3",
   "language": "python",
   "name": "python3"
  },
  "language_info": {
   "codemirror_mode": {
    "name": "ipython",
    "version": 2
   },
   "file_extension": ".py",
   "mimetype": "text/x-python",
   "name": "python",
   "nbconvert_exporter": "python",
   "pygments_lexer": "ipython2",
   "version": "2.7.6"
  }
 },
 "nbformat": 4,
 "nbformat_minor": 0
}
