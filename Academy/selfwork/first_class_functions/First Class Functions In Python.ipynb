{
 "cells": [
  {
   "cell_type": "code",
   "execution_count": 1,
   "metadata": {
    "collapsed": true
   },
   "outputs": [
    {
     "name": "stdout",
     "output_type": "stream",
     "text": [
      "['__annotations__', '__builtins__', '__call__', '__class__', '__closure__', '__code__', '__defaults__', '__delattr__', '__dict__', '__dir__', '__doc__', '__eq__', '__format__', '__ge__', '__get__', '__getattribute__', '__getstate__', '__globals__', '__gt__', '__hash__', '__init__', '__init_subclass__', '__kwdefaults__', '__le__', '__lt__', '__module__', '__name__', '__ne__', '__new__', '__qualname__', '__reduce__', '__reduce_ex__', '__repr__', '__setattr__', '__sizeof__', '__str__', '__subclasshook__']\n"
     ]
    }
   ],
   "source": [
    "def hello_func():\n",
    "    print(\"Привіт\")\n",
    "\n",
    "print(dir(hello_func))"
   ]
  },
  {
   "cell_type": "code",
   "execution_count": 8,
   "outputs": [
    {
     "name": "stdout",
     "output_type": "stream",
     "text": [
      "Hello, World\n",
      "Hello, Universe\n"
     ]
    }
   ],
   "source": [
    "def greet(name):\n",
    "    print(\"Hello, \" + name)\n",
    "\n",
    "greet(\"World\") ## => \"Hello World\"\n",
    "greet(\"Universe\") ## => \"Hello Universe\""
   ],
   "metadata": {
    "collapsed": false
   }
  },
  {
   "cell_type": "code",
   "execution_count": 9,
   "outputs": [],
   "source": [
    "say_hello = greet"
   ],
   "metadata": {
    "collapsed": false
   }
  },
  {
   "cell_type": "code",
   "execution_count": 11,
   "outputs": [
    {
     "name": "stdout",
     "output_type": "stream",
     "text": [
      "Hello, Earth\n",
      "Hello, Mars\n"
     ]
    }
   ],
   "source": [
    "say_hello(\"Earth\")                         ## => \"Hello Earth\"\n",
    "say_hello(\"Mars\")                         ## => \"Hello Mars\""
   ],
   "metadata": {
    "collapsed": false
   }
  },
  {
   "cell_type": "code",
   "execution_count": 12,
   "outputs": [],
   "source": [
    "def call_func(x, func):\n",
    "    print(func(x))"
   ],
   "metadata": {
    "collapsed": false
   }
  },
  {
   "cell_type": "code",
   "execution_count": 13,
   "outputs": [],
   "source": [
    "def double(n): return 2*n\n",
    "\n",
    "def triple(n): return 3*n"
   ],
   "metadata": {
    "collapsed": false
   }
  },
  {
   "cell_type": "markdown",
   "source": [
    "Ви передаєте double та triple до функції, а не double() та triple()"
   ],
   "metadata": {
    "collapsed": false
   }
  },
  {
   "cell_type": "code",
   "execution_count": 14,
   "outputs": [
    {
     "name": "stdout",
     "output_type": "stream",
     "text": [
      "8\n",
      "15\n"
     ]
    }
   ],
   "source": [
    "call_func(4, double)     ## => 8\n",
    "call_func(5, triple)     ## => 15"
   ],
   "metadata": {
    "collapsed": false
   }
  },
  {
   "cell_type": "code",
   "execution_count": 15,
   "outputs": [],
   "source": [
    "operations = [double, triple]"
   ],
   "metadata": {
    "collapsed": false
   }
  },
  {
   "cell_type": "code",
   "execution_count": 17,
   "outputs": [
    {
     "name": "stdout",
     "output_type": "stream",
     "text": [
      "4\n",
      "30\n"
     ]
    }
   ],
   "source": [
    "print(operations[0](2))     ## => 4\n",
    "print(operations[1](10))   ## => 30"
   ],
   "metadata": {
    "collapsed": false
   }
  },
  {
   "cell_type": "code",
   "execution_count": 18,
   "outputs": [
    {
     "name": "stdout",
     "output_type": "stream",
     "text": [
      "HELLO\n",
      "HELLO\n"
     ]
    }
   ],
   "source": [
    "# Python program to illustrate functions\n",
    "# can be treated as objects\n",
    "def shout(text):\n",
    "\treturn text.upper()\n",
    "\n",
    "print (shout('Hello'))\n",
    "yell = shout\n",
    "print (yell('Hello'))"
   ],
   "metadata": {
    "collapsed": false
   }
  },
  {
   "cell_type": "code",
   "execution_count": 19,
   "outputs": [
    {
     "name": "stdout",
     "output_type": "stream",
     "text": [
      "HI, I AM CREATED BY A FUNCTION\n",
      "                    PASSED AS AN ARGUMENT.\n",
      "hi, i am created by a function\n",
      "                    passed as an argument.\n"
     ]
    }
   ],
   "source": [
    "# Python program to illustrate functions\n",
    "# can be passed as arguments to other functions\n",
    "def shout(text):\n",
    "    return text.upper()\n",
    "\n",
    "def whisper(text):\n",
    "    return text.lower()\n",
    "\n",
    "def greet(func):\n",
    "    # storing the function in a variable\n",
    "    greeting = func(\"\"\"Hi, I am created by a function\n",
    "                    passed as an argument.\"\"\")\n",
    "    print (greeting)\n",
    "\n",
    "greet(shout)\n",
    "greet(whisper)"
   ],
   "metadata": {
    "collapsed": false
   }
  },
  {
   "cell_type": "code",
   "execution_count": 20,
   "outputs": [
    {
     "name": "stdout",
     "output_type": "stream",
     "text": [
      "25\n"
     ]
    }
   ],
   "source": [
    "# Python program to illustrate functions\n",
    "# Functions can return another function\n",
    "\n",
    "def create_adder(x):\n",
    "    def adder(y):\n",
    "        return x+y\n",
    "\n",
    "    return adder\n",
    "\n",
    "add_15 = create_adder(15)\n",
    "print (add_15(10))"
   ],
   "metadata": {
    "collapsed": false
   }
  },
  {
   "cell_type": "code",
   "execution_count": 21,
   "outputs": [],
   "source": [
    "def get_speak_func(volume):\n",
    "    def whisper(text):\n",
    "        return text.lower() + '...'\n",
    "    def yell(text):\n",
    "        return text.upper() + '!'\n",
    "    if volume > 0.5:\n",
    "        return yell\n",
    "    else:\n",
    "        return whisper"
   ],
   "metadata": {
    "collapsed": false
   }
  },
  {
   "cell_type": "code",
   "execution_count": 23,
   "outputs": [
    {
     "name": "stdout",
     "output_type": "stream",
     "text": [
      "<function get_speak_func.<locals>.whisper at 0x000001A8EA45E980>\n",
      "<function get_speak_func.<locals>.yell at 0x000001A8EA45E980>\n"
     ]
    }
   ],
   "source": [
    "print(get_speak_func(0.3))\n",
    "print(get_speak_func(0.7))"
   ],
   "metadata": {
    "collapsed": false
   }
  },
  {
   "cell_type": "code",
   "execution_count": 24,
   "outputs": [],
   "source": [
    "def speak(text):\n",
    "    def whisper(t):\n",
    "        return t.lower() + '...'\n",
    "    return whisper(text)"
   ],
   "metadata": {
    "collapsed": false
   }
  },
  {
   "cell_type": "code",
   "execution_count": 25,
   "outputs": [
    {
     "data": {
      "text/plain": "'hello, world...'"
     },
     "execution_count": 25,
     "metadata": {},
     "output_type": "execute_result"
    }
   ],
   "source": [
    "speak('Hello, World')"
   ],
   "metadata": {
    "collapsed": false
   }
  },
  {
   "cell_type": "code",
   "execution_count": 28,
   "outputs": [],
   "source": [
    "def  make_adder ( n ):\n",
    "    def  add ( x ):\n",
    "        return  x  +  n\n",
    "    return  add"
   ],
   "metadata": {
    "collapsed": false
   }
  },
  {
   "cell_type": "code",
   "execution_count": 29,
   "outputs": [],
   "source": [
    "plus_3  =  make_adder ( 3 )\n",
    "plus_5  =  make_adder ( 5 )"
   ],
   "metadata": {
    "collapsed": false
   }
  },
  {
   "cell_type": "code",
   "execution_count": 30,
   "outputs": [
    {
     "name": "stdout",
     "output_type": "stream",
     "text": [
      "7\n",
      "9\n"
     ]
    }
   ],
   "source": [
    "print(plus_3(4))\n",
    "print(plus_5(4))"
   ],
   "metadata": {
    "collapsed": false
   }
  },
  {
   "cell_type": "code",
   "execution_count": null,
   "outputs": [],
   "source": [
    "# Python program to illustrate functions\n",
    "# can be passed as arguments to other functions\n",
    "def add(x, y):\n",
    "    return x + y\n",
    "\n",
    "add(1, 2)\n",
    "print(add(3, 4))"
   ],
   "metadata": {
    "collapsed": false
   }
  },
  {
   "cell_type": "code",
   "execution_count": 31,
   "outputs": [],
   "source": [
    "class Adder:\n",
    "    def __init__(self, n):\n",
    "         self.n = n\n",
    "    def __call__(self, x):\n",
    "        return self.n + x"
   ],
   "metadata": {
    "collapsed": false
   }
  },
  {
   "cell_type": "code",
   "execution_count": 32,
   "outputs": [
    {
     "name": "stdout",
     "output_type": "stream",
     "text": [
      "7\n"
     ]
    }
   ],
   "source": [
    "plus_3 = Adder(3)\n",
    "print(plus_3(4))"
   ],
   "metadata": {
    "collapsed": false
   }
  },
  {
   "cell_type": "code",
   "execution_count": 33,
   "outputs": [
    {
     "name": "stdout",
     "output_type": "stream",
     "text": [
      "True\n",
      "True\n",
      "True\n",
      "False\n"
     ]
    }
   ],
   "source": [
    "# функція, що перевіряє, чи є об’єкт таким, що можна викликати\n",
    "print(callable(plus_5))\n",
    "print(callable(plus_3))\n",
    "print(callable(print))\n",
    "print(callable('Hello'))"
   ],
   "metadata": {
    "collapsed": false
   }
  },
  {
   "cell_type": "code",
   "execution_count": 34,
   "outputs": [
    {
     "name": "stdout",
     "output_type": "stream",
     "text": [
      "Hello\n"
     ]
    }
   ],
   "source": [
    "def function_outside():\n",
    "   msg = 'Hello'\n",
    "   def function_inside():\n",
    "      print (msg)\n",
    "   function_inside()\n",
    "\n",
    "function_outside()"
   ],
   "metadata": {
    "collapsed": false
   }
  },
  {
   "cell_type": "code",
   "execution_count": 37,
   "outputs": [],
   "source": [
    "def function_outside():\n",
    "  msg = 'Hi'\n",
    "  def function_inside():\n",
    "      msg = 'Hello'\n",
    "      print (msg)\n",
    "  function_inside()\n",
    "  print (msg)"
   ],
   "metadata": {
    "collapsed": false
   }
  },
  {
   "cell_type": "code",
   "execution_count": 38,
   "outputs": [
    {
     "name": "stdout",
     "output_type": "stream",
     "text": [
      "Hello\n",
      "Hi\n"
     ]
    }
   ],
   "source": [
    "function_outside()"
   ],
   "metadata": {
    "collapsed": false
   }
  },
  {
   "cell_type": "code",
   "execution_count": 40,
   "outputs": [],
   "source": [
    "def function_outside():\n",
    "  msg = 'Hi'\n",
    "  def function_inside():\n",
    "      nonlocal msg\n",
    "      msg = 'Hello'\n",
    "      print (msg)\n",
    "  function_inside()\n",
    "  print (msg)"
   ],
   "metadata": {
    "collapsed": false
   }
  },
  {
   "cell_type": "code",
   "execution_count": 41,
   "outputs": [
    {
     "name": "stdout",
     "output_type": "stream",
     "text": [
      "Hello\n",
      "Hello\n"
     ]
    }
   ],
   "source": [
    "function_outside()"
   ],
   "metadata": {
    "collapsed": false
   }
  },
  {
   "cell_type": "code",
   "execution_count": 42,
   "outputs": [],
   "source": [
    "def func1():  #Outer function\n",
    "  msg = 'I belong to func1'\n",
    "  def func2(): #Nested function\n",
    "      print (msg)\n",
    "  return func2"
   ],
   "metadata": {
    "collapsed": false
   }
  },
  {
   "cell_type": "code",
   "execution_count": 45,
   "outputs": [
    {
     "name": "stdout",
     "output_type": "stream",
     "text": [
      "I belong to func1\n"
     ]
    }
   ],
   "source": [
    "obj = func1()  #binding the function to an object\n",
    "obj()"
   ],
   "metadata": {
    "collapsed": false
   }
  },
  {
   "cell_type": "code",
   "execution_count": 46,
   "outputs": [],
   "source": [
    "obj = func1()  #binding the function to an object\n",
    "del func1  #deleting the outer function"
   ],
   "metadata": {
    "collapsed": false
   }
  },
  {
   "cell_type": "code",
   "execution_count": 47,
   "outputs": [
    {
     "ename": "NameError",
     "evalue": "name 'func1' is not defined",
     "output_type": "error",
     "traceback": [
      "\u001B[1;31m---------------------------------------------------------------------------\u001B[0m",
      "\u001B[1;31mNameError\u001B[0m                                 Traceback (most recent call last)",
      "Cell \u001B[1;32mIn [47], line 1\u001B[0m\n\u001B[1;32m----> 1\u001B[0m \u001B[43mfunc1\u001B[49m()   \u001B[38;5;66;03m#this returns error as the function is deleted\u001B[39;00m\n",
      "\u001B[1;31mNameError\u001B[0m: name 'func1' is not defined"
     ]
    }
   ],
   "source": [
    "func1()   #this returns error as the function is deleted"
   ],
   "metadata": {
    "collapsed": false
   }
  },
  {
   "cell_type": "code",
   "execution_count": 48,
   "outputs": [
    {
     "name": "stdout",
     "output_type": "stream",
     "text": [
      "I belong to func1\n"
     ]
    }
   ],
   "source": [
    "obj()"
   ],
   "metadata": {
    "collapsed": false
   }
  },
  {
   "cell_type": "markdown",
   "source": [
    "Як ви можете бачити у прикладі вище, навіть якщо зовнішню функцію видалено,\n",
    "об’єкт усе ще зберігає та прив'язує змінну msg до внутрішньої вкладеної функції.\n",
    "У Python це називається закриттям.\n",
    "На закінчення наведемо три критерії для закриття:\n",
    "1. Має бути вкладена функція (функція всередині іншої функції).\n",
    "2. Ця вкладена функція має посилатися на змінну, визначену всередині функції, що охоплює.\n",
    "3. Функція охоплення має повертати вкладену функцію."
   ],
   "metadata": {
    "collapsed": false
   }
  },
  {
   "cell_type": "markdown",
   "source": [
    "Чому ми повинні використовувати закриття?\n",
    "1. Закриття забезпечують де-який вид приховування даних,\n",
    "оскільки вони використовуються як функції зворотного виклику.\n",
    "2. Це допомагає нам зменшити використання глобальних змінних.\n",
    "3. Корисно для заміни жорстко закодованих констант\n",
    "4. Замикання виявляються ефективним способом, коли у нашому коді мало функцій."
   ],
   "metadata": {
    "collapsed": false
   }
  }
 ],
 "metadata": {
  "kernelspec": {
   "display_name": "Python 3",
   "language": "python",
   "name": "python3"
  },
  "language_info": {
   "codemirror_mode": {
    "name": "ipython",
    "version": 2
   },
   "file_extension": ".py",
   "mimetype": "text/x-python",
   "name": "python",
   "nbconvert_exporter": "python",
   "pygments_lexer": "ipython2",
   "version": "2.7.6"
  }
 },
 "nbformat": 4,
 "nbformat_minor": 0
}
