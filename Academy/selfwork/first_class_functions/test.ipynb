{
 "cells": [
  {
   "cell_type": "code",
   "execution_count": 185,
   "metadata": {
    "collapsed": true
   },
   "outputs": [],
   "source": [
    "def outside(func):\n",
    "    def inside(x):\n",
    "        x **= 2\n",
    "        return func(x)\n",
    "    return inside"
   ]
  },
  {
   "cell_type": "code",
   "execution_count": 6,
   "outputs": [],
   "source": [
    "def add_5(n): return n + 5"
   ],
   "metadata": {
    "collapsed": false
   }
  },
  {
   "cell_type": "code",
   "execution_count": 7,
   "outputs": [],
   "source": [
    "result = outside(add_5)"
   ],
   "metadata": {
    "collapsed": false
   }
  },
  {
   "cell_type": "code",
   "execution_count": 8,
   "outputs": [
    {
     "name": "stdout",
     "output_type": "stream",
     "text": [
      "105\n"
     ]
    }
   ],
   "source": [
    "print(result(10))"
   ],
   "metadata": {
    "collapsed": false
   }
  },
  {
   "cell_type": "code",
   "execution_count": 9,
   "outputs": [],
   "source": [
    "f = outside"
   ],
   "metadata": {
    "collapsed": false
   }
  },
  {
   "cell_type": "code",
   "execution_count": 15,
   "outputs": [],
   "source": [
    "def quarry_function(func, *args, **kwargs):\n",
    "    print(func.__name__)\n",
    "    print(func(*args, **kwargs))\n",
    "    return func(*args, **kwargs)"
   ],
   "metadata": {
    "collapsed": false
   }
  },
  {
   "cell_type": "code",
   "execution_count": 16,
   "outputs": [
    {
     "name": "stdout",
     "output_type": "stream",
     "text": [
      "inside\n",
      "6\n"
     ]
    }
   ],
   "source": [
    "func1 = quarry_function(result, 1)"
   ],
   "metadata": {
    "collapsed": false
   }
  },
  {
   "cell_type": "code",
   "execution_count": 53,
   "outputs": [],
   "source": [
    "def f_arg_(*args_, **kwargs_):\n",
    "        print(args_, kwargs_)\n",
    "        return"
   ],
   "metadata": {
    "collapsed": false
   }
  },
  {
   "cell_type": "code",
   "execution_count": 50,
   "outputs": [
    {
     "name": "stdout",
     "output_type": "stream",
     "text": [
      "(1,) {}\n"
     ]
    },
    {
     "data": {
      "text/plain": "((1,), {})"
     },
     "execution_count": 50,
     "metadata": {},
     "output_type": "execute_result"
    }
   ],
   "source": [
    "f_arg_(1)"
   ],
   "metadata": {
    "collapsed": false
   }
  },
  {
   "cell_type": "code",
   "execution_count": 183,
   "outputs": [],
   "source": [
    "def access_function(f_out, arg=None):\n",
    "    \"\"\"The function to access a function inside a function\"\"\"\n",
    "    f_in = f_out(lambda x: x)\n",
    "    print(f'Функція <{f_out.__name__}> містить в собі функцію <{f_in.__name__}>')\n",
    "    if arg:\n",
    "        print(f'Результат виклику функції {f_in.__name__}({arg}) =  {f_in(arg)}')\n",
    "        res = f_in(arg)\n",
    "    else:\n",
    "        print(f'Результат виклику функції {f_in.__name__}() = ', end='')\n",
    "        res = f_in()\n",
    "    return res"
   ],
   "metadata": {
    "collapsed": false
   }
  },
  {
   "cell_type": "code",
   "execution_count": 178,
   "outputs": [
    {
     "name": "stdout",
     "output_type": "stream",
     "text": [
      "Функція <outside> містить в собі функцію <inside>\n",
      "Результат виклику функції inside(3) =  9\n"
     ]
    },
    {
     "data": {
      "text/plain": "9"
     },
     "execution_count": 178,
     "metadata": {},
     "output_type": "execute_result"
    }
   ],
   "source": [
    "access_function(outside, 3)"
   ],
   "metadata": {
    "collapsed": false
   }
  },
  {
   "cell_type": "code",
   "execution_count": 179,
   "outputs": [
    {
     "name": "stdout",
     "output_type": "stream",
     "text": [
      "HERE: PYTHON BEETROOT!\n"
     ]
    }
   ],
   "source": [
    "def upper(text):\n",
    "    return text.upper()\n",
    "\n",
    "def lower(text):\n",
    "    return text.lower()\n",
    "\n",
    "def printer(func):\n",
    "    def adder(text):\n",
    "        res = 'Here: ' + text + '!'\n",
    "        return func(res)\n",
    "    return adder\n",
    "\n",
    "texter = printer(upper)\n",
    "print(texter('Python Beetroot'))"
   ],
   "metadata": {
    "collapsed": false
   }
  },
  {
   "cell_type": "code",
   "execution_count": 180,
   "outputs": [
    {
     "name": "stdout",
     "output_type": "stream",
     "text": [
      "Функція <printer> містить в собі функцію <adder>\n",
      "Результат виклику функції adder(task) =  Here: task!\n"
     ]
    },
    {
     "data": {
      "text/plain": "'Here: task!'"
     },
     "execution_count": 180,
     "metadata": {},
     "output_type": "execute_result"
    }
   ],
   "source": [
    "access_function(printer, 'task')"
   ],
   "metadata": {
    "collapsed": false
   }
  },
  {
   "cell_type": "code",
   "execution_count": 181,
   "outputs": [
    {
     "name": "stdout",
     "output_type": "stream",
     "text": [
      "I am simple printer!\n",
      "Hello, I am simple printer!\n"
     ]
    }
   ],
   "source": [
    "def simpl_printer():\n",
    "    return 'I am simple printer!'\n",
    "\n",
    "def decor_print(func):\n",
    "    def decor():\n",
    "        print('Hello, ', end = '')\n",
    "        return func\n",
    "    return decor\n",
    "\n",
    "print(simpl_printer())\n",
    "print(decor_print(simpl_printer)()())"
   ],
   "metadata": {
    "collapsed": false
   }
  },
  {
   "cell_type": "code",
   "execution_count": 184,
   "outputs": [
    {
     "name": "stdout",
     "output_type": "stream",
     "text": [
      "Функція <decor_print> містить в собі функцію <decor>\n",
      "Результат виклику функції decor() = Hello, "
     ]
    },
    {
     "data": {
      "text/plain": "<function __main__.access_function.<locals>.<lambda>(x)>"
     },
     "execution_count": 184,
     "metadata": {},
     "output_type": "execute_result"
    }
   ],
   "source": [
    "access_function(decor_print)"
   ],
   "metadata": {
    "collapsed": false
   }
  }
 ],
 "metadata": {
  "kernelspec": {
   "display_name": "Python 3",
   "language": "python",
   "name": "python3"
  },
  "language_info": {
   "codemirror_mode": {
    "name": "ipython",
    "version": 2
   },
   "file_extension": ".py",
   "mimetype": "text/x-python",
   "name": "python",
   "nbconvert_exporter": "python",
   "pygments_lexer": "ipython2",
   "version": "2.7.6"
  }
 },
 "nbformat": 4,
 "nbformat_minor": 0
}
