{
 "cells": [
  {
   "cell_type": "code",
   "execution_count": 79,
   "outputs": [],
   "source": [
    "import doctest"
   ],
   "metadata": {
    "collapsed": false
   }
  },
  {
   "cell_type": "code",
   "execution_count": 80,
   "outputs": [],
   "source": [
    "def square(x):\n",
    "    \"\"\"Return the square of x.\n",
    "\n",
    "    >>> square(2)\n",
    "    4\n",
    "    >>> square(-2)\n",
    "    4\n",
    "    \"\"\"\n",
    "\n",
    "    return x * x"
   ],
   "metadata": {
    "collapsed": false
   }
  },
  {
   "cell_type": "code",
   "execution_count": 81,
   "outputs": [
    {
     "data": {
      "text/plain": "TestResults(failed=0, attempted=20)"
     },
     "execution_count": 81,
     "metadata": {},
     "output_type": "execute_result"
    }
   ],
   "source": [
    "doctest.testmod()"
   ],
   "metadata": {
    "collapsed": false
   }
  },
  {
   "cell_type": "code",
   "execution_count": 82,
   "outputs": [],
   "source": [
    "def add(a, b):\n",
    "    \"\"\"Compute and return the sum of two numbers.\n",
    "\n",
    "    Usage examples:\n",
    "    >>> add(4.0, 2.0)\n",
    "    6.0\n",
    "    >>> add(4, 2)\n",
    "    6.0\n",
    "    \"\"\"\n",
    "    return float(a + b)"
   ],
   "metadata": {
    "collapsed": false
   }
  },
  {
   "cell_type": "code",
   "execution_count": 83,
   "outputs": [
    {
     "data": {
      "text/plain": "TestResults(failed=0, attempted=20)"
     },
     "execution_count": 83,
     "metadata": {},
     "output_type": "execute_result"
    }
   ],
   "source": [
    "doctest.testmod()"
   ],
   "metadata": {
    "collapsed": false
   }
  },
  {
   "cell_type": "code",
   "execution_count": 84,
   "metadata": {
    "collapsed": true
   },
   "outputs": [],
   "source": [
    "# printed_output.py\n",
    "def greet(name=\"World\"):\n",
    "    \"\"\"Print a greeting to the screen.\n",
    "\n",
    "    Usage examples:\n",
    "    >>> greet(\"Pythonista\")\n",
    "    Hello, Pythonista!\n",
    "    >>> greet()\n",
    "    Hello, World!\n",
    "    \"\"\"\n",
    "    print(f\"Hello, {name}!\")"
   ]
  },
  {
   "cell_type": "code",
   "execution_count": 85,
   "outputs": [
    {
     "data": {
      "text/plain": "TestResults(failed=0, attempted=21)"
     },
     "execution_count": 85,
     "metadata": {},
     "output_type": "execute_result"
    }
   ],
   "source": [
    "doctest.testmod()"
   ],
   "metadata": {
    "collapsed": false
   }
  },
  {
   "cell_type": "code",
   "execution_count": 86,
   "outputs": [],
   "source": [
    "# calculations.py\n",
    "# ...\n",
    "\n",
    "def divide(a, b):\n",
    "    \"\"\"Compute and return the quotient of two numbers.\n",
    "\n",
    "    Usage examples:\n",
    "    >>> divide(84, 2)\n",
    "    42.0\n",
    "    >>> divide(15, 3)\n",
    "    5.0\n",
    "    >>> divide(42, -2)\n",
    "    -21.0\n",
    "\n",
    "    >>> divide(42, 0)\n",
    "    Traceback (most recent call last):\n",
    "    ZeroDivisionError: division by zero\n",
    "    \"\"\"\n",
    "    return float(a / b)"
   ],
   "metadata": {
    "collapsed": false
   }
  },
  {
   "cell_type": "code",
   "execution_count": 87,
   "outputs": [
    {
     "data": {
      "text/plain": "TestResults(failed=0, attempted=21)"
     },
     "execution_count": 87,
     "metadata": {},
     "output_type": "execute_result"
    }
   ],
   "source": [
    "doctest.testmod()"
   ],
   "metadata": {
    "collapsed": false
   }
  },
  {
   "cell_type": "code",
   "execution_count": 88,
   "outputs": [],
   "source": [
    "# queue.py\n",
    "\n",
    "from collections import deque\n",
    "\n",
    "class Queue:\n",
    "    def __init__(self):\n",
    "        self._elements = deque()\n",
    "\n",
    "    def enqueue(self, element):\n",
    "        \"\"\"Add items to the right end of the queue.\n",
    "\n",
    "        >>> numbers = Queue()\n",
    "        >>> numbers\n",
    "        Queue([])\n",
    "\n",
    "        >>> for number in range(1, 4):\n",
    "        ...     numbers.enqueue(number)\n",
    "\n",
    "        >>> numbers\n",
    "        Queue([1, 2, 3])\n",
    "        \"\"\"\n",
    "        self._elements.append(element)\n",
    "\n",
    "    def dequeue(self):\n",
    "        \"\"\"Remove and return an item from the left end of the queue.\n",
    "\n",
    "        >>> numbers = Queue()\n",
    "        >>> for number in range(1, 4):\n",
    "        ...     numbers.enqueue(number)\n",
    "        >>> numbers\n",
    "        Queue([1, 2, 3])\n",
    "\n",
    "        >>> numbers.dequeue()\n",
    "        1\n",
    "        >>> numbers.dequeue()\n",
    "        2\n",
    "        >>> numbers.dequeue()\n",
    "        3\n",
    "        >>> numbers\n",
    "        Queue([])\n",
    "        \"\"\"\n",
    "        return self._elements.popleft()\n",
    "\n",
    "    def __repr__(self):\n",
    "        return f\"{type(self).__name__}({list(self._elements)})\""
   ],
   "metadata": {
    "collapsed": false
   }
  },
  {
   "cell_type": "code",
   "execution_count": 89,
   "outputs": [
    {
     "data": {
      "text/plain": "TestResults(failed=0, attempted=21)"
     },
     "execution_count": 89,
     "metadata": {},
     "output_type": "execute_result"
    }
   ],
   "source": [
    "doctest.testmod()"
   ],
   "metadata": {
    "collapsed": false
   }
  },
  {
   "cell_type": "code",
   "execution_count": 90,
   "outputs": [],
   "source": [
    "# greet.py\n",
    "\n",
    "def greet(name=\"World\"):\n",
    "    \"\"\"Print a greeting.\n",
    "\n",
    "    Usage examples:\n",
    "    >>> greet(\"Pythonista\")\n",
    "    Hello, Pythonista!\n",
    "    <BLANKLINE>\n",
    "    How have you been?\n",
    "    \"\"\"\n",
    "    print(f\"Hello, {name}!\")\n",
    "    print()\n",
    "    print(\"How have you been?\")"
   ],
   "metadata": {
    "collapsed": false
   }
  },
  {
   "cell_type": "code",
   "execution_count": 91,
   "outputs": [
    {
     "data": {
      "text/plain": "TestResults(failed=0, attempted=20)"
     },
     "execution_count": 91,
     "metadata": {},
     "output_type": "execute_result"
    }
   ],
   "source": [
    "doctest.testmod()"
   ],
   "metadata": {
    "collapsed": false
   }
  },
  {
   "cell_type": "code",
   "execution_count": 92,
   "outputs": [],
   "source": [
    "# greet.py\n",
    "\n",
    "def greet(name=\"World\"):\n",
    "    r\"\"\"Print a greeting.\n",
    "\n",
    "    Usage examples:\n",
    "    >>> greet(\"Pythonista\")\n",
    "    /== Hello, Pythonista! ==\\\n",
    "    \\== How have you been? ==/\n",
    "    \"\"\"\n",
    "    print(f\"/== Hello, {name}! ==\\\\\")\n",
    "    print(\"\\\\== How have you been? ==/\")"
   ],
   "metadata": {
    "collapsed": false
   }
  },
  {
   "cell_type": "code",
   "execution_count": 93,
   "outputs": [
    {
     "data": {
      "text/plain": "TestResults(failed=0, attempted=20)"
     },
     "execution_count": 93,
     "metadata": {},
     "output_type": "execute_result"
    }
   ],
   "source": [
    "doctest.testmod()"
   ],
   "metadata": {
    "collapsed": false
   }
  },
  {
   "cell_type": "markdown",
   "source": [
    "# Далі дивитися: https://realpython.com/python-doctest/"
   ],
   "metadata": {
    "collapsed": false
   }
  }
 ],
 "metadata": {
  "kernelspec": {
   "display_name": "Python 3",
   "language": "python",
   "name": "python3"
  },
  "language_info": {
   "codemirror_mode": {
    "name": "ipython",
    "version": 2
   },
   "file_extension": ".py",
   "mimetype": "text/x-python",
   "name": "python",
   "nbconvert_exporter": "python",
   "pygments_lexer": "ipython2",
   "version": "2.7.6"
  }
 },
 "nbformat": 4,
 "nbformat_minor": 0
}
