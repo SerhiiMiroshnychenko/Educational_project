{
 "cells": [
  {
   "cell_type": "code",
   "execution_count": 96,
   "metadata": {
    "collapsed": true
   },
   "outputs": [],
   "source": [
    "class TypeDecorators:\n",
    "\n",
    "\n",
    "    @staticmethod\n",
    "    def to_int(func):\n",
    "        def inner(*args):\n",
    "            try:\n",
    "                return int(func(*args))\n",
    "            except Exception as e:\n",
    "                print(e.__class__, e)\n",
    "                return None\n",
    "        return inner\n",
    "\n",
    "    @staticmethod\n",
    "    def to_str(func):\n",
    "        def inner(*args):\n",
    "            try:\n",
    "                return str(func(*args))\n",
    "            except Exception as e:\n",
    "                print(e.__class__, e)\n",
    "                return None\n",
    "        return inner\n",
    "\n",
    "    @staticmethod\n",
    "    def to_bool(func):\n",
    "        def inner(*args):\n",
    "            try:\n",
    "                return bool(func(*args))\n",
    "            except Exception as e:\n",
    "                print(e.__class__, e)\n",
    "                return None\n",
    "        return inner\n",
    "\n",
    "    @staticmethod\n",
    "    def to_float(func):\n",
    "        def inner(*args):\n",
    "            try:\n",
    "                return float(func(*args))\n",
    "            except Exception as e:\n",
    "                print(e.__class__, e)\n",
    "                return None\n",
    "        return inner\n"
   ]
  },
  {
   "cell_type": "code",
   "execution_count": 97,
   "outputs": [],
   "source": [
    "@TypeDecorators.to_int\n",
    "def do_nothing(string: str):\n",
    "    return string"
   ],
   "metadata": {
    "collapsed": false
   }
  },
  {
   "cell_type": "code",
   "execution_count": 98,
   "outputs": [
    {
     "name": "stdout",
     "output_type": "stream",
     "text": [
      "25\n",
      "<class 'int'>\n"
     ]
    }
   ],
   "source": [
    "print(x:=do_nothing('25'))\n",
    "print(type(x))"
   ],
   "metadata": {
    "collapsed": false
   }
  },
  {
   "cell_type": "code",
   "execution_count": 99,
   "outputs": [],
   "source": [
    "@TypeDecorators.to_bool\n",
    "def do_something(string: str):\n",
    "    return string"
   ],
   "metadata": {
    "collapsed": false
   }
  },
  {
   "cell_type": "code",
   "execution_count": 100,
   "outputs": [
    {
     "name": "stdout",
     "output_type": "stream",
     "text": [
      "True\n",
      "<class 'bool'>\n"
     ]
    }
   ],
   "source": [
    "print(x:=do_something('True'))\n",
    "print(type(x))"
   ],
   "metadata": {
    "collapsed": false
   }
  },
  {
   "cell_type": "code",
   "execution_count": 101,
   "outputs": [],
   "source": [
    "@TypeDecorators.to_int\n",
    "def adds(a, b):\n",
    "    return a + b"
   ],
   "metadata": {
    "collapsed": false
   }
  },
  {
   "cell_type": "code",
   "execution_count": 102,
   "outputs": [
    {
     "name": "stdout",
     "output_type": "stream",
     "text": [
      "11\n",
      "<class 'int'>\n"
     ]
    }
   ],
   "source": [
    "print(x:=adds(0.5, 10.5))\n",
    "print(type(x))"
   ],
   "metadata": {
    "collapsed": false
   }
  },
  {
   "cell_type": "code",
   "execution_count": 103,
   "outputs": [],
   "source": [
    "@TypeDecorators.to_float\n",
    "def adds(a, b):\n",
    "    return a + b"
   ],
   "metadata": {
    "collapsed": false
   }
  },
  {
   "cell_type": "code",
   "execution_count": 104,
   "outputs": [
    {
     "name": "stdout",
     "output_type": "stream",
     "text": [
      "33.0\n",
      "<class 'float'>\n"
     ]
    }
   ],
   "source": [
    "print(x:=adds(11, 22))\n",
    "print(type(x))"
   ],
   "metadata": {
    "collapsed": false
   }
  },
  {
   "cell_type": "code",
   "execution_count": 105,
   "outputs": [],
   "source": [
    "@TypeDecorators.to_str\n",
    "def adds(a, b):\n",
    "    return a + b"
   ],
   "metadata": {
    "collapsed": false
   }
  },
  {
   "cell_type": "code",
   "execution_count": 106,
   "outputs": [
    {
     "name": "stdout",
     "output_type": "stream",
     "text": [
      "23.0\n",
      "<class 'str'>\n"
     ]
    }
   ],
   "source": [
    "print(x:=adds(1.0, 22))\n",
    "print(type(x))"
   ],
   "metadata": {
    "collapsed": false
   }
  },
  {
   "cell_type": "code",
   "execution_count": 107,
   "outputs": [],
   "source": [
    "@TypeDecorators.to_bool\n",
    "def adds(a, b):\n",
    "    return a + b"
   ],
   "metadata": {
    "collapsed": false
   }
  },
  {
   "cell_type": "code",
   "execution_count": 108,
   "outputs": [
    {
     "name": "stdout",
     "output_type": "stream",
     "text": [
      "True\n",
      "<class 'bool'>\n"
     ]
    }
   ],
   "source": [
    "print(x:=adds(1.0, 22))\n",
    "print(type(x))"
   ],
   "metadata": {
    "collapsed": false
   }
  },
  {
   "cell_type": "code",
   "execution_count": 109,
   "outputs": [
    {
     "name": "stdout",
     "output_type": "stream",
     "text": [
      "False\n",
      "<class 'bool'>\n"
     ]
    }
   ],
   "source": [
    "print(x:=adds(1.0, -1))\n",
    "print(type(x))"
   ],
   "metadata": {
    "collapsed": false
   }
  }
 ],
 "metadata": {
  "kernelspec": {
   "display_name": "Python 3",
   "language": "python",
   "name": "python3"
  },
  "language_info": {
   "codemirror_mode": {
    "name": "ipython",
    "version": 2
   },
   "file_extension": ".py",
   "mimetype": "text/x-python",
   "name": "python",
   "nbconvert_exporter": "python",
   "pygments_lexer": "ipython2",
   "version": "2.7.6"
  }
 },
 "nbformat": 4,
 "nbformat_minor": 0
}
