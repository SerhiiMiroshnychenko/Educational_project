{
 "cells": [
  {
   "cell_type": "code",
   "execution_count": 2,
   "metadata": {
    "collapsed": true
   },
   "outputs": [
    {
     "name": "stdout",
     "output_type": "stream",
     "text": [
      "info@sololearn.com\n"
     ]
    }
   ],
   "source": [
    "import re\n",
    "\n",
    "str1 = \"Please contact info@sololearn.com for assistance\"\n",
    "pattern = r\"([\\w\\.-]+)@([\\w\\.-]+)(\\.[\\w\\.]+)\"\n",
    "if match := re.search(pattern, str1):\n",
    "    print(match.group())"
   ]
  },
  {
   "cell_type": "code",
   "execution_count": 3,
   "outputs": [
    {
     "name": "stdout",
     "output_type": "stream",
     "text": [
      "info@sololearn.com\n"
     ]
    }
   ],
   "source": [
    "str1 = \"Please contact info@sololearn.com for assistance\"\n",
    "pattern = r\"([\\w\\.-]+)@([\\w\\.-]+)(\\.[\\w]+)\"\n",
    "if match := re.search(pattern, str1):\n",
    "    print(match.group())"
   ],
   "metadata": {
    "collapsed": false
   }
  },
  {
   "cell_type": "code",
   "execution_count": 4,
   "outputs": [
    {
     "name": "stdout",
     "output_type": "stream",
     "text": [
      "i-n._fo@sololearn.com.au\n"
     ]
    }
   ],
   "source": [
    "pattern = r\"([\\w\\S]+)@([\\w\\S]+)\"\n",
    "str1 = \"Please contact i-n._fo@sololearn.com.au for assistance\"\n",
    "if match := re.search(pattern, str1):\n",
    "    print(match.group())"
   ],
   "metadata": {
    "collapsed": false
   }
  },
  {
   "cell_type": "code",
   "execution_count": 5,
   "outputs": [
    {
     "ename": "error",
     "evalue": "bad character range +-  at position 15",
     "output_type": "error",
     "traceback": [
      "\u001B[1;31m---------------------------------------------------------------------------\u001B[0m",
      "\u001B[1;31merror\u001B[0m                                     Traceback (most recent call last)",
      "Cell \u001B[1;32mIn [5], line 3\u001B[0m\n\u001B[0;32m      1\u001B[0m pattern \u001B[38;5;241m=\u001B[39m \u001B[38;5;124mr\u001B[39m\u001B[38;5;124m\"\u001B[39m\u001B[38;5;124m ^ [ AZ 0-9 ._\u001B[39m\u001B[38;5;124m%\u001B[39m\u001B[38;5;124m+- ] + @ [ AZ 0-9 . - ] + \u001B[39m\u001B[38;5;124m\\\u001B[39m\u001B[38;5;124m. [ AZ ] \u001B[39m\u001B[38;5;124m{\u001B[39m\u001B[38;5;124m2,} $\u001B[39m\u001B[38;5;124m\"\u001B[39m\n\u001B[0;32m      2\u001B[0m str1 \u001B[38;5;241m=\u001B[39m \u001B[38;5;124m\"\u001B[39m\u001B[38;5;124mPlease contact i-n._fo@sololearn.com.au for assistance\u001B[39m\u001B[38;5;124m\"\u001B[39m\n\u001B[1;32m----> 3\u001B[0m \u001B[38;5;28;01mif\u001B[39;00m match \u001B[38;5;241m:=\u001B[39m \u001B[43mre\u001B[49m\u001B[38;5;241;43m.\u001B[39;49m\u001B[43msearch\u001B[49m\u001B[43m(\u001B[49m\u001B[43mpattern\u001B[49m\u001B[43m,\u001B[49m\u001B[43m \u001B[49m\u001B[43mstr1\u001B[49m\u001B[43m)\u001B[49m:\n\u001B[0;32m      4\u001B[0m     \u001B[38;5;28mprint\u001B[39m(match\u001B[38;5;241m.\u001B[39mgroup())\n",
      "File \u001B[1;32m~\\AppData\\Local\\Programs\\Python\\Python311\\Lib\\re\\__init__.py:176\u001B[0m, in \u001B[0;36msearch\u001B[1;34m(pattern, string, flags)\u001B[0m\n\u001B[0;32m    173\u001B[0m \u001B[38;5;28;01mdef\u001B[39;00m \u001B[38;5;21msearch\u001B[39m(pattern, string, flags\u001B[38;5;241m=\u001B[39m\u001B[38;5;241m0\u001B[39m):\n\u001B[0;32m    174\u001B[0m     \u001B[38;5;124;03m\"\"\"Scan through string looking for a match to the pattern, returning\u001B[39;00m\n\u001B[0;32m    175\u001B[0m \u001B[38;5;124;03m    a Match object, or None if no match was found.\"\"\"\u001B[39;00m\n\u001B[1;32m--> 176\u001B[0m     \u001B[38;5;28;01mreturn\u001B[39;00m \u001B[43m_compile\u001B[49m\u001B[43m(\u001B[49m\u001B[43mpattern\u001B[49m\u001B[43m,\u001B[49m\u001B[43m \u001B[49m\u001B[43mflags\u001B[49m\u001B[43m)\u001B[49m\u001B[38;5;241m.\u001B[39msearch(string)\n",
      "File \u001B[1;32m~\\AppData\\Local\\Programs\\Python\\Python311\\Lib\\re\\__init__.py:294\u001B[0m, in \u001B[0;36m_compile\u001B[1;34m(pattern, flags)\u001B[0m\n\u001B[0;32m    288\u001B[0m     \u001B[38;5;28;01mimport\u001B[39;00m \u001B[38;5;21;01mwarnings\u001B[39;00m\n\u001B[0;32m    289\u001B[0m     warnings\u001B[38;5;241m.\u001B[39mwarn(\u001B[38;5;124m\"\u001B[39m\u001B[38;5;124mThe re.TEMPLATE/re.T flag is deprecated \u001B[39m\u001B[38;5;124m\"\u001B[39m\n\u001B[0;32m    290\u001B[0m               \u001B[38;5;124m\"\u001B[39m\u001B[38;5;124mas it is an undocumented flag \u001B[39m\u001B[38;5;124m\"\u001B[39m\n\u001B[0;32m    291\u001B[0m               \u001B[38;5;124m\"\u001B[39m\u001B[38;5;124mwithout an obvious purpose. \u001B[39m\u001B[38;5;124m\"\u001B[39m\n\u001B[0;32m    292\u001B[0m               \u001B[38;5;124m\"\u001B[39m\u001B[38;5;124mDon\u001B[39m\u001B[38;5;124m'\u001B[39m\u001B[38;5;124mt use it.\u001B[39m\u001B[38;5;124m\"\u001B[39m,\n\u001B[0;32m    293\u001B[0m               \u001B[38;5;167;01mDeprecationWarning\u001B[39;00m)\n\u001B[1;32m--> 294\u001B[0m p \u001B[38;5;241m=\u001B[39m \u001B[43m_compiler\u001B[49m\u001B[38;5;241;43m.\u001B[39;49m\u001B[43mcompile\u001B[49m\u001B[43m(\u001B[49m\u001B[43mpattern\u001B[49m\u001B[43m,\u001B[49m\u001B[43m \u001B[49m\u001B[43mflags\u001B[49m\u001B[43m)\u001B[49m\n\u001B[0;32m    295\u001B[0m \u001B[38;5;28;01mif\u001B[39;00m \u001B[38;5;129;01mnot\u001B[39;00m (flags \u001B[38;5;241m&\u001B[39m DEBUG):\n\u001B[0;32m    296\u001B[0m     \u001B[38;5;28;01mif\u001B[39;00m \u001B[38;5;28mlen\u001B[39m(_cache) \u001B[38;5;241m>\u001B[39m\u001B[38;5;241m=\u001B[39m _MAXCACHE:\n\u001B[0;32m    297\u001B[0m         \u001B[38;5;66;03m# Drop the oldest item\u001B[39;00m\n",
      "File \u001B[1;32m~\\AppData\\Local\\Programs\\Python\\Python311\\Lib\\re\\_compiler.py:743\u001B[0m, in \u001B[0;36mcompile\u001B[1;34m(p, flags)\u001B[0m\n\u001B[0;32m    741\u001B[0m \u001B[38;5;28;01mif\u001B[39;00m isstring(p):\n\u001B[0;32m    742\u001B[0m     pattern \u001B[38;5;241m=\u001B[39m p\n\u001B[1;32m--> 743\u001B[0m     p \u001B[38;5;241m=\u001B[39m \u001B[43m_parser\u001B[49m\u001B[38;5;241;43m.\u001B[39;49m\u001B[43mparse\u001B[49m\u001B[43m(\u001B[49m\u001B[43mp\u001B[49m\u001B[43m,\u001B[49m\u001B[43m \u001B[49m\u001B[43mflags\u001B[49m\u001B[43m)\u001B[49m\n\u001B[0;32m    744\u001B[0m \u001B[38;5;28;01melse\u001B[39;00m:\n\u001B[0;32m    745\u001B[0m     pattern \u001B[38;5;241m=\u001B[39m \u001B[38;5;28;01mNone\u001B[39;00m\n",
      "File \u001B[1;32m~\\AppData\\Local\\Programs\\Python\\Python311\\Lib\\re\\_parser.py:980\u001B[0m, in \u001B[0;36mparse\u001B[1;34m(str, flags, state)\u001B[0m\n\u001B[0;32m    977\u001B[0m state\u001B[38;5;241m.\u001B[39mflags \u001B[38;5;241m=\u001B[39m flags\n\u001B[0;32m    978\u001B[0m state\u001B[38;5;241m.\u001B[39mstr \u001B[38;5;241m=\u001B[39m \u001B[38;5;28mstr\u001B[39m\n\u001B[1;32m--> 980\u001B[0m p \u001B[38;5;241m=\u001B[39m \u001B[43m_parse_sub\u001B[49m\u001B[43m(\u001B[49m\u001B[43msource\u001B[49m\u001B[43m,\u001B[49m\u001B[43m \u001B[49m\u001B[43mstate\u001B[49m\u001B[43m,\u001B[49m\u001B[43m \u001B[49m\u001B[43mflags\u001B[49m\u001B[43m \u001B[49m\u001B[38;5;241;43m&\u001B[39;49m\u001B[43m \u001B[49m\u001B[43mSRE_FLAG_VERBOSE\u001B[49m\u001B[43m,\u001B[49m\u001B[43m \u001B[49m\u001B[38;5;241;43m0\u001B[39;49m\u001B[43m)\u001B[49m\n\u001B[0;32m    981\u001B[0m p\u001B[38;5;241m.\u001B[39mstate\u001B[38;5;241m.\u001B[39mflags \u001B[38;5;241m=\u001B[39m fix_flags(\u001B[38;5;28mstr\u001B[39m, p\u001B[38;5;241m.\u001B[39mstate\u001B[38;5;241m.\u001B[39mflags)\n\u001B[0;32m    983\u001B[0m \u001B[38;5;28;01mif\u001B[39;00m source\u001B[38;5;241m.\u001B[39mnext \u001B[38;5;129;01mis\u001B[39;00m \u001B[38;5;129;01mnot\u001B[39;00m \u001B[38;5;28;01mNone\u001B[39;00m:\n",
      "File \u001B[1;32m~\\AppData\\Local\\Programs\\Python\\Python311\\Lib\\re\\_parser.py:455\u001B[0m, in \u001B[0;36m_parse_sub\u001B[1;34m(source, state, verbose, nested)\u001B[0m\n\u001B[0;32m    453\u001B[0m start \u001B[38;5;241m=\u001B[39m source\u001B[38;5;241m.\u001B[39mtell()\n\u001B[0;32m    454\u001B[0m \u001B[38;5;28;01mwhile\u001B[39;00m \u001B[38;5;28;01mTrue\u001B[39;00m:\n\u001B[1;32m--> 455\u001B[0m     itemsappend(\u001B[43m_parse\u001B[49m\u001B[43m(\u001B[49m\u001B[43msource\u001B[49m\u001B[43m,\u001B[49m\u001B[43m \u001B[49m\u001B[43mstate\u001B[49m\u001B[43m,\u001B[49m\u001B[43m \u001B[49m\u001B[43mverbose\u001B[49m\u001B[43m,\u001B[49m\u001B[43m \u001B[49m\u001B[43mnested\u001B[49m\u001B[43m \u001B[49m\u001B[38;5;241;43m+\u001B[39;49m\u001B[43m \u001B[49m\u001B[38;5;241;43m1\u001B[39;49m\u001B[43m,\u001B[49m\n\u001B[0;32m    456\u001B[0m \u001B[43m                       \u001B[49m\u001B[38;5;129;43;01mnot\u001B[39;49;00m\u001B[43m \u001B[49m\u001B[43mnested\u001B[49m\u001B[43m \u001B[49m\u001B[38;5;129;43;01mand\u001B[39;49;00m\u001B[43m \u001B[49m\u001B[38;5;129;43;01mnot\u001B[39;49;00m\u001B[43m \u001B[49m\u001B[43mitems\u001B[49m\u001B[43m)\u001B[49m)\n\u001B[0;32m    457\u001B[0m     \u001B[38;5;28;01mif\u001B[39;00m \u001B[38;5;129;01mnot\u001B[39;00m sourcematch(\u001B[38;5;124m\"\u001B[39m\u001B[38;5;124m|\u001B[39m\u001B[38;5;124m\"\u001B[39m):\n\u001B[0;32m    458\u001B[0m         \u001B[38;5;28;01mbreak\u001B[39;00m\n",
      "File \u001B[1;32m~\\AppData\\Local\\Programs\\Python\\Python311\\Lib\\re\\_parser.py:612\u001B[0m, in \u001B[0;36m_parse\u001B[1;34m(source, state, verbose, nested, first)\u001B[0m\n\u001B[0;32m    610\u001B[0m     \u001B[38;5;28;01mif\u001B[39;00m hi \u001B[38;5;241m<\u001B[39m lo:\n\u001B[0;32m    611\u001B[0m         msg \u001B[38;5;241m=\u001B[39m \u001B[38;5;124m\"\u001B[39m\u001B[38;5;124mbad character range \u001B[39m\u001B[38;5;132;01m%s\u001B[39;00m\u001B[38;5;124m-\u001B[39m\u001B[38;5;132;01m%s\u001B[39;00m\u001B[38;5;124m\"\u001B[39m \u001B[38;5;241m%\u001B[39m (this, that)\n\u001B[1;32m--> 612\u001B[0m         \u001B[38;5;28;01mraise\u001B[39;00m source\u001B[38;5;241m.\u001B[39merror(msg, \u001B[38;5;28mlen\u001B[39m(this) \u001B[38;5;241m+\u001B[39m \u001B[38;5;241m1\u001B[39m \u001B[38;5;241m+\u001B[39m \u001B[38;5;28mlen\u001B[39m(that))\n\u001B[0;32m    613\u001B[0m     setappend((RANGE, (lo, hi)))\n\u001B[0;32m    614\u001B[0m \u001B[38;5;28;01melse\u001B[39;00m:\n",
      "\u001B[1;31merror\u001B[0m: bad character range +-  at position 15"
     ]
    }
   ],
   "source": [
    "pattern = r\" ^ [ AZ 0-9 ._%+- ] + @ [ AZ 0-9 . - ] + \\. [ AZ ] {2,} $\"\n",
    "str1 = \"Please contact i-n._fo@sololearn.com.au for assistance\"\n",
    "if match := re.search(pattern, str1):\n",
    "    print(match.group())"
   ],
   "metadata": {
    "collapsed": false
   }
  },
  {
   "cell_type": "code",
   "execution_count": null,
   "outputs": [],
   "source": [
    "str1 = \"Please contact info@sololearn.com for assistance\"\n",
    "pattern = r\"([\\w\\.-]+)@([\\w\\.-]+).(\\.[\\w\\.]+)\"\n",
    "if match := re.search(pattern, str1):\n",
    "    print(match.group())"
   ],
   "metadata": {
    "collapsed": false
   }
  },
  {
   "cell_type": "code",
   "execution_count": null,
   "outputs": [],
   "source": [
    "address = 'test@A12.ua'\n",
    "\n",
    "address_parts = address.split('@')\n",
    "\n",
    "checked = address.count('@') == 1\n",
    "\n",
    "# проверить наличие точки\n",
    "checked &= '.' in address_parts[1]\n",
    "\n",
    "# проверить наличие хотя бы одной буквы\n",
    "checked &= any(letter.isalpha() for letter in address_parts[1])\n",
    "\n",
    "# проверить наличие букв, цифр и точки\n",
    "checked &= all((letter.isalpha() or letter.isdigit() or letter == '.') for letter in address_parts[1])\n",
    "\n",
    "# ВНИМАНИЕ: в условии не сказано проверять блок до @, так что последнюю проверку можно удалить скорее всего\n",
    "# проверить наличие букв, цифр и точки\n",
    "checked &= all((letter.isalpha() or letter.isdigit() or letter == '.') for letter in address_parts[0])"
   ],
   "metadata": {
    "collapsed": false
   }
  },
  {
   "cell_type": "code",
   "execution_count": null,
   "outputs": [],
   "source": [
    "address = 'test@A14.ua'\n",
    "\n",
    "checked = True\n",
    "\n",
    "# проверить кол-во символов @\n",
    "symbols_count = sum(1 if i == '@' else 0 for i in address)\n",
    "\n",
    "checked &= symbols_count == 1\n",
    "\n",
    "# найти координату '@'\n",
    "symbol_pos = 0\n",
    "\n",
    "for pos in range(len(address)):\n",
    "    if address[pos] == '@':\n",
    "        symbol_pos = pos + 1\n",
    "        break\n",
    "\n",
    "# проверить наличие точки\n",
    "isDot = False\n",
    "for pos in range(symbol_pos, len(address)):\n",
    "    isDot |= address[pos] == '.'\n",
    "\n",
    "checked &= isDot\n",
    "\n",
    "# проверить наличие хотя бы одной буквы\n",
    "isAlpha = False\n",
    "for pos in range(symbol_pos, len(address)):\n",
    "    isAlpha |= ord('a') <= ord(address[pos]) <= ord('z') or ord('A') <= ord(address[pos]) <= ord('Z')\n",
    "\n",
    "checked &= isAlpha\n",
    "\n",
    "# проверить наличие букв, цифр и точки\n",
    "isLetters = True\n",
    "for pos in range(symbol_pos, len(address)):\n",
    "    isLetters &= ord('a') <= ord(address[pos]) <= ord('z') or ord('A') <= ord(address[pos]) <= ord('Z') or ord('0') <= ord(address[pos]) <= ord('9') or address[pos] == '.'\n",
    "\n",
    "checked &= isLetters\n",
    "\n",
    "print(checked)"
   ],
   "metadata": {
    "collapsed": false
   }
  },
  {
   "cell_type": "code",
   "execution_count": null,
   "outputs": [],
   "source": [
    "address = '@a.com'\n",
    "\n",
    "checked = True\n",
    "\n",
    "# проверить кол-во символов @\n",
    "symbols_count = 0\n",
    "\n",
    "for i in address:\n",
    "    symbols_count += 1 if i == '@' else 0\n",
    "\n",
    "checked &= symbols_count == 1\n",
    "\n",
    "# найти координату '@'\n",
    "symbol_pos = 0\n",
    "\n",
    "for pos in range(len(address)):\n",
    "    if address[pos] == '@':\n",
    "        symbol_pos = pos + 1\n",
    "        break\n",
    "\n",
    "# проверить наличие точки\n",
    "isDot = False\n",
    "for pos in range(symbol_pos, len(address)):\n",
    "    isDot |= address[pos] == '.'\n",
    "\n",
    "checked &= isDot\n",
    "\n",
    "# проанализировать блоки (расположенные между точками)\n",
    "start = symbol_pos\n",
    "for index in range(symbol_pos, len(address)):\n",
    "    if address[index] == '.' or index == len(address) - 1:\n",
    "        finish = index if address[index] == '.' else (index + 1)\n",
    "\n",
    "        # проверить наличие хотя бы одной буквы\n",
    "        isAlpha = False\n",
    "        for pos in range(start, finish):\n",
    "            isAlpha |= ord('a') <= ord(address[pos]) <= ord('z') or ord('A') <= ord(address[pos]) <= ord('Z')\n",
    "\n",
    "        checked &= isAlpha\n",
    "\n",
    "        # проверить наличие букв, цифр и точки\n",
    "        isLetters = True\n",
    "        for pos in range(start, finish):\n",
    "            isLetters &= ord('a') <= ord(address[pos]) <= ord('z') or ord('A') <= ord(address[pos]) <= ord('Z') or ord('0') <= ord(address[pos]) <= ord('9')\n",
    "\n",
    "        checked &= isLetters\n",
    "\n",
    "        start = index + 1\n",
    "\n",
    "print(checked)"
   ],
   "metadata": {
    "collapsed": false
   }
  },
  {
   "cell_type": "code",
   "execution_count": null,
   "outputs": [],
   "source": [
    "import re\n",
    "\n",
    "# Make a regular expression\n",
    "# for validating an Email\n",
    "regex = r'\\b[A-Za-z0-9._%+-]+@[A-Za-z0-9.-]+\\.[A-Z|a-z]{2,}\\b'\n",
    "\n",
    "# Define a function for\n",
    "# for validating an Email\n",
    "def check(email):\n",
    "\n",
    "    # pass the regular expression\n",
    "    # and the string into the fullmatch() method\n",
    "    if(re.fullmatch(regex, email)):\n",
    "        print(\"Valid Email\")\n",
    "\n",
    "    else:\n",
    "        print(\"Invalid Email\")\n",
    "\n",
    "# Driver Code\n",
    "if __name__ == '__main__':\n",
    "\n",
    "    # Enter the email\n",
    "    email = \"ankitrai326@gmail.com\"\n",
    "\n",
    "    # calling run function\n",
    "    check(email)\n",
    "\n",
    "    email = \"my.ownsite@our-earth.org\"\n",
    "    check(email)\n",
    "\n",
    "    email = \"ankitrai326.com\"\n",
    "    check(email)"
   ],
   "metadata": {
    "collapsed": false
   }
  },
  {
   "cell_type": "code",
   "execution_count": null,
   "outputs": [],
   "source": [
    "import re\n",
    "\n",
    "# Define a function for\n",
    "# for validating an Email\n",
    "def check(s):\n",
    "    pat = r'\\b[A-Za-z0-9._%+-]+@[A-Za-z0-9.-]+\\.[A-Z|a-z]{2,}\\b'\n",
    "    if re.match(pat,s):\n",
    "        print(\"Valid Email\")\n",
    "    else:\n",
    "        print(\"Invalid Email\")\n",
    "\n",
    "# Driver Code\n",
    "if __name__ == '__main__':\n",
    "\n",
    "    # Enter the email\n",
    "    email = \"ankitrai326@gmail.com\"\n",
    "\n",
    "    # calling run function\n",
    "    check(email)\n",
    "\n",
    "    email = \"my.ownsite@our-earth.org\"\n",
    "    check(email)\n",
    "\n",
    "    email = \"ankitrai326.com\"\n",
    "    check(email)"
   ],
   "metadata": {
    "collapsed": false
   }
  },
  {
   "cell_type": "code",
   "execution_count": null,
   "outputs": [],
   "source": [
    "from email_validator import validate_email, EmailNotValidError\n",
    "\n",
    "def check(email):\n",
    "    try:\n",
    "      # validate and get info\n",
    "        v = validate_email(email)\n",
    "        # replace with normalized form\n",
    "        email = v[\"email\"]\n",
    "        print(\"True\")\n",
    "    except EmailNotValidError as e:\n",
    "        # email is not valid, exception message is human-readable\n",
    "        print(e)\n",
    "\n",
    "check(\"my.ownsite@our-earth.org\")\n",
    "\n",
    "check(\"ankitrai326.com\")"
   ],
   "metadata": {
    "collapsed": false
   }
  },
  {
   "cell_type": "code",
   "execution_count": null,
   "outputs": [],
   "source": [
    "import re\n",
    "a = open(\"a.txt\", \"r\")\n",
    "# c=a.readlines()\n",
    "b = a.read()\n",
    "c = b.split(\"\\n\")\n",
    "for d in c:\n",
    "    if obj := re.search(r'[\\w.]+\\@[\\w.]+', d):\n",
    "        print(\"Valid Email\")\n",
    "    else:\n",
    "        print(\"Invalid Email\")"
   ],
   "metadata": {
    "collapsed": false
   }
  },
  {
   "cell_type": "code",
   "execution_count": null,
   "outputs": [],
   "source": [
    "import re\n",
    "\n",
    "def solve(s):\n",
    "   pat = \"^[a-zA-Z0-9-_]+@[a-zA-Z0-9]+\\.[a-z]{1,3}$\"\n",
    "   if re.match(pat,s):\n",
    "      return True\n",
    "   return False\n",
    "\n",
    "s = \"popular_website15@comPany.com\"\n",
    "print(solve(s))"
   ],
   "metadata": {
    "collapsed": false
   }
  },
  {
   "cell_type": "code",
   "execution_count": 6,
   "outputs": [
    {
     "name": "stdout",
     "output_type": "stream",
     "text": [
      "<re.Match object; span=(0, 17), match='hello@uibakery.io'>\n"
     ]
    },
    {
     "data": {
      "text/plain": "[]"
     },
     "execution_count": 6,
     "metadata": {},
     "output_type": "execute_result"
    }
   ],
   "source": [
    "# Validate email address\n",
    "import re\n",
    "\n",
    "email_validate_pattern = r\"^[a-z0-9!#$%&'*+/=?^_`{|}~-]+(?:\\.[a-z0-9!#$%&'*+/=?^_`{|}~-]+)*@(?:[a-z0-9](?:[a-z0-9-]*[a-z0-9])?\\.)+[a-z0-9](?:[a-z0-9-]*[a-z0-9])?$\"\n",
    "re.match(email_validate_pattern, \"hello@uibakery.io\") # Returns <re.Match object; span=(0, 17), match='hello@uibakery.io'>\n",
    "print(re.match(email_validate_pattern, \"hello@uibakery.io\"))\n",
    "\n",
    "# Extract email addresses from a string\n",
    "extract_email_pattern = r\"^[a-z0-9!#$%&'*+/=?^_`{|}~-]+(?:\\.[a-z0-9!#$%&'*+/=?^_`{|}~-]+)*@(?:[a-z0-9](?:[a-z0-9-]*[a-z0-9])?\\.)+[a-z0-9](?:[a-z0-9-]*[a-z0-9])?$\"\n",
    "re.findall(extract_email_pattern, 'You can reach me out at hello@uibakery.io and contact@uibakery.io') # returns ['hello@uibakery.io', 'contact@uibakery.io']"
   ],
   "metadata": {
    "collapsed": false
   }
  },
  {
   "cell_type": "code",
   "execution_count": null,
   "outputs": [],
   "source": [
    "import re\n",
    "\n",
    "pattern = r\"^[a-z0-9!#$%&'*+/=?^_`{|}~-]+(?:\\.[a-z0-9!#$%&'*+/=?^_`{|}~-]+)*@(?:[a-z0-9](?:[a-z0-9-]*[a-z0-9])?\\.)+[a-z0-9](?:[a-z0-9-]*[a-z0-9])?$\"\n",
    "re.match(pattern, 'hello@uibakery.io.') # Returns None\n",
    "re.match(pattern, 'hello@192.168.0.1') # Returns <re.Match object; span=(0, 17), match='hello@192.168.0.1'>"
   ],
   "metadata": {
    "collapsed": false
   }
  }
 ],
 "metadata": {
  "kernelspec": {
   "display_name": "Python 3",
   "language": "python",
   "name": "python3"
  },
  "language_info": {
   "codemirror_mode": {
    "name": "ipython",
    "version": 2
   },
   "file_extension": ".py",
   "mimetype": "text/x-python",
   "name": "python",
   "nbconvert_exporter": "python",
   "pygments_lexer": "ipython2",
   "version": "2.7.6"
  }
 },
 "nbformat": 4,
 "nbformat_minor": 0
}
