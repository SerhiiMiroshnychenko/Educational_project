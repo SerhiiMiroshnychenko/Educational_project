{
 "cells": [
  {
   "cell_type": "markdown",
   "source": [
    "Functions inside Functions"
   ],
   "metadata": {
    "collapsed": false
   }
  },
  {
   "cell_type": "code",
   "execution_count": 1,
   "metadata": {
    "collapsed": true
   },
   "outputs": [
    {
     "data": {
      "text/plain": "11"
     },
     "execution_count": 1,
     "metadata": {},
     "output_type": "execute_result"
    }
   ],
   "source": [
    "def succ(x):\n",
    "    return x + 1\n",
    "successor = succ\n",
    "successor(10)"
   ]
  },
  {
   "cell_type": "code",
   "execution_count": 2,
   "outputs": [
    {
     "data": {
      "text/plain": "11"
     },
     "execution_count": 2,
     "metadata": {},
     "output_type": "execute_result"
    }
   ],
   "source": [
    "del succ\n",
    "successor(10)"
   ],
   "metadata": {
    "collapsed": false
   }
  },
  {
   "cell_type": "code",
   "execution_count": 3,
   "outputs": [],
   "source": [
    "def f():\n",
    "\n",
    "    def g():\n",
    "        print(\"Hi, it's me 'g'\")\n",
    "        print(\"Thanks for calling me\")\n",
    "\n",
    "    print(\"This is the function 'f'\")\n",
    "    print(\"I am calling 'g' now:\")\n",
    "    g()"
   ],
   "metadata": {
    "collapsed": false
   }
  },
  {
   "cell_type": "code",
   "execution_count": 4,
   "outputs": [
    {
     "name": "stdout",
     "output_type": "stream",
     "text": [
      "This is the function 'f'\n",
      "I am calling 'g' now:\n",
      "Hi, it's me 'g'\n",
      "Thanks for calling me\n"
     ]
    }
   ],
   "source": [
    "f()"
   ],
   "metadata": {
    "collapsed": false
   }
  },
  {
   "cell_type": "code",
   "execution_count": 6,
   "outputs": [],
   "source": [
    "def temperature(t):\n",
    "    def celsius2fahrenheit(x):\n",
    "        return 9 * x / 5 + 32\n",
    "    result = \"It's \" + str(celsius2fahrenheit(t)) + \" degrees!\"\n",
    "    return result"
   ],
   "metadata": {
    "collapsed": false
   }
  },
  {
   "cell_type": "code",
   "execution_count": 7,
   "outputs": [
    {
     "name": "stdout",
     "output_type": "stream",
     "text": [
      "It's 68.0 degrees!\n"
     ]
    }
   ],
   "source": [
    "print(temperature(20))"
   ],
   "metadata": {
    "collapsed": false
   }
  },
  {
   "cell_type": "code",
   "execution_count": 1,
   "outputs": [],
   "source": [
    "def factorial(n):\n",
    "    \"\"\" calculates the factorial of n,\n",
    "        n should be an integer and n <= 0 \"\"\"\n",
    "    if n == 0:\n",
    "        return 1\n",
    "    else:\n",
    "        return n * factorial(n-1)"
   ],
   "metadata": {
    "collapsed": false
   }
  },
  {
   "cell_type": "code",
   "execution_count": 2,
   "outputs": [],
   "source": [
    "def factorial(n):\n",
    "    \"\"\" calculates the factorial of n,\n",
    "        n should be an integer and n <= 0 \"\"\"\n",
    "    if type(n) == int and n >=0:\n",
    "        if n == 0:\n",
    "            return 1\n",
    "        else:\n",
    "            return n * factorial(n-1)\n",
    "\n",
    "    else:\n",
    "        raise TypeError(\"n has to be a positive integer or zero\")"
   ],
   "metadata": {
    "collapsed": false
   }
  },
  {
   "cell_type": "code",
   "execution_count": null,
   "outputs": [],
   "source": [
    "def factorial(n):\n",
    "    \"\"\" calculates the factorial of n,\n",
    "        n should be an integer and n <= 0 \"\"\"\n",
    "    def inner_factorial(n):\n",
    "        if n == 0:\n",
    "            return 1\n",
    "        else:\n",
    "            return n * inner_factorial(n-1)\n",
    "    if type(n) == int and n >=0:\n",
    "        return inner_factorial(n)\n",
    "    else:\n",
    "        raise TypeError(\"n should be a positve int or 0\")"
   ],
   "metadata": {
    "collapsed": false
   }
  },
  {
   "cell_type": "code",
   "execution_count": 3,
   "outputs": [],
   "source": [
    "def factorial(n):\n",
    "    \"\"\" calculates the factorial of n, if n is either a non negative\n",
    "    integer or a float number x being equivalent to an integer, like\n",
    "    4.0, 12.0, 8. i.e. no decimals following the decimal point \"\"\"\n",
    "    def inner_factorial(n):\n",
    "        if n == 0:\n",
    "            return 1\n",
    "        else:\n",
    "            return n * inner_factorial(n-1)\n",
    "    if not isinstance(n, (int, float)):\n",
    "        raise ValueError(\"Value is neither an integer nor a float equivalent to int\")\n",
    "    if isinstance(n, (int))  and n < 0:\n",
    "        raise ValueError('Should be a positive integer or 0')\n",
    "    elif isinstance(n, (float)) and not n.is_integer():\n",
    "        raise ValueError('value is a float but not equivalent to an int')\n",
    "    else:\n",
    "        return inner_factorial(n)"
   ],
   "metadata": {
    "collapsed": false
   }
  },
  {
   "cell_type": "code",
   "execution_count": 4,
   "outputs": [
    {
     "name": "stdout",
     "output_type": "stream",
     "text": [
      "0, 1\n",
      "1, 1\n",
      "5, 120\n",
      "7.0, 5040.0\n",
      "-4, Should be a positive integer or 0\n",
      "7.3, value is a float but not equivalent to an int\n",
      "7, Value is neither an integer nor a float equivalent to int\n"
     ]
    }
   ],
   "source": [
    "values = [0, 1, 5, 7.0, -4, 7.3, \"7\"]\n",
    "for value in values:\n",
    "    try:\n",
    "        print(value, end=\", \")\n",
    "        print(factorial(value))\n",
    "    except ValueError as e:\n",
    "        print(e)"
   ],
   "metadata": {
    "collapsed": false
   }
  },
  {
   "cell_type": "markdown",
   "source": [
    "Functions as Parameters"
   ],
   "metadata": {
    "collapsed": false
   }
  },
  {
   "cell_type": "code",
   "execution_count": 5,
   "outputs": [
    {
     "name": "stdout",
     "output_type": "stream",
     "text": [
      "Hi, it's me 'f'\n",
      "I will call 'func' now\n",
      "Hi, it's me 'g'\n",
      "Thanks for calling me\n"
     ]
    }
   ],
   "source": [
    "def g():\n",
    "    print(\"Hi, it's me 'g'\")\n",
    "    print(\"Thanks for calling me\")\n",
    "\n",
    "def f(func):\n",
    "    print(\"Hi, it's me 'f'\")\n",
    "    print(\"I will call 'func' now\")\n",
    "    func()\n",
    "\n",
    "f(g)"
   ],
   "metadata": {
    "collapsed": false
   }
  },
  {
   "cell_type": "code",
   "execution_count": 6,
   "outputs": [
    {
     "name": "stdout",
     "output_type": "stream",
     "text": [
      "Hi, it's me 'f'\n",
      "I will call 'func' now\n",
      "Hi, it's me 'g'\n",
      "Thanks for calling me\n",
      "func's real name is g\n"
     ]
    }
   ],
   "source": [
    "def g():\n",
    "    print(\"Hi, it's me 'g'\")\n",
    "    print(\"Thanks for calling me\")\n",
    "\n",
    "def f(func):\n",
    "    print(\"Hi, it's me 'f'\")\n",
    "    print(\"I will call 'func' now\")\n",
    "    func()\n",
    "    print(\"func's real name is \" + func.__name__)\n",
    "\n",
    "\n",
    "f(g)"
   ],
   "metadata": {
    "collapsed": false
   }
  },
  {
   "cell_type": "code",
   "execution_count": 7,
   "outputs": [
    {
     "name": "stdout",
     "output_type": "stream",
     "text": [
      "The function sin was passed to foo\n",
      "2.3492405557375347\n",
      "The function cos was passed to foo\n",
      "-0.6769881462259364\n"
     ]
    }
   ],
   "source": [
    "import math\n",
    "\n",
    "def foo(func):\n",
    "    print(\"The function \" + func.__name__ + \" was passed to foo\")\n",
    "    res = 0\n",
    "    for x in [1, 2, 2.5]:\n",
    "        res += func(x)\n",
    "    return res\n",
    "\n",
    "print(foo(math.sin))\n",
    "print(foo(math.cos))"
   ],
   "metadata": {
    "collapsed": false
   }
  },
  {
   "cell_type": "markdown",
   "source": [
    "Functions returning Functions"
   ],
   "metadata": {
    "collapsed": false
   }
  },
  {
   "cell_type": "code",
   "execution_count": 8,
   "outputs": [
    {
     "name": "stdout",
     "output_type": "stream",
     "text": [
      "5\n",
      "7\n"
     ]
    }
   ],
   "source": [
    "def f(x):\n",
    "    def g(y):\n",
    "        return y + x + 3\n",
    "    return g\n",
    "\n",
    "nf1 = f(1)\n",
    "nf2 = f(3)\n",
    "\n",
    "print(nf1(1))\n",
    "print(nf2(1))"
   ],
   "metadata": {
    "collapsed": false
   }
  },
  {
   "cell_type": "code",
   "execution_count": 9,
   "outputs": [],
   "source": [
    "def greeting_func_gen(lang):\n",
    "    def customized_greeting(name):\n",
    "        if lang == \"de\":   # German\n",
    "            phrase = \"Guten Morgen \"\n",
    "        elif lang == \"fr\": # French\n",
    "            phrase = \"Bonjour \"\n",
    "        elif lang == \"it\": # Italian\n",
    "            phrase = \"Buongiorno \"\n",
    "        elif lang == \"tr\": # Turkish\n",
    "            phrase = \"Günaydın \"\n",
    "        elif lang == \"gr\": # Greek\n",
    "            phrase = \"Καλημερα \"\n",
    "        else:\n",
    "            phrase = \"Hi \"\n",
    "        return phrase + name + \"!\"\n",
    "    return customized_greeting"
   ],
   "metadata": {
    "collapsed": false
   }
  },
  {
   "cell_type": "code",
   "execution_count": 10,
   "outputs": [
    {
     "name": "stdout",
     "output_type": "stream",
     "text": [
      "Günaydın Gülay!\n"
     ]
    }
   ],
   "source": [
    "say_hi = greeting_func_gen(\"tr\")\n",
    "print(say_hi(\"Gülay\"))    # this Turkish name means \"rose moon\" by the way"
   ],
   "metadata": {
    "collapsed": false
   }
  },
  {
   "cell_type": "markdown",
   "source": [
    "A more Usefull Example"
   ],
   "metadata": {
    "collapsed": false
   }
  },
  {
   "cell_type": "code",
   "execution_count": 11,
   "outputs": [],
   "source": [
    "def p1(x):\n",
    "    return 2*x**2 - 3*x + 0.5\n",
    "\n",
    "def p2(x):\n",
    "    return 2.3*x**2 + 2.9*x - 20\n",
    "\n",
    "def p3(x):\n",
    "    return -2.3*x**2 + 4.9*x - 9"
   ],
   "metadata": {
    "collapsed": false
   }
  },
  {
   "cell_type": "code",
   "execution_count": 12,
   "outputs": [
    {
     "name": "stdout",
     "output_type": "stream",
     "text": [
      "-2 14.5 -16.6\n",
      "-1 5.5 -20.6\n",
      "0 0.5 -20.0\n",
      "1 -0.5 -14.8\n"
     ]
    }
   ],
   "source": [
    "def polynomial_creator(a, b, c):\n",
    "    def polynomial(x):\n",
    "        return a * x**2 + b * x + c\n",
    "    return polynomial\n",
    "\n",
    "p1 = polynomial_creator(2, -3, 0.5)\n",
    "p2 = polynomial_creator(2.3, 2.9, -20)\n",
    "p3 = polynomial_creator(-2.3, 4.9, -9)\n",
    "\n",
    "for x in range(-2, 2, 1):\n",
    "    print(x, p1(x), p2(x))"
   ],
   "metadata": {
    "collapsed": false
   }
  },
  {
   "cell_type": "code",
   "execution_count": 13,
   "outputs": [
    {
     "name": "stdout",
     "output_type": "stream",
     "text": [
      "-2 4 0 100 -7 591\n",
      "-1 4 2 7 -2 -35\n",
      "0 4 4 2 1 9\n",
      "1 4 6 13 2 99\n"
     ]
    }
   ],
   "source": [
    "def polynomial_creator(*coefficients):\n",
    "    \"\"\" coefficients are in the form a_n, ... a_1, a_0\n",
    "    \"\"\"\n",
    "    def polynomial(x):\n",
    "        res = 0\n",
    "        for index, coeff in enumerate(coefficients[::-1]):\n",
    "            res += coeff * x** index\n",
    "        return res\n",
    "    return polynomial\n",
    "\n",
    "p1 = polynomial_creator(4)\n",
    "p2 = polynomial_creator(2, 4)\n",
    "p3 = polynomial_creator(1, 8, -1, 0, 3, 2)\n",
    "p4 = polynomial_creator(-1, 2, 1)\n",
    "p5 = polynomial_creator(4, 5, 7, 7, 9, 12, 3, 43, 9)\n",
    "\n",
    "\n",
    "for x in range(-2, 2, 1):\n",
    "    print(x, p1(x), p2(x), p3(x), p4(x), p5(x))"
   ],
   "metadata": {
    "collapsed": false
   }
  },
  {
   "cell_type": "code",
   "execution_count": 14,
   "outputs": [
    {
     "name": "stdout",
     "output_type": "stream",
     "text": [
      "-2 4 0 100 -7 591\n",
      "-1 4 2 7 -2 -35\n",
      "0 4 4 2 1 9\n",
      "1 4 6 13 2 99\n"
     ]
    }
   ],
   "source": [
    "def polynomial_creator(*coeffs):\n",
    "    \"\"\" coefficients are in the form a_n, a_n_1, ... a_1, a_0\n",
    "    \"\"\"\n",
    "    def polynomial(x):\n",
    "        res = coeffs[0]\n",
    "        for i in range(1, len(coeffs)):\n",
    "            res = res * x + coeffs[i]\n",
    "        return res\n",
    "\n",
    "    return polynomial\n",
    "\n",
    "p1 = polynomial_creator(4)\n",
    "p2 = polynomial_creator(2, 4)\n",
    "p3 = polynomial_creator(1, 8, -1, 0, 3, 2)\n",
    "p4 = polynomial_creator(-1, 2, 1)\n",
    "p5 = polynomial_creator(4, 5, 7, 7, 9, 12, 3, 43, 9)\n",
    "\n",
    "\n",
    "for x in range(-2, 2, 1):\n",
    "    print(x, p1(x), p2(x), p3(x), p4(x), p5(x))"
   ],
   "metadata": {
    "collapsed": false
   }
  },
  {
   "cell_type": "markdown",
   "source": [
    "A Simple Decorator"
   ],
   "metadata": {
    "collapsed": false
   }
  },
  {
   "cell_type": "code",
   "execution_count": 15,
   "outputs": [
    {
     "name": "stdout",
     "output_type": "stream",
     "text": [
      "We call foo before decoration:\n",
      "Hi, foo has been called with Hi\n",
      "We now decorate foo with f:\n",
      "We call foo after decoration:\n",
      "Before calling foo\n",
      "Hi, foo has been called with 42\n",
      "After calling foo\n"
     ]
    }
   ],
   "source": [
    "def our_decorator(func):\n",
    "    def function_wrapper(x):\n",
    "        print(\"Before calling \" + func.__name__)\n",
    "        func(x)\n",
    "        print(\"After calling \" + func.__name__)\n",
    "    return function_wrapper\n",
    "\n",
    "def foo(x):\n",
    "    print(\"Hi, foo has been called with \" + str(x))\n",
    "\n",
    "print(\"We call foo before decoration:\")\n",
    "foo(\"Hi\")\n",
    "\n",
    "print(\"We now decorate foo with f:\")\n",
    "foo = our_decorator(foo)\n",
    "\n",
    "print(\"We call foo after decoration:\")\n",
    "foo(42)"
   ],
   "metadata": {
    "collapsed": false
   }
  },
  {
   "cell_type": "markdown",
   "source": [
    "The Usual Syntax for Decorators in Python"
   ],
   "metadata": {
    "collapsed": false
   }
  },
  {
   "cell_type": "code",
   "execution_count": 16,
   "outputs": [
    {
     "name": "stdout",
     "output_type": "stream",
     "text": [
      "Before calling foo\n",
      "Hi, foo has been called with Hi\n",
      "After calling foo\n"
     ]
    }
   ],
   "source": [
    "def our_decorator(func):\n",
    "    def function_wrapper(x):\n",
    "        print(\"Before calling \" + func.__name__)\n",
    "        func(x)\n",
    "        print(\"After calling \" + func.__name__)\n",
    "    return function_wrapper\n",
    "\n",
    "@our_decorator\n",
    "def foo(x):\n",
    "    print(\"Hi, foo has been called with \" + str(x))\n",
    "\n",
    "foo(\"Hi\")"
   ],
   "metadata": {
    "collapsed": false
   }
  },
  {
   "cell_type": "code",
   "execution_count": 17,
   "outputs": [
    {
     "name": "stdout",
     "output_type": "stream",
     "text": [
      "Before calling succ\n",
      "11\n",
      "After calling succ\n"
     ]
    }
   ],
   "source": [
    "def our_decorator(func):\n",
    "    def function_wrapper(x):\n",
    "        print(\"Before calling \" + func.__name__)\n",
    "        res = func(x)\n",
    "        print(res)\n",
    "        print(\"After calling \" + func.__name__)\n",
    "    return function_wrapper\n",
    "\n",
    "@our_decorator\n",
    "def succ(n):\n",
    "    return n + 1\n",
    "\n",
    "succ(10)"
   ],
   "metadata": {
    "collapsed": false
   }
  },
  {
   "cell_type": "code",
   "execution_count": 18,
   "outputs": [
    {
     "name": "stdout",
     "output_type": "stream",
     "text": [
      "Before calling sin\n",
      "9.265358966049026e-05\n",
      "After calling sin\n",
      "Before calling cos\n",
      "-0.9999999957076562\n",
      "After calling cos\n"
     ]
    }
   ],
   "source": [
    "from math import sin, cos\n",
    "\n",
    "def our_decorator(func):\n",
    "    def function_wrapper(x):\n",
    "        print(\"Before calling \" + func.__name__)\n",
    "        res = func(x)\n",
    "        print(res)\n",
    "        print(\"After calling \" + func.__name__)\n",
    "    return function_wrapper\n",
    "\n",
    "sin = our_decorator(sin)\n",
    "cos = our_decorator(cos)\n",
    "\n",
    "for f in [sin, cos]:\n",
    "    f(3.1415)"
   ],
   "metadata": {
    "collapsed": false
   }
  },
  {
   "cell_type": "markdown",
   "source": [
    "Extending the Trigonometric Functions of math"
   ],
   "metadata": {
    "collapsed": false
   }
  },
  {
   "cell_type": "code",
   "execution_count": 19,
   "outputs": [
    {
     "name": "stdout",
     "output_type": "stream",
     "text": [
      "Help on built-in function sin in module math:\n",
      "\n",
      "sin(x, /)\n",
      "    Return the sine of x (measured in radians).\n",
      "\n"
     ]
    }
   ],
   "source": [
    "from math import sin, cos, pi\n",
    "help(sin)"
   ],
   "metadata": {
    "collapsed": false
   }
  },
  {
   "cell_type": "code",
   "execution_count": 20,
   "outputs": [
    {
     "data": {
      "text/plain": "0.7853981633974483"
     },
     "execution_count": 20,
     "metadata": {},
     "output_type": "execute_result"
    }
   ],
   "source": [
    "angle = 45   # degrees\n",
    "x = angle * pi / 180   # degrees into radians\n",
    "x"
   ],
   "metadata": {
    "collapsed": false
   }
  },
  {
   "cell_type": "code",
   "execution_count": 21,
   "outputs": [
    {
     "data": {
      "text/plain": "0.7071067811865476"
     },
     "execution_count": 21,
     "metadata": {},
     "output_type": "execute_result"
    }
   ],
   "source": [
    "sin(x)"
   ],
   "metadata": {
    "collapsed": false
   }
  },
  {
   "cell_type": "code",
   "execution_count": 22,
   "outputs": [
    {
     "name": "stdout",
     "output_type": "stream",
     "text": [
      "0.6427876096865393 0.766044443118978\n",
      "0.7071067811865476 0.7071067811865476\n",
      "0.9396926207859083 0.3420201433256688\n",
      "1.0 6.123233995736766e-17\n"
     ]
    }
   ],
   "source": [
    "from math import sin, cos, pi\n",
    "def angle_deco(func):\n",
    "\n",
    "    def helper(x, mode=\"radians\"):\n",
    "        if mode == \"degrees\":\n",
    "            x = x * pi / 180\n",
    "        return func(x)\n",
    "\n",
    "    return helper\n",
    "\n",
    "sin = angle_deco(sin)\n",
    "cos = angle_deco(cos)\n",
    "degrees = [40, 45, 70, 90]\n",
    "for degree in degrees:\n",
    "    print(sin(degree, mode='degrees'), cos(degree, mode='degrees'))"
   ],
   "metadata": {
    "collapsed": false
   }
  },
  {
   "cell_type": "code",
   "execution_count": 23,
   "outputs": [
    {
     "name": "stdout",
     "output_type": "stream",
     "text": [
      "Before calling random\n",
      "0.6763515750434116\n",
      "After calling random\n",
      "Before calling randint\n",
      "6\n",
      "After calling randint\n",
      "Before calling choice\n",
      "4\n",
      "After calling choice\n"
     ]
    }
   ],
   "source": [
    "from random import random, randint, choice\n",
    "\n",
    "def our_decorator(func):\n",
    "    def function_wrapper(*args, **kwargs):\n",
    "        print(\"Before calling \" + func.__name__)\n",
    "        res = func(*args, **kwargs)\n",
    "        print(res)\n",
    "        print(\"After calling \" + func.__name__)\n",
    "    return function_wrapper\n",
    "\n",
    "random = our_decorator(random)\n",
    "randint = our_decorator(randint)\n",
    "choice = our_decorator(choice)\n",
    "\n",
    "random()\n",
    "randint(3, 8)\n",
    "choice([4, 5, 6])"
   ],
   "metadata": {
    "collapsed": false
   }
  },
  {
   "cell_type": "markdown",
   "source": [
    "Using Multiple Decorators"
   ],
   "metadata": {
    "collapsed": false
   }
  },
  {
   "cell_type": "code",
   "execution_count": 24,
   "outputs": [
    {
     "name": "stdout",
     "output_type": "stream",
     "text": [
      "deco1 has been called\n",
      "deco2 has been called\n",
      "deco3 has been called\n"
     ]
    }
   ],
   "source": [
    "def deco1(func):\n",
    "\n",
    "    print('deco1 has been called')\n",
    "    def helper(x):\n",
    "        print('helper of deco1 has been called!')\n",
    "        print(x)\n",
    "        return func(x) + 3\n",
    "    return helper\n",
    "\n",
    "def deco2(func):\n",
    "\n",
    "    print('deco2 has been called')\n",
    "    def helper(x):\n",
    "        print('helper of deco2 has been called!')\n",
    "        print(x)\n",
    "        return func(x) + 2\n",
    "    return helper\n",
    "\n",
    "def deco3(func):\n",
    "\n",
    "    print('deco3 has been called')\n",
    "    def helper(x):\n",
    "        print('helper of deco3 has been called!')\n",
    "        print(x)\n",
    "        return func(x) + 1\n",
    "    return helper\n",
    "\n",
    "@deco3\n",
    "@deco2\n",
    "@deco1\n",
    "def foobar(x):\n",
    "    return 42"
   ],
   "metadata": {
    "collapsed": false
   }
  },
  {
   "cell_type": "markdown",
   "source": [
    "Usecases for Decorators"
   ],
   "metadata": {
    "collapsed": false
   }
  },
  {
   "cell_type": "code",
   "execution_count": 25,
   "outputs": [
    {
     "name": "stdout",
     "output_type": "stream",
     "text": [
      "1 True\n",
      "2 True\n",
      "3 True\n",
      "4 False\n",
      "5 True\n",
      "6 False\n",
      "7 True\n",
      "8 False\n",
      "9 False\n",
      "Argument is not a positve integer!\n"
     ]
    }
   ],
   "source": [
    "def argument_test_natural_number(f):\n",
    "    def helper(x):\n",
    "        if type(x) == int and x > 0:\n",
    "            return f(x)\n",
    "        else:\n",
    "            raise ValueError(\"Argument is not an integer\")\n",
    "    return helper\n",
    "\n",
    "@argument_test_natural_number\n",
    "def is_prime(n):\n",
    "    return all(n % i for i in range(2, n))\n",
    "\n",
    "for i in range(1,10):\n",
    "    print(i, is_prime(i))\n",
    "\n",
    "try:\n",
    "    print(is_prime(-1))\n",
    "except ValueError:\n",
    "    print(\"Argument is not a positve integer!\")"
   ],
   "metadata": {
    "collapsed": false
   }
  },
  {
   "cell_type": "markdown",
   "source": [
    "Counting Function Calls with Decorators"
   ],
   "metadata": {
    "collapsed": false
   }
  },
  {
   "cell_type": "code",
   "execution_count": 26,
   "outputs": [
    {
     "name": "stdout",
     "output_type": "stream",
     "text": [
      "0\n",
      "10\n"
     ]
    }
   ],
   "source": [
    "def call_counter(func):\n",
    "    def helper(x):\n",
    "        helper.calls += 1\n",
    "        return func(x)\n",
    "    helper.calls = 0\n",
    "\n",
    "    return helper\n",
    "\n",
    "@call_counter\n",
    "def succ(x):\n",
    "    return x + 1\n",
    "\n",
    "print(succ.calls)\n",
    "for i in range(10):\n",
    "    succ(i)\n",
    "\n",
    "print(succ.calls)"
   ],
   "metadata": {
    "collapsed": false
   }
  },
  {
   "cell_type": "code",
   "execution_count": 27,
   "outputs": [
    {
     "name": "stdout",
     "output_type": "stream",
     "text": [
      "0\n",
      "10\n",
      "3\n"
     ]
    }
   ],
   "source": [
    "def call_counter(func):\n",
    "    def helper(*args, **kwargs):\n",
    "        helper.calls += 1\n",
    "        return func(*args, **kwargs)\n",
    "    helper.calls = 0\n",
    "\n",
    "    return helper\n",
    "\n",
    "@call_counter\n",
    "def succ(x):\n",
    "    return x + 1\n",
    "\n",
    "@call_counter\n",
    "def mul1(x, y=1):\n",
    "    return x*y + 1\n",
    "\n",
    "print(succ.calls)\n",
    "for i in range(10):\n",
    "    succ(i)\n",
    "mul1(3, 4)\n",
    "mul1(4)\n",
    "mul1(y=3, x=2)\n",
    "\n",
    "print(succ.calls)\n",
    "print(mul1.calls)"
   ],
   "metadata": {
    "collapsed": false
   }
  },
  {
   "cell_type": "markdown",
   "source": [
    "Decorators with Parameters"
   ],
   "metadata": {
    "collapsed": false
   }
  },
  {
   "cell_type": "code",
   "execution_count": 28,
   "outputs": [
    {
     "name": "stdout",
     "output_type": "stream",
     "text": [
      "Good evening, foo returns:\n",
      "42\n"
     ]
    }
   ],
   "source": [
    "def evening_greeting(func):\n",
    "    def function_wrapper(x):\n",
    "        print(\"Good evening, \" + func.__name__ + \" returns:\")\n",
    "        return func(x)\n",
    "    return function_wrapper\n",
    "\n",
    "def morning_greeting(func):\n",
    "    def function_wrapper(x):\n",
    "        print(\"Good morning, \" + func.__name__ + \" returns:\")\n",
    "        return func(x)\n",
    "    return function_wrapper\n",
    "\n",
    "@evening_greeting\n",
    "def foo(x):\n",
    "    print(42)\n",
    "\n",
    "foo(\"Hi\")"
   ],
   "metadata": {
    "collapsed": false
   }
  },
  {
   "cell_type": "code",
   "execution_count": 29,
   "outputs": [
    {
     "name": "stdout",
     "output_type": "stream",
     "text": [
      "καλημερα, foo returns:\n",
      "42\n"
     ]
    }
   ],
   "source": [
    "def greeting(expr):\n",
    "    def greeting_decorator(func):\n",
    "        def function_wrapper(x):\n",
    "            print(expr + \", \" + func.__name__ + \" returns:\")\n",
    "            func(x)\n",
    "        return function_wrapper\n",
    "    return greeting_decorator\n",
    "\n",
    "@greeting(\"καλημερα\")\n",
    "def foo(x):\n",
    "    print(42)\n",
    "\n",
    "foo(\"Hi\")"
   ],
   "metadata": {
    "collapsed": false
   }
  },
  {
   "cell_type": "code",
   "execution_count": 30,
   "outputs": [
    {
     "name": "stdout",
     "output_type": "stream",
     "text": [
      "καλημερα, foo returns:\n",
      "42\n"
     ]
    }
   ],
   "source": [
    "def greeting(expr):\n",
    "    def greeting_decorator(func):\n",
    "        def function_wrapper(x):\n",
    "            print(expr + \", \" + func.__name__ + \" returns:\")\n",
    "            return func(x)\n",
    "        return function_wrapper\n",
    "    return greeting_decorator\n",
    "\n",
    "\n",
    "def foo(x):\n",
    "    print(42)\n",
    "\n",
    "greeting2 = greeting(\"καλημερα\")\n",
    "foo = greeting2(foo)\n",
    "foo(\"Hi\")"
   ],
   "metadata": {
    "collapsed": false
   }
  },
  {
   "cell_type": "code",
   "execution_count": 32,
   "outputs": [],
   "source": [
    " foo = greeting(\"καλημερα\")(foo)"
   ],
   "metadata": {
    "collapsed": false
   }
  },
  {
   "cell_type": "code",
   "execution_count": 33,
   "outputs": [
    {
     "name": "stdout",
     "output_type": "stream",
     "text": [
      "<function greeting.<locals>.greeting_decorator.<locals>.function_wrapper at 0x000001CD62B49F80>\n"
     ]
    }
   ],
   "source": [
    "print(foo)"
   ],
   "metadata": {
    "collapsed": false
   }
  },
  {
   "cell_type": "markdown",
   "source": [
    "Using wraps from functools"
   ],
   "metadata": {
    "collapsed": false
   }
  },
  {
   "cell_type": "markdown",
   "source": [
    "__name__ (name of the function),\n",
    "__doc__ (the docstring) and\n",
    "__module__ (The module in which the function is defined)"
   ],
   "metadata": {
    "collapsed": false
   }
  },
  {
   "cell_type": "code",
   "execution_count": 34,
   "outputs": [],
   "source": [
    "def greeting(func):\n",
    "    def function_wrapper(x):\n",
    "        \"\"\" function_wrapper of greeting \"\"\"\n",
    "        print(\"Hi, \" + func.__name__ + \" returns:\")\n",
    "        return func(x)\n",
    "    return function_wrapper"
   ],
   "metadata": {
    "collapsed": false
   }
  },
  {
   "cell_type": "code",
   "execution_count": 35,
   "outputs": [
    {
     "name": "stdout",
     "output_type": "stream",
     "text": [
      "Hi, f returns:\n",
      "function name: function_wrapper\n",
      "docstring:  function_wrapper of greeting \n",
      "module name: __main__\n"
     ]
    }
   ],
   "source": [
    "@greeting\n",
    "def f(x):\n",
    "    \"\"\" just some silly function \"\"\"\n",
    "    return x + 4\n",
    "\n",
    "f(10)\n",
    "print(\"function name: \" + f.__name__)\n",
    "print(\"docstring: \" + f.__doc__)\n",
    "print(\"module name: \" + f.__module__)"
   ],
   "metadata": {
    "collapsed": false
   }
  },
  {
   "cell_type": "code",
   "execution_count": 36,
   "outputs": [],
   "source": [
    "def greeting(func):\n",
    "    def function_wrapper(x):\n",
    "        \"\"\" function_wrapper of greeting \"\"\"\n",
    "        print(\"Hi, \" + func.__name__ + \" returns:\")\n",
    "        return func(x)\n",
    "    function_wrapper.__name__ = func.__name__\n",
    "    function_wrapper.__doc__ = func.__doc__\n",
    "    function_wrapper.__module__ = func.__module__\n",
    "    return function_wrapper"
   ],
   "metadata": {
    "collapsed": false
   }
  },
  {
   "cell_type": "code",
   "execution_count": 37,
   "outputs": [
    {
     "name": "stdout",
     "output_type": "stream",
     "text": [
      "Hi, f returns:\n",
      "function name: f\n",
      "docstring:  just some silly function \n",
      "module name: __main__\n"
     ]
    }
   ],
   "source": [
    "@greeting\n",
    "def f(x):\n",
    "    \"\"\" just some silly function \"\"\"\n",
    "    return x + 4\n",
    "\n",
    "f(10)\n",
    "print(\"function name: \" + f.__name__)\n",
    "print(\"docstring: \" + f.__doc__)\n",
    "print(\"module name: \" + f.__module__)"
   ],
   "metadata": {
    "collapsed": false
   }
  },
  {
   "cell_type": "code",
   "execution_count": 39,
   "outputs": [],
   "source": [
    "from functools import wraps\n",
    "\n",
    "def greeting(func):\n",
    "    @wraps(func)\n",
    "    def function_wrapper(x):\n",
    "        \"\"\" function_wrapper of greeting \"\"\"\n",
    "        print(\"Hi, \" + func.__name__ + \" returns:\")\n",
    "        return func(x)\n",
    "    return function_wrapper"
   ],
   "metadata": {
    "collapsed": false
   }
  },
  {
   "cell_type": "code",
   "execution_count": 40,
   "outputs": [
    {
     "name": "stdout",
     "output_type": "stream",
     "text": [
      "Hi, f returns:\n",
      "function name: f\n",
      "docstring:  just some silly function \n",
      "module name: __main__\n"
     ]
    }
   ],
   "source": [
    "@greeting\n",
    "def f(x):\n",
    "    \"\"\" just some silly function \"\"\"\n",
    "    return x + 4\n",
    "\n",
    "f(10)\n",
    "print(\"function name: \" + f.__name__)\n",
    "print(\"docstring: \" + f.__doc__)\n",
    "print(\"module name: \" + f.__module__)"
   ],
   "metadata": {
    "collapsed": false
   }
  },
  {
   "cell_type": "markdown",
   "source": [
    "Classes instead of Functions"
   ],
   "metadata": {
    "collapsed": false
   }
  },
  {
   "cell_type": "markdown",
   "source": [
    "The call method"
   ],
   "metadata": {
    "collapsed": false
   }
  },
  {
   "cell_type": "code",
   "execution_count": 41,
   "outputs": [
    {
     "name": "stdout",
     "output_type": "stream",
     "text": [
      "An instance of A was initialized\n",
      "now calling the instance:\n",
      "Arguments are: (3, 4) {'x': 11, 'y': 10}\n",
      "Let's call it again:\n",
      "Arguments are: (3, 4) {'x': 11, 'y': 10}\n"
     ]
    }
   ],
   "source": [
    "class A:\n",
    "    def __init__(self):\n",
    "        print(\"An instance of A was initialized\")\n",
    "\n",
    "    def __call__(self, *args, **kwargs):\n",
    "        print(\"Arguments are:\", args, kwargs)\n",
    "\n",
    "x = A()\n",
    "print(\"now calling the instance:\")\n",
    "x(3, 4, x=11, y=10)\n",
    "print(\"Let's call it again:\")\n",
    "x(3, 4, x=11, y=10)"
   ],
   "metadata": {
    "collapsed": false
   }
  },
  {
   "cell_type": "code",
   "execution_count": 42,
   "outputs": [
    {
     "name": "stdout",
     "output_type": "stream",
     "text": [
      "0, 1, 1, 2, 3, 5, 8, 13, 21, 34, 55, 89, 144, 233, 377, "
     ]
    }
   ],
   "source": [
    "class Fibonacci:\n",
    "\n",
    "    def __init__(self):\n",
    "        self.cache = {}\n",
    "\n",
    "    def __call__(self, n):\n",
    "        if n not in self.cache:\n",
    "            if n == 0:\n",
    "                self.cache[0] = 0\n",
    "            elif n == 1:\n",
    "                self.cache[1] = 1\n",
    "            else:\n",
    "                self.cache[n] = self.__call__(n-1) + self.__call__(n-2)\n",
    "        return self.cache[n]\n",
    "\n",
    "fib = Fibonacci()\n",
    "\n",
    "for i in range(15):\n",
    "    print(fib(i), end=\", \")"
   ],
   "metadata": {
    "collapsed": false
   }
  },
  {
   "cell_type": "markdown",
   "source": [
    "Using a Class as a Decorator"
   ],
   "metadata": {
    "collapsed": false
   }
  },
  {
   "cell_type": "code",
   "execution_count": 43,
   "outputs": [
    {
     "name": "stdout",
     "output_type": "stream",
     "text": [
      "Decorating foo\n",
      "inside foo()\n"
     ]
    }
   ],
   "source": [
    "def decorator1(f):\n",
    "    def helper():\n",
    "        print(\"Decorating\", f.__name__)\n",
    "        f()\n",
    "    return helper\n",
    "\n",
    "@decorator1\n",
    "def foo():\n",
    "    print(\"inside foo()\")\n",
    "\n",
    "foo()"
   ],
   "metadata": {
    "collapsed": false
   }
  },
  {
   "cell_type": "code",
   "execution_count": 44,
   "outputs": [
    {
     "name": "stdout",
     "output_type": "stream",
     "text": [
      "Decorating foo\n",
      "inside foo()\n"
     ]
    }
   ],
   "source": [
    "class decorator2:\n",
    "\n",
    "    def __init__(self, f):\n",
    "        self.f = f\n",
    "\n",
    "    def __call__(self):\n",
    "        print(\"Decorating\", self.f.__name__)\n",
    "        self.f()\n",
    "\n",
    "@decorator2\n",
    "def foo():\n",
    "    print(\"inside foo()\")\n",
    "\n",
    "foo()"
   ],
   "metadata": {
    "collapsed": false
   }
  },
  {
   "cell_type": "markdown",
   "source": [
    "Memoization with Function Decorators"
   ],
   "metadata": {
    "collapsed": false
   }
  },
  {
   "cell_type": "code",
   "execution_count": 45,
   "outputs": [],
   "source": [
    "def fib(n):\n",
    "    if n == 0:\n",
    "        return 0\n",
    "    elif n == 1:\n",
    "        return 1\n",
    "    else:\n",
    "        return fib(n-1) + fib(n-2)"
   ],
   "metadata": {
    "collapsed": false
   }
  },
  {
   "cell_type": "code",
   "execution_count": 46,
   "outputs": [
    {
     "name": "stdout",
     "output_type": "stream",
     "text": [
      "102334155\n"
     ]
    }
   ],
   "source": [
    "def memoize(f):\n",
    "    memo = {}\n",
    "    def helper(x):\n",
    "        if x not in memo:\n",
    "            memo[x] = f(x)\n",
    "        return memo[x]\n",
    "    return helper\n",
    "def fib(n):\n",
    "    if n == 0:\n",
    "        return 0\n",
    "    elif n == 1:\n",
    "        return 1\n",
    "    else:\n",
    "        return fib(n-1) + fib(n-2)\n",
    "fib = memoize(fib)\n",
    "print(fib(40))"
   ],
   "metadata": {
    "collapsed": false
   }
  },
  {
   "cell_type": "code",
   "execution_count": 47,
   "outputs": [
    {
     "name": "stdout",
     "output_type": "stream",
     "text": [
      "102334155\n"
     ]
    }
   ],
   "source": [
    "def memoize(f):\n",
    "    memo = {}\n",
    "    def helper(x):\n",
    "        if x not in memo:\n",
    "            memo[x] = f(x)\n",
    "        return memo[x]\n",
    "    return helper\n",
    "@memoize\n",
    "def fib(n):\n",
    "    if n == 0:\n",
    "        return 0\n",
    "    elif n == 1:\n",
    "        return 1\n",
    "    else:\n",
    "        return fib(n-1) + fib(n-2)\n",
    "print(fib(40))"
   ],
   "metadata": {
    "collapsed": false
   }
  },
  {
   "cell_type": "markdown",
   "source": [
    "Using a Callable Class for Memoization"
   ],
   "metadata": {
    "collapsed": false
   }
  },
  {
   "cell_type": "code",
   "execution_count": 48,
   "outputs": [
    {
     "name": "stdout",
     "output_type": "stream",
     "text": [
      "102334155\n"
     ]
    }
   ],
   "source": [
    "class Memoize:\n",
    "    def __init__(self, fn):\n",
    "        self.fn = fn\n",
    "        self.memo = {}\n",
    "    def __call__(self, *args):\n",
    "        if args not in self.memo:\n",
    "            self.memo[args] = self.fn(*args)\n",
    "        return self.memo[args]\n",
    "@Memoize\n",
    "def fib(n):\n",
    "    if n == 0:\n",
    "        return 0\n",
    "    elif n == 1:\n",
    "        return 1\n",
    "    else:\n",
    "        return fib(n-1) + fib(n-2)\n",
    "print(fib(40))"
   ],
   "metadata": {
    "collapsed": false
   }
  },
  {
   "cell_type": "markdown",
   "source": [
    "Solution"
   ],
   "metadata": {
    "collapsed": false
   }
  },
  {
   "cell_type": "code",
   "execution_count": 50,
   "outputs": [],
   "source": [
    "def factors_set():\n",
    "        for i in [-1, 0, 1]:\n",
    "            for j in [-1,0,1]:\n",
    "                for k in [-1,0,1]:\n",
    "                    for l in [-1,0,1]:\n",
    "                        yield (i, j, k, l)\n",
    "def memoize(f):\n",
    "    results = {}\n",
    "    def helper(n):\n",
    "        if n not in results:\n",
    "            results[n] = f(n)\n",
    "        return results[n]\n",
    "    return helper\n",
    "@memoize\n",
    "def linear_combination(n):\n",
    "    \"\"\" returns the tuple (i,j,k,l) satisfying\n",
    "        n = i*1 + j*3 + k*9 + l*27      \"\"\"\n",
    "    weighs = (1,3,9,27)\n",
    "    for factors in factors_set():\n",
    "       sum = 0\n",
    "       for i in range(len(factors)):\n",
    "          sum += factors[i] * weighs[i]\n",
    "       if sum == n:\n",
    "          return factors"
   ],
   "metadata": {
    "collapsed": false
   }
  },
  {
   "cell_type": "code",
   "execution_count": 51,
   "outputs": [
    {
     "name": "stdout",
     "output_type": "stream",
     "text": [
      "Left  pan: 2 plus 1 \n",
      "Right pan: 3 \n",
      "\n",
      "Left  pan: 3 plus \n",
      "Right pan: 3 \n",
      "\n",
      "Left  pan: 4 plus \n",
      "Right pan: 1 3 \n",
      "\n",
      "Left  pan: 7 plus 3 \n",
      "Right pan: 1 9 \n",
      "\n",
      "Left  pan: 8 plus 1 \n",
      "Right pan: 9 \n",
      "\n",
      "Left  pan: 9 plus \n",
      "Right pan: 9 \n",
      "\n",
      "Left  pan: 20 plus 1 9 \n",
      "Right pan: 3 27 \n",
      "\n",
      "Left  pan: 40 plus \n",
      "Right pan: 1 3 9 27 \n",
      "\n"
     ]
    }
   ],
   "source": [
    "def weigh(pounds):\n",
    "        weights = (1, 3, 9, 27)\n",
    "        scalars = linear_combination(pounds)\n",
    "        left = \"\"\n",
    "        right = \"\"\n",
    "        for i in range(len(scalars)):\n",
    "            if scalars[i] == -1:\n",
    "                left += str(weights[i]) + \" \"\n",
    "            elif scalars[i] == 1:\n",
    "                right += str(weights[i]) + \" \"\n",
    "        return (left,right)\n",
    "for i in [2, 3, 4, 7, 8, 9, 20, 40]:\n",
    "            pans = weigh(i)\n",
    "            print(\"Left  pan: \" + str(i) + \" plus \" + pans[0])\n",
    "            print(\"Right pan: \" + pans[1] + \"\\n\")"
   ],
   "metadata": {
    "collapsed": false
   }
  }
 ],
 "metadata": {
  "kernelspec": {
   "display_name": "Python 3",
   "language": "python",
   "name": "python3"
  },
  "language_info": {
   "codemirror_mode": {
    "name": "ipython",
    "version": 2
   },
   "file_extension": ".py",
   "mimetype": "text/x-python",
   "name": "python",
   "nbconvert_exporter": "python",
   "pygments_lexer": "ipython2",
   "version": "2.7.6"
  }
 },
 "nbformat": 4,
 "nbformat_minor": 0
}
