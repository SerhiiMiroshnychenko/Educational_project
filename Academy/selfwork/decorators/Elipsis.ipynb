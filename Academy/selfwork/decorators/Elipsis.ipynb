{
 "cells": [
  {
   "cell_type": "code",
   "execution_count": 1,
   "metadata": {
    "collapsed": true
   },
   "outputs": [
    {
     "data": {
      "text/plain": "Ellipsis"
     },
     "execution_count": 1,
     "metadata": {},
     "output_type": "execute_result"
    }
   ],
   "source": [
    "..."
   ]
  },
  {
   "cell_type": "code",
   "execution_count": 2,
   "outputs": [
    {
     "data": {
      "text/plain": "Ellipsis"
     },
     "execution_count": 2,
     "metadata": {},
     "output_type": "execute_result"
    }
   ],
   "source": [
    "Ellipsis"
   ],
   "metadata": {
    "collapsed": false
   }
  },
  {
   "cell_type": "code",
   "execution_count": 3,
   "outputs": [
    {
     "data": {
      "text/plain": "True"
     },
     "execution_count": 3,
     "metadata": {},
     "output_type": "execute_result"
    }
   ],
   "source": [
    "... is Ellipsis"
   ],
   "metadata": {
    "collapsed": false
   }
  },
  {
   "cell_type": "code",
   "execution_count": 4,
   "outputs": [],
   "source": [
    "def do_nothing():\n",
    "    ..."
   ],
   "metadata": {
    "collapsed": false
   }
  },
  {
   "cell_type": "code",
   "execution_count": 5,
   "outputs": [],
   "source": [
    "do_nothing()"
   ],
   "metadata": {
    "collapsed": false
   }
  },
  {
   "cell_type": "code",
   "execution_count": 8,
   "outputs": [],
   "source": [
    "from flask import Flask\n",
    "\n",
    "# from custom_stats import count_visitor\n",
    "\n",
    "app = Flask(__name__)\n",
    "\n",
    "if app.debug:\n",
    "    def count_visitor(): ...\n",
    "\n",
    "@app.route(\"/\")\n",
    "def home():\n",
    "    count_visitor()\n",
    "    return \"Hello, world!\""
   ],
   "metadata": {
    "collapsed": false
   }
  },
  {
   "cell_type": "code",
   "execution_count": 9,
   "outputs": [],
   "source": [
    "# tuple_example.py\n",
    "\n",
    "numbers: tuple[int, ...]\n",
    "\n",
    "# Allowed:\n",
    "numbers = ()\n",
    "numbers = (1,)\n",
    "numbers = (4, 5, 6, 99)\n",
    "\n",
    "# Not allowed:\n",
    "numbers = (1, \"a\")\n",
    "numbers = [1, 3]"
   ],
   "metadata": {
    "collapsed": false
   }
  },
  {
   "cell_type": "code",
   "execution_count": 11,
   "outputs": [],
   "source": [
    "from typing import Callable\n",
    "\n",
    "def add_one(i: int) -> int:\n",
    "    return i + 1\n",
    "\n",
    "def multiply_with(x: int, y: int) -> int:\n",
    "    return x * y\n",
    "\n",
    "def as_pixels(i: int) -> str:\n",
    "    return f\"{i}px\"\n",
    "\n",
    "def calculate(i: int, action: Callable[..., int], *args: int) -> int:\n",
    "    return action(i, *args)"
   ],
   "metadata": {
    "collapsed": false
   }
  },
  {
   "cell_type": "code",
   "execution_count": 12,
   "outputs": [
    {
     "data": {
      "text/plain": "2"
     },
     "execution_count": 12,
     "metadata": {},
     "output_type": "execute_result"
    }
   ],
   "source": [
    "# Works:\n",
    "calculate(1, add_one)"
   ],
   "metadata": {
    "collapsed": false
   }
  },
  {
   "cell_type": "code",
   "execution_count": 13,
   "outputs": [
    {
     "data": {
      "text/plain": "3"
     },
     "execution_count": 13,
     "metadata": {},
     "output_type": "execute_result"
    }
   ],
   "source": [
    "# Works:\n",
    "calculate(1, multiply_with, 3)"
   ],
   "metadata": {
    "collapsed": false
   }
  },
  {
   "cell_type": "code",
   "execution_count": 14,
   "outputs": [
    {
     "ename": "TypeError",
     "evalue": "'int' object is not callable",
     "output_type": "error",
     "traceback": [
      "\u001B[1;31m---------------------------------------------------------------------------\u001B[0m",
      "\u001B[1;31mTypeError\u001B[0m                                 Traceback (most recent call last)",
      "Cell \u001B[1;32mIn [14], line 2\u001B[0m\n\u001B[0;32m      1\u001B[0m \u001B[38;5;66;03m# Doesn't work:\u001B[39;00m\n\u001B[1;32m----> 2\u001B[0m \u001B[43mcalculate\u001B[49m\u001B[43m(\u001B[49m\u001B[38;5;241;43m1\u001B[39;49m\u001B[43m,\u001B[49m\u001B[43m \u001B[49m\u001B[38;5;241;43m3\u001B[39;49m\u001B[43m)\u001B[49m\n",
      "Cell \u001B[1;32mIn [11], line 13\u001B[0m, in \u001B[0;36mcalculate\u001B[1;34m(i, action, *args)\u001B[0m\n\u001B[0;32m     12\u001B[0m \u001B[38;5;28;01mdef\u001B[39;00m \u001B[38;5;21mcalculate\u001B[39m(i: \u001B[38;5;28mint\u001B[39m, action: Callable[\u001B[38;5;241m.\u001B[39m\u001B[38;5;241m.\u001B[39m\u001B[38;5;241m.\u001B[39m, \u001B[38;5;28mint\u001B[39m], \u001B[38;5;241m*\u001B[39margs: \u001B[38;5;28mint\u001B[39m) \u001B[38;5;241m-\u001B[39m\u001B[38;5;241m>\u001B[39m \u001B[38;5;28mint\u001B[39m:\n\u001B[1;32m---> 13\u001B[0m     \u001B[38;5;28;01mreturn\u001B[39;00m \u001B[43maction\u001B[49m\u001B[43m(\u001B[49m\u001B[43mi\u001B[49m\u001B[43m,\u001B[49m\u001B[43m \u001B[49m\u001B[38;5;241;43m*\u001B[39;49m\u001B[43margs\u001B[49m\u001B[43m)\u001B[49m\n",
      "\u001B[1;31mTypeError\u001B[0m: 'int' object is not callable"
     ]
    }
   ],
   "source": [
    "# Doesn't work:\n",
    "calculate(1, 3)"
   ],
   "metadata": {
    "collapsed": false
   }
  },
  {
   "cell_type": "code",
   "execution_count": 15,
   "outputs": [
    {
     "data": {
      "text/plain": "'1px'"
     },
     "execution_count": 15,
     "metadata": {},
     "output_type": "execute_result"
    }
   ],
   "source": [
    "# Doesn't work:\n",
    "calculate(1, as_pixels)"
   ],
   "metadata": {
    "collapsed": false
   }
  },
  {
   "cell_type": "markdown",
   "source": [
    "Як ви можете використовувати еліпс для нарізки в NumPy"
   ],
   "metadata": {
    "collapsed": false
   }
  },
  {
   "cell_type": "code",
   "execution_count": 16,
   "outputs": [
    {
     "data": {
      "text/plain": "array([[[0, 1],\n        [2, 3]],\n\n       [[4, 5],\n        [6, 7]]])"
     },
     "execution_count": 16,
     "metadata": {},
     "output_type": "execute_result"
    }
   ],
   "source": [
    "import numpy as np\n",
    "\n",
    "dimensions = 3\n",
    "items_per_dimension = 2\n",
    "max_items = items_per_dimension**dimensions\n",
    "axes = np.repeat(items_per_dimension, dimensions)\n",
    "arr = np.arange(max_items).reshape(axes)\n",
    "arr"
   ],
   "metadata": {
    "collapsed": false
   }
  },
  {
   "cell_type": "code",
   "execution_count": 17,
   "outputs": [
    {
     "data": {
      "text/plain": "array([[0, 2],\n       [4, 6]])"
     },
     "execution_count": 17,
     "metadata": {},
     "output_type": "execute_result"
    }
   ],
   "source": [
    "arr[:, :, 0]"
   ],
   "metadata": {
    "collapsed": false
   }
  },
  {
   "cell_type": "code",
   "execution_count": 18,
   "outputs": [],
   "source": [
    "import numpy as np\n",
    "\n",
    "dimensions = np.random.randint(1,10)\n",
    "items_per_dimension = 2\n",
    "max_items = items_per_dimension**dimensions\n",
    "axes = np.repeat(items_per_dimension, dimensions)\n",
    "arr = np.arange(max_items).reshape(axes)"
   ],
   "metadata": {
    "collapsed": false
   }
  },
  {
   "cell_type": "code",
   "execution_count": 19,
   "outputs": [
    {
     "data": {
      "text/plain": "array([[[[[[[  0,   2],\n            [  4,   6]],\n\n           [[  8,  10],\n            [ 12,  14]]],\n\n\n          [[[ 16,  18],\n            [ 20,  22]],\n\n           [[ 24,  26],\n            [ 28,  30]]]],\n\n\n\n         [[[[ 32,  34],\n            [ 36,  38]],\n\n           [[ 40,  42],\n            [ 44,  46]]],\n\n\n          [[[ 48,  50],\n            [ 52,  54]],\n\n           [[ 56,  58],\n            [ 60,  62]]]]],\n\n\n\n\n        [[[[[ 64,  66],\n            [ 68,  70]],\n\n           [[ 72,  74],\n            [ 76,  78]]],\n\n\n          [[[ 80,  82],\n            [ 84,  86]],\n\n           [[ 88,  90],\n            [ 92,  94]]]],\n\n\n\n         [[[[ 96,  98],\n            [100, 102]],\n\n           [[104, 106],\n            [108, 110]]],\n\n\n          [[[112, 114],\n            [116, 118]],\n\n           [[120, 122],\n            [124, 126]]]]]],\n\n\n\n\n\n       [[[[[[128, 130],\n            [132, 134]],\n\n           [[136, 138],\n            [140, 142]]],\n\n\n          [[[144, 146],\n            [148, 150]],\n\n           [[152, 154],\n            [156, 158]]]],\n\n\n\n         [[[[160, 162],\n            [164, 166]],\n\n           [[168, 170],\n            [172, 174]]],\n\n\n          [[[176, 178],\n            [180, 182]],\n\n           [[184, 186],\n            [188, 190]]]]],\n\n\n\n\n        [[[[[192, 194],\n            [196, 198]],\n\n           [[200, 202],\n            [204, 206]]],\n\n\n          [[[208, 210],\n            [212, 214]],\n\n           [[216, 218],\n            [220, 222]]]],\n\n\n\n         [[[[224, 226],\n            [228, 230]],\n\n           [[232, 234],\n            [236, 238]]],\n\n\n          [[[240, 242],\n            [244, 246]],\n\n           [[248, 250],\n            [252, 254]]]]]]])"
     },
     "execution_count": 19,
     "metadata": {},
     "output_type": "execute_result"
    }
   ],
   "source": [
    "arr[..., 0]"
   ],
   "metadata": {
    "collapsed": false
   }
  },
  {
   "cell_type": "markdown",
   "source": [
    "Чи три крапки в Python завжди є крапкою?"
   ],
   "metadata": {
    "collapsed": false
   }
  },
  {
   "cell_type": "code",
   "execution_count": 20,
   "outputs": [],
   "source": [
    "def hello_world():\n",
    "    print(\"Hello, world!\")"
   ],
   "metadata": {
    "collapsed": false
   }
  },
  {
   "cell_type": "code",
   "execution_count": 21,
   "outputs": [
    {
     "data": {
      "text/plain": "Ellipsis"
     },
     "execution_count": 21,
     "metadata": {},
     "output_type": "execute_result"
    }
   ],
   "source": [
    "..."
   ],
   "metadata": {
    "collapsed": false
   }
  },
  {
   "cell_type": "code",
   "execution_count": 22,
   "outputs": [
    {
     "data": {
      "text/plain": "ellipsis"
     },
     "execution_count": 22,
     "metadata": {},
     "output_type": "execute_result"
    }
   ],
   "source": [
    "type(...)"
   ],
   "metadata": {
    "collapsed": false
   }
  }
 ],
 "metadata": {
  "kernelspec": {
   "display_name": "Python 3",
   "language": "python",
   "name": "python3"
  },
  "language_info": {
   "codemirror_mode": {
    "name": "ipython",
    "version": 2
   },
   "file_extension": ".py",
   "mimetype": "text/x-python",
   "name": "python",
   "nbconvert_exporter": "python",
   "pygments_lexer": "ipython2",
   "version": "2.7.6"
  }
 },
 "nbformat": 4,
 "nbformat_minor": 0
}
