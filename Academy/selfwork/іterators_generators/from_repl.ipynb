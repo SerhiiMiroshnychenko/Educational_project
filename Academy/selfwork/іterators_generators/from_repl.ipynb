{
 "cells": [
  {
   "cell_type": "code",
   "execution_count": null,
   "outputs": [],
   "source": [
    "\"\"\"My Generator\"\"\""
   ],
   "metadata": {
    "collapsed": false
   }
  },
  {
   "cell_type": "code",
   "execution_count": 7,
   "metadata": {
    "collapsed": true
   },
   "outputs": [],
   "source": [
    "def my_squares_generator(f, t, s=1):\n",
    "   for i in range(f, t+1, s):\n",
    "      yield i ** 2"
   ]
  },
  {
   "cell_type": "code",
   "execution_count": 8,
   "outputs": [],
   "source": [
    "c = my_squares_generator(1, 10, 2)"
   ],
   "metadata": {
    "collapsed": false
   }
  },
  {
   "cell_type": "code",
   "execution_count": 9,
   "outputs": [
    {
     "name": "stdout",
     "output_type": "stream",
     "text": [
      "<generator object my_squares_generator at 0x00000233955D2D40>\n",
      "1 ➡️ 9 ➡️ 25 ➡️ 49 ➡️ 81\n"
     ]
    }
   ],
   "source": [
    "print (c)\n",
    "print (*c, sep=' ➡️ ')"
   ],
   "metadata": {
    "collapsed": false
   }
  },
  {
   "cell_type": "code",
   "execution_count": 10,
   "outputs": [],
   "source": [
    "s1 = (i**2 for i in range(10))\n",
    "s2 = [i**2 for i in range(10)]"
   ],
   "metadata": {
    "collapsed": false
   }
  },
  {
   "cell_type": "code",
   "execution_count": 11,
   "outputs": [
    {
     "name": "stdout",
     "output_type": "stream",
     "text": [
      "0 ➡️ 1 ➡️ 4 ➡️ 9 ➡️ 16 ➡️ 25 ➡️ 36 ➡️ 49 ➡️ 64 ➡️ 81\n",
      "0 ➡️ 1 ➡️ 4 ➡️ 9 ➡️ 16 ➡️ 25 ➡️ 36 ➡️ 49 ➡️ 64 ➡️ 81\n"
     ]
    }
   ],
   "source": [
    "print (*s1, sep=' ➡️ ')\n",
    "print (*s2, sep=' ➡️ ')"
   ],
   "metadata": {
    "collapsed": false
   }
  },
  {
   "cell_type": "code",
   "execution_count": 11,
   "outputs": [],
   "source": [
    "\"\"\"My Iterator\"\"\""
   ],
   "metadata": {
    "collapsed": false
   }
  },
  {
   "cell_type": "code",
   "execution_count": 12,
   "outputs": [],
   "source": [
    "class MySquareIterator:\n",
    "  def __init__(self, from_, to_, step_=1):\n",
    "    self.ind = from_\n",
    "    self.start = from_\n",
    "    self.to = to_\n",
    "    self.step = step_\n",
    "\n",
    "  def __iter__(self):\n",
    "    return self\n",
    "\n",
    "  def __next__(self):\n",
    "    if self.ind > self.to:\n",
    "      raise StopIteration\n",
    "    val = self.ind ** 2\n",
    "    self.ind += self.step\n",
    "    return val\n",
    "\n",
    "  def seek(self, value=0):\n",
    "    self.ind = self.start + self.step * value\n",
    "\n",
    "  def __str__(self):\n",
    "    return f'Iterator(start:{self.start}, end:{self.to}, step:{self.step})'"
   ],
   "metadata": {
    "collapsed": false
   }
  },
  {
   "cell_type": "code",
   "execution_count": 13,
   "outputs": [
    {
     "name": "stdout",
     "output_type": "stream",
     "text": [
      "1\n",
      "9\n",
      "25\n",
      "49\n",
      "81\n",
      "<class 'StopIteration'> \n",
      "Iterator(start:1, end:10, step:2)\n"
     ]
    }
   ],
   "source": [
    "c = MySquareIterator(1,10,2)\n",
    "for i in c:\n",
    "  print(i)\n",
    "\n",
    "try:\n",
    " next(c)\n",
    "except Exception as e:\n",
    "  print(e.__class__, e)\n",
    "\n",
    "print(c)"
   ],
   "metadata": {
    "collapsed": false
   }
  }
 ],
 "metadata": {
  "kernelspec": {
   "display_name": "Python 3",
   "language": "python",
   "name": "python3"
  },
  "language_info": {
   "codemirror_mode": {
    "name": "ipython",
    "version": 2
   },
   "file_extension": ".py",
   "mimetype": "text/x-python",
   "name": "python",
   "nbconvert_exporter": "python",
   "pygments_lexer": "ipython2",
   "version": "2.7.6"
  }
 },
 "nbformat": 4,
 "nbformat_minor": 0
}
