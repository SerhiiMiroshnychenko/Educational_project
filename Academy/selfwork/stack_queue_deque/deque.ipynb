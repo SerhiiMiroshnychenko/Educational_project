{
 "cells": [
  {
   "cell_type": "code",
   "execution_count": 19,
   "metadata": {
    "collapsed": true
   },
   "outputs": [],
   "source": [
    "from collections import deque\n",
    "\n",
    "\n",
    "\"\"\"Двостороння ЧЕРГА\"\"\"\n",
    "class Deque:\n",
    "    def __init__(self):\n",
    "        self._items = deque()\n",
    "\n",
    "    def is_empty(self):\n",
    "        return not bool(self._items)\n",
    "\n",
    "    def add_front(self, item):\n",
    "        self._items.append(item)\n",
    "\n",
    "    def add_rear(self, item):\n",
    "        self._items.appendleft(item)\n",
    "\n",
    "    def remove_front(self):\n",
    "        return self._items.pop()\n",
    "\n",
    "    def remove_rear(self):\n",
    "        return self._items.popleft()\n",
    "\n",
    "    def size(self):\n",
    "        return len(self._items)\n",
    "\n",
    "    def copy(self):\n",
    "        return self._items.copy()\n",
    "\n",
    "    def clear(self):\n",
    "        self._items.clear()\n",
    "\n",
    "    def __repr__(self):\n",
    "        return f\"<Deque: `rear` {tuple(self._items)} `front`>\"\n",
    "\n",
    "    def __str__(self):\n",
    "        return self.__repr__()"
   ]
  },
  {
   "cell_type": "code",
   "execution_count": 20,
   "outputs": [
    {
     "name": "stdout",
     "output_type": "stream",
     "text": [
      "False\n"
     ]
    }
   ],
   "source": [
    "d = Deque()\n",
    "print(d.is_empty())"
   ],
   "metadata": {
    "collapsed": false
   }
  },
  {
   "cell_type": "code",
   "execution_count": 21,
   "outputs": [],
   "source": [
    "d.add_rear(4)\n",
    "d.add_rear('dog')\n",
    "d.add_front('cat')\n",
    "d.add_front(True)"
   ],
   "metadata": {
    "collapsed": false
   }
  },
  {
   "cell_type": "code",
   "execution_count": 22,
   "outputs": [
    {
     "name": "stdout",
     "output_type": "stream",
     "text": [
      "4\n"
     ]
    }
   ],
   "source": [
    "print(d.size())"
   ],
   "metadata": {
    "collapsed": false
   }
  },
  {
   "cell_type": "code",
   "execution_count": 23,
   "outputs": [
    {
     "name": "stdout",
     "output_type": "stream",
     "text": [
      "True\n"
     ]
    }
   ],
   "source": [
    "print(d.is_empty())"
   ],
   "metadata": {
    "collapsed": false
   }
  },
  {
   "cell_type": "code",
   "execution_count": 24,
   "outputs": [
    {
     "name": "stdout",
     "output_type": "stream",
     "text": [
      "<Deque: `rear` ('dog', 4, 'cat', True) `front`>\n"
     ]
    }
   ],
   "source": [
    "print(d)"
   ],
   "metadata": {
    "collapsed": false
   }
  },
  {
   "cell_type": "code",
   "execution_count": 25,
   "outputs": [],
   "source": [
    "d.add_rear(8.4)"
   ],
   "metadata": {
    "collapsed": false
   }
  },
  {
   "cell_type": "code",
   "execution_count": 26,
   "outputs": [
    {
     "name": "stdout",
     "output_type": "stream",
     "text": [
      "<Deque: `rear` (8.4, 'dog', 4, 'cat', True) `front`>\n"
     ]
    }
   ],
   "source": [
    "print(d)"
   ],
   "metadata": {
    "collapsed": false
   }
  },
  {
   "cell_type": "code",
   "execution_count": 27,
   "outputs": [
    {
     "name": "stdout",
     "output_type": "stream",
     "text": [
      "8.4\n",
      "True\n",
      "<Deque: `rear` ('dog', 4, 'cat') `front`>\n"
     ]
    }
   ],
   "source": [
    "print(d.remove_rear())\n",
    "print(d.remove_front())\n",
    "print(d)"
   ],
   "metadata": {
    "collapsed": false
   }
  }
 ],
 "metadata": {
  "kernelspec": {
   "display_name": "Python 3",
   "language": "python",
   "name": "python3"
  },
  "language_info": {
   "codemirror_mode": {
    "name": "ipython",
    "version": 2
   },
   "file_extension": ".py",
   "mimetype": "text/x-python",
   "name": "python",
   "nbconvert_exporter": "python",
   "pygments_lexer": "ipython2",
   "version": "2.7.6"
  }
 },
 "nbformat": 4,
 "nbformat_minor": 0
}
