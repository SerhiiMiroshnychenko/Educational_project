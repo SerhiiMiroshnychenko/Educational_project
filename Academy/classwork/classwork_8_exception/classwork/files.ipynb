{
 "cells": [
  {
   "cell_type": "markdown",
   "source": [
    "fileobj = open(filename, mode)Перша літера рядка mode вказує на операцію з файлом:\n",
    "\n",
    "r - означає читання з файла\n",
    "w - означає запис в існуючий файл (якщо файла не існує, він буде створений)\n",
    "x - означає запис у новий файл, тобто, якщо файл існує то виникне помилка\n",
    "a - означає додавання в кінець файла, якщо файл існує\n",
    "\n",
    "Друга літера рядка mode вказує на тип файла:\n",
    "t (або нічого) - означає, що файл текстовий\n",
    "b - означає, що файл бінарний"
   ],
   "metadata": {
    "collapsed": false
   }
  },
  {
   "cell_type": "code",
   "execution_count": 10,
   "outputs": [],
   "source": [
    "fileobj = open('poem.txt', 'r', encoding='utf-8') #encoding='utf-8'"
   ],
   "metadata": {
    "collapsed": false
   }
  },
  {
   "cell_type": "code",
   "execution_count": 11,
   "outputs": [
    {
     "data": {
      "text/plain": "<_io.TextIOWrapper name='poem.txt' mode='r' encoding='utf-8'>"
     },
     "execution_count": 11,
     "metadata": {},
     "output_type": "execute_result"
    }
   ],
   "source": [
    "fileobj"
   ],
   "metadata": {
    "collapsed": false
   }
  },
  {
   "cell_type": "code",
   "execution_count": 12,
   "outputs": [
    {
     "data": {
      "text/plain": "'Була весна весела, щедра, мила,\\nПромінням грала, сипала квітки,\\nВона летіла хутко, мов стокрила,\\nЗа нею вслід співучії пташки!'"
     },
     "execution_count": 12,
     "metadata": {},
     "output_type": "execute_result"
    }
   ],
   "source": [
    "fileobj.read()"
   ],
   "metadata": {
    "collapsed": false
   }
  },
  {
   "cell_type": "code",
   "execution_count": 14,
   "outputs": [
    {
     "ename": "ValueError",
     "evalue": "I/O operation on closed file.",
     "output_type": "error",
     "traceback": [
      "\u001B[1;31m---------------------------------------------------------------------------\u001B[0m",
      "\u001B[1;31mValueError\u001B[0m                                Traceback (most recent call last)",
      "Cell \u001B[1;32mIn [14], line 2\u001B[0m\n\u001B[0;32m      1\u001B[0m fileobj\u001B[38;5;241m.\u001B[39mclose()\n\u001B[1;32m----> 2\u001B[0m \u001B[43mfileobj\u001B[49m\u001B[38;5;241;43m.\u001B[39;49m\u001B[43mread\u001B[49m\u001B[43m(\u001B[49m\u001B[43m)\u001B[49m\n",
      "\u001B[1;31mValueError\u001B[0m: I/O operation on closed file."
     ]
    }
   ],
   "source": [
    "fileobj.close()\n",
    "fileobj.read()"
   ],
   "metadata": {
    "collapsed": false
   }
  },
  {
   "cell_type": "markdown",
   "source": [
    "Запис даних у файл"
   ],
   "metadata": {
    "collapsed": false
   }
  },
  {
   "cell_type": "code",
   "execution_count": 15,
   "outputs": [],
   "source": [
    "poem = '''The mighty Dnieper roars and bellows,\n",
    "The wind in anger howls and raves,\n",
    "Down to the ground it bends the willows,\n",
    "And mountain-high lifts up the waves.'''\n",
    "hello = 'Hello'"
   ],
   "metadata": {
    "collapsed": false
   }
  },
  {
   "cell_type": "code",
   "execution_count": 16,
   "outputs": [
    {
     "name": "stdout",
     "output_type": "stream",
     "text": [
      "5\n"
     ]
    }
   ],
   "source": [
    "frecord = open('result.txt', 'wt')\n",
    "a = frecord.write(hello)\n",
    "frecord.close()\n",
    "print(a)\n"
   ],
   "metadata": {
    "collapsed": false
   }
  },
  {
   "cell_type": "code",
   "execution_count": 17,
   "outputs": [
    {
     "name": "stdout",
     "output_type": "stream",
     "text": [
      "151\n"
     ]
    }
   ],
   "source": [
    "frecord = open('result.txt', 'at')\n",
    "a = frecord.write(poem)\n",
    "frecord.close()\n",
    "print(a)"
   ],
   "metadata": {
    "collapsed": false
   }
  },
  {
   "cell_type": "code",
   "execution_count": 18,
   "outputs": [],
   "source": [
    "# frecord = open('result.txt', 'wt')\n",
    "# print(poem, file=frecord)\n",
    "# frecord.close()\n",
    "\n",
    "frecord = open('result.txt', 'wt')\n",
    "print(poem, hello, file=frecord, sep='\\n', end='')\n",
    "frecord.close()"
   ],
   "metadata": {
    "collapsed": false
   }
  },
  {
   "cell_type": "markdown",
   "source": [
    "Захист від перезапису файлу"
   ],
   "metadata": {
    "collapsed": false
   }
  },
  {
   "cell_type": "code",
   "execution_count": 24,
   "outputs": [
    {
     "ename": "FileExistsError",
     "evalue": "[Errno 17] File exists: 'result1.txt'",
     "output_type": "error",
     "traceback": [
      "\u001B[1;31m---------------------------------------------------------------------------\u001B[0m",
      "\u001B[1;31mFileExistsError\u001B[0m                           Traceback (most recent call last)",
      "Cell \u001B[1;32mIn [24], line 1\u001B[0m\n\u001B[1;32m----> 1\u001B[0m frecord \u001B[38;5;241m=\u001B[39m \u001B[38;5;28;43mopen\u001B[39;49m\u001B[43m(\u001B[49m\u001B[38;5;124;43m'\u001B[39;49m\u001B[38;5;124;43mresult1.txt\u001B[39;49m\u001B[38;5;124;43m'\u001B[39;49m\u001B[43m,\u001B[49m\u001B[43m \u001B[49m\u001B[38;5;124;43m'\u001B[39;49m\u001B[38;5;124;43mxt\u001B[39;49m\u001B[38;5;124;43m'\u001B[39;49m\u001B[43m)\u001B[49m\n",
      "File \u001B[1;32mD:\\Python\\Beetroot\\venv\\Lib\\site-packages\\IPython\\core\\interactiveshell.py:282\u001B[0m, in \u001B[0;36m_modified_open\u001B[1;34m(file, *args, **kwargs)\u001B[0m\n\u001B[0;32m    275\u001B[0m \u001B[38;5;28;01mif\u001B[39;00m file \u001B[38;5;129;01min\u001B[39;00m {\u001B[38;5;241m0\u001B[39m, \u001B[38;5;241m1\u001B[39m, \u001B[38;5;241m2\u001B[39m}:\n\u001B[0;32m    276\u001B[0m     \u001B[38;5;28;01mraise\u001B[39;00m \u001B[38;5;167;01mValueError\u001B[39;00m(\n\u001B[0;32m    277\u001B[0m         \u001B[38;5;124mf\u001B[39m\u001B[38;5;124m\"\u001B[39m\u001B[38;5;124mIPython won\u001B[39m\u001B[38;5;124m'\u001B[39m\u001B[38;5;124mt let you open fd=\u001B[39m\u001B[38;5;132;01m{\u001B[39;00mfile\u001B[38;5;132;01m}\u001B[39;00m\u001B[38;5;124m by default \u001B[39m\u001B[38;5;124m\"\u001B[39m\n\u001B[0;32m    278\u001B[0m         \u001B[38;5;124m\"\u001B[39m\u001B[38;5;124mas it is likely to crash IPython. If you know what you are doing, \u001B[39m\u001B[38;5;124m\"\u001B[39m\n\u001B[0;32m    279\u001B[0m         \u001B[38;5;124m\"\u001B[39m\u001B[38;5;124myou can use builtins\u001B[39m\u001B[38;5;124m'\u001B[39m\u001B[38;5;124m open.\u001B[39m\u001B[38;5;124m\"\u001B[39m\n\u001B[0;32m    280\u001B[0m     )\n\u001B[1;32m--> 282\u001B[0m \u001B[38;5;28;01mreturn\u001B[39;00m \u001B[43mio_open\u001B[49m\u001B[43m(\u001B[49m\u001B[43mfile\u001B[49m\u001B[43m,\u001B[49m\u001B[43m \u001B[49m\u001B[38;5;241;43m*\u001B[39;49m\u001B[43margs\u001B[49m\u001B[43m,\u001B[49m\u001B[43m \u001B[49m\u001B[38;5;241;43m*\u001B[39;49m\u001B[38;5;241;43m*\u001B[39;49m\u001B[43mkwargs\u001B[49m\u001B[43m)\u001B[49m\n",
      "\u001B[1;31mFileExistsError\u001B[0m: [Errno 17] File exists: 'result1.txt'"
     ]
    }
   ],
   "source": [
    "frecord = open('result1.txt', 'xt')"
   ],
   "metadata": {
    "collapsed": false
   }
  },
  {
   "cell_type": "code",
   "execution_count": 20,
   "outputs": [],
   "source": [
    "frecord.write(poem)\n",
    "frecord.close()"
   ],
   "metadata": {
    "collapsed": false
   }
  },
  {
   "cell_type": "code",
   "execution_count": 21,
   "outputs": [
    {
     "name": "stdout",
     "output_type": "stream",
     "text": [
      "result1.txt already exists!\n"
     ]
    }
   ],
   "source": [
    "try:\n",
    "    frecord = open('result1.txt', 'xt')\n",
    "    frecord.write(poem)\n",
    "except FileExistsError:\n",
    "    print('result1.txt already exists!')"
   ],
   "metadata": {
    "collapsed": false
   }
  },
  {
   "cell_type": "markdown",
   "source": [
    "Зчитування файлу read() and readline()"
   ],
   "metadata": {
    "collapsed": false
   }
  },
  {
   "cell_type": "code",
   "execution_count": 42,
   "outputs": [],
   "source": [
    "freading = open('result.txt', 'rt' )"
   ],
   "metadata": {
    "collapsed": false
   }
  },
  {
   "cell_type": "code",
   "execution_count": 41,
   "outputs": [
    {
     "name": "stdout",
     "output_type": "stream",
     "text": [
      "The mighty Dnieper roars and b\n",
      "30\n"
     ]
    }
   ],
   "source": [
    "poem = freading.read()\n",
    "print(poem)\n",
    "print(len(poem))"
   ],
   "metadata": {
    "collapsed": false
   }
  },
  {
   "cell_type": "code",
   "execution_count": 43,
   "outputs": [
    {
     "name": "stdout",
     "output_type": "stream",
     "text": [
      "The mighty Dnieper roars and b\n",
      "30\n"
     ]
    }
   ],
   "source": [
    "poem = freading.read(30)\n",
    "print(poem)\n",
    "print(len(poem))"
   ],
   "metadata": {
    "collapsed": false
   }
  },
  {
   "cell_type": "code",
   "execution_count": 54,
   "outputs": [
    {
     "name": "stdout",
     "output_type": "stream",
     "text": [
      "The mighty\n",
      "10\n",
      "10\n",
      "0\n",
      "The mighty Dnieper roars and bellows,\n",
      "The wind in \n",
      "anger howls and raves,\n",
      "Down to the ground it bends\n"
     ]
    },
    {
     "data": {
      "text/plain": "0"
     },
     "execution_count": 54,
     "metadata": {},
     "output_type": "execute_result"
    }
   ],
   "source": [
    "freading.seek(0)\n",
    "poem = freading.read(10)\n",
    "print(poem)\n",
    "print(len(poem))\n",
    "print(freading.tell())\n",
    "freading.seek(0)\n",
    "print(freading.tell())\n",
    "poem = freading.read(50)\n",
    "print(poem)\n",
    "print(freading.read(50))\n",
    "freading.seek(0)"
   ],
   "metadata": {
    "collapsed": false
   }
  },
  {
   "cell_type": "code",
   "execution_count": 55,
   "outputs": [
    {
     "name": "stdout",
     "output_type": "stream",
     "text": [
      "60\n",
      "60\n",
      "37\n",
      "The mighty Dnieper roars and bellows,\n",
      "The wind in anger howls and raves,\n",
      "Down to the ground it bends the willows,\n",
      "And mountain-high lifts up the waves.\n",
      "Hello\n"
     ]
    }
   ],
   "source": [
    "poem = ''\n",
    "chunk = 60\n",
    "while True:\n",
    "    fragment = freading.read(chunk)\n",
    "    if not fragment:\n",
    "        break\n",
    "    poem += fragment\n",
    "    print(len(fragment))\n",
    "print(poem)"
   ],
   "metadata": {
    "collapsed": false
   }
  },
  {
   "cell_type": "code",
   "execution_count": 56,
   "outputs": [
    {
     "name": "stdout",
     "output_type": "stream",
     "text": [
      "The mighty Dnieper roars and bellows,\n",
      "The wind in anger howls and raves,\n",
      "Down to the ground it bends the willows,\n",
      "And mountain-high lifts up the waves.\n",
      "Hello"
     ]
    }
   ],
   "source": [
    "poem = ''\n",
    "freading = open('result.txt', 'rt' )\n",
    "while True:\n",
    "    line = freading.readline()\n",
    "    if not line:\n",
    "        break\n",
    "    # poem += line\n",
    "    print(line, end='')"
   ],
   "metadata": {
    "collapsed": false
   }
  },
  {
   "cell_type": "code",
   "execution_count": 57,
   "outputs": [
    {
     "name": "stdout",
     "output_type": "stream",
     "text": [
      "The mighty Dnieper roars and bellows,\n",
      "\n",
      "The wind in anger howls and raves,\n",
      "\n",
      "Down to the ground it bends the willows,\n",
      "\n",
      "And mountain-high lifts up the waves.\n",
      "\n",
      "Hello\n"
     ]
    }
   ],
   "source": [
    "freading = open('result.txt', 'rt' )\n",
    "poem = ''\n",
    "for line in freading:\n",
    "    # poem += line\n",
    "    print(line)\n",
    "# print(poem)"
   ],
   "metadata": {
    "collapsed": false
   }
  },
  {
   "cell_type": "code",
   "execution_count": 59,
   "outputs": [
    {
     "name": "stdout",
     "output_type": "stream",
     "text": [
      "5 lines read\n",
      "['The mighty Dnieper roars and bellows,\\n', 'The wind in anger howls and raves,\\n', 'Down to the ground it bends the willows,\\n', 'And mountain-high lifts up the waves.\\n', 'Hello'] <class 'list'>\n",
      "The mighty Dnieper roars and bellows,\n",
      "The wind in anger howls and raves,\n",
      "Down to the ground it bends the willows,\n",
      "And mountain-high lifts up the waves.\n",
      "Hello\n"
     ]
    }
   ],
   "source": [
    "freading = open('result.txt', 'rt' )\n",
    "lines = freading.readlines()\n",
    "print(len(lines), 'lines read')\n",
    "print(lines, type(lines))\n",
    "for line in lines:\n",
    "    print(line.rstrip()) #Функція rstrip() видаляє символи нового рядка \\n у кожному із виведених рядків,\n",
    "                         # окрім останнього, в якому цей символ відсутній.\n",
    "freading.close()"
   ],
   "metadata": {
    "collapsed": false
   }
  },
  {
   "cell_type": "markdown",
   "source": [
    "Інструкція with (автоматичне закриття файлу)\n",
    "\n",
    "with вираз as змінна:\n",
    "\tблок коду"
   ],
   "metadata": {
    "collapsed": false
   }
  },
  {
   "cell_type": "code",
   "execution_count": 60,
   "outputs": [
    {
     "ename": "ValueError",
     "evalue": "I/O operation on closed file.",
     "output_type": "error",
     "traceback": [
      "\u001B[1;31m---------------------------------------------------------------------------\u001B[0m",
      "\u001B[1;31mValueError\u001B[0m                                Traceback (most recent call last)",
      "Cell \u001B[1;32mIn [60], line 4\u001B[0m\n\u001B[0;32m      1\u001B[0m \u001B[38;5;28;01mwith\u001B[39;00m \u001B[38;5;28mopen\u001B[39m(\u001B[38;5;124m'\u001B[39m\u001B[38;5;124mresult.txt\u001B[39m\u001B[38;5;124m'\u001B[39m, \u001B[38;5;124m'\u001B[39m\u001B[38;5;124mwt\u001B[39m\u001B[38;5;124m'\u001B[39m) \u001B[38;5;28;01mas\u001B[39;00m freading:\n\u001B[0;32m      2\u001B[0m \tfreading\u001B[38;5;241m.\u001B[39mwrite(poem)\n\u001B[1;32m----> 4\u001B[0m \u001B[43mfreading\u001B[49m\u001B[38;5;241;43m.\u001B[39;49m\u001B[43mread\u001B[49m\u001B[43m(\u001B[49m\u001B[43m)\u001B[49m\n",
      "\u001B[1;31mValueError\u001B[0m: I/O operation on closed file."
     ]
    }
   ],
   "source": [
    "with open('result.txt', 'wt') as freading:\n",
    "\tfreading.write(poem)\n",
    "\n",
    "freading.read()"
   ],
   "metadata": {
    "collapsed": false
   }
  },
  {
   "cell_type": "code",
   "execution_count": 62,
   "outputs": [
    {
     "name": "stdout",
     "output_type": "stream",
     "text": [
      "The mighty Dnieper roars and bellows,\n",
      "The wind in anger howls and raves,\n",
      "Down to the ground it bends the willows,\n",
      "And mountain-high lifts up the waves.\n",
      "Hello\n",
      "157\n",
      "<class 'str'>\n"
     ]
    }
   ],
   "source": [
    "with open('result.txt') as f:\n",
    "\tpoem = f.read()\n",
    "\n",
    "print(poem, len(poem), type(poem), sep='\\n')"
   ],
   "metadata": {
    "collapsed": false
   }
  },
  {
   "cell_type": "markdown",
   "source": [
    "# JSON"
   ],
   "metadata": {
    "collapsed": false
   }
  },
  {
   "cell_type": "code",
   "execution_count": 65,
   "outputs": [],
   "source": [
    "import json"
   ],
   "metadata": {
    "collapsed": false
   }
  },
  {
   "cell_type": "code",
   "execution_count": 64,
   "outputs": [
    {
     "ename": "FileNotFoundError",
     "evalue": "[Errno 2] No such file or directory: 'nasa.json'",
     "output_type": "error",
     "traceback": [
      "\u001B[1;31m---------------------------------------------------------------------------\u001B[0m",
      "\u001B[1;31mFileNotFoundError\u001B[0m                         Traceback (most recent call last)",
      "Cell \u001B[1;32mIn [64], line 1\u001B[0m\n\u001B[1;32m----> 1\u001B[0m \u001B[38;5;28;01mwith\u001B[39;00m \u001B[38;5;28;43mopen\u001B[39;49m\u001B[43m(\u001B[49m\u001B[38;5;124;43m'\u001B[39;49m\u001B[38;5;124;43mnasa.json\u001B[39;49m\u001B[38;5;124;43m'\u001B[39;49m\u001B[43m,\u001B[49m\u001B[43m \u001B[49m\u001B[38;5;124;43m'\u001B[39;49m\u001B[38;5;124;43mr\u001B[39;49m\u001B[38;5;124;43m'\u001B[39;49m\u001B[43m)\u001B[49m \u001B[38;5;28;01mas\u001B[39;00m file_json:\n\u001B[0;32m      2\u001B[0m     weather \u001B[38;5;241m=\u001B[39m json\u001B[38;5;241m.\u001B[39mload(file_json)\n\u001B[0;32m      3\u001B[0m     \u001B[38;5;28mprint\u001B[39m(weather)\n",
      "File \u001B[1;32mD:\\Python\\Beetroot\\venv\\Lib\\site-packages\\IPython\\core\\interactiveshell.py:282\u001B[0m, in \u001B[0;36m_modified_open\u001B[1;34m(file, *args, **kwargs)\u001B[0m\n\u001B[0;32m    275\u001B[0m \u001B[38;5;28;01mif\u001B[39;00m file \u001B[38;5;129;01min\u001B[39;00m {\u001B[38;5;241m0\u001B[39m, \u001B[38;5;241m1\u001B[39m, \u001B[38;5;241m2\u001B[39m}:\n\u001B[0;32m    276\u001B[0m     \u001B[38;5;28;01mraise\u001B[39;00m \u001B[38;5;167;01mValueError\u001B[39;00m(\n\u001B[0;32m    277\u001B[0m         \u001B[38;5;124mf\u001B[39m\u001B[38;5;124m\"\u001B[39m\u001B[38;5;124mIPython won\u001B[39m\u001B[38;5;124m'\u001B[39m\u001B[38;5;124mt let you open fd=\u001B[39m\u001B[38;5;132;01m{\u001B[39;00mfile\u001B[38;5;132;01m}\u001B[39;00m\u001B[38;5;124m by default \u001B[39m\u001B[38;5;124m\"\u001B[39m\n\u001B[0;32m    278\u001B[0m         \u001B[38;5;124m\"\u001B[39m\u001B[38;5;124mas it is likely to crash IPython. If you know what you are doing, \u001B[39m\u001B[38;5;124m\"\u001B[39m\n\u001B[0;32m    279\u001B[0m         \u001B[38;5;124m\"\u001B[39m\u001B[38;5;124myou can use builtins\u001B[39m\u001B[38;5;124m'\u001B[39m\u001B[38;5;124m open.\u001B[39m\u001B[38;5;124m\"\u001B[39m\n\u001B[0;32m    280\u001B[0m     )\n\u001B[1;32m--> 282\u001B[0m \u001B[38;5;28;01mreturn\u001B[39;00m \u001B[43mio_open\u001B[49m\u001B[43m(\u001B[49m\u001B[43mfile\u001B[49m\u001B[43m,\u001B[49m\u001B[43m \u001B[49m\u001B[38;5;241;43m*\u001B[39;49m\u001B[43margs\u001B[49m\u001B[43m,\u001B[49m\u001B[43m \u001B[49m\u001B[38;5;241;43m*\u001B[39;49m\u001B[38;5;241;43m*\u001B[39;49m\u001B[43mkwargs\u001B[49m\u001B[43m)\u001B[49m\n",
      "\u001B[1;31mFileNotFoundError\u001B[0m: [Errno 2] No such file or directory: 'nasa.json'"
     ]
    }
   ],
   "source": [
    "with open('nasa.json', 'r') as file_json:\n",
    "    weather = json.load(file_json)\n",
    "    print(weather)\n",
    "    print(weather['validity_checks']['sols_checked'])\n",
    "    print(isinstance(weather, dict))"
   ],
   "metadata": {
    "collapsed": false
   }
  },
  {
   "cell_type": "code",
   "execution_count": 66,
   "outputs": [
    {
     "ename": "NameError",
     "evalue": "name 'weather' is not defined",
     "output_type": "error",
     "traceback": [
      "\u001B[1;31m---------------------------------------------------------------------------\u001B[0m",
      "\u001B[1;31mNameError\u001B[0m                                 Traceback (most recent call last)",
      "Cell \u001B[1;32mIn [66], line 1\u001B[0m\n\u001B[1;32m----> 1\u001B[0m weather_str \u001B[38;5;241m=\u001B[39m json\u001B[38;5;241m.\u001B[39mdumps(\u001B[43mweather\u001B[49m)\n\u001B[0;32m      2\u001B[0m \u001B[38;5;28mprint\u001B[39m(weather_str)\n\u001B[0;32m      3\u001B[0m \u001B[38;5;28mprint\u001B[39m(\u001B[38;5;28misinstance\u001B[39m(weather_str, \u001B[38;5;28mstr\u001B[39m))\n",
      "\u001B[1;31mNameError\u001B[0m: name 'weather' is not defined"
     ]
    }
   ],
   "source": [
    "weather_str = json.dumps(weather)\n",
    "print(weather_str)\n",
    "print(isinstance(weather_str, str))\n",
    "len(weather_str)"
   ],
   "metadata": {
    "collapsed": false
   }
  },
  {
   "cell_type": "code",
   "execution_count": 67,
   "outputs": [
    {
     "ename": "NameError",
     "evalue": "name 'weather' is not defined",
     "output_type": "error",
     "traceback": [
      "\u001B[1;31m---------------------------------------------------------------------------\u001B[0m",
      "\u001B[1;31mNameError\u001B[0m                                 Traceback (most recent call last)",
      "Cell \u001B[1;32mIn [67], line 2\u001B[0m\n\u001B[0;32m      1\u001B[0m \u001B[38;5;28;01mwith\u001B[39;00m \u001B[38;5;28mopen\u001B[39m(\u001B[38;5;124m'\u001B[39m\u001B[38;5;124mdata.json\u001B[39m\u001B[38;5;124m'\u001B[39m, \u001B[38;5;124m'\u001B[39m\u001B[38;5;124mw\u001B[39m\u001B[38;5;124m'\u001B[39m) \u001B[38;5;28;01mas\u001B[39;00m file_json:\n\u001B[1;32m----> 2\u001B[0m     json\u001B[38;5;241m.\u001B[39mdump(\u001B[43mweather\u001B[49m, file_json)\n",
      "\u001B[1;31mNameError\u001B[0m: name 'weather' is not defined"
     ]
    }
   ],
   "source": [
    "with open('data.json', 'w') as file_json:\n",
    "    json.dump(weather, file_json)"
   ],
   "metadata": {
    "collapsed": false
   }
  },
  {
   "cell_type": "code",
   "execution_count": 7,
   "outputs": [
    {
     "name": "stdout",
     "output_type": "stream",
     "text": [
      "{'sol_keys': [], 'validity_checks': {'1197': {'AT': {'sol_hours_with_data': [7, 8, 9, 10, 11, 12, 13, 14, 15, 16, 17, 18, 19, 20, 21], 'valid': False}, 'HWS': {'sol_hours_with_data': [7, 8, 9, 10, 11, 12, 13, 14, 15, 16, 17, 18, 19, 20, 21], 'valid': False}, 'PRE': {'sol_hours_with_data': [7, 8, 9, 10, 11, 12, 13, 14, 15, 16, 17, 18, 19, 20, 21], 'valid': False}, 'WD': {'sol_hours_with_data': [7, 8, 9, 10, 11, 12, 13, 14, 15, 16, 17, 18, 19, 20, 21], 'valid': False}}, '1199': {'AT': {'sol_hours_with_data': [20, 21, 22, 23], 'valid': False}, 'PRE': {'sol_hours_with_data': [20, 21, 22, 23], 'valid': False}}, '1200': {'AT': {'sol_hours_with_data': [0, 1, 2, 3, 4, 5, 6, 7, 8], 'valid': False}, 'PRE': {'sol_hours_with_data': [0, 1, 2, 3, 4, 5, 6, 7, 8], 'valid': False}}, 'sol_hours_required': 18, 'sols_checked': ['1197', '1199', '1200']}}\n",
      "True\n"
     ]
    }
   ],
   "source": [
    "weather_dict = json.loads(weather_str)\n",
    "print(weather_dict)\n",
    "print(isinstance(weather_dict, dict))"
   ],
   "metadata": {
    "collapsed": false
   }
  },
  {
   "cell_type": "code",
   "execution_count": null,
   "outputs": [],
   "source": [],
   "metadata": {
    "collapsed": false
   }
  }
 ],
 "metadata": {
  "kernelspec": {
   "display_name": "Python 3",
   "language": "python",
   "name": "python3"
  },
  "language_info": {
   "codemirror_mode": {
    "name": "ipython",
    "version": 2
   },
   "file_extension": ".py",
   "mimetype": "text/x-python",
   "name": "python",
   "nbconvert_exporter": "python",
   "pygments_lexer": "ipython2",
   "version": "2.7.6"
  }
 },
 "nbformat": 4,
 "nbformat_minor": 0
}
