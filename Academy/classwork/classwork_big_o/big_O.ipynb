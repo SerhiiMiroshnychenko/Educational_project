{
 "cells": [
  {
   "cell_type": "markdown",
   "source": [
    "## Introduction to algorithms and how to measure algorithms’ efficiency."
   ],
   "metadata": {
    "collapsed": false
   }
  },
  {
   "cell_type": "markdown",
   "source": [
    "The word Algorithm means “a process or set of rules to be followed in calculations or other problem-solving operations”. Therefore Algorithm refers to a set of rules/instructions that step-by-step define how a work is to be executed upon in order to get the expected results."
   ],
   "metadata": {
    "collapsed": false
   }
  },
  {
   "cell_type": "markdown",
   "source": [
    "In order for some instructions to be an algorithm, it must have the following characteristics:\n",
    "\n",
    "- Clear and Unambiguous: Algorithm should be clear and unambiguous. Each of its steps should be clear in all aspects and must lead to only one meaning.\n",
    "- Well-Defined Inputs: If an algorithm says to take inputs, it should be well-defined inputs.\n",
    "- Well-Defined Outputs: The algorithm must clearly define what output will be yielded and it should be well-defined as well.\n",
    "- Finite-ness: The algorithm must be finite, i.e. it should not end up in an infinite loops or similar.\n",
    "- Feasible: The algorithm must be simple, generic and practical, such that it can be executed upon with the available resources. It must not contain some future technology, or anything.\n",
    "- Language Independent: The Algorithm designed must be language-independent, i.e. it must be just plain instructions that can be implemented in any language, and yet the output will be same, as expected."
   ],
   "metadata": {
    "collapsed": false
   }
  },
  {
   "cell_type": "code",
   "execution_count": 1,
   "outputs": [
    {
     "name": "stdout",
     "output_type": "stream",
     "text": [
      "\n",
      "Sum of the 3 numbers is: 6\n"
     ]
    }
   ],
   "source": [
    "if __name__ == \"__main__\":\n",
    "\n",
    "    # Variables to take the input of\n",
    "    # the 3 numbers\n",
    "    num1 = num2 = num3 = 0\n",
    "\n",
    "    # Variable to store the resultant sum\n",
    "    sum = 0\n",
    "\n",
    "    # Take the 3 numbers as input\n",
    "    num1 = int(input(\"Enter the 1st number: \"))\n",
    "\n",
    "    num2 = int(input(\"Enter the 2nd number: \"))\n",
    "\n",
    "    num3 = int(input(\"Enter the 3rd number: \"))\n",
    "\n",
    "    # Calculate the sum using + operator\n",
    "    # and store it in variable sum\n",
    "    sum = num1 + num2 + num3\n",
    "\n",
    "    # Print the sum\n",
    "    print(\"\\nSum of the 3 numbers is:\", sum)"
   ],
   "metadata": {
    "collapsed": false
   }
  },
  {
   "cell_type": "markdown",
   "source": [
    "1. Priori Analysis: “Priori” means “before”. Hence Priori analysis means checking the algorithm before its implementation. In this, the algorithm is checked when it is written in the form of theoretical steps. This Efficiency of an algorithm is measured by assuming that all other factors, for example, processor speed, are constant and have no effect on the implementation. This is done usually by the algorithm designer. It is in this method, that the Algorithm Complexity is determined.\n",
    "2. Posterior Analysis: “Posterior” means “after”. Hence Posterior analysis means checking the algorithm after its implementation. In this, the algorithm is checked by implementing it in any programming language and executing it. This analysis helps to get the actual and real analysis report about correctness, space required, time consumed etc."
   ],
   "metadata": {
    "collapsed": false
   }
  },
  {
   "cell_type": "code",
   "execution_count": 1,
   "outputs": [],
   "source": [
    "from functools import wraps\n",
    "import tracemalloc\n",
    "from time import perf_counter\n",
    "\n",
    "\n",
    "def info(func):\n",
    "    @wraps(func)\n",
    "    def show(*args, **kwargs):\n",
    "        tracemalloc.start()\n",
    "        start = perf_counter()\n",
    "        func(*args, **kwargs)\n",
    "        main, pick = tracemalloc.get_traced_memory()\n",
    "        end = perf_counter()\n",
    "        print(f'Function name {func.__name__}')\n",
    "        print(f'Docstring {func.__doc__}')\n",
    "        print(f'Memory usage {main / 10**6:.6f} MB')\n",
    "        print(f'Pick usage {pick / 10**6:.6f} MB')\n",
    "        print(f'Time {end - start:.6f}')\n",
    "        print(f'{\"-\"*40}')\n",
    "        tracemalloc.stop()\n",
    "    return show"
   ],
   "metadata": {
    "collapsed": false
   }
  },
  {
   "cell_type": "code",
   "execution_count": 2,
   "outputs": [
    {
     "name": "stdout",
     "output_type": "stream",
     "text": [
      "\n",
      "Sum of the 3 numbers is: 6\n",
      "Function name sum_\n",
      "Docstring None\n",
      "Memory usage 0.004859 MB\n",
      "Pick usage 0.007864 MB\n",
      "Time 4.836334\n",
      "----------------------------------------\n"
     ]
    }
   ],
   "source": [
    "@info\n",
    "def sum_():\n",
    "    num1 = int(input(\"Enter the 1st number: \"))\n",
    "    num2 = int(input(\"Enter the 2nd number: \"))\n",
    "    num3 = int(input(\"Enter the 3rd number: \"))\n",
    "\n",
    "    sum = num1 + num2 + num3\n",
    "\n",
    "    print(\"\\nSum of the 3 numbers is:\", sum)\n",
    "\n",
    "sum_()"
   ],
   "metadata": {
    "collapsed": false
   }
  },
  {
   "cell_type": "markdown",
   "source": [
    "## Asymptotic algorithm analysis and Big O notation."
   ],
   "metadata": {
    "collapsed": false
   }
  },
  {
   "cell_type": "markdown",
   "source": [
    "https://stackabuse.com/big-o-notation-and-algorithm-analysis-with-python-examples/"
   ],
   "metadata": {
    "collapsed": false
   }
  },
  {
   "cell_type": "code",
   "execution_count": null,
   "outputs": [],
   "source": [
    "def constant_algo(items):\n",
    "    result = items[0] * items[0]\n",
    "    print(result)\n",
    "\n",
    "constant_algo([4, 5, 6, 8])"
   ],
   "metadata": {
    "collapsed": false
   }
  },
  {
   "cell_type": "code",
   "execution_count": null,
   "metadata": {
    "collapsed": true
   },
   "outputs": [],
   "source": [
    "def linear_algo(items):\n",
    "    for item in items:\n",
    "        print(item)\n",
    "\n",
    "linear_algo([4, 5, 6, 8])"
   ]
  },
  {
   "cell_type": "code",
   "execution_count": null,
   "outputs": [],
   "source": [
    "def quadratic_algo(items):\n",
    "    for item in items:\n",
    "        for item2 in items:\n",
    "            print(item, item2, sep=' - ')\n",
    "\n",
    "quadratic_algo([4, 5, 6, 8])"
   ],
   "metadata": {
    "collapsed": false
   }
  },
  {
   "cell_type": "code",
   "execution_count": null,
   "outputs": [],
   "source": [
    "def complex_algo(items):\n",
    "\n",
    "    for i in range(5):\n",
    "        print(\"Python is awesome\")\n",
    "\n",
    "    for item in items:\n",
    "        print(item)\n",
    "\n",
    "    for item in items:\n",
    "        print(item)\n",
    "\n",
    "    print(\"Big O\")\n",
    "\n",
    "complex_algo([4, 5, 6, 8])"
   ],
   "metadata": {
    "collapsed": false
   }
  },
  {
   "cell_type": "markdown",
   "source": [
    "### Omega Notation, Ω\n",
    "The notation Ω(n) is the formal way to express the lower bound of an algorithm's running time. It measures the best case time complexity or the best amount of time an algorithm can possibly take to complete."
   ],
   "metadata": {
    "collapsed": false
   }
  },
  {
   "cell_type": "code",
   "execution_count": null,
   "outputs": [],
   "source": [
    "# Function to print all possible pairs\n",
    "def printt(a, n) :\n",
    "    for i in range(n) :\n",
    "        for j in range(n) :\n",
    "            if i != j:\n",
    "                print(a[i], a[j])\n",
    "\n",
    "a = [1, 2, 3]\n",
    "\n",
    "n = len(a)\n",
    "\n",
    "printt(a, n)"
   ],
   "metadata": {
    "collapsed": false
   }
  },
  {
   "cell_type": "markdown",
   "source": [
    "### Theta Notation, θ\n",
    "The notation θ(n) is the formal way to express both the lower bound and the upper bound of an algorithm's running time."
   ],
   "metadata": {
    "collapsed": false
   }
  },
  {
   "cell_type": "code",
   "execution_count": null,
   "outputs": [],
   "source": [
    "def linearSearch(a, n, key):\n",
    "\tfor i in range(n):\n",
    "\t\tif a[i] == key:\n",
    "\t\t\treturn True\n",
    "\treturn False\n",
    "\n",
    "arr = 2, 3, 4, 10, 40\n",
    "x = 10\n",
    "n = len(arr)\n",
    "\n",
    "if linearSearch(arr, n, x):\n",
    "\tprint(\"Element is present in array\")\n",
    "else:\n",
    "\tprint(\"Element is not present in array\")"
   ],
   "metadata": {
    "collapsed": false
   }
  },
  {
   "cell_type": "markdown",
   "source": [
    "## Big O notation and python data structures\n",
    "https://medium.com/fintechexplained/time-complexities-of-python-data-structures-ddb7503790ef"
   ],
   "metadata": {
    "collapsed": false
   }
  },
  {
   "cell_type": "markdown",
   "source": [
    "### List"
   ],
   "metadata": {
    "collapsed": false
   }
  },
  {
   "cell_type": "code",
   "execution_count": null,
   "outputs": [],
   "source": [
    "list_ = [1, 2, 3, 4, 5, 6]\n",
    "n = 3\n",
    "list_.insert(n, 0) # O(n)\n",
    "list_[n] # O(1)\n",
    "list_.pop(n) # O(n)\n",
    "list_.pop() # O(1)\n",
    "[print(i) for i in list_] # O(n)\n",
    "len(list_) # O(1)"
   ],
   "metadata": {
    "collapsed": false
   }
  },
  {
   "cell_type": "markdown",
   "source": [
    "### Set"
   ],
   "metadata": {
    "collapsed": false
   }
  },
  {
   "cell_type": "code",
   "execution_count": null,
   "outputs": [],
   "source": [
    "set_ = {1, 2, 3, 4, 5, 6}\n",
    "set1 = {1, 2, 3, 4, 5, 6, 7}\n",
    "bool(3 in set_) # O(1)\n",
    "set_.difference(set1) # O(len(set_))\n",
    "set_.intersection(set1) # min(len(set_), len(set1))\n",
    "set_.union(set1) # len(set_) + len(set1)"
   ],
   "metadata": {
    "collapsed": false
   }
  },
  {
   "cell_type": "markdown",
   "source": [
    "### Dict"
   ],
   "metadata": {
    "collapsed": false
   }
  },
  {
   "cell_type": "code",
   "execution_count": null,
   "outputs": [],
   "source": [
    "dict_ = {'a': 1, 'b': 2, 'c': 3}\n",
    "dict_['a'] # O(1)\n",
    "dict_['a'] = 0 # O(1)\n",
    "del dict_['a'] # O(1)\n",
    "[i for i in dict_] # O(n)"
   ],
   "metadata": {
    "collapsed": false
   }
  },
  {
   "cell_type": "markdown",
   "source": [
    "## Analyze Python code on algorithm complexity\n",
    "https://runestone.academy/ns/books/published/pythonds/AlgorithmAnalysis/AnAnagramDetectionExample.html"
   ],
   "metadata": {
    "collapsed": false
   }
  },
  {
   "cell_type": "code",
   "execution_count": null,
   "outputs": [],
   "source": [],
   "metadata": {
    "collapsed": false
   }
  }
 ],
 "metadata": {
  "kernelspec": {
   "display_name": "Python 3",
   "language": "python",
   "name": "python3"
  },
  "language_info": {
   "codemirror_mode": {
    "name": "ipython",
    "version": 2
   },
   "file_extension": ".py",
   "mimetype": "text/x-python",
   "name": "python",
   "nbconvert_exporter": "python",
   "pygments_lexer": "ipython2",
   "version": "2.7.6"
  }
 },
 "nbformat": 4,
 "nbformat_minor": 0
}
