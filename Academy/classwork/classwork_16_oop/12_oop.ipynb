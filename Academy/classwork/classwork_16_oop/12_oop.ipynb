{
 "cells": [
  {
   "cell_type": "markdown",
   "metadata": {},
   "source": [
    "## Polymorphism"
   ]
  },
  {
   "cell_type": "markdown",
   "metadata": {},
   "source": [
    "Polymorphism is an ability to use common interface for multiple data types."
   ]
  },
  {
   "cell_type": "code",
   "execution_count": 4,
   "metadata": {},
   "outputs": [],
   "source": [
    "def animals_say_hello(animal):\n",
    "    print(animal.say_hi())"
   ]
  },
  {
   "cell_type": "code",
   "execution_count": 1,
   "metadata": {},
   "outputs": [],
   "source": [
    "class Animal:\n",
    "    def say_hi(self):\n",
    "        pass"
   ]
  },
  {
   "cell_type": "code",
   "execution_count": 5,
   "metadata": {},
   "outputs": [],
   "source": [
    "class Cat(Animal):\n",
    "    def say_hi(self):\n",
    "        return 'meow'\n",
    "    \n",
    "class Dog(Animal):\n",
    "    def say_hi(self):\n",
    "        return 'bow'"
   ]
  },
  {
   "cell_type": "code",
   "execution_count": 6,
   "metadata": {},
   "outputs": [],
   "source": [
    "cat = Cat()\n",
    "dog = Dog()"
   ]
  },
  {
   "cell_type": "code",
   "execution_count": 7,
   "metadata": {},
   "outputs": [
    {
     "name": "stdout",
     "output_type": "stream",
     "text": [
      "meow\n",
      "bow\n"
     ]
    }
   ],
   "source": [
    "animals_say_hello(cat)\n",
    "animals_say_hello(dog)"
   ]
  },
  {
   "cell_type": "code",
   "execution_count": 8,
   "metadata": {},
   "outputs": [
    {
     "data": {
      "text/plain": "'meow'"
     },
     "execution_count": 8,
     "metadata": {},
     "output_type": "execute_result"
    }
   ],
   "source": [
    "cat.say_hi()"
   ]
  },
  {
   "cell_type": "code",
   "execution_count": 9,
   "metadata": {},
   "outputs": [
    {
     "data": {
      "text/plain": "'bow'"
     },
     "execution_count": 9,
     "metadata": {},
     "output_type": "execute_result"
    }
   ],
   "source": [
    "dog.say_hi()"
   ]
  },
  {
   "cell_type": "code",
   "execution_count": 10,
   "outputs": [],
   "source": [
    "# Define two classes that have similar implementation and therefore can be mixed and matched in an iteration.\n",
    "class Gas:\n",
    "    def __init__(self, price, unit):\n",
    "        self.price = price\n",
    "        self.unit = unit\n",
    "    def info(self):\n",
    "            print(f\"I am gas. My price is {self.price}, measured in {self.unit}.\")\n",
    "    def make_sound(self):\n",
    "            print(\"psssssssssssssss\")"
   ],
   "metadata": {
    "collapsed": false
   }
  },
  {
   "cell_type": "code",
   "execution_count": 11,
   "outputs": [],
   "source": [
    "class Water:\n",
    "    def __init__(self, price, unit):\n",
    "        self.price = price\n",
    "        self.unit = unit\n",
    "    def info(self):\n",
    "            print(f\"I am water. My price is {self.price}, measured in {self.unit}.\")\n",
    "    def make_sound(self):\n",
    "            print(\"whooooooosh\")"
   ],
   "metadata": {
    "collapsed": false
   }
  },
  {
   "cell_type": "code",
   "execution_count": null,
   "outputs": [],
   "source": [
    "# Driver Code\n",
    "g = Gas(0.43, 'cu/ft')\n",
    "w = Water(0.075, 'gallons')\n",
    "for amenity in (g, w):\n",
    "    amenity.make_sound()\n",
    "    amenity.info()"
   ],
   "metadata": {
    "collapsed": false
   }
  },
  {
   "cell_type": "code",
   "execution_count": null,
   "outputs": [],
   "source": [
    "s1.__add__(s2) # s1 + s2"
   ],
   "metadata": {
    "collapsed": false
   }
  },
  {
   "cell_type": "code",
   "execution_count": 12,
   "outputs": [
    {
     "name": "stdout",
     "output_type": "stream",
     "text": [
      "psssssssssssssss\n",
      "I am gas. My price is 0.43, measured in cu/ft.\n",
      "whooooooosh\n",
      "I am water. My price is 0.075, measured in gallons.\n"
     ]
    }
   ],
   "source": [
    "# def __add__(self, other):\n",
    "#     s3 = Student(self.m1 + other.m1, self.m2 + other.m2)\n",
    "#     return s3"
   ],
   "metadata": {
    "collapsed": false
   }
  },
  {
   "cell_type": "markdown",
   "source": [
    "https://www.geeksforgeeks.org/ways-of-implementing-polymorphism-in-python/"
   ],
   "metadata": {
    "collapsed": false
   }
  },
  {
   "cell_type": "markdown",
   "source": [
    "# Encapsulation"
   ],
   "metadata": {
    "collapsed": false
   }
  },
  {
   "cell_type": "markdown",
   "metadata": {},
   "source": [
    "“Private” instance variables that cannot be accessed except from inside an object don’t exist in Python. However, there is a convention that is followed by most Python code: a name prefixed with an underscore (e.g. _spam) should be treated as a non-public part of the API (whether it is a function, a method, or a data member). It should be considered an implementation detail and subject to change without notice."
   ]
  },
  {
   "cell_type": "code",
   "execution_count": 1,
   "metadata": {},
   "outputs": [],
   "source": [
    "class Test:\n",
    "    x = 0\n",
    "    _x = 1\n",
    "    __x = 2"
   ]
  },
  {
   "cell_type": "code",
   "execution_count": 2,
   "metadata": {},
   "outputs": [],
   "source": [
    "x = Test()"
   ]
  },
  {
   "cell_type": "code",
   "execution_count": 3,
   "metadata": {},
   "outputs": [
    {
     "data": {
      "text/plain": "1"
     },
     "execution_count": 3,
     "metadata": {},
     "output_type": "execute_result"
    }
   ],
   "source": [
    "x._x"
   ]
  },
  {
   "cell_type": "code",
   "execution_count": 4,
   "metadata": {},
   "outputs": [
    {
     "name": "stdout",
     "output_type": "stream",
     "text": [
      "1\n"
     ]
    }
   ],
   "source": [
    "print(x._x)"
   ]
  },
  {
   "cell_type": "code",
   "execution_count": 5,
   "metadata": {},
   "outputs": [
    {
     "ename": "AttributeError",
     "evalue": "'Test' object has no attribute '__x'",
     "output_type": "error",
     "traceback": [
      "\u001B[1;31m---------------------------------------------------------------------------\u001B[0m",
      "\u001B[1;31mAttributeError\u001B[0m                            Traceback (most recent call last)",
      "Cell \u001B[1;32mIn [5], line 1\u001B[0m\n\u001B[1;32m----> 1\u001B[0m \u001B[43mx\u001B[49m\u001B[38;5;241;43m.\u001B[39;49m\u001B[43m__x\u001B[49m\n",
      "\u001B[1;31mAttributeError\u001B[0m: 'Test' object has no attribute '__x'"
     ]
    }
   ],
   "source": [
    "x.__x"
   ]
  },
  {
   "cell_type": "code",
   "execution_count": 6,
   "metadata": {},
   "outputs": [
    {
     "data": {
      "text/plain": "2"
     },
     "execution_count": 6,
     "metadata": {},
     "output_type": "execute_result"
    }
   ],
   "source": [
    "x._Test__x"
   ]
  },
  {
   "cell_type": "markdown",
   "source": [
    "Переваги інкапсуляції\n",
    "Безпека : головною перевагою використання інкапсуляції є безпека даних. Інкапсуляція захищає об'єкт від несанкціонованого доступу. Він дозволяє приватні та захищені рівні доступу для запобігання випадковій зміні даних.\n",
    "Приховування даних : користувач не буде знати, що відбувається за кадром. Вони лише знають, що для зміни елемента даних потрібно викликати метод налаштування. Щоб прочитати елемент даних, викличте метод getter. Те, що роблять ці методи встановлення та отримання, приховано від них.\n",
    "Простота : це спрощує обслуговування програми, зберігаючи класи розділеними та запобігаючи їх тісному зв’язку один з одним.\n",
    "Естетика : об’єднання даних і методів у клас робить код більш читабельним і зручним для обслуговування"
   ],
   "metadata": {
    "collapsed": false
   }
  },
  {
   "cell_type": "markdown",
   "metadata": {},
   "source": [
    "## Dunder methods"
   ]
  },
  {
   "cell_type": "markdown",
   "metadata": {},
   "source": [
    "A class can implement certain operations that are invoked by special syntax (such as arithmetic operations or subscripting and slicing) by defining methods with special names. This is Python’s approach to operator overloading, allowing classes to define their own behavior with respect to language operators. For instance, if a class defines a method named __getitem__(), and x is an instance of this class, then x[i] is roughly equivalent to type(x).__getitem__(x, i). Except where mentioned, attempts to execute an operation raise an exception when no appropriate method is defined (typically AttributeError or TypeError)."
   ]
  },
  {
   "cell_type": "code",
   "execution_count": null,
   "metadata": {},
   "outputs": [],
   "source": [
    "x = 1\n",
    "y = 2\n",
    "z = x + y\n",
    "print(z)"
   ]
  },
  {
   "cell_type": "code",
   "execution_count": null,
   "metadata": {},
   "outputs": [],
   "source": [
    "z"
   ]
  },
  {
   "cell_type": "code",
   "execution_count": 17,
   "metadata": {},
   "outputs": [],
   "source": [
    "class MyNum:\n",
    "    def __init__(self, value):\n",
    "        self.value = value\n",
    "        \n",
    "    def __add__(self, other):\n",
    "        if not isinstance(other, type(self)):\n",
    "            raise ValueError('wrong type for operand')\n",
    "        return MyNum(self.value - other.value)\n",
    "\n",
    "    def __sub__(self, other):\n",
    "        if not isinstance(other, type(self)):\n",
    "            raise ValueError('wrong type for operand')\n",
    "        return MyNum(self.value + other.value)\n",
    "\n",
    "    def __str__(self):\n",
    "        return f\"<MyNum: {self.value}>\"\n",
    "    \n",
    "    def __repr__(self):\n",
    "        return self.__str__()"
   ]
  },
  {
   "cell_type": "code",
   "execution_count": 18,
   "metadata": {},
   "outputs": [],
   "source": [
    "x = MyNum(1)\n",
    "y = MyNum(2)"
   ]
  },
  {
   "cell_type": "code",
   "execution_count": 19,
   "outputs": [
    {
     "data": {
      "text/plain": "<MyNum: -1>"
     },
     "execution_count": 19,
     "metadata": {},
     "output_type": "execute_result"
    }
   ],
   "source": [
    "x + y"
   ],
   "metadata": {
    "collapsed": false
   }
  },
  {
   "cell_type": "code",
   "execution_count": 20,
   "outputs": [
    {
     "data": {
      "text/plain": "<MyNum: 3>"
     },
     "execution_count": 20,
     "metadata": {},
     "output_type": "execute_result"
    }
   ],
   "source": [
    "x - y"
   ],
   "metadata": {
    "collapsed": false
   }
  },
  {
   "cell_type": "code",
   "execution_count": 2,
   "outputs": [
    {
     "data": {
      "text/plain": "['__add__',\n '__class__',\n '__class_getitem__',\n '__contains__',\n '__delattr__',\n '__delitem__',\n '__dir__',\n '__doc__',\n '__eq__',\n '__format__',\n '__ge__',\n '__getattribute__',\n '__getitem__',\n '__gt__',\n '__hash__',\n '__iadd__',\n '__imul__',\n '__init__',\n '__init_subclass__',\n '__iter__',\n '__le__',\n '__len__',\n '__lt__',\n '__mul__',\n '__ne__',\n '__new__',\n '__reduce__',\n '__reduce_ex__',\n '__repr__',\n '__reversed__',\n '__rmul__',\n '__setattr__',\n '__setitem__',\n '__sizeof__',\n '__str__',\n '__subclasshook__',\n 'append',\n 'clear',\n 'copy',\n 'count',\n 'extend',\n 'index',\n 'insert',\n 'pop',\n 'remove',\n 'reverse',\n 'sort']"
     },
     "execution_count": 2,
     "metadata": {},
     "output_type": "execute_result"
    }
   ],
   "source": [
    "dir(list)"
   ],
   "metadata": {
    "collapsed": false
   }
  },
  {
   "cell_type": "code",
   "execution_count": 13,
   "outputs": [
    {
     "name": "stdout",
     "output_type": "stream",
     "text": [
      "[1, 2, 3, 4, 5]\n",
      "MyList [1, 2, 3, 4, 5]\n"
     ]
    }
   ],
   "source": [
    "class MyList:\n",
    "    def __init__(self):\n",
    "        self.mylist = [1, 2, 3, 4, 5]\n",
    "    def __getitem__(self, item):\n",
    "        for position, value in enumerate(self.mylist):\n",
    "            if position == item:\n",
    "                return value\n",
    "\n",
    "    def __setitem__(self, key, value):\n",
    "        arr = []\n",
    "        for index, oldvalue in enumerate(self.mylist):\n",
    "            if index == key:\n",
    "                arr.append(value)\n",
    "            else:\n",
    "                arr.append(oldvalue)\n",
    "        print(arr)\n",
    "        self.mylist = arr\n",
    "\n",
    "\n",
    "    def getitem(self, item):\n",
    "        return self.mylist[item]\n",
    "\n",
    "    def __str__(self):\n",
    "        return f'MyList {self.mylist}'\n",
    "\n",
    "m = MyList()\n",
    "m.getitem(0)\n",
    "m[2] = 3\n",
    "print(m)"
   ],
   "metadata": {
    "collapsed": false
   }
  },
  {
   "cell_type": "code",
   "execution_count": null,
   "outputs": [],
   "source": [],
   "metadata": {
    "collapsed": false
   }
  }
 ],
 "metadata": {
  "kernelspec": {
   "display_name": "Python 3",
   "language": "python",
   "name": "python3"
  },
  "language_info": {
   "codemirror_mode": {
    "name": "ipython",
    "version": 3
   },
   "file_extension": ".py",
   "mimetype": "text/x-python",
   "name": "python",
   "nbconvert_exporter": "python",
   "pygments_lexer": "ipython3",
   "version": "3.7.4"
  }
 },
 "nbformat": 4,
 "nbformat_minor": 2
}
