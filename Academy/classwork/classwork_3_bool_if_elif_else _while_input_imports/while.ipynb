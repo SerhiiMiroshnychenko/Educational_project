{
 "cells": [
  {
   "cell_type": "markdown",
   "metadata": {},
   "source": [
    "Let's explore the concept of iterations and python while control structure."
   ]
  },
  {
   "cell_type": "code",
   "execution_count": 4,
   "metadata": {},
   "outputs": [],
   "source": [
    "our_threshold = 5\n",
    "i = 0"
   ]
  },
  {
   "cell_type": "code",
   "execution_count": 5,
   "metadata": {},
   "outputs": [
    {
     "name": "stdout",
     "output_type": "stream",
     "text": [
      "Do important logic here.\n",
      "Do important logic here.\n",
      "Do important logic here.\n",
      "Do important logic here.\n",
      "Do important logic here.\n"
     ]
    }
   ],
   "source": [
    "while i < our_threshold:\n",
    "    print('Do important logic here.')\n",
    "    i += 1"
   ]
  },
  {
   "cell_type": "code",
   "execution_count": 6,
   "metadata": {},
   "outputs": [
    {
     "data": {
      "text/plain": "5"
     },
     "execution_count": 6,
     "metadata": {},
     "output_type": "execute_result"
    }
   ],
   "source": [
    "i"
   ]
  },
  {
   "cell_type": "markdown",
   "metadata": {},
   "source": [
    "If evaluation is `False`, the code suite in while won't be executed"
   ]
  },
  {
   "cell_type": "code",
   "execution_count": null,
   "metadata": {},
   "outputs": [],
   "source": [
    "i = 10\n",
    "while i < our_threshold:\n",
    "    print('Do important logic here.')\n",
    "    i += 1"
   ]
  },
  {
   "cell_type": "code",
   "execution_count": null,
   "metadata": {},
   "outputs": [],
   "source": [
    "print(i)"
   ]
  },
  {
   "cell_type": "code",
   "execution_count": 7,
   "outputs": [
    {
     "name": "stdout",
     "output_type": "stream",
     "text": [
      "1\n",
      "2\n",
      "3\n",
      "4\n",
      "5\n",
      "6\n",
      "7\n",
      "8\n",
      "9\n",
      "10\n",
      "end\n"
     ]
    }
   ],
   "source": [
    "i = 0\n",
    "while 'true':\n",
    "    i += 1\n",
    "    print(i)\n",
    "    if i == 10:\n",
    "        print('end')\n",
    "        break\n"
   ],
   "metadata": {
    "collapsed": false
   }
  },
  {
   "cell_type": "markdown",
   "metadata": {},
   "source": [
    "## Break and continue"
   ]
  },
  {
   "cell_type": "code",
   "execution_count": null,
   "metadata": {},
   "outputs": [],
   "source": [
    "our_threshold = 10\n",
    "i = 0\n",
    "\n",
    "while i < our_threshold:\n",
    "    print(f'Variable i: {i}.', end=' ')\n",
    "    print('Do important logic here.')\n",
    "    i += 1\n",
    "    if i % 7 == 0:\n",
    "        print('Good reason to stop')\n",
    "        break"
   ]
  },
  {
   "cell_type": "code",
   "execution_count": 8,
   "metadata": {},
   "outputs": [
    {
     "name": "stdout",
     "output_type": "stream",
     "text": [
      "Variable i: 1. Do important logic here.\n",
      "Variable i: 2. Do important logic here.\n",
      "Variable i: 3. Do important logic here.\n",
      "Variable i: 4. Do important logic here.\n",
      "Variable i: 5. Do important logic here.\n",
      "Variable i: 6. Do important logic here.\n",
      "Variable i: 7. Do very very important task and that`s it\n",
      "Variable i: 8. Do important logic here.\n",
      "Variable i: 9. Do important logic here.\n",
      "Variable i: 10. Do important logic here.\n",
      "Variable i: 11. Do important logic here.\n",
      "Variable i: 12. Do important logic here.\n",
      "Variable i: 13. Do important logic here.\n",
      "Variable i: 14. Do very very important task and that`s it\n",
      "Variable i: 15. Do important logic here.\n",
      "Variable i: 16. Do important logic here.\n",
      "Variable i: 17. Do important logic here.\n",
      "Variable i: 18. Do important logic here.\n",
      "Variable i: 19. Do important logic here.\n",
      "Variable i: 20. Do important logic here.\n",
      "Variable i: 21. Do very very important task and that`s it\n",
      "Variable i: 22. Do important logic here.\n"
     ]
    }
   ],
   "source": [
    "our_threshold = 23\n",
    "i = 1\n",
    "\n",
    "while i < our_threshold:\n",
    "    print(f'Variable i: {i}.', end=' ')\n",
    "    if i % 7 == 0:\n",
    "        print('Do very very important task and that`s it')\n",
    "        i += 1\n",
    "        continue # try to comment\n",
    "    \n",
    "    print('Do important logic here.')\n",
    "    i += 1"
   ]
  },
  {
   "cell_type": "markdown",
   "metadata": {},
   "source": [
    "Sometimes it is important to know that in your `while` loop, which has one or more `break` statements, a `break` of iterations actually took place or not."
   ]
  },
  {
   "cell_type": "code",
   "execution_count": 9,
   "metadata": {},
   "outputs": [
    {
     "name": "stdout",
     "output_type": "stream",
     "text": [
      "Variable i: 0. Do important logic here.\n",
      "Variable i: 1. Do important logic here.\n",
      "Variable i: 2. Do important logic here.\n",
      "Variable i: 3. Do important logic here.\n",
      "Variable i: 4. Do important logic here.\n",
      "Variable i: 5. Do important logic here.\n",
      "This imporatant logic will take place only if nothing broken\n"
     ]
    }
   ],
   "source": [
    "our_threshold = 6 # try to change to 6\n",
    "i = 0\n",
    "\n",
    "while i < our_threshold:\n",
    "    print(f'Variable i: {i}.', end=' ')\n",
    "    print('Do important logic here.')\n",
    "    i += 1\n",
    "    if i % 7 == 0:\n",
    "        print('Something went wrong')\n",
    "        everything_ok = False\n",
    "        break\n",
    "else:\n",
    "    print('This imporatant logic will take place only if nothing broken')"
   ]
  },
  {
   "cell_type": "code",
   "execution_count": null,
   "metadata": {},
   "outputs": [],
   "source": [
    "while 1:\n",
    "    print('OK')"
   ]
  }
 ],
 "metadata": {
  "kernelspec": {
   "display_name": "Python 3",
   "language": "python",
   "name": "python3"
  },
  "language_info": {
   "codemirror_mode": {
    "name": "ipython",
    "version": 3
   },
   "file_extension": ".py",
   "mimetype": "text/x-python",
   "name": "python",
   "nbconvert_exporter": "python",
   "pygments_lexer": "ipython3",
   "version": "3.7.4"
  }
 },
 "nbformat": 4,
 "nbformat_minor": 2
}
