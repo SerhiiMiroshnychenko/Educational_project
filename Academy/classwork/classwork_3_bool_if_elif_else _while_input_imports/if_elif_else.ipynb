{
 "cells": [
  {
   "cell_type": "markdown",
   "metadata": {},
   "source": [
    "All code samples before had sequential logic of execution, which means that each line of code was executed one after another. But sometimes we want our program to be more flexible and have a different logic depending on its state or passed inputs. In order to achieve this and control the flow of the program execution, we can use control structure `if/elif/else`"
   ]
  },
  {
   "cell_type": "code",
   "execution_count": null,
   "metadata": {},
   "outputs": [],
   "source": [
    "our_condition = 'yes'"
   ]
  },
  {
   "cell_type": "code",
   "execution_count": null,
   "metadata": {},
   "outputs": [],
   "source": [
    "if our_condition == 'yes':\n",
    "    print('I need to print \"yes\", because if statement evaluated to True')"
   ]
  },
  {
   "cell_type": "code",
   "execution_count": null,
   "metadata": {},
   "outputs": [],
   "source": [
    "our_condition = 'no' # assign new value and try to re-run above example\n",
    "\n",
    "if our_condition == 'yes':\n",
    "    print('I need to print \"yes\", because if statement evaluated to True')"
   ]
  },
  {
   "cell_type": "code",
   "execution_count": null,
   "metadata": {},
   "outputs": [],
   "source": [
    "our_condition == 'no'"
   ]
  },
  {
   "cell_type": "markdown",
   "metadata": {},
   "source": [
    "As you can see, the if statement is evaluated to `False` ( \"no\" doesn't equal \"yes\"), thus our block of code hasn't been executed and nothing happened. But what if we want our program to deal with such cases (if statement evaluated to `False`)"
   ]
  },
  {
   "cell_type": "code",
   "execution_count": null,
   "metadata": {},
   "outputs": [],
   "source": [
    "if our_condition == 'yes':\n",
    "    print('I need to print \"yes\", because if statement evaluated to True')\n",
    "else:\n",
    "    print('If statement evaluated to false')"
   ]
  },
  {
   "cell_type": "markdown",
   "metadata": {},
   "source": [
    "We can group multiple `if` statements in one `if/else` using special `elif`. An `if … elif … elif …` sequence is a substitute for the switch or case statements found in other languages."
   ]
  },
  {
   "cell_type": "code",
   "execution_count": null,
   "metadata": {},
   "outputs": [],
   "source": [
    "our_condition = \"dsfsdfsdfsd\"\n",
    "if our_condition == 'yes':\n",
    "    print(f'I need to print \"{our_condition}\", because if statement evaluated to True')\n",
    "elif our_condition == 'no':\n",
    "    print(f'I need to print \"{our_condition}\", because if statement evaluated to False')\n",
    "else:\n",
    "    print('If statement evaluated to false')"
   ]
  },
  {
   "cell_type": "markdown",
   "metadata": {},
   "source": [
    "We can group as many `elif` statements as we want. Besides that, we should pay attention to the order of `if/elif` statements, because they are evaluated one by one, and if one is evaluated to `True`, the following suite is executed, and all the other statements are not checked."
   ]
  },
  {
   "cell_type": "code",
   "execution_count": null,
   "metadata": {},
   "outputs": [],
   "source": [
    "x = 0\n",
    "if x > 2:\n",
    "    print('x > 2')\n",
    "elif x > 5:\n",
    "    print('x > 5')\n",
    "elif x % 3 == 0:\n",
    "    print('x % 3 == 0')\n",
    "elif x < 7:\n",
    "    print('x < 7')\n",
    "else:\n",
    "    print('All other cases')"
   ]
  },
  {
   "cell_type": "code",
   "execution_count": null,
   "metadata": {},
   "outputs": [],
   "source": [
    "x = 5\n",
    "if x < 2:\n",
    "    print('x < 2')\n",
    "elif x >= 5:\n",
    "    if x == 5:\n",
    "        print('got five')\n",
    "    else:\n",
    "        print('x > 5')\n",
    "elif x % 3 == 0:\n",
    "    print('x % 3 == 0')\n",
    "elif x < 7:\n",
    "    print('x < 7')\n",
    "else:\n",
    "    print('All other cases')"
   ]
  }
 ],
 "metadata": {
  "kernelspec": {
   "display_name": "Python 3",
   "language": "python",
   "name": "python3"
  },
  "language_info": {
   "codemirror_mode": {
    "name": "ipython",
    "version": 3
   },
   "file_extension": ".py",
   "mimetype": "text/x-python",
   "name": "python",
   "nbconvert_exporter": "python",
   "pygments_lexer": "ipython3",
   "version": "3.7.4"
  }
 },
 "nbformat": 4,
 "nbformat_minor": 2
}
