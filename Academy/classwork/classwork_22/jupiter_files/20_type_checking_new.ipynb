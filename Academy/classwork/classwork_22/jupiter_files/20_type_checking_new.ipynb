{
 "cells": [
  {
   "cell_type": "markdown",
   "metadata": {},
   "source": [
    "## Type systems"
   ]
  },
  {
   "cell_type": "markdown",
   "metadata": {},
   "source": [
    "All programming languages include some kind of type system that formalizes which categories of objects it can work with and how those categories are treated"
   ]
  },
  {
   "cell_type": "code",
   "execution_count": 74,
   "outputs": [],
   "source": [
    "if False:\n",
    "    1 + \"two\"  # This line never runs, so no TypeError is raised\n",
    "else:\n",
    "    1 + 2"
   ],
   "metadata": {
    "collapsed": false
   }
  },
  {
   "cell_type": "markdown",
   "source": [
    "1 + \"2\" # Now this is type checked, and a TypeError is raised"
   ],
   "metadata": {
    "collapsed": false
   }
  },
  {
   "cell_type": "code",
   "execution_count": 75,
   "metadata": {},
   "outputs": [
    {
     "name": "stdout",
     "output_type": "stream",
     "text": [
      "1 <class 'int'>\n"
     ]
    }
   ],
   "source": [
    "t = 1\n",
    "print(t, type(t))"
   ]
  },
  {
   "cell_type": "code",
   "execution_count": 76,
   "metadata": {},
   "outputs": [
    {
     "name": "stdout",
     "output_type": "stream",
     "text": [
      "1 <class 'str'>\n"
     ]
    }
   ],
   "source": [
    "t = '1'\n",
    "print(t, type(t))"
   ]
  },
  {
   "cell_type": "markdown",
   "metadata": {},
   "source": [
    "If it walks like a duck and it quacks like a duck, then it must be a duck"
   ]
  },
  {
   "cell_type": "code",
   "execution_count": 77,
   "metadata": {},
   "outputs": [],
   "source": [
    "def function_for_ducks(duck):\n",
    "    dest = 'house'\n",
    "    print('Me:', 'Go to your house duck!')\n",
    "    print('Duck:', duck.walk(dest))\n",
    "    print('Me:', 'Are you in house, duck?')\n",
    "    print('Duck:', duck.voice())\n",
    "    print('Me:', 'All good!')"
   ]
  },
  {
   "cell_type": "code",
   "execution_count": 78,
   "metadata": {},
   "outputs": [],
   "source": [
    "class Goose:\n",
    "    def walk(self, dest):\n",
    "        return f\"duck walks to the {dest}\"\n",
    "    \n",
    "    def voice(self):\n",
    "        return \"quack\""
   ]
  },
  {
   "cell_type": "code",
   "execution_count": 79,
   "metadata": {},
   "outputs": [
    {
     "name": "stdout",
     "output_type": "stream",
     "text": [
      "<class '__main__.Goose'>\n"
     ]
    }
   ],
   "source": [
    "d = Goose()\n",
    "print(type(d))"
   ]
  },
  {
   "cell_type": "code",
   "execution_count": 80,
   "metadata": {},
   "outputs": [
    {
     "name": "stdout",
     "output_type": "stream",
     "text": [
      "Me: Go to your house duck!\n",
      "Duck: duck walks to the house\n",
      "Me: Are you in house, duck?\n",
      "Duck: quack\n",
      "Me: All good!\n"
     ]
    }
   ],
   "source": [
    "function_for_ducks(d)"
   ]
  },
  {
   "cell_type": "markdown",
   "metadata": {},
   "source": [
    "Python will always remain a dynamically typed language. However, PEP 484 introduced type hints, which make it possible to also do static type checking of Python code.\n",
    "\n",
    "Unlike how types work in most other statically typed languages, type hints by themselves don’t cause Python to enforce types. As the name says, type hints just suggest function and variable type annotations. They can be used by third party tools such as type checkers, IDEs, linters, etc."
   ]
  },
  {
   "cell_type": "code",
   "execution_count": 81,
   "metadata": {},
   "outputs": [],
   "source": [
    "def type_test(name: str, age: int = 18) -> str: # function annotation\n",
    "    res: str = f\"Hello {name} years old {age}\" # variable annotation\n",
    "    return res"
   ]
  },
  {
   "cell_type": "code",
   "execution_count": 82,
   "metadata": {},
   "outputs": [
    {
     "data": {
      "text/plain": "'Hello Batman years old 18'"
     },
     "execution_count": 82,
     "metadata": {},
     "output_type": "execute_result"
    }
   ],
   "source": [
    "type_test('Batman')"
   ]
  },
  {
   "cell_type": "code",
   "execution_count": 83,
   "metadata": {},
   "outputs": [
    {
     "data": {
      "text/plain": "'Hello 18 years old 18'"
     },
     "execution_count": 83,
     "metadata": {},
     "output_type": "execute_result"
    }
   ],
   "source": [
    "type_test(18)"
   ]
  },
  {
   "cell_type": "code",
   "execution_count": 84,
   "metadata": {},
   "outputs": [],
   "source": [
    "class A:\n",
    "    pass\n",
    "\n",
    "class Test:\n",
    "    def __init__(self, a: A) -> None:\n",
    "        self.a: A = a"
   ]
  },
  {
   "cell_type": "code",
   "execution_count": 85,
   "metadata": {},
   "outputs": [
    {
     "name": "stdout",
     "output_type": "stream",
     "text": [
      "<class '__main__.A'>\n",
      "<class '__main__.Test'>\n"
     ]
    }
   ],
   "source": [
    "a = A()\n",
    "print(type(a))\n",
    "t = Test(a)\n",
    "print(type(t))"
   ]
  },
  {
   "cell_type": "code",
   "execution_count": 86,
   "metadata": {},
   "outputs": [
    {
     "name": "stdout",
     "output_type": "stream",
     "text": [
      "<class 'int'>\n"
     ]
    }
   ],
   "source": [
    "t2 = Test(1) # no error\n",
    "print(type(t2.a))"
   ]
  },
  {
   "cell_type": "code",
   "execution_count": 87,
   "metadata": {},
   "outputs": [],
   "source": [
    "class Test:\n",
    "    def __init__(self, x: int) -> None:\n",
    "        self.x = x\n",
    "    \n",
    "    @classmethod\n",
    "    def create(cls, x: int) -> \"Test\":\n",
    "        return cls(x)"
   ]
  },
  {
   "cell_type": "code",
   "execution_count": 88,
   "metadata": {},
   "outputs": [
    {
     "data": {
      "text/plain": "2"
     },
     "execution_count": 88,
     "metadata": {},
     "output_type": "execute_result"
    }
   ],
   "source": [
    "t = Test(1)\n",
    "n = t.create(2)\n",
    "n.x"
   ]
  },
  {
   "cell_type": "code",
   "execution_count": 89,
   "metadata": {},
   "outputs": [],
   "source": [
    "from typing import Any, Optional, Tuple, List, Dict, Union"
   ]
  },
  {
   "cell_type": "code",
   "execution_count": 90,
   "metadata": {},
   "outputs": [],
   "source": [
    "def test_type(x: Any, n: int = 10) -> Optional[Tuple[Any]]:\n",
    "    res: Tuple[Any] = tuple((x for _ in range(n)))\n",
    "    if res:\n",
    "        return res"
   ]
  },
  {
   "cell_type": "code",
   "execution_count": 91,
   "metadata": {},
   "outputs": [
    {
     "data": {
      "text/plain": "('X', 'X', 'X', 'X', 'X', 'X', 'X', 'X', 'X', 'X')"
     },
     "execution_count": 91,
     "metadata": {},
     "output_type": "execute_result"
    }
   ],
   "source": [
    "test_type('X')"
   ]
  },
  {
   "cell_type": "code",
   "execution_count": 92,
   "metadata": {},
   "outputs": [
    {
     "data": {
      "text/plain": "([1], [1], [1], [1], [1], [1], [1], [1], [1], [1])"
     },
     "execution_count": 92,
     "metadata": {},
     "output_type": "execute_result"
    }
   ],
   "source": [
    "test_type([1])"
   ]
  },
  {
   "cell_type": "code",
   "execution_count": 93,
   "metadata": {},
   "outputs": [
    {
     "name": "stdout",
     "output_type": "stream",
     "text": [
      "None\n"
     ]
    }
   ],
   "source": [
    "print(test_type(['test'], 0))"
   ]
  },
  {
   "cell_type": "code",
   "execution_count": 94,
   "metadata": {},
   "outputs": [
    {
     "ename": "TypeError",
     "evalue": "Protocols cannot be instantiated",
     "output_type": "error",
     "traceback": [
      "\u001B[1;31m---------------------------------------------------------------------------\u001B[0m",
      "\u001B[1;31mTypeError\u001B[0m                                 Traceback (most recent call last)",
      "Cell \u001B[1;32mIn [94], line 12\u001B[0m\n\u001B[0;32m      8\u001B[0m     \u001B[38;5;28;01mdef\u001B[39;00m \u001B[38;5;21mvoice\u001B[39m(\u001B[38;5;28mself\u001B[39m) \u001B[38;5;241m-\u001B[39m\u001B[38;5;241m>\u001B[39m \u001B[38;5;28mstr\u001B[39m:\n\u001B[0;32m      9\u001B[0m         \u001B[38;5;28;01mreturn\u001B[39;00m \u001B[38;5;124m\"\u001B[39m\u001B[38;5;124mquack\u001B[39m\u001B[38;5;124m\"\u001B[39m\n\u001B[1;32m---> 12\u001B[0m d \u001B[38;5;241m=\u001B[39m \u001B[43mDuck\u001B[49m\u001B[43m(\u001B[49m\u001B[43m)\u001B[49m\n",
      "File \u001B[1;32m~\\AppData\\Local\\Programs\\Python\\Python311\\Lib\\typing.py:1901\u001B[0m, in \u001B[0;36m_no_init_or_replace_init\u001B[1;34m(self, *args, **kwargs)\u001B[0m\n\u001B[0;32m   1898\u001B[0m \u001B[38;5;28mcls\u001B[39m \u001B[38;5;241m=\u001B[39m \u001B[38;5;28mtype\u001B[39m(\u001B[38;5;28mself\u001B[39m)\n\u001B[0;32m   1900\u001B[0m \u001B[38;5;28;01mif\u001B[39;00m \u001B[38;5;28mcls\u001B[39m\u001B[38;5;241m.\u001B[39m_is_protocol:\n\u001B[1;32m-> 1901\u001B[0m     \u001B[38;5;28;01mraise\u001B[39;00m \u001B[38;5;167;01mTypeError\u001B[39;00m(\u001B[38;5;124m'\u001B[39m\u001B[38;5;124mProtocols cannot be instantiated\u001B[39m\u001B[38;5;124m'\u001B[39m)\n\u001B[0;32m   1903\u001B[0m \u001B[38;5;66;03m# Already using a custom `__init__`. No need to calculate correct\u001B[39;00m\n\u001B[0;32m   1904\u001B[0m \u001B[38;5;66;03m# `__init__` to call. This can lead to RecursionError. See bpo-45121.\u001B[39;00m\n\u001B[0;32m   1905\u001B[0m \u001B[38;5;28;01mif\u001B[39;00m \u001B[38;5;28mcls\u001B[39m\u001B[38;5;241m.\u001B[39m\u001B[38;5;21m__init__\u001B[39m \u001B[38;5;129;01mis\u001B[39;00m \u001B[38;5;129;01mnot\u001B[39;00m _no_init_or_replace_init:\n",
      "\u001B[1;31mTypeError\u001B[0m: Protocols cannot be instantiated"
     ]
    }
   ],
   "source": [
    "from typing_extensions import Protocol\n",
    "\n",
    "\n",
    "class Duck(Protocol):\n",
    "    def walk(self, dest: str) -> str:\n",
    "        return f\"duck walks to the {dest}\"\n",
    "\n",
    "    def voice(self) -> str:\n",
    "        return \"quack\"\n",
    "\n",
    "\n",
    "d = Duck()"
   ]
  },
  {
   "cell_type": "code",
   "execution_count": null,
   "metadata": {},
   "outputs": [],
   "source": [
    "def function_for_ducks(duck: Duck) -> tuple[int, int]:\n",
    "    dest: str = 'house'\n",
    "    print('Me:', 'Go to your house duck!')\n",
    "    print('Duck:', duck.walk(dest))\n",
    "    print('Me:', 'Are you in house, duck?')\n",
    "    print('Duck:', duck.voice())\n",
    "    print('Me:', 'All good!')\n",
    "    return 1, 2"
   ]
  },
  {
   "cell_type": "code",
   "execution_count": null,
   "metadata": {},
   "outputs": [],
   "source": [
    "class Goose:\n",
    "    def walk(self, dest):\n",
    "        return f\"duck walks to the {dest}\"\n",
    "\n",
    "    def voice(self):\n",
    "        return \"quack\"\n",
    "    \n",
    "t = Goose()"
   ]
  },
  {
   "cell_type": "code",
   "execution_count": null,
   "metadata": {},
   "outputs": [],
   "source": [
    "function_for_ducks(t)"
   ]
  },
  {
   "cell_type": "markdown",
   "metadata": {},
   "source": [
    "In terms of style, PEP 8 recommends the following:\n",
    "\n",
    "- Use normal rules for colons, that is, no space before and one space after a colon: text: str.\n",
    "- Use spaces around the = sign when combining an argument annotation with a default value: align: bool = True.\n",
    "- Use spaces around the -> arrow: def headline(...) -> str."
   ]
  },
  {
   "cell_type": "markdown",
   "source": [
    "Some advantages to use type hints:\n",
    "- catch certain errors;\n",
    "- document your code;\n",
    "- improve IDEs and linters;\n",
    "- help you build and maintain a cleaner architecture.\n",
    "\n",
    "Some disadvantages:\n",
    "- take developer time and effort to add;\n",
    "- work best in modern Pythons (3+);\n",
    "- introduce a slight penalty in start-up time."
   ],
   "metadata": {
    "collapsed": false
   }
  },
  {
   "cell_type": "code",
   "execution_count": null,
   "outputs": [],
   "source": [],
   "metadata": {
    "collapsed": false
   }
  }
 ],
 "metadata": {
  "kernelspec": {
   "display_name": "Python 3",
   "language": "python",
   "name": "python3"
  },
  "language_info": {
   "codemirror_mode": {
    "name": "ipython",
    "version": 3
   },
   "file_extension": ".py",
   "mimetype": "text/x-python",
   "name": "python",
   "nbconvert_exporter": "python",
   "pygments_lexer": "ipython3",
   "version": "3.7.4"
  }
 },
 "nbformat": 4,
 "nbformat_minor": 2
}
