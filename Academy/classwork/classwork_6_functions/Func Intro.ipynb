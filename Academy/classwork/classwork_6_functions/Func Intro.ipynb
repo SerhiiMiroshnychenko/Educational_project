{
 "cells": [
  {
   "cell_type": "markdown",
   "metadata": {},
   "source": [
    "\n",
    "# Functions"
   ]
  },
  {
   "cell_type": "markdown",
   "metadata": {},
   "source": [
    "In general, there are two types of functions in python:\n",
    "    <li> built-in (print, int, float, abs, type, etc);\n",
    "    <li> user-defined;\n",
    "        \n",
    "        \n",
    "We can create our own functions using function definition:\n",
    "\n",
    "<b>def</b> <em>function name<em><b>(</b> <em>params</em> <b>) :</b>"
   ]
  },
  {
   "cell_type": "code",
   "execution_count": 1,
   "outputs": [],
   "source": [
    "def first():\n",
    "    print()\n",
    "    for i in range(10):\n",
    "        print(i)"
   ],
   "metadata": {
    "collapsed": false
   }
  },
  {
   "cell_type": "code",
   "execution_count": 2,
   "outputs": [
    {
     "name": "stdout",
     "output_type": "stream",
     "text": [
      "None\n"
     ]
    }
   ],
   "source": [
    "def omit_return_stmt():\n",
    "    # Omit the return statement\n",
    "    pass\n",
    "\n",
    "print(omit_return_stmt())"
   ],
   "metadata": {
    "collapsed": false
   }
  },
  {
   "cell_type": "code",
   "execution_count": 8,
   "outputs": [
    {
     "name": "stdout",
     "output_type": "stream",
     "text": [
      "None\n"
     ]
    }
   ],
   "source": [
    "def bare_return():\n",
    "    # Use a bare return\n",
    "    return\n",
    "\n",
    "print(bare_return())"
   ],
   "metadata": {
    "collapsed": false
   }
  },
  {
   "cell_type": "code",
   "execution_count": 9,
   "outputs": [
    {
     "name": "stdout",
     "output_type": "stream",
     "text": [
      "None\n"
     ]
    }
   ],
   "source": [
    "def return_none_explicitly():\n",
    "    # Return None explicitly\n",
    "    return None\n",
    "\n",
    "print(return_none_explicitly())"
   ],
   "metadata": {
    "collapsed": false
   }
  },
  {
   "cell_type": "code",
   "execution_count": 1,
   "outputs": [
    {
     "name": "stdout",
     "output_type": "stream",
     "text": [
      "(1, 2, 3)\n",
      "1 2 3\n"
     ]
    }
   ],
   "source": [
    "def return_many_value():\n",
    "    return 1, 2, 3\n",
    "\n",
    "print(return_many_value())\n",
    "a, b, c = return_many_value()\n",
    "print(a, b, c)"
   ],
   "metadata": {
    "collapsed": false
   }
  },
  {
   "cell_type": "code",
   "execution_count": 2,
   "outputs": [
    {
     "name": "stdout",
     "output_type": "stream",
     "text": [
      "(1, 2, 3)\n"
     ]
    }
   ],
   "source": [
    "res = return_many_value()\n",
    "print(res)"
   ],
   "metadata": {
    "collapsed": false
   }
  },
  {
   "cell_type": "code",
   "execution_count": 5,
   "outputs": [
    {
     "name": "stdout",
     "output_type": "stream",
     "text": [
      "['1', '2', '3', '4', '5', '6']\n"
     ]
    }
   ],
   "source": [
    "def return_different_type():\n",
    "    return list('123456')\n",
    "    # return {'a': 1, 'b': 2}\n",
    "\n",
    "print(return_different_type())"
   ],
   "metadata": {
    "collapsed": false
   }
  },
  {
   "cell_type": "code",
   "execution_count": 6,
   "outputs": [
    {
     "name": "stdout",
     "output_type": "stream",
     "text": [
      "3\n"
     ]
    }
   ],
   "source": [
    "def return_variable(a, b):\n",
    "    # c = a + b\n",
    "    # return c\n",
    "\n",
    "    return a + b\n",
    "\n",
    "print(return_variable(1, 2))"
   ],
   "metadata": {
    "collapsed": false
   }
  },
  {
   "cell_type": "code",
   "execution_count": 8,
   "outputs": [
    {
     "name": "stdout",
     "output_type": "stream",
     "text": [
      "3\n",
      "3\n"
     ]
    }
   ],
   "source": [
    "def custom_summer(a, b):\n",
    "    return a + b\n",
    "\n",
    "print(custom_summer(1, 2))\n",
    "print(custom_summer(a=1, b=2))"
   ],
   "metadata": {
    "collapsed": false
   }
  },
  {
   "cell_type": "code",
   "execution_count": 10,
   "metadata": {},
   "outputs": [
    {
     "ename": "SyntaxError",
     "evalue": "positional argument follows keyword argument (3114641822.py, line 1)",
     "output_type": "error",
     "traceback": [
      "\u001B[1;36m  Input \u001B[1;32mIn [10]\u001B[1;36m\u001B[0m\n\u001B[1;33m    print(custom_summer(b=6, 10)) # specify by name, not by order\u001B[0m\n\u001B[1;37m                               ^\u001B[0m\n\u001B[1;31mSyntaxError\u001B[0m\u001B[1;31m:\u001B[0m positional argument follows keyword argument\n"
     ]
    }
   ],
   "source": [
    "print(custom_summer(10, b=6)) # specify by name, not by order"
   ]
  },
  {
   "cell_type": "code",
   "execution_count": 11,
   "metadata": {},
   "outputs": [],
   "source": [
    "def custom_exp(x, _pow=1):\n",
    "    return x ** _pow"
   ]
  },
  {
   "cell_type": "code",
   "execution_count": 13,
   "metadata": {},
   "outputs": [
    {
     "name": "stdout",
     "output_type": "stream",
     "text": [
      "2\n"
     ]
    }
   ],
   "source": [
    "print(custom_exp(2))"
   ]
  },
  {
   "cell_type": "code",
   "execution_count": 14,
   "metadata": {},
   "outputs": [
    {
     "name": "stdout",
     "output_type": "stream",
     "text": [
      "8\n"
     ]
    }
   ],
   "source": [
    "print(custom_exp(2, 3))"
   ]
  },
  {
   "cell_type": "code",
   "execution_count": 24,
   "metadata": {},
   "outputs": [
    {
     "name": "stdout",
     "output_type": "stream",
     "text": [
      "1024\n"
     ]
    }
   ],
   "source": [
    "print(custom_exp(2, _pow=10))"
   ]
  },
  {
   "cell_type": "code",
   "execution_count": 15,
   "metadata": {},
   "outputs": [],
   "source": [
    "def test():\n",
    "    print('hello')"
   ]
  },
  {
   "cell_type": "code",
   "execution_count": 16,
   "metadata": {},
   "outputs": [
    {
     "name": "stdout",
     "output_type": "stream",
     "text": [
      "hello\n"
     ]
    }
   ],
   "source": [
    "x = test()"
   ]
  },
  {
   "cell_type": "code",
   "execution_count": 27,
   "metadata": {},
   "outputs": [
    {
     "name": "stdout",
     "output_type": "stream",
     "text": [
      "None <class 'NoneType'>\n"
     ]
    }
   ],
   "source": [
    "print(x, type(x))"
   ]
  },
  {
   "cell_type": "markdown",
   "metadata": {},
   "source": [
    "## Args Kwargs"
   ]
  },
  {
   "cell_type": "code",
   "execution_count": 20,
   "metadata": {},
   "outputs": [],
   "source": [
    "# in case we don't know number of parameter wich will be passed to function\n",
    "def custom_print(*args):\n",
    "    print(f'Перший елемент функції {args[0]}')\n",
    "    print(f'Custom print got {len(args)} arguments inside args tuple: ', args)"
   ]
  },
  {
   "cell_type": "code",
   "execution_count": 21,
   "metadata": {},
   "outputs": [
    {
     "name": "stdout",
     "output_type": "stream",
     "text": [
      "Перший елемент функції 1\n",
      "Custom print got 4 arguments inside args tuple:  (1, 2, 4, 5)\n",
      "Перший елемент функції 1\n",
      "Custom print got 8 arguments inside args tuple:  (1, 2, 4, 5, 6, 7, 8, 9)\n",
      "Перший елемент функції 1\n",
      "Custom print got 1 arguments inside args tuple:  (1,)\n"
     ]
    }
   ],
   "source": [
    "custom_print(1,2,4,5)\n",
    "custom_print(1,2,4,5,6,7,8,9)\n",
    "custom_print(1)"
   ]
  },
  {
   "cell_type": "code",
   "execution_count": 26,
   "metadata": {},
   "outputs": [],
   "source": [
    "def custom_print(**kwargs):\n",
    "    print(kwargs['name'])\n",
    "    print(f'Custom print got {len(kwargs)} arguments inside kwargs dict: ', kwargs)"
   ]
  },
  {
   "cell_type": "code",
   "execution_count": 27,
   "metadata": {},
   "outputs": [
    {
     "name": "stdout",
     "output_type": "stream",
     "text": [
      "Batman\n",
      "Custom print got 2 arguments inside kwargs dict:  {'name': 'Batman', 'enemy': 'Joker'}\n"
     ]
    }
   ],
   "source": [
    "custom_print(name='Batman', enemy='Joker')"
   ]
  },
  {
   "cell_type": "markdown",
   "metadata": {},
   "source": [
    "We can combine positional with named parameters"
   ]
  },
  {
   "cell_type": "code",
   "execution_count": 33,
   "metadata": {},
   "outputs": [],
   "source": [
    "def custom_print(a,b,c, name='D'):\n",
    "    print(a,b,c,'d')"
   ]
  },
  {
   "cell_type": "code",
   "execution_count": 24,
   "metadata": {},
   "outputs": [],
   "source": [
    "def custom_print(*args, **kwargs):\n",
    "    print(\"ARGS: \", args)\n",
    "    print(\"KWARGS: \", kwargs)"
   ]
  },
  {
   "cell_type": "code",
   "execution_count": 25,
   "metadata": {},
   "outputs": [
    {
     "name": "stdout",
     "output_type": "stream",
     "text": [
      "ARGS:  (1, 2, 3)\n",
      "KWARGS:  {'name': 'hello', 'world': []}\n"
     ]
    }
   ],
   "source": [
    "custom_print(1,2,3, name='hello', world=[])"
   ]
  },
  {
   "cell_type": "markdown",
   "metadata": {},
   "source": [
    "## Scope of the function"
   ]
  },
  {
   "cell_type": "markdown",
   "source": [
    "Every variable passed to a function is passed by reference and every variable declared inside a function is a local variable.\n",
    "\n",
    "For now, refer to local variables as variables defined inside a code block, a function, in our case; and passing a variable by reference means that we can get an object from the outer scope, in our case, from global scope.\n",
    "\n",
    "Let's describe it in code."
   ],
   "metadata": {
    "collapsed": false
   }
  },
  {
   "cell_type": "code",
   "execution_count": 3,
   "metadata": {},
   "outputs": [
    {
     "name": "stdout",
     "output_type": "stream",
     "text": [
      "1\n",
      "140705496355624\n"
     ]
    }
   ],
   "source": [
    "x = 1 # here is our variable declared in global scope\n",
    "print(x)\n",
    "print(id(x))"
   ]
  },
  {
   "cell_type": "code",
   "execution_count": 4,
   "metadata": {},
   "outputs": [],
   "source": [
    "def test(x):\n",
    "    x += 1\n",
    "    print(id(x))\n",
    "    print('here is X inside func: ', x)"
   ]
  },
  {
   "cell_type": "code",
   "execution_count": 6,
   "metadata": {},
   "outputs": [
    {
     "name": "stdout",
     "output_type": "stream",
     "text": [
      "140705496355656\n",
      "here is X inside func:  2\n",
      "here is global X:  1\n",
      "140705496355624\n"
     ]
    }
   ],
   "source": [
    "test(x)\n",
    "print('here is global X: ', x)\n",
    "print(id(x))"
   ]
  },
  {
   "cell_type": "code",
   "execution_count": 7,
   "metadata": {},
   "outputs": [],
   "source": [
    "def test2():\n",
    "    x = 101\n",
    "    print('here is X inside func: ', x)"
   ]
  },
  {
   "cell_type": "code",
   "execution_count": 8,
   "metadata": {},
   "outputs": [
    {
     "name": "stdout",
     "output_type": "stream",
     "text": [
      "here is X inside func:  101\n",
      "here is global X:  1\n"
     ]
    }
   ],
   "source": [
    "test2()\n",
    "print('here is global X: ', x)"
   ]
  },
  {
   "cell_type": "code",
   "execution_count": 9,
   "metadata": {},
   "outputs": [],
   "source": [
    "x = 1\n",
    "def test3():\n",
    "    x += 1\n",
    "    print('here is X inside func: ', x)"
   ]
  },
  {
   "cell_type": "code",
   "execution_count": 10,
   "metadata": {},
   "outputs": [
    {
     "ename": "UnboundLocalError",
     "evalue": "cannot access local variable 'x' where it is not associated with a value",
     "output_type": "error",
     "traceback": [
      "\u001B[1;31m---------------------------------------------------------------------------\u001B[0m",
      "\u001B[1;31mUnboundLocalError\u001B[0m                         Traceback (most recent call last)",
      "Cell \u001B[1;32mIn [10], line 1\u001B[0m\n\u001B[1;32m----> 1\u001B[0m \u001B[43mtest3\u001B[49m\u001B[43m(\u001B[49m\u001B[43m)\u001B[49m\n",
      "Cell \u001B[1;32mIn [9], line 3\u001B[0m, in \u001B[0;36mtest3\u001B[1;34m()\u001B[0m\n\u001B[0;32m      2\u001B[0m \u001B[38;5;28;01mdef\u001B[39;00m \u001B[38;5;21mtest3\u001B[39m():\n\u001B[1;32m----> 3\u001B[0m     \u001B[43mx\u001B[49m \u001B[38;5;241m+\u001B[39m\u001B[38;5;241m=\u001B[39m \u001B[38;5;241m1\u001B[39m\n\u001B[0;32m      4\u001B[0m     \u001B[38;5;28mprint\u001B[39m(\u001B[38;5;124m'\u001B[39m\u001B[38;5;124mhere is X inside func: \u001B[39m\u001B[38;5;124m'\u001B[39m, x)\n",
      "\u001B[1;31mUnboundLocalError\u001B[0m: cannot access local variable 'x' where it is not associated with a value"
     ]
    }
   ],
   "source": [
    "test3()"
   ]
  },
  {
   "cell_type": "code",
   "execution_count": 39,
   "metadata": {},
   "outputs": [],
   "source": [
    "def test4():\n",
    "    global x\n",
    "    x += 1\n",
    "    print('here is X inside func: ', x)"
   ]
  },
  {
   "cell_type": "code",
   "execution_count": 40,
   "metadata": {},
   "outputs": [
    {
     "name": "stdout",
     "output_type": "stream",
     "text": [
      "here is X inside func:  2\n",
      "2\n"
     ]
    }
   ],
   "source": [
    "test4()\n",
    "print(x)"
   ]
  },
  {
   "cell_type": "code",
   "execution_count": 41,
   "metadata": {},
   "outputs": [
    {
     "name": "stdout",
     "output_type": "stream",
     "text": [
      "2\n"
     ]
    }
   ],
   "source": [
    "print(x)"
   ]
  },
  {
   "cell_type": "code",
   "execution_count": 42,
   "metadata": {},
   "outputs": [],
   "source": [
    "def test5(x):\n",
    "    x += 1\n",
    "    return x"
   ]
  },
  {
   "cell_type": "code",
   "execution_count": 45,
   "metadata": {},
   "outputs": [],
   "source": [
    "x = 2\n",
    "x = test5(x)"
   ]
  },
  {
   "cell_type": "code",
   "execution_count": 46,
   "metadata": {},
   "outputs": [
    {
     "data": {
      "text/plain": "3"
     },
     "execution_count": 46,
     "metadata": {},
     "output_type": "execute_result"
    }
   ],
   "source": [
    "x"
   ]
  },
  {
   "cell_type": "code",
   "execution_count": 47,
   "outputs": [],
   "source": [
    "def inner():\n",
    "    print('I am inside')\n",
    "    outer()"
   ],
   "metadata": {
    "collapsed": false
   }
  },
  {
   "cell_type": "code",
   "execution_count": 48,
   "outputs": [
    {
     "name": "stdout",
     "output_type": "stream",
     "text": [
      "I am inside\n",
      "I am outside\n"
     ]
    }
   ],
   "source": [
    "def outer():\n",
    "    print('I am outside')\n",
    "    # inner()\n",
    "\n",
    "# outer()\n",
    "inner()"
   ],
   "metadata": {
    "collapsed": false
   }
  },
  {
   "cell_type": "code",
   "execution_count": 11,
   "outputs": [
    {
     "name": "stdout",
     "output_type": "stream",
     "text": [
      "The result is 30\n"
     ]
    }
   ],
   "source": [
    "def create_adder(x):\n",
    "    def adder(y=10):\n",
    "        return x + y\n",
    "\n",
    "    return adder\n",
    "\n",
    "add_15 = create_adder(15) # adder(y) : return 15 + y\n",
    "print(\"The result is\", add_15(15)) # 15 + 15"
   ],
   "metadata": {
    "collapsed": false
   }
  },
  {
   "cell_type": "code",
   "execution_count": 52,
   "outputs": [
    {
     "name": "stdout",
     "output_type": "stream",
     "text": [
      "The result is 30\n"
     ]
    }
   ],
   "source": [
    "def create_adder(x, y=15):\n",
    "    return x + y\n",
    "\n",
    "add_15 = create_adder(15)\n",
    "print(\"The result is\", add_15)"
   ],
   "metadata": {
    "collapsed": false
   }
  },
  {
   "cell_type": "code",
   "execution_count": 54,
   "outputs": [
    {
     "name": "stdout",
     "output_type": "stream",
     "text": [
      "Оголосили прінт з першим значенням\n",
      "Літо---Червень\n",
      "------------------------\n",
      "Оголосили прінт з першим значенням\n",
      "Літо---Червень\n",
      "Літо///Червень\n"
     ]
    }
   ],
   "source": [
    "def create_print(first):\n",
    "    print('Оголосили прінт з першим значенням')\n",
    "    def all_print(second):\n",
    "        print(first, second, sep='---')\n",
    "        def second_print():\n",
    "            print(first, second, sep='///')\n",
    "        return second_print\n",
    "\n",
    "    return all_print\n",
    "\n",
    "create_print('Літо')('Червень')\n",
    "print('------------------------')\n",
    "create_print('Літо')('Червень')()"
   ],
   "metadata": {
    "collapsed": false
   }
  },
  {
   "cell_type": "code",
   "execution_count": 55,
   "outputs": [
    {
     "name": "stdout",
     "output_type": "stream",
     "text": [
      "\n",
      "\n",
      "The result is: 100\n",
      "100\n"
     ]
    }
   ],
   "source": [
    "def one(x):\n",
    "    return x * 10\n",
    "\n",
    "def two():\n",
    "    print()\n",
    "    return one\n",
    "\n",
    "res = two()\n",
    "\n",
    "print(\"\\nThe result is:\", res(10))\n",
    "print(one(10))"
   ],
   "metadata": {
    "collapsed": false
   }
  },
  {
   "cell_type": "code",
   "execution_count": 5,
   "outputs": [
    {
     "data": {
      "text/plain": "9"
     },
     "execution_count": 5,
     "metadata": {},
     "output_type": "execute_result"
    }
   ],
   "source": [
    "len(range(10))\n",
    "\n",
    "def sum_mul(a, b):\n",
    "    import math\n",
    "    math.pow(a, b)\n",
    "    return a * b\n",
    "\n",
    "sum_mul(custom_summer(1, 2), 3)"
   ],
   "metadata": {
    "collapsed": false
   }
  },
  {
   "cell_type": "code",
   "execution_count": 56,
   "outputs": [
    {
     "name": "stdout",
     "output_type": "stream",
     "text": [
      "3\n"
     ]
    }
   ],
   "source": [
    "def sum_up(a, b):\n",
    "    return a + b\n",
    "\n",
    "print(sum_up(1, 2))"
   ],
   "metadata": {
    "collapsed": false
   }
  },
  {
   "cell_type": "code",
   "execution_count": 7,
   "outputs": [
    {
     "name": "stdout",
     "output_type": "stream",
     "text": [
      "3\n"
     ]
    }
   ],
   "source": [
    "sum_down = lambda a, b: a + b\n",
    "print(sum_down(1, 2))"
   ],
   "metadata": {
    "collapsed": false
   }
  },
  {
   "cell_type": "code",
   "execution_count": 13,
   "outputs": [
    {
     "name": "stdout",
     "output_type": "stream",
     "text": [
      "3\n"
     ]
    }
   ],
   "source": [
    "print((lambda a, b: a + b)(1, 2))"
   ],
   "metadata": {
    "collapsed": false
   }
  },
  {
   "cell_type": "code",
   "execution_count": 58,
   "outputs": [
    {
     "name": "stdout",
     "output_type": "stream",
     "text": [
      "[(1, 'January'), (7, 'July'), (4, 'March'), (9, 'September')]\n",
      "[(1, 'January'), (4, 'March'), (7, 'July'), (9, 'September')]\n"
     ]
    }
   ],
   "source": [
    "months = [(1, 'January'), (9, 'September'), (7, 'July'), (4, 'March')]\n",
    "print(sorted(months, key=lambda x: x[1]))\n",
    "print(sorted(months))"
   ],
   "metadata": {
    "collapsed": false
   }
  },
  {
   "cell_type": "code",
   "execution_count": 60,
   "outputs": [
    {
     "data": {
      "text/plain": "[(1, 'January'), (4, 'March')]"
     },
     "execution_count": 60,
     "metadata": {},
     "output_type": "execute_result"
    }
   ],
   "source": [
    "list(filter(lambda x: x[1] if 'a' in x[1] else None, months))"
   ],
   "metadata": {
    "collapsed": false
   }
  },
  {
   "cell_type": "code",
   "execution_count": null,
   "outputs": [],
   "source": [
    "# element if умова else значення якщо умова не виконується"
   ],
   "metadata": {
    "collapsed": false
   }
  }
 ],
 "metadata": {
  "kernelspec": {
   "display_name": "Python 3",
   "language": "python",
   "name": "python3"
  },
  "language_info": {
   "codemirror_mode": {
    "name": "ipython",
    "version": 3
   },
   "file_extension": ".py",
   "mimetype": "text/x-python",
   "name": "python",
   "nbconvert_exporter": "python",
   "pygments_lexer": "ipython3",
   "version": "3.7.4"
  }
 },
 "nbformat": 4,
 "nbformat_minor": 2
}
