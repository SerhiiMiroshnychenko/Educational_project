{
 "cells": [
  {
   "cell_type": "code",
   "execution_count": 1,
   "metadata": {
    "collapsed": true
   },
   "outputs": [],
   "source": [
    "import csv"
   ]
  },
  {
   "cell_type": "code",
   "execution_count": 2,
   "outputs": [],
   "source": [
    "with open('data.csv', 'rt', newline='') as file:\n",
    "    csv_data = csv.DictReader(file)\n",
    "    programmers = [{'name': row['Name'], 'date': row['Hire Date'],\n",
    "                    'price': row['Salary'], 'days': row['Sick Days remaining']} for row in csv_data]"
   ],
   "metadata": {
    "collapsed": false
   }
  },
  {
   "cell_type": "code",
   "execution_count": 3,
   "outputs": [
    {
     "name": "stdout",
     "output_type": "stream",
     "text": [
      "{'name': 'Graham Chapman', 'date': '03/15/14', 'price': '50000.00', 'days': '10'}\n",
      "{'name': 'John Cleese', 'date': '06/01/15', 'price': '65000.00', 'days': '8'}\n",
      "{'name': 'Eric Idle', 'date': '05/12/14', 'price': '45000.00', 'days': '10'}\n",
      "{'name': 'Terry Jones', 'date': '11/01/13', 'price': '70000.00', 'days': '3'}\n",
      "{'name': 'Terry Gilliam', 'date': '08/12/14', 'price': '48000.00', 'days': '7'}\n",
      "{'name': 'Michael Palin', 'date': '05/23/13', 'price': '66000.00', 'days': '8'}\n"
     ]
    }
   ],
   "source": [
    "print(*programmers, sep='\\n')"
   ],
   "metadata": {
    "collapsed": false
   }
  }
 ],
 "metadata": {
  "kernelspec": {
   "display_name": "Python 3",
   "language": "python",
   "name": "python3"
  },
  "language_info": {
   "codemirror_mode": {
    "name": "ipython",
    "version": 2
   },
   "file_extension": ".py",
   "mimetype": "text/x-python",
   "name": "python",
   "nbconvert_exporter": "python",
   "pygments_lexer": "ipython2",
   "version": "2.7.6"
  }
 },
 "nbformat": 4,
 "nbformat_minor": 0
}
