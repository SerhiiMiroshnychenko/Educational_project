{
 "cells": [
  {
   "cell_type": "code",
   "execution_count": 92,
   "metadata": {
    "collapsed": true
   },
   "outputs": [],
   "source": [
    "# Створити генератор текстових емоджі. Емоджі мають починатись там закінчуватись дужками одного й\n",
    "# того самого типу, в середині містити 3 рандомних символи !@#$^*_-=+?/,.:;~."
   ]
  },
  {
   "cell_type": "code",
   "execution_count": 93,
   "outputs": [],
   "source": [
    "from random import choice, choices\n",
    "\n",
    "class Emoji:\n",
    "    def __init__(self, number):\n",
    "        self.number = number\n",
    "        self.ind = 0\n",
    "\n",
    "    def __iter__(self):\n",
    "        return self\n",
    "\n",
    "    @staticmethod\n",
    "    def random_face():\n",
    "        face = '!@#$^*_-=+?/,.:;~'\n",
    "        round_face = [['(', ')'], ['<', '>'], ['|', '|'], ['{', '}'], ['\\\\', '/']]\n",
    "        r_round = choice(round_face)\n",
    "        r_face = ''.join(choices(face, k=3))\n",
    "        return r_round[0] + r_face + r_round[1]\n",
    "\n",
    "    def __next__(self):\n",
    "        if self.ind > self.number:\n",
    "            raise StopIteration\n",
    "        self.ind += 1\n",
    "        return self.random_face()\n",
    "\n"
   ],
   "metadata": {
    "collapsed": false
   }
  },
  {
   "cell_type": "code",
   "execution_count": 94,
   "outputs": [
    {
     "name": "stdout",
     "output_type": "stream",
     "text": [
      "\\?;-/\n",
      "<?!;>\n",
      "(~#.)\n",
      "|.^_|\n",
      "<^/$>\n"
     ]
    }
   ],
   "source": [
    "c = Emoji(4)\n",
    "for i in c:\n",
    "    print(i)"
   ],
   "metadata": {
    "collapsed": false
   }
  }
 ],
 "metadata": {
  "kernelspec": {
   "display_name": "Python 3",
   "language": "python",
   "name": "python3"
  },
  "language_info": {
   "codemirror_mode": {
    "name": "ipython",
    "version": 2
   },
   "file_extension": ".py",
   "mimetype": "text/x-python",
   "name": "python",
   "nbconvert_exporter": "python",
   "pygments_lexer": "ipython2",
   "version": "2.7.6"
  }
 },
 "nbformat": 4,
 "nbformat_minor": 0
}
