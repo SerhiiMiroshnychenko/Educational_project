{
 "cells": [
  {
   "cell_type": "code",
   "execution_count": 1,
   "metadata": {},
   "outputs": [],
   "source": [
    "import multiprocessing"
   ]
  },
  {
   "cell_type": "code",
   "execution_count": 2,
   "metadata": {},
   "outputs": [],
   "source": [
    "def test(name):\n",
    "    print(f'here {name}')"
   ]
  },
  {
   "cell_type": "code",
   "execution_count": 3,
   "metadata": {},
   "outputs": [],
   "source": [
    "processes = []\n",
    "for i in range(5):\n",
    "    t = multiprocessing.Process(target=test, args=(i,))\n",
    "    processes.append(t)\n",
    "    t.start()\n",
    "    \n",
    "for process in processes:\n",
    "    process.join()"
   ]
  },
  {
   "cell_type": "code",
   "execution_count": 4,
   "metadata": {},
   "outputs": [],
   "source": [
    "import os"
   ]
  },
  {
   "cell_type": "code",
   "execution_count": 5,
   "metadata": {},
   "outputs": [],
   "source": [
    "def test(name):\n",
    "    print(f'here {name}, process: {os.getpid()}, parent process: {os.getppid()}')"
   ]
  },
  {
   "cell_type": "code",
   "execution_count": 6,
   "metadata": {},
   "outputs": [],
   "source": [
    "processes = []\n",
    "for i in range(5):\n",
    "    t = multiprocessing.Process(target=test, args=(i,))\n",
    "    processes.append(t)\n",
    "    t.start()\n",
    "    \n",
    "for process in processes:\n",
    "    process.join()"
   ]
  },
  {
   "cell_type": "code",
   "execution_count": 7,
   "metadata": {},
   "outputs": [],
   "source": [
    "result = [] \n",
    "  \n",
    "def square_list(mylist): \n",
    "    global result\n",
    "    for num in mylist: \n",
    "        result.append(num * num)\n",
    "    print(f\"Result(in process p1): {result}\")"
   ]
  },
  {
   "cell_type": "code",
   "execution_count": 8,
   "metadata": {},
   "outputs": [],
   "source": [
    "temp = [1,2,3,4]\n",
    "\n",
    "p1 = multiprocessing.Process(target=square_list, args=(temp, ))\n",
    "p1.start()\n",
    "p1.join()\n"
   ]
  },
  {
   "cell_type": "code",
   "execution_count": 9,
   "metadata": {},
   "outputs": [
    {
     "name": "stdout",
     "output_type": "stream",
     "text": [
      "[]\n"
     ]
    }
   ],
   "source": [
    "print(result)"
   ]
  },
  {
   "cell_type": "markdown",
   "metadata": {},
   "source": [
    "When doing concurrent programming, it is usually best to avoid using shared state as much as possible. This is particularly true when using multiple processes.\n",
    "\n",
    "However, if you really do need to use some shared data, then multiprocessing provides a couple of ways to do so."
   ]
  },
  {
   "cell_type": "code",
   "execution_count": 10,
   "metadata": {},
   "outputs": [],
   "source": [
    "def f(n, a):\n",
    "    n.value = 3.1415927\n",
    "    for i in range(len(a)):\n",
    "        a[i] = -a[i]"
   ]
  },
  {
   "cell_type": "code",
   "execution_count": 11,
   "metadata": {},
   "outputs": [],
   "source": [
    "num = multiprocessing.Value('d', 0.0)\n",
    "arr = multiprocessing.Array('i', range(10))"
   ]
  },
  {
   "cell_type": "markdown",
   "metadata": {},
   "source": [
    "The `d` and `i` arguments, used when creating num and arr variables, are typecodes of the kind used by the array module: `d` indicates a double precision float, and `i` indicates a signed integer. These shared objects will be process- and thread-safe."
   ]
  },
  {
   "cell_type": "code",
   "execution_count": 12,
   "metadata": {},
   "outputs": [
    {
     "name": "stdout",
     "output_type": "stream",
     "text": [
      "0.0\n",
      "<SynchronizedArray wrapper for <multiprocessing.sharedctypes.c_long_Array_10 object at 0x000001D2B60B8CD0>>\n"
     ]
    }
   ],
   "source": [
    "print(num.value)\n",
    "print(arr)"
   ]
  },
  {
   "cell_type": "code",
   "execution_count": 13,
   "metadata": {},
   "outputs": [
    {
     "name": "stdout",
     "output_type": "stream",
     "text": [
      "0.0\n",
      "[0, 1, 2, 3, 4, 5, 6, 7, 8, 9]\n"
     ]
    }
   ],
   "source": [
    "p = multiprocessing.Process(target=f, args=(num, arr))\n",
    "p.start()\n",
    "p.join()\n",
    "\n",
    "print(num.value)\n",
    "print(arr[:])"
   ]
  },
  {
   "cell_type": "code",
   "execution_count": 14,
   "metadata": {},
   "outputs": [],
   "source": [
    "def square_list(mylist, res): \n",
    "    global result\n",
    "    for ind, num in enumerate(mylist): \n",
    "        res[ind]= num * num\n",
    "    print(f\"Result(in process p1): {result[:]}\")"
   ]
  },
  {
   "cell_type": "code",
   "execution_count": 15,
   "metadata": {},
   "outputs": [],
   "source": [
    "temp = [1,2,3,4]\n",
    "result = multiprocessing.Array('i', 4)\n",
    "\n",
    "p1 = multiprocessing.Process(target=square_list, args=(temp, result))\n",
    "p1.start()\n",
    "p1.join()\n"
   ]
  },
  {
   "cell_type": "code",
   "execution_count": 16,
   "metadata": {},
   "outputs": [
    {
     "name": "stdout",
     "output_type": "stream",
     "text": [
      "[0, 0, 0, 0]\n"
     ]
    }
   ],
   "source": [
    "print(result[:])"
   ]
  },
  {
   "cell_type": "markdown",
   "metadata": {},
   "source": [
    "The effective use of multiple processes usually requires some communication between them, so that work can be divided and results can be aggregated. \n",
    "Multiprocessing supports two types of communication channels between processes:\n",
    "\n",
    "- Queue\n",
    "- Pipe"
   ]
  },
  {
   "cell_type": "code",
   "execution_count": 17,
   "metadata": {},
   "outputs": [],
   "source": [
    "def square_list(mylist, q): \n",
    "    for num in mylist: \n",
    "        q.put(num * num) \n",
    "\n",
    "def read_from_queue(q):\n",
    "    while not q.empty():\n",
    "        print(q.get())\n",
    "        \n",
    "        "
   ]
  },
  {
   "cell_type": "code",
   "execution_count": 18,
   "metadata": {},
   "outputs": [],
   "source": [
    "temp = [1, 2, 3, 4]\n",
    "q = multiprocessing.Queue()\n",
    "p1 = multiprocessing.Process(target=square_list, args=(temp, q))\n",
    "p2 = multiprocessing.Process(target=read_from_queue, args=(q,))\n",
    "\n",
    "p1.start()\n",
    "p2.start()\n",
    "p1.join()\n",
    "p2.join()"
   ]
  },
  {
   "cell_type": "code",
   "execution_count": 19,
   "metadata": {},
   "outputs": [],
   "source": [
    "def sender(conn, msgs): \n",
    "    for msg in msgs: \n",
    "        conn.send(msg) \n",
    "        print(f\"Sent the message: {msg} from process {os.getpid()}\") \n",
    "    conn.close() \n",
    "\n",
    "\n",
    "def receiver(conn): \n",
    "    while True: \n",
    "        msg = conn.recv() \n",
    "        if msg == \"END\": \n",
    "            break\n",
    "        print(f\"Received the message: {msg} in process {os.getpid()}\")\n",
    "\n",
    "msgs = [\"hello\", \"hey\", \"hru?\", \"END\"] \n",
    "  \n",
    "# creating a pipe \n",
    "parent_conn, child_conn = multiprocessing.Pipe() \n",
    "  \n",
    "# creating new processes \n",
    "p1 = multiprocessing.Process(target=sender, args=(parent_conn,msgs)) \n",
    "p2 = multiprocessing.Process(target=receiver, args=(child_conn,)) \n",
    "\n",
    "p1.start() \n",
    "p2.start() \n",
    "p1.join() \n",
    "p2.join()"
   ]
  },
  {
   "cell_type": "markdown",
   "metadata": {},
   "source": [
    "The `Pool` class can be used to manage a fixed number of workers for simple cases where the work to be done can be broken up and distributed between the workers independently. The return values from the jobs are collected and returned as a list. The pool arguments include the number of processes, and a function to run when starting the task process (invoked once per child)."
   ]
  },
  {
   "cell_type": "code",
   "execution_count": 20,
   "metadata": {},
   "outputs": [],
   "source": [
    "def f(x):\n",
    "    return x * x"
   ]
  },
  {
   "cell_type": "code",
   "execution_count": 21,
   "metadata": {},
   "outputs": [],
   "source": [
    "import time"
   ]
  },
  {
   "cell_type": "code",
   "execution_count": 22,
   "metadata": {
    "scrolled": true
   },
   "outputs": [
    {
     "ename": "TimeoutError",
     "evalue": "",
     "output_type": "error",
     "traceback": [
      "\u001B[1;31m---------------------------------------------------------------------------\u001B[0m",
      "\u001B[1;31mTimeoutError\u001B[0m                              Traceback (most recent call last)",
      "Cell \u001B[1;32mIn [22], line 3\u001B[0m\n\u001B[0;32m      1\u001B[0m \u001B[38;5;28;01mwith\u001B[39;00m multiprocessing\u001B[38;5;241m.\u001B[39mPool(processes\u001B[38;5;241m=\u001B[39m\u001B[38;5;241m4\u001B[39m) \u001B[38;5;28;01mas\u001B[39;00m pool:\n\u001B[0;32m      2\u001B[0m     result \u001B[38;5;241m=\u001B[39m pool\u001B[38;5;241m.\u001B[39mapply_async(f, (\u001B[38;5;241m10\u001B[39m,)) \u001B[38;5;66;03m# evaluate \"f(10)\" asynchronously in a single process\u001B[39;00m\n\u001B[1;32m----> 3\u001B[0m     \u001B[38;5;28mprint\u001B[39m(\u001B[43mresult\u001B[49m\u001B[38;5;241;43m.\u001B[39;49m\u001B[43mget\u001B[49m\u001B[43m(\u001B[49m\u001B[43mtimeout\u001B[49m\u001B[38;5;241;43m=\u001B[39;49m\u001B[38;5;241;43m1\u001B[39;49m\u001B[43m)\u001B[49m)        \u001B[38;5;66;03m# prints \"100\" unless your computer is *very* slow\u001B[39;00m\n\u001B[0;32m      5\u001B[0m     \u001B[38;5;28mprint\u001B[39m(pool\u001B[38;5;241m.\u001B[39mmap(f, \u001B[38;5;28mrange\u001B[39m(\u001B[38;5;241m10\u001B[39m)))       \u001B[38;5;66;03m# prints \"[0, 1, 4,..., 81]\"\u001B[39;00m\n\u001B[0;32m      7\u001B[0m     it \u001B[38;5;241m=\u001B[39m pool\u001B[38;5;241m.\u001B[39mimap(f, \u001B[38;5;28mrange\u001B[39m(\u001B[38;5;241m10\u001B[39m))\n",
      "File \u001B[1;32m~\\AppData\\Local\\Programs\\Python\\Python311\\Lib\\multiprocessing\\pool.py:770\u001B[0m, in \u001B[0;36mApplyResult.get\u001B[1;34m(self, timeout)\u001B[0m\n\u001B[0;32m    768\u001B[0m \u001B[38;5;28mself\u001B[39m\u001B[38;5;241m.\u001B[39mwait(timeout)\n\u001B[0;32m    769\u001B[0m \u001B[38;5;28;01mif\u001B[39;00m \u001B[38;5;129;01mnot\u001B[39;00m \u001B[38;5;28mself\u001B[39m\u001B[38;5;241m.\u001B[39mready():\n\u001B[1;32m--> 770\u001B[0m     \u001B[38;5;28;01mraise\u001B[39;00m \u001B[38;5;167;01mTimeoutError\u001B[39;00m\n\u001B[0;32m    771\u001B[0m \u001B[38;5;28;01mif\u001B[39;00m \u001B[38;5;28mself\u001B[39m\u001B[38;5;241m.\u001B[39m_success:\n\u001B[0;32m    772\u001B[0m     \u001B[38;5;28;01mreturn\u001B[39;00m \u001B[38;5;28mself\u001B[39m\u001B[38;5;241m.\u001B[39m_value\n",
      "\u001B[1;31mTimeoutError\u001B[0m: "
     ]
    }
   ],
   "source": [
    "with multiprocessing.Pool(processes=4) as pool:\n",
    "    result = pool.apply_async(f, (10,)) # evaluate \"f(10)\" asynchronously in a single process\n",
    "    print(result.get(timeout=1))        # prints \"100\" unless your computer is *very* slow\n",
    "\n",
    "    print(pool.map(f, range(10)))       # prints \"[0, 1, 4,..., 81]\"\n",
    "\n",
    "    it = pool.imap(f, range(10))\n",
    "    print(next(it))                     # prints \"0\"\n",
    "    print(next(it))                     # prints \"1\"\n",
    "    print(it.next(timeout=1))           # prints \"4\" unless your computer is *very* slow\n",
    "\n",
    "    result = pool.apply_async(time.sleep, (10,))\n",
    "    print(result.get(timeout=1))        # raises multiprocessing.TimeoutError"
   ]
  },
  {
   "cell_type": "code",
   "execution_count": null,
   "metadata": {},
   "outputs": [],
   "source": []
  },
  {
   "cell_type": "code",
   "execution_count": null,
   "metadata": {},
   "outputs": [],
   "source": []
  },
  {
   "cell_type": "code",
   "execution_count": null,
   "metadata": {},
   "outputs": [],
   "source": []
  },
  {
   "cell_type": "code",
   "execution_count": null,
   "metadata": {},
   "outputs": [],
   "source": []
  },
  {
   "cell_type": "code",
   "execution_count": null,
   "metadata": {},
   "outputs": [],
   "source": []
  }
 ],
 "metadata": {
  "kernelspec": {
   "display_name": "Python 3",
   "language": "python",
   "name": "python3"
  },
  "language_info": {
   "codemirror_mode": {
    "name": "ipython",
    "version": 3
   },
   "file_extension": ".py",
   "mimetype": "text/x-python",
   "name": "python",
   "nbconvert_exporter": "python",
   "pygments_lexer": "ipython3",
   "version": "3.7.4"
  }
 },
 "nbformat": 4,
 "nbformat_minor": 2
}
