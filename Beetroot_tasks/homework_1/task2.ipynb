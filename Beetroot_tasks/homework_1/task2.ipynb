{
 "cells": [
  {
   "cell_type": "code",
   "execution_count": 2,
   "id": "2e23971f",
   "metadata": {},
   "outputs": [
    {
     "name": "stdout",
     "output_type": "stream",
     "text": [
      "Hello, world!\n"
     ]
    }
   ],
   "source": [
    "# Hello, world!\n",
    "print(\"Hello, world!\")"
   ]
  },
  {
   "cell_type": "code",
   "execution_count": 3,
   "id": "38b3814a",
   "metadata": {},
   "outputs": [
    {
     "name": "stdout",
     "output_type": "stream",
     "text": [
      "Glory to Ukraine!\n"
     ]
    }
   ],
   "source": [
    "text = \"Glory to Ukraine!\"\n",
    "# Glory to Ukraine!\n",
    "print(text)"
   ]
  },
  {
   "cell_type": "code",
   "execution_count": 4,
   "id": "2ecbc5f9",
   "metadata": {},
   "outputs": [
    {
     "name": "stdout",
     "output_type": "stream",
     "text": [
      "Mariupol\n",
      "Mariupol\n",
      "MariupolMariupolMariupol\n"
     ]
    }
   ],
   "source": [
    "# Mariupol\n",
    "print(city := 'Mariupol')\n",
    "# Mariupol\n",
    "print(city)\n",
    "# MariupolMariupolMariupol\n",
    "print(city * 3)"
   ]
  },
  {
   "cell_type": "code",
   "execution_count": 5,
   "id": "4ce144c6",
   "metadata": {},
   "outputs": [
    {
     "name": "stdout",
     "output_type": "stream",
     "text": [
      "False___True___2___3___4___five___6\n"
     ]
    }
   ],
   "source": [
    "# False___True___2___3___4___five___6\n",
    "print(False, True, 2, '3', \"4\", 'five', 2 * 3, sep='___')"
   ]
  },
  {
   "cell_type": "code",
   "execution_count": 6,
   "id": "f8ef0270",
   "metadata": {},
   "outputs": [
    {
     "name": "stdout",
     "output_type": "stream",
     "text": [
      "None\n"
     ]
    }
   ],
   "source": [
    "# None\n",
    "print(None)"
   ]
  },
  {
   "cell_type": "code",
   "execution_count": 7,
   "id": "3a831a5e",
   "metadata": {},
   "outputs": [
    {
     "name": "stdout",
     "output_type": "stream",
     "text": [
      "\n",
      "\t+2+4+27+4308+10+0.0\n",
      "\n",
      "\n"
     ]
    }
   ],
   "source": [
    "# \t+2+4+27+4308+10+0.0\n",
    "print('\\n\\t', 1 + 1, 2 * 2, 3 ** 3, str(4) + \"308\", int('5') + 5, float(True) * int(False), sep='+', end='\\n' * 3)"
   ]
  },
  {
   "cell_type": "code",
   "execution_count": 8,
   "id": "3ffa92fa",
   "metadata": {},
   "outputs": [
    {
     "name": "stdout",
     "output_type": "stream",
     "text": [
      "Beetroot_Academy\n"
     ]
    }
   ],
   "source": [
    "# Beetroot_Academy\n",
    "print('Beetroot' + \"_\" + \"Academy\")"
   ]
  },
  {
   "cell_type": "code",
   "execution_count": 9,
   "id": "065c9703",
   "metadata": {},
   "outputs": [
    {
     "name": "stdout",
     "output_type": "stream",
     "text": [
      "Beetroot _ Academy\n"
     ]
    }
   ],
   "source": [
    "# Beetroot _ Academy\n",
    "print('Beetroot', \"_\", \"Academy\")"
   ]
  },
  {
   "cell_type": "code",
   "execution_count": 10,
   "id": "ae4fff9e",
   "metadata": {},
   "outputs": [
    {
     "name": "stdout",
     "output_type": "stream",
     "text": [
      "Beetroot Academy\n",
      "\n"
     ]
    }
   ],
   "source": [
    "# Beetroot Academy\n",
    "print(\"Beetroot\", end=' ')\n",
    "print('Academy', end='\\n\\n')"
   ]
  },
  {
   "cell_type": "code",
   "execution_count": 11,
   "id": "2a04a4d3",
   "metadata": {},
   "outputs": [
    {
     "name": "stdout",
     "output_type": "stream",
     "text": [
      "Hello, Python! <Python is great!>\n"
     ]
    }
   ],
   "source": [
    "# Hello, Python! <Python is great!>\n",
    "print('', end=\"Hello, Python! \")\n",
    "print('<', \">\", sep='Python is great!')"
   ]
  },
  {
   "cell_type": "code",
   "execution_count": 12,
   "id": "7e644ee9",
   "metadata": {},
   "outputs": [
    {
     "name": "stdout",
     "output_type": "stream",
     "text": [
      "My city is Mariupol.\n"
     ]
    }
   ],
   "source": [
    "# My city is Mariupol.\n",
    "print(f'My city is {city}.')"
   ]
  },
  {
   "cell_type": "code",
   "execution_count": 13,
   "id": "74f82d73",
   "metadata": {},
   "outputs": [
    {
     "name": "stdout",
     "output_type": "stream",
     "text": [
      "Glory to Ukraine!#######################\n",
      "_______________________Glory to Ukraine!\n",
      "...........Glory to Ukraine!............\n"
     ]
    }
   ],
   "source": [
    "# Glory to Ukraine!#######################\n",
    "print(f\"{text:#<40}\")\n",
    "# _______________________Glory to Ukraine!\n",
    "print(f\"{text:_>40}\")\n",
    "# ...........Glory to Ukraine!............\n",
    "print(f\"{text:.^40}\")"
   ]
  },
  {
   "cell_type": "code",
   "execution_count": 14,
   "id": "feb58225",
   "metadata": {},
   "outputs": [],
   "source": [
    "# Запише \"My city is Mariupol.\" в файл my_text.txt\n",
    "with open('my_text.txt', 'w') as f:\n",
    "    print(f'My city is {city}.', file=f)"
   ]
  },
  {
   "cell_type": "code",
   "execution_count": 1,
   "id": "7f7bdeb8",
   "metadata": {},
   "outputs": [
    {
     "name": "stdout",
     "output_type": "stream",
     "text": [
      "Help on built-in function print in module builtins:\n",
      "\n",
      "print(...)\n",
      "    print(value, ..., sep=' ', end='\\n', file=sys.stdout, flush=False)\n",
      "    \n",
      "    Prints the values to a stream, or to sys.stdout by default.\n",
      "    Optional keyword arguments:\n",
      "    file:  a file-like object (stream); defaults to the current sys.stdout.\n",
      "    sep:   string inserted between values, default a space.\n",
      "    end:   string appended after the last value, default a newline.\n",
      "    flush: whether to forcibly flush the stream.\n",
      "\n"
     ]
    }
   ],
   "source": [
    "\"\"\"Help on built-in function print in module builtins:\n",
    "\n",
    "print(...)\n",
    "    print(value, ..., sep=' ', end='\\n', file=sys.stdout, flush=False)\n",
    "\n",
    "    Prints the values to a stream, or to sys.stdout by default.\n",
    "    Optional keyword arguments:\n",
    "    file:  a file-like object (stream); defaults to the current sys.stdout.\n",
    "    sep:   string inserted between values, default a space.\n",
    "    end:   string appended after the last value, default a newline.\n",
    "    flush: whether to forcibly flush the stream.\"\"\"\n",
    "help(print)"
   ]
  },
  {
   "cell_type": "code",
   "execution_count": null,
   "id": "0edc1070",
   "metadata": {},
   "outputs": [],
   "source": []
  }
 ],
 "metadata": {
  "kernelspec": {
   "display_name": "Python 3.10.7 64-bit",
   "language": "python",
   "name": "python3"
  },
  "language_info": {
   "codemirror_mode": {
    "name": "ipython",
    "version": 3
   },
   "file_extension": ".py",
   "mimetype": "text/x-python",
   "name": "python",
   "nbconvert_exporter": "python",
   "pygments_lexer": "ipython3",
   "version": "3.10.7"
  },
  "vscode": {
   "interpreter": {
    "hash": "beedbe2faf2f7048d727558d0bc3221e7eba2a0b921cac4d4771b2feb8f74b30"
   }
  }
 },
 "nbformat": 4,
 "nbformat_minor": 5
}
